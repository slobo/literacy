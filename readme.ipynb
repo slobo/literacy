{
 "cells": [
  {
   "cell_type": "markdown",
   "metadata": {},
   "source": [
    "# __literacy__ - interactive literate programming in markdown\n",
    "\n",
    "> [`...`](http://roxygen.org/knuth-literate-programming.pdf) considering programs to be works of literature. `...`  surely nobody wants to admit writing an _illiterate_ program.\n",
    "> - _Donald Knuth_ - **Literate Programming** "
   ]
  },
  {
   "cell_type": "markdown",
   "metadata": {},
   "source": [
    "## Installation\n",
    "\n",
    "```bash\n",
    "pip install git+https://github.com/tonyfast/literacy\n",
    "```"
   ]
  },
  {
   "cell_type": "markdown",
   "metadata": {},
   "source": [
    "# Literacy Programming Mode\n",
    "    "
   ]
  },
  {
   "cell_type": "code",
   "execution_count": 1,
   "metadata": {
    "collapsed": true
   },
   "outputs": [],
   "source": [
    "    %reload_ext literacy"
   ]
  },
  {
   "cell_type": "code",
   "execution_count": 19,
   "metadata": {},
   "outputs": [
    {
     "data": {
      "text/markdown": [
       "```\n",
       "    %reload_ext literacy\n",
       "```\n",
       "\n",
       "---\n",
       "    \n",
       "`import literacy` accepts Markdown as source; the __inline__, __fenced__, __indented__ code objects are concatenated into a single block of __python__ \n",
       "source code.  _All code in this block is executed._\n",
       "\n",
       "    foo = 42\n",
       "    print(foo)\n",
       "    assert literacy\n",
       "    \n",
       "---"
      ],
      "text/plain": [
       "<IPython.core.display.Markdown object>"
      ]
     },
     "metadata": {},
     "output_type": "display_data"
    },
    {
     "name": "stdout",
     "output_type": "stream",
     "text": [
      "42\n"
     ]
    }
   ],
   "source": [
    "```\n",
    "    %reload_ext literacy\n",
    "```\n",
    "\n",
    "---\n",
    "    \n",
    "`import literacy` accepts Markdown as source; the __inline__, __fenced__, __indented__ code objects are concatenated into a single block of __python__ \n",
    "source code.  _All code in this block is executed._\n",
    "\n",
    "    foo = 42\n",
    "    print(foo)\n",
    "    assert literacy\n",
    "    \n",
    "---"
   ]
  },
  {
   "cell_type": "code",
   "execution_count": 20,
   "metadata": {},
   "outputs": [
    {
     "data": {
      "text/markdown": [
       "# Templating Mode\n",
       "\n",
       "    %reload_ext literacy.template\n",
       "\n",
       "Template mode applies `__import__('jinja2');` to weave variables in scope into the markdown source."
      ],
      "text/plain": [
       "<IPython.core.display.Markdown object>"
      ]
     },
     "metadata": {},
     "output_type": "display_data"
    }
   ],
   "source": [
    "# Templating Mode\n",
    "\n",
    "    %reload_ext literacy.template\n",
    "\n",
    "Template mode applies `__import__('jinja2');` to weave variables in scope into the markdown source."
   ]
  },
  {
   "cell_type": "code",
   "execution_count": 21,
   "metadata": {},
   "outputs": [
    {
     "data": {
      "text/markdown": [
       "## More readable\n",
       "\n",
       "Use the templating system to explicitly write source, rather than implicit <code>for</code> loops.\n",
       "\n",
       "    print(0); print(1); print(2); print(3); "
      ],
      "text/plain": [
       "<IPython.core.display.Markdown object>"
      ]
     },
     "metadata": {},
     "output_type": "display_data"
    },
    {
     "name": "stdout",
     "output_type": "stream",
     "text": [
      "0\n",
      "1\n",
      "2\n",
      "3\n"
     ]
    }
   ],
   "source": [
    "## More readable\n",
    "\n",
    "Use the templating system to explicitly write source, rather than implicit <code>for</code> loops.\n",
    "\n",
    "    {% for i in range(4) %}print({{i}}); {% endfor %}"
   ]
  },
  {
   "cell_type": "code",
   "execution_count": 22,
   "metadata": {},
   "outputs": [
    {
     "data": {
      "text/markdown": [
       "# Macros\n",
       "\n",
       "## yaml\n",
       "\n",
       "Begin a code block with <code>---</code> to invoke yaml syntax as valid data input.  _This is great for taking notes._\n",
       "\n",
       "    ---\n",
       "    refs:\n",
       "    - roxygen.org/knuth-literate-programming.pdf\n",
       "    - https://en.wikipedia.org/wiki/Literate_programming\n",
       "        \n",
       "> _The yaml source must contain named objects at the top level._"
      ],
      "text/plain": [
       "<IPython.core.display.Markdown object>"
      ]
     },
     "metadata": {},
     "output_type": "display_data"
    }
   ],
   "source": [
    "# Macros\n",
    "\n",
    "## yaml\n",
    "\n",
    "Begin a code block with <code>---</code> to invoke yaml syntax as valid data input.  _This is great for taking notes._\n",
    "\n",
    "    ---\n",
    "    refs:\n",
    "    - roxygen.org/knuth-literate-programming.pdf\n",
    "    - https://en.wikipedia.org/wiki/Literate_programming\n",
    "        \n",
    "> _The yaml source must contain named objects at the top level._"
   ]
  },
  {
   "cell_type": "code",
   "execution_count": 23,
   "metadata": {},
   "outputs": [
    {
     "data": {
      "text/markdown": [
       "    assert 'refs' in globals() "
      ],
      "text/plain": [
       "<IPython.core.display.Markdown object>"
      ]
     },
     "metadata": {},
     "output_type": "display_data"
    }
   ],
   "source": [
    "    assert 'refs' in globals() "
   ]
  },
  {
   "cell_type": "code",
   "execution_count": 24,
   "metadata": {},
   "outputs": [
    {
     "data": {
      "text/markdown": [
       "---\n",
       "    \n",
       "    if __name__ == '__main__':\n",
       "        \n",
       "# Importable Literate Notebooks\n",
       "\n",
       "    \n",
       "        import readme\n",
       "        \n",
       "with the following tests \n",
       "\n",
       "        assert readme.__file__ == 'readme.ipynb'\n",
       "        assert readme.foo is foo\n",
       "        foo = 3.14\n",
       "        assert readme.foo is not foo\n",
       "        \n",
       "\n",
       "---\n",
       "\n",
       "_`literacy;` makes it possible to import any notebook._\n",
       "\n",
       "---"
      ],
      "text/plain": [
       "<IPython.core.display.Markdown object>"
      ]
     },
     "metadata": {},
     "output_type": "display_data"
    },
    {
     "name": "stdout",
     "output_type": "stream",
     "text": [
      "42\n",
      "0\n",
      "1\n",
      "2\n",
      "3\n"
     ]
    },
    {
     "name": "stderr",
     "output_type": "stream",
     "text": [
      "[NbConvertApp] Converting notebook readme.ipynb to markdown\n",
      "[NbConvertApp] Writing 2346 bytes to readme.md\n"
     ]
    },
    {
     "data": {
      "text/markdown": [
       "# This is literate source"
      ],
      "text/plain": [
       "<IPython.core.display.Markdown object>"
      ]
     },
     "metadata": {},
     "output_type": "display_data"
    }
   ],
   "source": [
    "---\n",
    "    \n",
    "    if __name__ == '__main__':\n",
    "        \n",
    "# Importable Literate Notebooks\n",
    "\n",
    "    \n",
    "        import readme\n",
    "        \n",
    "with the following tests \n",
    "\n",
    "        assert readme.__file__ == 'readme.ipynb'\n",
    "        assert readme.foo is foo\n",
    "        foo = 3.14\n",
    "        assert readme.foo is not foo\n",
    "        \n",
    "\n",
    "---\n",
    "\n",
    "_`literacy;` makes it possible to import any notebook._\n",
    "\n",
    "---"
   ]
  },
  {
   "cell_type": "code",
   "execution_count": 48,
   "metadata": {},
   "outputs": [
    {
     "data": {
      "text/markdown": [
       "## Marking up functions\n",
       "\n",
       "It is possible to `def \\`ine a function named `foo\\` with a body composed below,\n",
       "\n",
       "Our function __foo__ has parameters __x__ and __y__\n",
       "\n",
       "    (x=42, y=10):\n",
       "        \"\"\"Make sure to have a docstring\"\"\"\n",
       "with the ability to interpose markdown into the code, and\n",
       "        \n",
       "        return x*y"
      ],
      "text/plain": [
       "<IPython.core.display.Markdown object>"
      ]
     },
     "metadata": {},
     "output_type": "display_data"
    }
   ],
   "source": [
    "## Marking up functions\n",
    "\n",
    "It is possible to `def \\`ine a function named `foo\\` with a body composed below,\n",
    "\n",
    "Our function __foo__ has parameters __x__ and __y__\n",
    "\n",
    "    (x=42, y=10):\n",
    "        \"\"\"Make sure to have a docstring\"\"\"\n",
    "with the ability to interpose markdown into the code, and\n",
    "        \n",
    "        return x*y"
   ]
  },
  {
   "cell_type": "code",
   "execution_count": 52,
   "metadata": {},
   "outputs": [
    {
     "data": {
      "text/markdown": [
       "# Inspect Source\n",
       "\n",
       "In the interactive mode `assert In` exists to store the prior code executed.\n",
       "\n",
       "    \n",
       "    print(\"\"\"The source code for the previous cell is:\\n\\n\"\"\", In[-2])"
      ],
      "text/plain": [
       "<IPython.core.display.Markdown object>"
      ]
     },
     "metadata": {},
     "output_type": "display_data"
    },
    {
     "name": "stdout",
     "output_type": "stream",
     "text": [
      "The source code for the previous cell is:\n",
      "\n",
      " # Inspect Source\n",
      "\n",
      "\n",
      "assert In\n",
      "print(\"\"\"The source code for the previous cell is:\\n\\n\"\"\", In[-2])\n"
     ]
    }
   ],
   "source": [
    "# Inspect Source\n",
    "\n",
    "In the interactive mode `assert In` exists to store the prior code executed.\n",
    "\n",
    "    \n",
    "    print(\"\"\"The source code for the previous cell is:\\n\\n\"\"\", In[-2])"
   ]
  },
  {
   "cell_type": "code",
   "execution_count": 46,
   "metadata": {},
   "outputs": [
    {
     "data": {
      "text/markdown": [
       "# Nbconvert\n",
       "\n",
       "`literacy;` complies with the __nbconvert__ converters.  A successful use of literate programming will require the input cells to be suppressed\n",
       "\n",
       "```%%bash\n",
       "jupyter nbconvert --to markdown --TemplateExporter.exclude_input=True readme.ipynb\n",
       "```\n",
       "\n",
       "add the <code>--execute</code> flag to execute the notebook before it is converted."
      ],
      "text/plain": [
       "<IPython.core.display.Markdown object>"
      ]
     },
     "metadata": {},
     "output_type": "display_data"
    },
    {
     "name": "stderr",
     "output_type": "stream",
     "text": [
      "[NbConvertApp] Converting notebook readme.ipynb to markdown\n",
      "[NbConvertApp] Writing 2951 bytes to readme.md\n"
     ]
    }
   ],
   "source": [
    "# Nbconvert\n",
    "\n",
    "`literacy;` complies with the __nbconvert__ converters.  A successful use of literate programming will require the input cells to be suppressed\n",
    "\n",
    "```%%bash\n",
    "jupyter nbconvert --to markdown --TemplateExporter.exclude_input=True readme.ipynb\n",
    "```\n",
    "\n",
    "add the <code>--execute</code> flag to execute the notebook before it is converted."
   ]
  },
  {
   "cell_type": "code",
   "execution_count": 19,
   "metadata": {},
   "outputs": [
    {
     "data": {
      "text/markdown": [
       "    %%markdown\n",
       "    # This is literate source"
      ],
      "text/plain": [
       "<IPython.core.display.Markdown object>"
      ]
     },
     "metadata": {},
     "output_type": "display_data"
    },
    {
     "data": {
      "text/markdown": [
       "# This is literate source"
      ],
      "text/plain": [
       "<IPython.core.display.Markdown object>"
      ]
     },
     "metadata": {},
     "output_type": "display_data"
    }
   ],
   "source": [
    "    %%markdown\n",
    "    # This is literate source"
   ]
  }
 ],
 "metadata": {
  "kernelspec": {
   "display_name": "Python 3",
   "language": "python",
   "name": "python3"
  },
  "language_info": {
   "codemirror_mode": {
    "name": "ipython",
    "version": 3
   },
   "file_extension": ".py",
   "mimetype": "text/x-python",
   "name": "python",
   "nbconvert_exporter": "python",
   "pygments_lexer": "ipython3",
   "version": "3.5.3"
  }
 },
 "nbformat": 4,
 "nbformat_minor": 2
}
