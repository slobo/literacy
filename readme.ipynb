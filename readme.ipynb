{
 "cells": [
  {
   "cell_type": "markdown",
   "metadata": {},
   "source": [
    "# __literacy__ - Computable documents in natural language.\n",
    "\n",
    "> __literacy__ allows [literate programming](roxygen.org/knuth-literate-programming.pdf)-like concepts to work in the notebook. \n",
    "\n",
    "---\n",
    "\n",
    "<code>pip install git+https://github.com/tonyfast/literacy</code>\n",
    "\n",
    "# __magic__ally load __literacy__"
   ]
  },
  {
   "cell_type": "code",
   "execution_count": 1,
   "metadata": {},
   "outputs": [],
   "source": [
    "        %load_ext literacy"
   ]
  },
  {
   "cell_type": "code",
   "execution_count": 1,
   "metadata": {},
   "outputs": [
    {
     "data": {
      "text/markdown": [
       "# Literate programming mode\n",
       "\n",
       "All cells in the notebook accept __Markdown__ as syntax; each code fragment is evaluated as an individual cell. Every \n",
       "cell will display a markdown copy of itself before the output. \n",
       "\n",
       "> There is no code in this cell, the execution number next to <code>In</code> will _not_ increment.\n",
       "\n",
       "## Writing code\n",
       "\n",
       "### Indented code\n",
       "\n",
       "The cell below looks like state python code"
      ],
      "text/plain": [
       "<IPython.core.display.Markdown object>"
      ]
     },
     "metadata": {},
     "output_type": "display_data"
    }
   ],
   "source": [
    "# Literate programming mode\n",
    "\n",
    "All cells in the notebook accept __Markdown__ as syntax; each code fragment is evaluated as an individual cell. Every \n",
    "cell will display a markdown copy of itself before the output. \n",
    "\n",
    "> There is no code in this cell, the execution number next to <code>In</code> will _not_ increment.\n",
    "\n",
    "## Writing code\n",
    "\n",
    "### Indented code\n",
    "\n",
    "The cell below looks like state python code"
   ]
  },
  {
   "cell_type": "code",
   "execution_count": 2,
   "metadata": {},
   "outputs": [
    {
     "data": {
      "text/markdown": [
       "        foo = 42\n",
       "        print(foo)"
      ],
      "text/plain": [
       "<IPython.core.display.Markdown object>"
      ]
     },
     "metadata": {},
     "output_type": "display_data"
    },
    {
     "name": "stdout",
     "output_type": "stream",
     "text": [
      "42\n"
     ]
    }
   ],
   "source": [
    "        foo = 42\n",
    "        print(foo)"
   ]
  },
  {
   "cell_type": "code",
   "execution_count": 3,
   "metadata": {},
   "outputs": [
    {
     "data": {
      "text/markdown": [
       "Of course, we can now mix plain text into the cell - then code can be injected\n",
       "    \n",
       "        print(\"This evaluated to: {}\".format(foo*10))\n",
       "        \n",
       "> There are more ways to write code!"
      ],
      "text/plain": [
       "<IPython.core.display.Markdown object>"
      ]
     },
     "metadata": {},
     "output_type": "display_data"
    },
    {
     "name": "stdout",
     "output_type": "stream",
     "text": [
      "This evaluated to: 420\n"
     ]
    }
   ],
   "source": [
    "Of course, we can now mix plain text into the cell - then code can be injected\n",
    "    \n",
    "        print(\"This evaluated to: {}\".format(foo*10))\n",
    "        \n",
    "> There are more ways to write code!"
   ]
  },
  {
   "cell_type": "code",
   "execution_count": 4,
   "metadata": {},
   "outputs": [
    {
     "data": {
      "text/markdown": [
       "### Inline Code 👉 `print('Say what ❓👂')`\n",
       "\n",
       "Code can be executed anywhere by wrapping statements in markdown ticks - __`__."
      ],
      "text/plain": [
       "<IPython.core.display.Markdown object>"
      ]
     },
     "metadata": {},
     "output_type": "display_data"
    },
    {
     "name": "stdout",
     "output_type": "stream",
     "text": [
      "Say what ❓👂\n"
     ]
    }
   ],
   "source": [
    "### Inline Code 👉 `print('Say what ❓👂')`\n",
    "\n",
    "Code can be executed anywhere by wrapping statements in markdown ticks - __`__."
   ]
  },
  {
   "cell_type": "code",
   "execution_count": 5,
   "metadata": {},
   "outputs": [
    {
     "data": {
      "text/markdown": [
       "### Code Fences\n",
       "\n",
       "Pop open the console to see the magic.\n",
       "\n",
       "        %%javascript \n",
       "        console.log(\"Yo, I can holla hear too.\")"
      ],
      "text/plain": [
       "<IPython.core.display.Markdown object>"
      ]
     },
     "metadata": {},
     "output_type": "display_data"
    },
    {
     "data": {
      "application/javascript": [
       "console.log(\"Yo, I can holla hear too.\")"
      ],
      "text/plain": [
       "<IPython.core.display.Javascript object>"
      ]
     },
     "metadata": {},
     "output_type": "display_data"
    }
   ],
   "source": [
    "### Code Fences\n",
    "\n",
    "Pop open the console to see the magic.\n",
    "\n",
    "        %%javascript \n",
    "        console.log(\"Yo, I can holla hear too.\")"
   ]
  },
  {
   "cell_type": "code",
   "execution_count": 6,
   "metadata": {},
   "outputs": [
    {
     "data": {
      "text/markdown": [
       "## Imports\n",
       "\n",
       "We must be able to reuse notebooks; __literacy__ provides a system for that.\n",
       "\n",
       "        %load_ext literacy.imports\n",
       "    \n",
       "Now, notebooks and markdown files can be imported."
      ],
      "text/plain": [
       "<IPython.core.display.Markdown object>"
      ]
     },
     "metadata": {},
     "output_type": "display_data"
    }
   ],
   "source": [
    "## Imports\n",
    "\n",
    "We must be able to reuse notebooks; __literacy__ provides a system for that.\n",
    "\n",
    "        %load_ext literacy.imports\n",
    "    \n",
    "Now, notebooks and markdown files can be imported."
   ]
  },
  {
   "cell_type": "code",
   "execution_count": 9,
   "metadata": {},
   "outputs": [
    {
     "data": {
      "text/markdown": [
       "### Importing a __Markdown__ file\n",
       "\n",
       "All code in the document is evaluated; `%rm testfile.md`.\n",
       "\n",
       "        %%file testfile.md\n",
       "        This is a text and `pi=3.14`.\n",
       "        \n",
       "---\n",
       "\n",
       "        import testfile\n",
       "        print(\"pi = {} from {}.md\".format(testfile.pi, testfile.__name__))"
      ],
      "text/plain": [
       "<IPython.core.display.Markdown object>"
      ]
     },
     "metadata": {},
     "output_type": "display_data"
    },
    {
     "name": "stdout",
     "output_type": "stream",
     "text": [
      "Writing testfile.md\n",
      "pi = 3.14 from testfile.md\n"
     ]
    }
   ],
   "source": [
    "### Importing a __Markdown__ file\n",
    "\n",
    "All code in the document is evaluated; `%rm testfile.md`.\n",
    "\n",
    "        %%file testfile.md\n",
    "        This is a text and `pi=3.14`.\n",
    "        \n",
    "---\n",
    "\n",
    "        import testfile\n",
    "        print(\"pi = {} from {}.md\".format(testfile.pi, testfile.__name__))"
   ]
  },
  {
   "cell_type": "code",
   "execution_count": 10,
   "metadata": {},
   "outputs": [
    {
     "data": {
      "text/markdown": [
       "        import readme"
      ],
      "text/plain": [
       "<IPython.core.display.Markdown object>"
      ]
     },
     "metadata": {},
     "output_type": "display_data"
    },
    {
     "name": "stdout",
     "output_type": "stream",
     "text": [
      "The literacy extension is already loaded. To reload it, use:\n",
      "  %reload_ext literacy\n",
      "42\n",
      "This evaluated to: 420\n",
      "Say what ❓👂\n"
     ]
    },
    {
     "data": {
      "application/javascript": [
       "console.log(\"Yo, I can holla hear too.\")"
      ],
      "text/plain": [
       "<IPython.core.display.Javascript object>"
      ]
     },
     "metadata": {},
     "output_type": "display_data"
    },
    {
     "name": "stdout",
     "output_type": "stream",
     "text": [
      "The literacy.imports extension is already loaded. To reload it, use:\n",
      "  %reload_ext literacy.imports\n",
      "Writing testfile.md\n",
      "pi = 3.14 from testfile.md\n",
      "{{foo}}\n"
     ]
    }
   ],
   "source": [
    "        import readme"
   ]
  },
  {
   "cell_type": "code",
   "execution_count": 11,
   "metadata": {},
   "outputs": [
    {
     "data": {
      "text/markdown": [
       "## Templated code blocks.\n",
       "\n",
       "Use __jinja2__ template syntax anywhere in the document after loading `%reload_ext literacy.template` "
      ],
      "text/plain": [
       "<IPython.core.display.Markdown object>"
      ]
     },
     "metadata": {},
     "output_type": "display_data"
    }
   ],
   "source": [
    "## Templated code blocks.\n",
    "\n",
    "Use __jinja2__ template syntax anywhere in the document after loading `%reload_ext literacy.template` "
   ]
  },
  {
   "cell_type": "code",
   "execution_count": 12,
   "metadata": {},
   "outputs": [
    {
     "data": {
      "text/markdown": [
       "__*42*__ can be placed directly into markdown _and_ even used to generate code.\n",
       "\n",
       "    print(\"42\")\n",
       "    \n",
       "Full jinja syntaxes are available\n",
       "\n",
       "\n",
       "0. List item 1\n",
       "0. List item 2\n",
       "0. List item 3\n",
       "0. List item 4\n",
       "\n",
       "---\n",
       "\n",
       "Outputs below"
      ],
      "text/plain": [
       "<IPython.core.display.Markdown object>"
      ]
     },
     "metadata": {},
     "output_type": "display_data"
    },
    {
     "name": "stdout",
     "output_type": "stream",
     "text": [
      "42\n"
     ]
    }
   ],
   "source": [
    "__*{{foo}}*__ can be placed directly into markdown _and_ even used to generate code.\n",
    "\n",
    "    print(\"{{foo}}\")\n",
    "    \n",
    "Full jinja syntaxes are available\n",
    "\n",
    "{% for i in range(4) %}\n",
    "0. List item {{i+1}}{% endfor %}\n",
    "\n",
    "---\n",
    "\n",
    "Outputs below"
   ]
  },
  {
   "cell_type": "code",
   "execution_count": 13,
   "metadata": {},
   "outputs": [
    {
     "data": {
      "text/markdown": [
       "##### Unload literacy anytime \n",
       "        if __name__ == '__main__': \n",
       "            %unload_ext literacy"
      ],
      "text/plain": [
       "<IPython.core.display.Markdown object>"
      ]
     },
     "metadata": {},
     "output_type": "display_data"
    }
   ],
   "source": [
    "##### Unload literacy anytime \n",
    "        if __name__ == '__main__': \n",
    "            %unload_ext literacy"
   ]
  },
  {
   "cell_type": "code",
   "execution_count": 14,
   "metadata": {
    "collapsed": true
   },
   "outputs": [],
   "source": [
    "            %reload_ext literacy.template"
   ]
  },
  {
   "cell_type": "code",
   "execution_count": 15,
   "metadata": {},
   "outputs": [
    {
     "data": {
      "text/markdown": [
       "        import pandas as pd"
      ],
      "text/plain": [
       "<IPython.core.display.Markdown object>"
      ]
     },
     "metadata": {},
     "output_type": "display_data"
    }
   ],
   "source": [
    "        import pandas as pd"
   ]
  },
  {
   "cell_type": "code",
   "execution_count": 16,
   "metadata": {
    "scrolled": false
   },
   "outputs": [
    {
     "data": {
      "text/markdown": [
       "## Data Science\n",
       "\n",
       "This tool was designed to tell stories about real data.  Since every code block is just python,\n",
       "`df=__import__('pandas').util.testing.makeDataFrame();df.head()` to make a __[pd:DataFrame][]__. \n",
       "\n",
       "{ \n",
       "[pd:expanding_mean]: https://github.com/pandas/pandas#expanding_mean\n",
       "[pd:PeriodIndex]: https://github.com/pandas/pandas#PeriodIndex\n",
       "[pd:info]: https://github.com/pandas/pandas#info\n",
       "[pd:SparseList]: https://github.com/pandas/pandas#SparseList\n",
       "[pd:ewma]: https://github.com/pandas/pandas#ewma\n",
       "[pd:np]: https://github.com/pandas/pandas#np\n",
       "[pd:read_sql_table]: https://github.com/pandas/pandas#read_sql_table\n",
       "[pd:__version__]: https://github.com/pandas/pandas#__version__\n",
       "[pd:Int64Index]: https://github.com/pandas/pandas#Int64Index\n",
       "[pd:__file__]: https://github.com/pandas/pandas#__file__\n",
       "[pd:ewmcorr]: https://github.com/pandas/pandas#ewmcorr\n",
       "[pd:option_context]: https://github.com/pandas/pandas#option_context\n",
       "[pd:lreshape]: https://github.com/pandas/pandas#lreshape\n",
       "[pd:__spec__]: https://github.com/pandas/pandas#__spec__\n",
       "[pd:__name__]: https://github.com/pandas/pandas#__name__\n",
       "[pd:io]: https://github.com/pandas/pandas#io\n",
       "[pd:read_excel]: https://github.com/pandas/pandas#read_excel\n",
       "[pd:NaT]: https://github.com/pandas/pandas#NaT\n",
       "[pd:DatetimeIndex]: https://github.com/pandas/pandas#DatetimeIndex\n",
       "[pd:crosstab]: https://github.com/pandas/pandas#crosstab\n",
       "[pd:expanding_median]: https://github.com/pandas/pandas#expanding_median\n",
       "[pd:DateOffset]: https://github.com/pandas/pandas#DateOffset\n",
       "[pd:rolling_sum]: https://github.com/pandas/pandas#rolling_sum\n",
       "[pd:expanding_max]: https://github.com/pandas/pandas#expanding_max\n",
       "[pd:Grouper]: https://github.com/pandas/pandas#Grouper\n",
       "[pd:plot_params]: https://github.com/pandas/pandas#plot_params\n",
       "[pd:read_clipboard]: https://github.com/pandas/pandas#read_clipboard\n",
       "[pd:options]: https://github.com/pandas/pandas#options\n",
       "[pd:read_sql_query]: https://github.com/pandas/pandas#read_sql_query\n",
       "[pd:to_numeric]: https://github.com/pandas/pandas#to_numeric\n",
       "[pd:Index]: https://github.com/pandas/pandas#Index\n",
       "[pd:expanding_min]: https://github.com/pandas/pandas#expanding_min\n",
       "[pd:core]: https://github.com/pandas/pandas#core\n",
       "[pd:_np_version_under1p12]: https://github.com/pandas/pandas#_np_version_under1p12\n",
       "[pd:merge_asof]: https://github.com/pandas/pandas#merge_asof\n",
       "[pd:ewmstd]: https://github.com/pandas/pandas#ewmstd\n",
       "[pd:test]: https://github.com/pandas/pandas#test\n",
       "[pd:rolling_window]: https://github.com/pandas/pandas#rolling_window\n",
       "[pd:expanding_std]: https://github.com/pandas/pandas#expanding_std\n",
       "[pd:hashtable]: https://github.com/pandas/pandas#hashtable\n",
       "[pd:read_csv]: https://github.com/pandas/pandas#read_csv\n",
       "[pd:Panel4D]: https://github.com/pandas/pandas#Panel4D\n",
       "[pd:algos]: https://github.com/pandas/pandas#algos\n",
       "[pd:expanding_cov]: https://github.com/pandas/pandas#expanding_cov\n",
       "[pd:rolling_min]: https://github.com/pandas/pandas#rolling_min\n",
       "[pd:unique]: https://github.com/pandas/pandas#unique\n",
       "[pd:rolling_apply]: https://github.com/pandas/pandas#rolling_apply\n",
       "[pd:expanding_kurt]: https://github.com/pandas/pandas#expanding_kurt\n",
       "[pd:computation]: https://github.com/pandas/pandas#computation\n",
       "[pd:rolling_corr]: https://github.com/pandas/pandas#rolling_corr\n",
       "[pd:wide_to_long]: https://github.com/pandas/pandas#wide_to_long\n",
       "[pd:to_datetime]: https://github.com/pandas/pandas#to_datetime\n",
       "[pd:read_table]: https://github.com/pandas/pandas#read_table\n",
       "[pd:_testing]: https://github.com/pandas/pandas#_testing\n",
       "[pd:set_eng_float_format]: https://github.com/pandas/pandas#set_eng_float_format\n",
       "[pd:Timestamp]: https://github.com/pandas/pandas#Timestamp\n",
       "[pd:_join]: https://github.com/pandas/pandas#_join\n",
       "[pd:set_option]: https://github.com/pandas/pandas#set_option\n",
       "[pd:expanding_var]: https://github.com/pandas/pandas#expanding_var\n",
       "[pd:RangeIndex]: https://github.com/pandas/pandas#RangeIndex\n",
       "[pd:timedelta_range]: https://github.com/pandas/pandas#timedelta_range\n",
       "[pd:WidePanel]: https://github.com/pandas/pandas#WidePanel\n",
       "[pd:SparseSeries]: https://github.com/pandas/pandas#SparseSeries\n",
       "[pd:indexes]: https://github.com/pandas/pandas#indexes\n",
       "[pd:read_msgpack]: https://github.com/pandas/pandas#read_msgpack\n",
       "[pd:util]: https://github.com/pandas/pandas#util\n",
       "[pd:get_option]: https://github.com/pandas/pandas#get_option\n",
       "[pd:expanding_corr]: https://github.com/pandas/pandas#expanding_corr\n",
       "[pd:ols]: https://github.com/pandas/pandas#ols\n",
       "[pd:read_pickle]: https://github.com/pandas/pandas#read_pickle\n",
       "[pd:CategoricalIndex]: https://github.com/pandas/pandas#CategoricalIndex\n",
       "[pd:merge]: https://github.com/pandas/pandas#merge\n",
       "[pd:rolling_std]: https://github.com/pandas/pandas#rolling_std\n",
       "[pd:rolling_skew]: https://github.com/pandas/pandas#rolling_skew\n",
       "[pd:datetime]: https://github.com/pandas/pandas#datetime\n",
       "[pd:ExcelFile]: https://github.com/pandas/pandas#ExcelFile\n",
       "[pd:msgpack]: https://github.com/pandas/pandas#msgpack\n",
       "[pd:json]: https://github.com/pandas/pandas#json\n",
       "[pd:__cached__]: https://github.com/pandas/pandas#__cached__\n",
       "[pd:cut]: https://github.com/pandas/pandas#cut\n",
       "[pd:read_json]: https://github.com/pandas/pandas#read_json\n",
       "[pd:expanding_quantile]: https://github.com/pandas/pandas#expanding_quantile\n",
       "[pd:value_counts]: https://github.com/pandas/pandas#value_counts\n",
       "[pd:tools]: https://github.com/pandas/pandas#tools\n",
       "[pd:__docformat__]: https://github.com/pandas/pandas#__docformat__\n",
       "[pd:Panel]: https://github.com/pandas/pandas#Panel\n",
       "[pd:Categorical]: https://github.com/pandas/pandas#Categorical\n",
       "[pd:pivot]: https://github.com/pandas/pandas#pivot\n",
       "[pd:__package__]: https://github.com/pandas/pandas#__package__\n",
       "[pd:pivot_table]: https://github.com/pandas/pandas#pivot_table\n",
       "[pd:rolling_max]: https://github.com/pandas/pandas#rolling_max\n",
       "[pd:read_sql]: https://github.com/pandas/pandas#read_sql\n",
       "[pd:groupby]: https://github.com/pandas/pandas#groupby\n",
       "[pd:get_dummies]: https://github.com/pandas/pandas#get_dummies\n",
       "[pd:to_msgpack]: https://github.com/pandas/pandas#to_msgpack\n",
       "[pd:Series]: https://github.com/pandas/pandas#Series\n",
       "[pd:TimeGrouper]: https://github.com/pandas/pandas#TimeGrouper\n",
       "[pd:rolling_mean]: https://github.com/pandas/pandas#rolling_mean\n",
       "[pd:date_range]: https://github.com/pandas/pandas#date_range\n",
       "[pd:SparseTimeSeries]: https://github.com/pandas/pandas#SparseTimeSeries\n",
       "[pd:rolling_quantile]: https://github.com/pandas/pandas#rolling_quantile\n",
       "[pd:types]: https://github.com/pandas/pandas#types\n",
       "[pd:_window]: https://github.com/pandas/pandas#_window\n",
       "[pd:eval]: https://github.com/pandas/pandas#eval\n",
       "[pd:TimedeltaIndex]: https://github.com/pandas/pandas#TimedeltaIndex\n",
       "[pd:DataFrame]: https://github.com/pandas/pandas#DataFrame\n",
       "[pd:bdate_range]: https://github.com/pandas/pandas#bdate_range\n",
       "[pd:read_stata]: https://github.com/pandas/pandas#read_stata\n",
       "[pd:_version]: https://github.com/pandas/pandas#_version\n",
       "[pd:period_range]: https://github.com/pandas/pandas#period_range\n",
       "[pd:read_html]: https://github.com/pandas/pandas#read_html\n",
       "[pd:_period]: https://github.com/pandas/pandas#_period\n",
       "[pd:__doc__]: https://github.com/pandas/pandas#__doc__\n",
       "[pd:pandas]: https://github.com/pandas/pandas#pandas\n",
       "[pd:datetools]: https://github.com/pandas/pandas#datetools\n",
       "[pd:formats]: https://github.com/pandas/pandas#formats\n",
       "[pd:parser]: https://github.com/pandas/pandas#parser\n",
       "[pd:SparseDataFrame]: https://github.com/pandas/pandas#SparseDataFrame\n",
       "[pd:lib]: https://github.com/pandas/pandas#lib\n",
       "[pd:ExcelWriter]: https://github.com/pandas/pandas#ExcelWriter\n",
       "[pd:ewmvar]: https://github.com/pandas/pandas#ewmvar\n",
       "[pd:MultiIndex]: https://github.com/pandas/pandas#MultiIndex\n",
       "[pd:read_fwf]: https://github.com/pandas/pandas#read_fwf\n",
       "[pd:_np_version_under1p11]: https://github.com/pandas/pandas#_np_version_under1p11\n",
       "[pd:scatter_matrix]: https://github.com/pandas/pandas#scatter_matrix\n",
       "[pd:show_versions]: https://github.com/pandas/pandas#show_versions\n",
       "[pd:rolling_kurt]: https://github.com/pandas/pandas#rolling_kurt\n",
       "[pd:infer_freq]: https://github.com/pandas/pandas#infer_freq\n",
       "[pd:reset_option]: https://github.com/pandas/pandas#reset_option\n",
       "[pd:_np_version_under1p9]: https://github.com/pandas/pandas#_np_version_under1p9\n",
       "[pd:__builtins__]: https://github.com/pandas/pandas#__builtins__\n",
       "[pd:to_timedelta]: https://github.com/pandas/pandas#to_timedelta\n",
       "[pd:read_hdf]: https://github.com/pandas/pandas#read_hdf\n",
       "[pd:get_store]: https://github.com/pandas/pandas#get_store\n",
       "[pd:SparseArray]: https://github.com/pandas/pandas#SparseArray\n",
       "[pd:_np_version_under1p10]: https://github.com/pandas/pandas#_np_version_under1p10\n",
       "[pd:concat]: https://github.com/pandas/pandas#concat\n",
       "[pd:__loader__]: https://github.com/pandas/pandas#__loader__\n",
       "[pd:rolling_var]: https://github.com/pandas/pandas#rolling_var\n",
       "[pd:expanding_apply]: https://github.com/pandas/pandas#expanding_apply\n",
       "[pd:to_pickle]: https://github.com/pandas/pandas#to_pickle\n",
       "[pd:tseries]: https://github.com/pandas/pandas#tseries\n",
       "[pd:Timedelta]: https://github.com/pandas/pandas#Timedelta\n",
       "[pd:expanding_skew]: https://github.com/pandas/pandas#expanding_skew\n",
       "[pd:rolling_median]: https://github.com/pandas/pandas#rolling_median\n",
       "[pd:pnow]: https://github.com/pandas/pandas#pnow\n",
       "[pd:rolling_cov]: https://github.com/pandas/pandas#rolling_cov\n",
       "[pd:expanding_count]: https://github.com/pandas/pandas#expanding_count\n",
       "[pd:stats]: https://github.com/pandas/pandas#stats\n",
       "[pd:__path__]: https://github.com/pandas/pandas#__path__\n",
       "[pd:merge_ordered]: https://github.com/pandas/pandas#merge_ordered\n",
       "[pd:match]: https://github.com/pandas/pandas#match\n",
       "[pd:rolling_count]: https://github.com/pandas/pandas#rolling_count\n",
       "[pd:fama_macbeth]: https://github.com/pandas/pandas#fama_macbeth\n",
       "[pd:notnull]: https://github.com/pandas/pandas#notnull\n",
       "[pd:Term]: https://github.com/pandas/pandas#Term\n",
       "[pd:compat]: https://github.com/pandas/pandas#compat\n",
       "[pd:expanding_sum]: https://github.com/pandas/pandas#expanding_sum\n",
       "[pd:Period]: https://github.com/pandas/pandas#Period\n",
       "[pd:ewmvol]: https://github.com/pandas/pandas#ewmvol\n",
       "[pd:melt]: https://github.com/pandas/pandas#melt\n",
       "[pd:sparse]: https://github.com/pandas/pandas#sparse\n",
       "[pd:Expr]: https://github.com/pandas/pandas#Expr\n",
       "[pd:tslib]: https://github.com/pandas/pandas#tslib\n",
       "[pd:read_sas]: https://github.com/pandas/pandas#read_sas\n",
       "[pd:factorize]: https://github.com/pandas/pandas#factorize\n",
       "[pd:_np_version_under1p8]: https://github.com/pandas/pandas#_np_version_under1p8\n",
       "[pd:describe_option]: https://github.com/pandas/pandas#describe_option\n",
       "[pd:api]: https://github.com/pandas/pandas#api\n",
       "[pd:isnull]: https://github.com/pandas/pandas#isnull\n",
       "[pd:ordered_merge]: https://github.com/pandas/pandas#ordered_merge\n",
       "[pd:_sparse]: https://github.com/pandas/pandas#_sparse\n",
       "[pd:TimeSeries]: https://github.com/pandas/pandas#TimeSeries\n",
       "[pd:Float64Index]: https://github.com/pandas/pandas#Float64Index\n",
       "[pd:offsets]: https://github.com/pandas/pandas#offsets\n",
       "[pd:index]: https://github.com/pandas/pandas#index\n",
       "[pd:qcut]: https://github.com/pandas/pandas#qcut\n",
       "[pd:HDFStore]: https://github.com/pandas/pandas#HDFStore\n",
       "[pd:ewmcov]: https://github.com/pandas/pandas#ewmcov\n",
       "[pd:IndexSlice]: https://github.com/pandas/pandas#IndexSlice\n",
       "[pd:read_gbq]: https://github.com/pandas/pandas#read_gbq\n",
       "}"
      ],
      "text/plain": [
       "<IPython.core.display.Markdown object>"
      ]
     },
     "metadata": {},
     "output_type": "display_data"
    },
    {
     "data": {
      "text/html": [
       "<div>\n",
       "<table border=\"1\" class=\"dataframe\">\n",
       "  <thead>\n",
       "    <tr style=\"text-align: right;\">\n",
       "      <th></th>\n",
       "      <th>A</th>\n",
       "      <th>B</th>\n",
       "      <th>C</th>\n",
       "      <th>D</th>\n",
       "    </tr>\n",
       "  </thead>\n",
       "  <tbody>\n",
       "    <tr>\n",
       "      <th>IzrzqHIYGi</th>\n",
       "      <td>-0.311475</td>\n",
       "      <td>-0.333150</td>\n",
       "      <td>0.684640</td>\n",
       "      <td>0.879737</td>\n",
       "    </tr>\n",
       "    <tr>\n",
       "      <th>RC3QUF2nf6</th>\n",
       "      <td>0.090834</td>\n",
       "      <td>-0.047819</td>\n",
       "      <td>-1.534492</td>\n",
       "      <td>-0.104978</td>\n",
       "    </tr>\n",
       "    <tr>\n",
       "      <th>cZLxFxCGPP</th>\n",
       "      <td>-0.160345</td>\n",
       "      <td>-1.045631</td>\n",
       "      <td>-0.668308</td>\n",
       "      <td>1.649369</td>\n",
       "    </tr>\n",
       "    <tr>\n",
       "      <th>sVAZZKTDM8</th>\n",
       "      <td>1.938294</td>\n",
       "      <td>0.000569</td>\n",
       "      <td>0.154108</td>\n",
       "      <td>-0.028200</td>\n",
       "    </tr>\n",
       "    <tr>\n",
       "      <th>fyVJeM0wmk</th>\n",
       "      <td>1.448554</td>\n",
       "      <td>-0.633463</td>\n",
       "      <td>-2.746671</td>\n",
       "      <td>-0.494747</td>\n",
       "    </tr>\n",
       "  </tbody>\n",
       "</table>\n",
       "</div>"
      ],
      "text/plain": [
       "                   A         B         C         D\n",
       "IzrzqHIYGi -0.311475 -0.333150  0.684640  0.879737\n",
       "RC3QUF2nf6  0.090834 -0.047819 -1.534492 -0.104978\n",
       "cZLxFxCGPP -0.160345 -1.045631 -0.668308  1.649369\n",
       "sVAZZKTDM8  1.938294  0.000569  0.154108 -0.028200\n",
       "fyVJeM0wmk  1.448554 -0.633463 -2.746671 -0.494747"
      ]
     },
     "execution_count": 16,
     "metadata": {},
     "output_type": "execute_result"
    }
   ],
   "source": [
    "## Data Science\n",
    "\n",
    "This tool was designed to tell stories about real data.  Since every code block is just python,\n",
    "`df=__import__('pandas').util.testing.makeDataFrame();df.head()` to make a __[pd:DataFrame][]__. \n",
    "\n",
    "{ {% for key in pd.__dict__ %}\n",
    "[pd:{{ key }}]: https://github.com/pandas/pandas#{{ key }}{% endfor %}\n",
    "}"
   ]
  },
  {
   "cell_type": "code",
   "execution_count": 18,
   "metadata": {},
   "outputs": [
    {
     "data": {
      "text/markdown": [
       "`df;` has the following statistical properties `df.describe()`"
      ],
      "text/plain": [
       "<IPython.core.display.Markdown object>"
      ]
     },
     "metadata": {},
     "output_type": "display_data"
    },
    {
     "data": {
      "text/html": [
       "<div>\n",
       "<table border=\"1\" class=\"dataframe\">\n",
       "  <thead>\n",
       "    <tr style=\"text-align: right;\">\n",
       "      <th></th>\n",
       "      <th>A</th>\n",
       "      <th>B</th>\n",
       "      <th>C</th>\n",
       "      <th>D</th>\n",
       "    </tr>\n",
       "  </thead>\n",
       "  <tbody>\n",
       "    <tr>\n",
       "      <th>count</th>\n",
       "      <td>30.000000</td>\n",
       "      <td>30.000000</td>\n",
       "      <td>30.000000</td>\n",
       "      <td>30.000000</td>\n",
       "    </tr>\n",
       "    <tr>\n",
       "      <th>mean</th>\n",
       "      <td>-0.072725</td>\n",
       "      <td>0.195562</td>\n",
       "      <td>0.031390</td>\n",
       "      <td>0.218967</td>\n",
       "    </tr>\n",
       "    <tr>\n",
       "      <th>std</th>\n",
       "      <td>1.186359</td>\n",
       "      <td>0.832343</td>\n",
       "      <td>0.980850</td>\n",
       "      <td>0.942866</td>\n",
       "    </tr>\n",
       "    <tr>\n",
       "      <th>min</th>\n",
       "      <td>-2.441171</td>\n",
       "      <td>-1.569011</td>\n",
       "      <td>-2.746671</td>\n",
       "      <td>-2.411126</td>\n",
       "    </tr>\n",
       "    <tr>\n",
       "      <th>25%</th>\n",
       "      <td>-0.726176</td>\n",
       "      <td>-0.227590</td>\n",
       "      <td>-0.524348</td>\n",
       "      <td>-0.085783</td>\n",
       "    </tr>\n",
       "    <tr>\n",
       "      <th>50%</th>\n",
       "      <td>-0.165516</td>\n",
       "      <td>0.044960</td>\n",
       "      <td>-0.002665</td>\n",
       "      <td>0.090507</td>\n",
       "    </tr>\n",
       "    <tr>\n",
       "      <th>75%</th>\n",
       "      <td>0.644114</td>\n",
       "      <td>0.487518</td>\n",
       "      <td>0.854194</td>\n",
       "      <td>0.694861</td>\n",
       "    </tr>\n",
       "    <tr>\n",
       "      <th>max</th>\n",
       "      <td>1.938294</td>\n",
       "      <td>2.491537</td>\n",
       "      <td>1.439777</td>\n",
       "      <td>2.754638</td>\n",
       "    </tr>\n",
       "  </tbody>\n",
       "</table>\n",
       "</div>"
      ],
      "text/plain": [
       "               A          B          C          D\n",
       "count  30.000000  30.000000  30.000000  30.000000\n",
       "mean   -0.072725   0.195562   0.031390   0.218967\n",
       "std     1.186359   0.832343   0.980850   0.942866\n",
       "min    -2.441171  -1.569011  -2.746671  -2.411126\n",
       "25%    -0.726176  -0.227590  -0.524348  -0.085783\n",
       "50%    -0.165516   0.044960  -0.002665   0.090507\n",
       "75%     0.644114   0.487518   0.854194   0.694861\n",
       "max     1.938294   2.491537   1.439777   2.754638"
      ]
     },
     "execution_count": 18,
     "metadata": {},
     "output_type": "execute_result"
    }
   ],
   "source": [
    "`df;` has the following statistical properties `df.describe()`"
   ]
  },
  {
   "cell_type": "code",
   "execution_count": 18,
   "metadata": {},
   "outputs": [
    {
     "data": {
      "text/markdown": [
       "* Anything that is a file should be importable.  Literacy has rules for markdown and ipynb.\n",
       "* Merging cell makes more sense.  \n",
       "* Code and Markdown cells toggle the ability to execute.\n",
       "* Code prediction works in code cells\n",
       "* Normal error messages for single cell executions.\n",
       "\n",
       "# References"
      ],
      "text/plain": [
       "<IPython.core.display.Markdown object>"
      ]
     },
     "metadata": {},
     "output_type": "display_data"
    }
   ],
   "source": [
    "* Anything that is a file should be importable.  Literacy has rules for markdown and ipynb.\n",
    "* Merging cell makes more sense.  \n",
    "* Code and Markdown cells toggle the ability to execute.\n",
    "* Code prediction works in code cells\n",
    "* Normal error messages for single cell executions.\n",
    "\n",
    "# References"
   ]
  },
  {
   "cell_type": "code",
   "execution_count": 19,
   "metadata": {},
   "outputs": [
    {
     "data": {
      "text/markdown": [
       "        if True and __name__ == '__main__':\n",
       "            !jupyter nbconvert --to markdown readme.ipynb"
      ],
      "text/plain": [
       "<IPython.core.display.Markdown object>"
      ]
     },
     "metadata": {},
     "output_type": "display_data"
    },
    {
     "name": "stdout",
     "output_type": "stream",
     "text": [
      "[NbConvertApp] Converting notebook readme.ipynb to markdown\r\n",
      "[NbConvertApp] Writing 31931 bytes to readme.md\r\n"
     ]
    }
   ],
   "source": [
    "        if True and __name__ == '__main__':\n",
    "            !jupyter nbconvert --to markdown readme.ipynb"
   ]
  },
  {
   "cell_type": "code",
   "execution_count": null,
   "metadata": {
    "collapsed": true
   },
   "outputs": [],
   "source": []
  },
  {
   "cell_type": "code",
   "execution_count": 21,
   "metadata": {},
   "outputs": [
    {
     "data": {
      "text/markdown": [
       "# Markdown [Reference Style][] Links\n",
       "[Reference Style]: http://daringfireball.com/markdown#reference-links\n",
       "\n",
       "Unlike a regular link of the pattern `();`\n",
       "><code>\n",
       "[Example](http://example.com/path?q=uery#fragment)\n",
       "</code>\n",
       "\n",
       "A reference link is of the form `[];`:\n",
       "><code>\n",
       "[Example][example]\n",
       "[example][]\n",
       "[example]: http://example.com/path?q=uery#fragment\n",
       "</code>\n",
       "\n",
       " \n",
       "\n",
       "Usually, you have to write out each URL someplace. However, it can be useful to import a whole __namespace__.\n",
       "       \n",
       "\n",
       "[pd:expanding_mean]: https://github.com/pandas/pandas#expanding_mean\n",
       "\n",
       "[pd:PeriodIndex]: https://github.com/pandas/pandas#PeriodIndex\n",
       "\n",
       "[pd:info]: https://github.com/pandas/pandas#info\n",
       "\n",
       "[pd:SparseList]: https://github.com/pandas/pandas#SparseList\n",
       "\n",
       "[pd:ewma]: https://github.com/pandas/pandas#ewma\n",
       "\n",
       "[pd:np]: https://github.com/pandas/pandas#np\n",
       "\n",
       "[pd:read_sql_table]: https://github.com/pandas/pandas#read_sql_table\n",
       "\n",
       "[pd:__version__]: https://github.com/pandas/pandas#__version__\n",
       "\n",
       "[pd:Int64Index]: https://github.com/pandas/pandas#Int64Index\n",
       "\n",
       "[pd:__file__]: https://github.com/pandas/pandas#__file__\n",
       "\n",
       "[pd:ewmcorr]: https://github.com/pandas/pandas#ewmcorr\n",
       "\n",
       "[pd:option_context]: https://github.com/pandas/pandas#option_context\n",
       "\n",
       "[pd:lreshape]: https://github.com/pandas/pandas#lreshape\n",
       "\n",
       "[pd:__spec__]: https://github.com/pandas/pandas#__spec__\n",
       "\n",
       "[pd:__name__]: https://github.com/pandas/pandas#__name__\n",
       "\n",
       "[pd:io]: https://github.com/pandas/pandas#io\n",
       "\n",
       "[pd:read_excel]: https://github.com/pandas/pandas#read_excel\n",
       "\n",
       "[pd:NaT]: https://github.com/pandas/pandas#NaT\n",
       "\n",
       "[pd:DatetimeIndex]: https://github.com/pandas/pandas#DatetimeIndex\n",
       "\n",
       "[pd:crosstab]: https://github.com/pandas/pandas#crosstab\n",
       "\n",
       "[pd:expanding_median]: https://github.com/pandas/pandas#expanding_median\n",
       "\n",
       "[pd:DateOffset]: https://github.com/pandas/pandas#DateOffset\n",
       "\n",
       "[pd:rolling_sum]: https://github.com/pandas/pandas#rolling_sum\n",
       "\n",
       "[pd:expanding_max]: https://github.com/pandas/pandas#expanding_max\n",
       "\n",
       "[pd:Grouper]: https://github.com/pandas/pandas#Grouper\n",
       "\n",
       "[pd:plot_params]: https://github.com/pandas/pandas#plot_params\n",
       "\n",
       "[pd:read_clipboard]: https://github.com/pandas/pandas#read_clipboard\n",
       "\n",
       "[pd:options]: https://github.com/pandas/pandas#options\n",
       "\n",
       "[pd:read_sql_query]: https://github.com/pandas/pandas#read_sql_query\n",
       "\n",
       "[pd:to_numeric]: https://github.com/pandas/pandas#to_numeric\n",
       "\n",
       "[pd:Index]: https://github.com/pandas/pandas#Index\n",
       "\n",
       "[pd:expanding_min]: https://github.com/pandas/pandas#expanding_min\n",
       "\n",
       "[pd:core]: https://github.com/pandas/pandas#core\n",
       "\n",
       "[pd:_np_version_under1p12]: https://github.com/pandas/pandas#_np_version_under1p12\n",
       "\n",
       "[pd:merge_asof]: https://github.com/pandas/pandas#merge_asof\n",
       "\n",
       "[pd:ewmstd]: https://github.com/pandas/pandas#ewmstd\n",
       "\n",
       "[pd:test]: https://github.com/pandas/pandas#test\n",
       "\n",
       "[pd:rolling_window]: https://github.com/pandas/pandas#rolling_window\n",
       "\n",
       "[pd:expanding_std]: https://github.com/pandas/pandas#expanding_std\n",
       "\n",
       "[pd:hashtable]: https://github.com/pandas/pandas#hashtable\n",
       "\n",
       "[pd:read_csv]: https://github.com/pandas/pandas#read_csv\n",
       "\n",
       "[pd:Panel4D]: https://github.com/pandas/pandas#Panel4D\n",
       "\n",
       "[pd:algos]: https://github.com/pandas/pandas#algos\n",
       "\n",
       "[pd:expanding_cov]: https://github.com/pandas/pandas#expanding_cov\n",
       "\n",
       "[pd:rolling_min]: https://github.com/pandas/pandas#rolling_min\n",
       "\n",
       "[pd:unique]: https://github.com/pandas/pandas#unique\n",
       "\n",
       "[pd:rolling_apply]: https://github.com/pandas/pandas#rolling_apply\n",
       "\n",
       "[pd:expanding_kurt]: https://github.com/pandas/pandas#expanding_kurt\n",
       "\n",
       "[pd:computation]: https://github.com/pandas/pandas#computation\n",
       "\n",
       "[pd:rolling_corr]: https://github.com/pandas/pandas#rolling_corr\n",
       "\n",
       "[pd:wide_to_long]: https://github.com/pandas/pandas#wide_to_long\n",
       "\n",
       "[pd:to_datetime]: https://github.com/pandas/pandas#to_datetime\n",
       "\n",
       "[pd:read_table]: https://github.com/pandas/pandas#read_table\n",
       "\n",
       "[pd:_testing]: https://github.com/pandas/pandas#_testing\n",
       "\n",
       "[pd:set_eng_float_format]: https://github.com/pandas/pandas#set_eng_float_format\n",
       "\n",
       "[pd:Timestamp]: https://github.com/pandas/pandas#Timestamp\n",
       "\n",
       "[pd:_join]: https://github.com/pandas/pandas#_join\n",
       "\n",
       "[pd:set_option]: https://github.com/pandas/pandas#set_option\n",
       "\n",
       "[pd:expanding_var]: https://github.com/pandas/pandas#expanding_var\n",
       "\n",
       "[pd:RangeIndex]: https://github.com/pandas/pandas#RangeIndex\n",
       "\n",
       "[pd:timedelta_range]: https://github.com/pandas/pandas#timedelta_range\n",
       "\n",
       "[pd:WidePanel]: https://github.com/pandas/pandas#WidePanel\n",
       "\n",
       "[pd:SparseSeries]: https://github.com/pandas/pandas#SparseSeries\n",
       "\n",
       "[pd:indexes]: https://github.com/pandas/pandas#indexes\n",
       "\n",
       "[pd:read_msgpack]: https://github.com/pandas/pandas#read_msgpack\n",
       "\n",
       "[pd:util]: https://github.com/pandas/pandas#util\n",
       "\n",
       "[pd:get_option]: https://github.com/pandas/pandas#get_option\n",
       "\n",
       "[pd:expanding_corr]: https://github.com/pandas/pandas#expanding_corr\n",
       "\n",
       "[pd:ols]: https://github.com/pandas/pandas#ols\n",
       "\n",
       "[pd:read_pickle]: https://github.com/pandas/pandas#read_pickle\n",
       "\n",
       "[pd:CategoricalIndex]: https://github.com/pandas/pandas#CategoricalIndex\n",
       "\n",
       "[pd:merge]: https://github.com/pandas/pandas#merge\n",
       "\n",
       "[pd:rolling_std]: https://github.com/pandas/pandas#rolling_std\n",
       "\n",
       "[pd:rolling_skew]: https://github.com/pandas/pandas#rolling_skew\n",
       "\n",
       "[pd:datetime]: https://github.com/pandas/pandas#datetime\n",
       "\n",
       "[pd:ExcelFile]: https://github.com/pandas/pandas#ExcelFile\n",
       "\n",
       "[pd:msgpack]: https://github.com/pandas/pandas#msgpack\n",
       "\n",
       "[pd:json]: https://github.com/pandas/pandas#json\n",
       "\n",
       "[pd:__cached__]: https://github.com/pandas/pandas#__cached__\n",
       "\n",
       "[pd:cut]: https://github.com/pandas/pandas#cut\n",
       "\n",
       "[pd:read_json]: https://github.com/pandas/pandas#read_json\n",
       "\n",
       "[pd:expanding_quantile]: https://github.com/pandas/pandas#expanding_quantile\n",
       "\n",
       "[pd:value_counts]: https://github.com/pandas/pandas#value_counts\n",
       "\n",
       "[pd:tools]: https://github.com/pandas/pandas#tools\n",
       "\n",
       "[pd:__docformat__]: https://github.com/pandas/pandas#__docformat__\n",
       "\n",
       "[pd:Panel]: https://github.com/pandas/pandas#Panel\n",
       "\n",
       "[pd:Categorical]: https://github.com/pandas/pandas#Categorical\n",
       "\n",
       "[pd:pivot]: https://github.com/pandas/pandas#pivot\n",
       "\n",
       "[pd:__package__]: https://github.com/pandas/pandas#__package__\n",
       "\n",
       "[pd:pivot_table]: https://github.com/pandas/pandas#pivot_table\n",
       "\n",
       "[pd:rolling_max]: https://github.com/pandas/pandas#rolling_max\n",
       "\n",
       "[pd:read_sql]: https://github.com/pandas/pandas#read_sql\n",
       "\n",
       "[pd:groupby]: https://github.com/pandas/pandas#groupby\n",
       "\n",
       "[pd:get_dummies]: https://github.com/pandas/pandas#get_dummies\n",
       "\n",
       "[pd:to_msgpack]: https://github.com/pandas/pandas#to_msgpack\n",
       "\n",
       "[pd:Series]: https://github.com/pandas/pandas#Series\n",
       "\n",
       "[pd:TimeGrouper]: https://github.com/pandas/pandas#TimeGrouper\n",
       "\n",
       "[pd:rolling_mean]: https://github.com/pandas/pandas#rolling_mean\n",
       "\n",
       "[pd:date_range]: https://github.com/pandas/pandas#date_range\n",
       "\n",
       "[pd:SparseTimeSeries]: https://github.com/pandas/pandas#SparseTimeSeries\n",
       "\n",
       "[pd:rolling_quantile]: https://github.com/pandas/pandas#rolling_quantile\n",
       "\n",
       "[pd:types]: https://github.com/pandas/pandas#types\n",
       "\n",
       "[pd:_window]: https://github.com/pandas/pandas#_window\n",
       "\n",
       "[pd:eval]: https://github.com/pandas/pandas#eval\n",
       "\n",
       "[pd:TimedeltaIndex]: https://github.com/pandas/pandas#TimedeltaIndex\n",
       "\n",
       "[pd:DataFrame]: https://github.com/pandas/pandas#DataFrame\n",
       "\n",
       "[pd:bdate_range]: https://github.com/pandas/pandas#bdate_range\n",
       "\n",
       "[pd:read_stata]: https://github.com/pandas/pandas#read_stata\n",
       "\n",
       "[pd:_version]: https://github.com/pandas/pandas#_version\n",
       "\n",
       "[pd:period_range]: https://github.com/pandas/pandas#period_range\n",
       "\n",
       "[pd:read_html]: https://github.com/pandas/pandas#read_html\n",
       "\n",
       "[pd:_period]: https://github.com/pandas/pandas#_period\n",
       "\n",
       "[pd:__doc__]: https://github.com/pandas/pandas#__doc__\n",
       "\n",
       "[pd:pandas]: https://github.com/pandas/pandas#pandas\n",
       "\n",
       "[pd:datetools]: https://github.com/pandas/pandas#datetools\n",
       "\n",
       "[pd:formats]: https://github.com/pandas/pandas#formats\n",
       "\n",
       "[pd:parser]: https://github.com/pandas/pandas#parser\n",
       "\n",
       "[pd:SparseDataFrame]: https://github.com/pandas/pandas#SparseDataFrame\n",
       "\n",
       "[pd:lib]: https://github.com/pandas/pandas#lib\n",
       "\n",
       "[pd:ExcelWriter]: https://github.com/pandas/pandas#ExcelWriter\n",
       "\n",
       "[pd:ewmvar]: https://github.com/pandas/pandas#ewmvar\n",
       "\n",
       "[pd:MultiIndex]: https://github.com/pandas/pandas#MultiIndex\n",
       "\n",
       "[pd:read_fwf]: https://github.com/pandas/pandas#read_fwf\n",
       "\n",
       "[pd:_np_version_under1p11]: https://github.com/pandas/pandas#_np_version_under1p11\n",
       "\n",
       "[pd:scatter_matrix]: https://github.com/pandas/pandas#scatter_matrix\n",
       "\n",
       "[pd:show_versions]: https://github.com/pandas/pandas#show_versions\n",
       "\n",
       "[pd:rolling_kurt]: https://github.com/pandas/pandas#rolling_kurt\n",
       "\n",
       "[pd:infer_freq]: https://github.com/pandas/pandas#infer_freq\n",
       "\n",
       "[pd:reset_option]: https://github.com/pandas/pandas#reset_option\n",
       "\n",
       "[pd:_np_version_under1p9]: https://github.com/pandas/pandas#_np_version_under1p9\n",
       "\n",
       "[pd:__builtins__]: https://github.com/pandas/pandas#__builtins__\n",
       "\n",
       "[pd:to_timedelta]: https://github.com/pandas/pandas#to_timedelta\n",
       "\n",
       "[pd:read_hdf]: https://github.com/pandas/pandas#read_hdf\n",
       "\n",
       "[pd:get_store]: https://github.com/pandas/pandas#get_store\n",
       "\n",
       "[pd:SparseArray]: https://github.com/pandas/pandas#SparseArray\n",
       "\n",
       "[pd:_np_version_under1p10]: https://github.com/pandas/pandas#_np_version_under1p10\n",
       "\n",
       "[pd:concat]: https://github.com/pandas/pandas#concat\n",
       "\n",
       "[pd:__loader__]: https://github.com/pandas/pandas#__loader__\n",
       "\n",
       "[pd:rolling_var]: https://github.com/pandas/pandas#rolling_var\n",
       "\n",
       "[pd:expanding_apply]: https://github.com/pandas/pandas#expanding_apply\n",
       "\n",
       "[pd:to_pickle]: https://github.com/pandas/pandas#to_pickle\n",
       "\n",
       "[pd:tseries]: https://github.com/pandas/pandas#tseries\n",
       "\n",
       "[pd:Timedelta]: https://github.com/pandas/pandas#Timedelta\n",
       "\n",
       "[pd:expanding_skew]: https://github.com/pandas/pandas#expanding_skew\n",
       "\n",
       "[pd:rolling_median]: https://github.com/pandas/pandas#rolling_median\n",
       "\n",
       "[pd:pnow]: https://github.com/pandas/pandas#pnow\n",
       "\n",
       "[pd:rolling_cov]: https://github.com/pandas/pandas#rolling_cov\n",
       "\n",
       "[pd:expanding_count]: https://github.com/pandas/pandas#expanding_count\n",
       "\n",
       "[pd:stats]: https://github.com/pandas/pandas#stats\n",
       "\n",
       "[pd:__path__]: https://github.com/pandas/pandas#__path__\n",
       "\n",
       "[pd:merge_ordered]: https://github.com/pandas/pandas#merge_ordered\n",
       "\n",
       "[pd:match]: https://github.com/pandas/pandas#match\n",
       "\n",
       "[pd:rolling_count]: https://github.com/pandas/pandas#rolling_count\n",
       "\n",
       "[pd:fama_macbeth]: https://github.com/pandas/pandas#fama_macbeth\n",
       "\n",
       "[pd:notnull]: https://github.com/pandas/pandas#notnull\n",
       "\n",
       "[pd:Term]: https://github.com/pandas/pandas#Term\n",
       "\n",
       "[pd:compat]: https://github.com/pandas/pandas#compat\n",
       "\n",
       "[pd:expanding_sum]: https://github.com/pandas/pandas#expanding_sum\n",
       "\n",
       "[pd:Period]: https://github.com/pandas/pandas#Period\n",
       "\n",
       "[pd:ewmvol]: https://github.com/pandas/pandas#ewmvol\n",
       "\n",
       "[pd:melt]: https://github.com/pandas/pandas#melt\n",
       "\n",
       "[pd:sparse]: https://github.com/pandas/pandas#sparse\n",
       "\n",
       "[pd:Expr]: https://github.com/pandas/pandas#Expr\n",
       "\n",
       "[pd:tslib]: https://github.com/pandas/pandas#tslib\n",
       "\n",
       "[pd:read_sas]: https://github.com/pandas/pandas#read_sas\n",
       "\n",
       "[pd:factorize]: https://github.com/pandas/pandas#factorize\n",
       "\n",
       "[pd:_np_version_under1p8]: https://github.com/pandas/pandas#_np_version_under1p8\n",
       "\n",
       "[pd:describe_option]: https://github.com/pandas/pandas#describe_option\n",
       "\n",
       "[pd:api]: https://github.com/pandas/pandas#api\n",
       "\n",
       "[pd:isnull]: https://github.com/pandas/pandas#isnull\n",
       "\n",
       "[pd:ordered_merge]: https://github.com/pandas/pandas#ordered_merge\n",
       "\n",
       "[pd:_sparse]: https://github.com/pandas/pandas#_sparse\n",
       "\n",
       "[pd:TimeSeries]: https://github.com/pandas/pandas#TimeSeries\n",
       "\n",
       "[pd:Float64Index]: https://github.com/pandas/pandas#Float64Index\n",
       "\n",
       "[pd:offsets]: https://github.com/pandas/pandas#offsets\n",
       "\n",
       "[pd:index]: https://github.com/pandas/pandas#index\n",
       "\n",
       "[pd:qcut]: https://github.com/pandas/pandas#qcut\n",
       "\n",
       "[pd:HDFStore]: https://github.com/pandas/pandas#HDFStore\n",
       "\n",
       "[pd:ewmcov]: https://github.com/pandas/pandas#ewmcov\n",
       "\n",
       "[pd:IndexSlice]: https://github.com/pandas/pandas#IndexSlice\n",
       "\n",
       "[pd:read_gbq]: https://github.com/pandas/pandas#read_gbq\n",
       "\n",
       "Now you can talk about [pd:DataFrame][], [pd:io][] or [pd:Series][]."
      ],
      "text/plain": [
       "<IPython.core.display.Markdown object>"
      ]
     },
     "metadata": {},
     "output_type": "display_data"
    }
   ],
   "source": [
    "# Markdown [Reference Style][] Links\n",
    "[Reference Style]: http://daringfireball.com/markdown#reference-links\n",
    "\n",
    "Unlike a regular link of the pattern `();`\n",
    "><code>\n",
    "[Example](http://example.com/path?q=uery#fragment)\n",
    "</code>\n",
    "\n",
    "A reference link is of the form `[];`:\n",
    "><code>\n",
    "[Example][example]\n",
    "[example][]\n",
    "[example]: http://example.com/path?q=uery#fragment\n",
    "</code>\n",
    "\n",
    " \n",
    "\n",
    "Usually, you have to write out each URL someplace. However, it can be useful to import a whole __namespace__.\n",
    "       \n",
    "{% for key in pd.__dict__ %}\n",
    "[pd:{{ key }}]: https://github.com/pandas/pandas#{{ key }}\n",
    "{% endfor %}\n",
    "Now you can talk about [pd:DataFrame][], [pd:io][] or [pd:Series][]."
   ]
  },
  {
   "cell_type": "code",
   "execution_count": null,
   "metadata": {},
   "outputs": [],
   "source": []
  }
 ],
 "metadata": {
  "kernelspec": {
   "display_name": "Python 3",
   "language": "python",
   "name": "python3"
  },
  "language_info": {
   "codemirror_mode": {
    "name": "ipython",
    "version": 3
   },
   "file_extension": ".py",
   "mimetype": "text/x-python",
   "name": "python",
   "nbconvert_exporter": "python",
   "pygments_lexer": "ipython3",
   "version": "3.5.3"
  }
 },
 "nbformat": 4,
 "nbformat_minor": 2
}
