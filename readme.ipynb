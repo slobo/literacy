{
 "cells": [
  {
   "cell_type": "markdown",
   "metadata": {},
   "source": [
    "# __literacy__ - Computable documents in natural language.\n",
    "\n",
    "> [Literate programming](roxygen.org/knuth-literate-programming.pdf) notebooks in 𝗠arkd⬇wn\n",
    "and py🐍hon.\n",
    "\n",
    "---\n",
    "\n",
    "<code>pip install git+https://github.com/tonyfast/literacy</code>"
   ]
  },
  {
   "cell_type": "markdown",
   "metadata": {},
   "source": [
    "# Literate programming mode\n",
    "\n",
    "Activate the `literacy` extension."
   ]
  },
  {
   "cell_type": "code",
   "execution_count": 1,
   "metadata": {
    "collapsed": true
   },
   "outputs": [],
   "source": [
    "        %load_ext literacy"
   ]
  },
  {
   "cell_type": "code",
   "execution_count": 1,
   "metadata": {},
   "outputs": [
    {
     "data": {
      "text/markdown": [
       "__Now__, all cells in the notebook accept __Markdown__ as syntax. Each code fragment is evaluated as an individual cell\n",
       "and every cell will display a markdown copy of itself before the output. \n",
       "\n",
       "> There is no code in this cell, the execution number next to <code>In</code> will _not_ increment."
      ],
      "text/plain": [
       "<IPython.core.display.Markdown object>"
      ]
     },
     "metadata": {},
     "output_type": "display_data"
    }
   ],
   "source": [
    "__Now__, all cells in the notebook accept __Markdown__ as syntax. Each code fragment is evaluated as an individual cell\n",
    "and every cell will display a markdown copy of itself before the output. \n",
    "\n",
    "> There is no code in this cell, the execution number next to <code>In</code> will _not_ increment."
   ]
  },
  {
   "cell_type": "code",
   "execution_count": 1,
   "metadata": {},
   "outputs": [
    {
     "data": {
      "text/markdown": [
       "## Writing code\n",
       "\n",
       "### Indented code\n",
       "\n",
       "The cell below looks like normal python code, "
      ],
      "text/plain": [
       "<IPython.core.display.Markdown object>"
      ]
     },
     "metadata": {},
     "output_type": "display_data"
    }
   ],
   "source": [
    "## Writing code\n",
    "\n",
    "### Indented code\n",
    "\n",
    "The cell below looks like normal python code, "
   ]
  },
  {
   "cell_type": "code",
   "execution_count": 2,
   "metadata": {},
   "outputs": [
    {
     "data": {
      "text/markdown": [
       "        foo = 42\n",
       "        print(foo)"
      ],
      "text/plain": [
       "<IPython.core.display.Markdown object>"
      ]
     },
     "metadata": {},
     "output_type": "display_data"
    },
    {
     "name": "stdout",
     "output_type": "stream",
     "text": [
      "42\n"
     ]
    }
   ],
   "source": [
    "        foo = 42\n",
    "        print(foo)"
   ]
  },
  {
   "cell_type": "code",
   "execution_count": 2,
   "metadata": {},
   "outputs": [
    {
     "data": {
      "text/markdown": [
       "*the indent triggers code execution*."
      ],
      "text/plain": [
       "<IPython.core.display.Markdown object>"
      ]
     },
     "metadata": {},
     "output_type": "display_data"
    }
   ],
   "source": [
    "*the indent triggers code execution*."
   ]
  },
  {
   "cell_type": "code",
   "execution_count": 3,
   "metadata": {},
   "outputs": [
    {
     "data": {
      "text/markdown": [
       "Of course, code and plain text can be mixed\n",
       "    \n",
       "        print(\"This evaluated to: {}\".format(foo*10))\n",
       "        \n",
       "> There are more ways to write code!"
      ],
      "text/plain": [
       "<IPython.core.display.Markdown object>"
      ]
     },
     "metadata": {},
     "output_type": "display_data"
    },
    {
     "name": "stdout",
     "output_type": "stream",
     "text": [
      "This evaluated to: 420\n"
     ]
    }
   ],
   "source": [
    "Of course, code and plain text can be mixed\n",
    "    \n",
    "        print(\"This evaluated to: {}\".format(foo*10))\n",
    "        \n",
    "> There are more ways to write code!"
   ]
  },
  {
   "cell_type": "code",
   "execution_count": 4,
   "metadata": {},
   "outputs": [
    {
     "data": {
      "text/markdown": [
       "### Inline Code 👉 `print('Say what ❓👂')`\n",
       "\n",
       "Code can be executed anywhere by wrapping statements in markdown ticks - __`__."
      ],
      "text/plain": [
       "<IPython.core.display.Markdown object>"
      ]
     },
     "metadata": {},
     "output_type": "display_data"
    },
    {
     "name": "stdout",
     "output_type": "stream",
     "text": [
      "Say what ❓👂\n"
     ]
    }
   ],
   "source": [
    "### Inline Code 👉 `print('Say what ❓👂')`\n",
    "\n",
    "Code can be executed anywhere by wrapping statements in markdown ticks - __`__."
   ]
  },
  {
   "cell_type": "code",
   "execution_count": 5,
   "metadata": {},
   "outputs": [
    {
     "data": {
      "text/markdown": [
       "### Code Fences\n",
       "\n",
       "Pop open the console to see the magic.\n",
       "\n",
       "        %%javascript \n",
       "        console.log(\"Yo, I can holla hear too.\")"
      ],
      "text/plain": [
       "<IPython.core.display.Markdown object>"
      ]
     },
     "metadata": {},
     "output_type": "display_data"
    },
    {
     "data": {
      "application/javascript": [
       "console.log(\"Yo, I can holla hear too.\")"
      ],
      "text/plain": [
       "<IPython.core.display.Javascript object>"
      ]
     },
     "metadata": {},
     "output_type": "display_data"
    }
   ],
   "source": [
    "### Code Fences\n",
    "\n",
    "Pop open the console to see the magic.\n",
    "\n",
    "        %%javascript \n",
    "        console.log(\"Yo, I can holla hear too.\")"
   ]
  },
  {
   "cell_type": "code",
   "execution_count": 5,
   "metadata": {},
   "outputs": [
    {
     "data": {
      "text/markdown": [
       "## Templates.\n",
       "\n",
       "All code blocks are __jinja2__ templates."
      ],
      "text/plain": [
       "<IPython.core.display.Markdown object>"
      ]
     },
     "metadata": {},
     "output_type": "display_data"
    }
   ],
   "source": [
    "## Templates.\n",
    "\n",
    "All code blocks are __jinja2__ templates."
   ]
  },
  {
   "cell_type": "code",
   "execution_count": 6,
   "metadata": {},
   "outputs": [
    {
     "data": {
      "text/markdown": [
       "__*42*__ can be placed directly into markdown _and_ even used to generate code.\n",
       "\n",
       "    print(\"42\")\n",
       "    \n",
       "Full jinja syntaxes are available\n",
       "\n",
       "\n",
       "0. List item 1\n",
       "0. List item 2\n",
       "0. List item 3\n",
       "0. List item 4\n",
       "\n",
       "---\n",
       "\n",
       "Outputs below"
      ],
      "text/plain": [
       "<IPython.core.display.Markdown object>"
      ]
     },
     "metadata": {},
     "output_type": "display_data"
    },
    {
     "name": "stdout",
     "output_type": "stream",
     "text": [
      "42\n"
     ]
    }
   ],
   "source": [
    "__*{{foo}}*__ can be placed directly into markdown _and_ even used to generate code.\n",
    "\n",
    "    print(\"{{foo}}\")\n",
    "    \n",
    "Full jinja syntaxes are available\n",
    "\n",
    "{% for i in range(4) %}\n",
    "0. List item {{i+1}}{% endfor %}\n",
    "\n",
    "---\n",
    "\n",
    "Outputs below"
   ]
  },
  {
   "cell_type": "code",
   "execution_count": 7,
   "metadata": {},
   "outputs": [
    {
     "data": {
      "text/markdown": [
       "##### Unload literacy anytime \n",
       "\n",
       "        if __name__ == '__main__': \n",
       "            %unload_ext literacy\n",
       "\n",
       "###### Remove Templates\n",
       "        \n",
       "        if __name__ == '__main__': \n",
       "            %load_ext literacy"
      ],
      "text/plain": [
       "<IPython.core.display.Markdown object>"
      ]
     },
     "metadata": {},
     "output_type": "display_data"
    },
    {
     "name": "stdout",
     "output_type": "stream",
     "text": [
      "The literacy extension doesn't define how to unload it.\n",
      "The literacy extension is already loaded. To reload it, use:\n",
      "  %reload_ext literacy\n"
     ]
    }
   ],
   "source": [
    "##### Unload literacy anytime \n",
    "\n",
    "        if __name__ == '__main__': \n",
    "            %unload_ext literacy\n",
    "\n",
    "###### Remove Templates\n",
    "        \n",
    "        if __name__ == '__main__': \n",
    "            %load_ext literacy"
   ]
  },
  {
   "cell_type": "code",
   "execution_count": 8,
   "metadata": {},
   "outputs": [
    {
     "data": {
      "text/markdown": [
       "## Data Science with `import pandas as pd`"
      ],
      "text/plain": [
       "<IPython.core.display.Markdown object>"
      ]
     },
     "metadata": {},
     "output_type": "display_data"
    }
   ],
   "source": [
    "## Data Science with `import pandas as pd`"
   ]
  },
  {
   "cell_type": "code",
   "execution_count": 9,
   "metadata": {
    "scrolled": false
   },
   "outputs": [
    {
     "data": {
      "text/markdown": [
       "This tool was designed to tell stories about real data.  Since every code block is just python,\n",
       "`df=__import__('pandas').util.testing.makeDataFrame();df.head()` to make a __[pd:DataFrame][]__. \n",
       "\n",
       "\n",
       "[pd:lreshape]: https://github.com/pandas/pandas#lreshape\n",
       "[pd:expanding_median]: https://github.com/pandas/pandas#expanding_median\n",
       "[pd:merge_asof]: https://github.com/pandas/pandas#merge_asof\n",
       "[pd:rolling_sum]: https://github.com/pandas/pandas#rolling_sum\n",
       "[pd:isnull]: https://github.com/pandas/pandas#isnull\n",
       "[pd:match]: https://github.com/pandas/pandas#match\n",
       "[pd:__cached__]: https://github.com/pandas/pandas#__cached__\n",
       "[pd:merge_ordered]: https://github.com/pandas/pandas#merge_ordered\n",
       "[pd:rolling_count]: https://github.com/pandas/pandas#rolling_count\n",
       "[pd:rolling_window]: https://github.com/pandas/pandas#rolling_window\n",
       "[pd:concat]: https://github.com/pandas/pandas#concat\n",
       "[pd:parser]: https://github.com/pandas/pandas#parser\n",
       "[pd:expanding_count]: https://github.com/pandas/pandas#expanding_count\n",
       "[pd:ExcelFile]: https://github.com/pandas/pandas#ExcelFile\n",
       "[pd:read_html]: https://github.com/pandas/pandas#read_html\n",
       "[pd:Term]: https://github.com/pandas/pandas#Term\n",
       "[pd:get_store]: https://github.com/pandas/pandas#get_store\n",
       "[pd:msgpack]: https://github.com/pandas/pandas#msgpack\n",
       "[pd:datetime]: https://github.com/pandas/pandas#datetime\n",
       "[pd:infer_freq]: https://github.com/pandas/pandas#infer_freq\n",
       "[pd:rolling_skew]: https://github.com/pandas/pandas#rolling_skew\n",
       "[pd:expanding_mean]: https://github.com/pandas/pandas#expanding_mean\n",
       "[pd:Period]: https://github.com/pandas/pandas#Period\n",
       "[pd:DateOffset]: https://github.com/pandas/pandas#DateOffset\n",
       "[pd:Float64Index]: https://github.com/pandas/pandas#Float64Index\n",
       "[pd:option_context]: https://github.com/pandas/pandas#option_context\n",
       "[pd:SparseSeries]: https://github.com/pandas/pandas#SparseSeries\n",
       "[pd:indexes]: https://github.com/pandas/pandas#indexes\n",
       "[pd:expanding_cov]: https://github.com/pandas/pandas#expanding_cov\n",
       "[pd:tseries]: https://github.com/pandas/pandas#tseries\n",
       "[pd:ewmcov]: https://github.com/pandas/pandas#ewmcov\n",
       "[pd:read_csv]: https://github.com/pandas/pandas#read_csv\n",
       "[pd:scatter_matrix]: https://github.com/pandas/pandas#scatter_matrix\n",
       "[pd:_np_version_under1p12]: https://github.com/pandas/pandas#_np_version_under1p12\n",
       "[pd:Categorical]: https://github.com/pandas/pandas#Categorical\n",
       "[pd:crosstab]: https://github.com/pandas/pandas#crosstab\n",
       "[pd:SparseDataFrame]: https://github.com/pandas/pandas#SparseDataFrame\n",
       "[pd:expanding_kurt]: https://github.com/pandas/pandas#expanding_kurt\n",
       "[pd:WidePanel]: https://github.com/pandas/pandas#WidePanel\n",
       "[pd:ExcelWriter]: https://github.com/pandas/pandas#ExcelWriter\n",
       "[pd:to_numeric]: https://github.com/pandas/pandas#to_numeric\n",
       "[pd:read_fwf]: https://github.com/pandas/pandas#read_fwf\n",
       "[pd:groupby]: https://github.com/pandas/pandas#groupby\n",
       "[pd:set_eng_float_format]: https://github.com/pandas/pandas#set_eng_float_format\n",
       "[pd:Panel]: https://github.com/pandas/pandas#Panel\n",
       "[pd:offsets]: https://github.com/pandas/pandas#offsets\n",
       "[pd:rolling_min]: https://github.com/pandas/pandas#rolling_min\n",
       "[pd:CategoricalIndex]: https://github.com/pandas/pandas#CategoricalIndex\n",
       "[pd:algos]: https://github.com/pandas/pandas#algos\n",
       "[pd:read_sql_table]: https://github.com/pandas/pandas#read_sql_table\n",
       "[pd:api]: https://github.com/pandas/pandas#api\n",
       "[pd:read_gbq]: https://github.com/pandas/pandas#read_gbq\n",
       "[pd:expanding_quantile]: https://github.com/pandas/pandas#expanding_quantile\n",
       "[pd:expanding_std]: https://github.com/pandas/pandas#expanding_std\n",
       "[pd:to_msgpack]: https://github.com/pandas/pandas#to_msgpack\n",
       "[pd:_testing]: https://github.com/pandas/pandas#_testing\n",
       "[pd:__doc__]: https://github.com/pandas/pandas#__doc__\n",
       "[pd:Panel4D]: https://github.com/pandas/pandas#Panel4D\n",
       "[pd:rolling_max]: https://github.com/pandas/pandas#rolling_max\n",
       "[pd:__loader__]: https://github.com/pandas/pandas#__loader__\n",
       "[pd:notnull]: https://github.com/pandas/pandas#notnull\n",
       "[pd:__file__]: https://github.com/pandas/pandas#__file__\n",
       "[pd:read_sql_query]: https://github.com/pandas/pandas#read_sql_query\n",
       "[pd:TimedeltaIndex]: https://github.com/pandas/pandas#TimedeltaIndex\n",
       "[pd:Int64Index]: https://github.com/pandas/pandas#Int64Index\n",
       "[pd:Timedelta]: https://github.com/pandas/pandas#Timedelta\n",
       "[pd:__package__]: https://github.com/pandas/pandas#__package__\n",
       "[pd:RangeIndex]: https://github.com/pandas/pandas#RangeIndex\n",
       "[pd:expanding_max]: https://github.com/pandas/pandas#expanding_max\n",
       "[pd:compat]: https://github.com/pandas/pandas#compat\n",
       "[pd:computation]: https://github.com/pandas/pandas#computation\n",
       "[pd:read_stata]: https://github.com/pandas/pandas#read_stata\n",
       "[pd:eval]: https://github.com/pandas/pandas#eval\n",
       "[pd:options]: https://github.com/pandas/pandas#options\n",
       "[pd:expanding_sum]: https://github.com/pandas/pandas#expanding_sum\n",
       "[pd:_join]: https://github.com/pandas/pandas#_join\n",
       "[pd:__spec__]: https://github.com/pandas/pandas#__spec__\n",
       "[pd:io]: https://github.com/pandas/pandas#io\n",
       "[pd:to_pickle]: https://github.com/pandas/pandas#to_pickle\n",
       "[pd:_version]: https://github.com/pandas/pandas#_version\n",
       "[pd:to_datetime]: https://github.com/pandas/pandas#to_datetime\n",
       "[pd:Series]: https://github.com/pandas/pandas#Series\n",
       "[pd:describe_option]: https://github.com/pandas/pandas#describe_option\n",
       "[pd:IndexSlice]: https://github.com/pandas/pandas#IndexSlice\n",
       "[pd:TimeSeries]: https://github.com/pandas/pandas#TimeSeries\n",
       "[pd:rolling_std]: https://github.com/pandas/pandas#rolling_std\n",
       "[pd:qcut]: https://github.com/pandas/pandas#qcut\n",
       "[pd:_sparse]: https://github.com/pandas/pandas#_sparse\n",
       "[pd:__version__]: https://github.com/pandas/pandas#__version__\n",
       "[pd:period_range]: https://github.com/pandas/pandas#period_range\n",
       "[pd:unique]: https://github.com/pandas/pandas#unique\n",
       "[pd:rolling_corr]: https://github.com/pandas/pandas#rolling_corr\n",
       "[pd:rolling_median]: https://github.com/pandas/pandas#rolling_median\n",
       "[pd:SparseList]: https://github.com/pandas/pandas#SparseList\n",
       "[pd:stats]: https://github.com/pandas/pandas#stats\n",
       "[pd:TimeGrouper]: https://github.com/pandas/pandas#TimeGrouper\n",
       "[pd:timedelta_range]: https://github.com/pandas/pandas#timedelta_range\n",
       "[pd:MultiIndex]: https://github.com/pandas/pandas#MultiIndex\n",
       "[pd:lib]: https://github.com/pandas/pandas#lib\n",
       "[pd:index]: https://github.com/pandas/pandas#index\n",
       "[pd:rolling_kurt]: https://github.com/pandas/pandas#rolling_kurt\n",
       "[pd:__path__]: https://github.com/pandas/pandas#__path__\n",
       "[pd:_np_version_under1p10]: https://github.com/pandas/pandas#_np_version_under1p10\n",
       "[pd:read_table]: https://github.com/pandas/pandas#read_table\n",
       "[pd:tslib]: https://github.com/pandas/pandas#tslib\n",
       "[pd:json]: https://github.com/pandas/pandas#json\n",
       "[pd:set_option]: https://github.com/pandas/pandas#set_option\n",
       "[pd:value_counts]: https://github.com/pandas/pandas#value_counts\n",
       "[pd:rolling_quantile]: https://github.com/pandas/pandas#rolling_quantile\n",
       "[pd:tools]: https://github.com/pandas/pandas#tools\n",
       "[pd:read_json]: https://github.com/pandas/pandas#read_json\n",
       "[pd:SparseTimeSeries]: https://github.com/pandas/pandas#SparseTimeSeries\n",
       "[pd:Expr]: https://github.com/pandas/pandas#Expr\n",
       "[pd:expanding_corr]: https://github.com/pandas/pandas#expanding_corr\n",
       "[pd:show_versions]: https://github.com/pandas/pandas#show_versions\n",
       "[pd:__docformat__]: https://github.com/pandas/pandas#__docformat__\n",
       "[pd:ewmvar]: https://github.com/pandas/pandas#ewmvar\n",
       "[pd:Timestamp]: https://github.com/pandas/pandas#Timestamp\n",
       "[pd:_window]: https://github.com/pandas/pandas#_window\n",
       "[pd:formats]: https://github.com/pandas/pandas#formats\n",
       "[pd:read_sas]: https://github.com/pandas/pandas#read_sas\n",
       "[pd:test]: https://github.com/pandas/pandas#test\n",
       "[pd:util]: https://github.com/pandas/pandas#util\n",
       "[pd:read_sql]: https://github.com/pandas/pandas#read_sql\n",
       "[pd:expanding_var]: https://github.com/pandas/pandas#expanding_var\n",
       "[pd:core]: https://github.com/pandas/pandas#core\n",
       "[pd:datetools]: https://github.com/pandas/pandas#datetools\n",
       "[pd:Index]: https://github.com/pandas/pandas#Index\n",
       "[pd:cut]: https://github.com/pandas/pandas#cut\n",
       "[pd:pnow]: https://github.com/pandas/pandas#pnow\n",
       "[pd:ewmcorr]: https://github.com/pandas/pandas#ewmcorr\n",
       "[pd:ewmvol]: https://github.com/pandas/pandas#ewmvol\n",
       "[pd:ols]: https://github.com/pandas/pandas#ols\n",
       "[pd:melt]: https://github.com/pandas/pandas#melt\n",
       "[pd:pandas]: https://github.com/pandas/pandas#pandas\n",
       "[pd:read_hdf]: https://github.com/pandas/pandas#read_hdf\n",
       "[pd:factorize]: https://github.com/pandas/pandas#factorize\n",
       "[pd:PeriodIndex]: https://github.com/pandas/pandas#PeriodIndex\n",
       "[pd:hashtable]: https://github.com/pandas/pandas#hashtable\n",
       "[pd:_period]: https://github.com/pandas/pandas#_period\n",
       "[pd:read_clipboard]: https://github.com/pandas/pandas#read_clipboard\n",
       "[pd:fama_macbeth]: https://github.com/pandas/pandas#fama_macbeth\n",
       "[pd:rolling_var]: https://github.com/pandas/pandas#rolling_var\n",
       "[pd:types]: https://github.com/pandas/pandas#types\n",
       "[pd:__builtins__]: https://github.com/pandas/pandas#__builtins__\n",
       "[pd:DataFrame]: https://github.com/pandas/pandas#DataFrame\n",
       "[pd:np]: https://github.com/pandas/pandas#np\n",
       "[pd:read_excel]: https://github.com/pandas/pandas#read_excel\n",
       "[pd:pivot]: https://github.com/pandas/pandas#pivot\n",
       "[pd:read_msgpack]: https://github.com/pandas/pandas#read_msgpack\n",
       "[pd:rolling_mean]: https://github.com/pandas/pandas#rolling_mean\n",
       "[pd:sparse]: https://github.com/pandas/pandas#sparse\n",
       "[pd:ordered_merge]: https://github.com/pandas/pandas#ordered_merge\n",
       "[pd:SparseArray]: https://github.com/pandas/pandas#SparseArray\n",
       "[pd:get_option]: https://github.com/pandas/pandas#get_option\n",
       "[pd:ewmstd]: https://github.com/pandas/pandas#ewmstd\n",
       "[pd:pivot_table]: https://github.com/pandas/pandas#pivot_table\n",
       "[pd:NaT]: https://github.com/pandas/pandas#NaT\n",
       "[pd:expanding_apply]: https://github.com/pandas/pandas#expanding_apply\n",
       "[pd:_np_version_under1p11]: https://github.com/pandas/pandas#_np_version_under1p11\n",
       "[pd:expanding_skew]: https://github.com/pandas/pandas#expanding_skew\n",
       "[pd:plot_params]: https://github.com/pandas/pandas#plot_params\n",
       "[pd:to_timedelta]: https://github.com/pandas/pandas#to_timedelta\n",
       "[pd:__name__]: https://github.com/pandas/pandas#__name__\n",
       "[pd:get_dummies]: https://github.com/pandas/pandas#get_dummies\n",
       "[pd:bdate_range]: https://github.com/pandas/pandas#bdate_range\n",
       "[pd:_np_version_under1p9]: https://github.com/pandas/pandas#_np_version_under1p9\n",
       "[pd:info]: https://github.com/pandas/pandas#info\n",
       "[pd:merge]: https://github.com/pandas/pandas#merge\n",
       "[pd:DatetimeIndex]: https://github.com/pandas/pandas#DatetimeIndex\n",
       "[pd:wide_to_long]: https://github.com/pandas/pandas#wide_to_long\n",
       "[pd:reset_option]: https://github.com/pandas/pandas#reset_option\n",
       "[pd:ewma]: https://github.com/pandas/pandas#ewma\n",
       "[pd:rolling_apply]: https://github.com/pandas/pandas#rolling_apply\n",
       "[pd:Grouper]: https://github.com/pandas/pandas#Grouper\n",
       "[pd:expanding_min]: https://github.com/pandas/pandas#expanding_min\n",
       "[pd:rolling_cov]: https://github.com/pandas/pandas#rolling_cov\n",
       "[pd:read_pickle]: https://github.com/pandas/pandas#read_pickle\n",
       "[pd:_np_version_under1p8]: https://github.com/pandas/pandas#_np_version_under1p8\n",
       "[pd:HDFStore]: https://github.com/pandas/pandas#HDFStore\n",
       "[pd:date_range]: https://github.com/pandas/pandas#date_range"
      ],
      "text/plain": [
       "<IPython.core.display.Markdown object>"
      ]
     },
     "metadata": {},
     "output_type": "display_data"
    },
    {
     "data": {
      "text/html": [
       "<div>\n",
       "<table border=\"1\" class=\"dataframe\">\n",
       "  <thead>\n",
       "    <tr style=\"text-align: right;\">\n",
       "      <th></th>\n",
       "      <th>A</th>\n",
       "      <th>B</th>\n",
       "      <th>C</th>\n",
       "      <th>D</th>\n",
       "    </tr>\n",
       "  </thead>\n",
       "  <tbody>\n",
       "    <tr>\n",
       "      <th>6fHEZuicyv</th>\n",
       "      <td>-1.164558</td>\n",
       "      <td>-1.705563</td>\n",
       "      <td>-0.958202</td>\n",
       "      <td>0.904970</td>\n",
       "    </tr>\n",
       "    <tr>\n",
       "      <th>Kl8M2wXECP</th>\n",
       "      <td>0.031830</td>\n",
       "      <td>0.175336</td>\n",
       "      <td>-0.499233</td>\n",
       "      <td>1.532042</td>\n",
       "    </tr>\n",
       "    <tr>\n",
       "      <th>D0L1n4IeTj</th>\n",
       "      <td>0.430954</td>\n",
       "      <td>1.105751</td>\n",
       "      <td>-0.166117</td>\n",
       "      <td>-0.556662</td>\n",
       "    </tr>\n",
       "    <tr>\n",
       "      <th>UB2E2ueTT2</th>\n",
       "      <td>1.928141</td>\n",
       "      <td>-0.233943</td>\n",
       "      <td>0.357397</td>\n",
       "      <td>-1.051417</td>\n",
       "    </tr>\n",
       "    <tr>\n",
       "      <th>Sr1wz9yIvT</th>\n",
       "      <td>1.392489</td>\n",
       "      <td>0.583714</td>\n",
       "      <td>-0.110042</td>\n",
       "      <td>-1.291159</td>\n",
       "    </tr>\n",
       "  </tbody>\n",
       "</table>\n",
       "</div>"
      ],
      "text/plain": [
       "                   A         B         C         D\n",
       "6fHEZuicyv -1.164558 -1.705563 -0.958202  0.904970\n",
       "Kl8M2wXECP  0.031830  0.175336 -0.499233  1.532042\n",
       "D0L1n4IeTj  0.430954  1.105751 -0.166117 -0.556662\n",
       "UB2E2ueTT2  1.928141 -0.233943  0.357397 -1.051417\n",
       "Sr1wz9yIvT  1.392489  0.583714 -0.110042 -1.291159"
      ]
     },
     "execution_count": 9,
     "metadata": {},
     "output_type": "execute_result"
    }
   ],
   "source": [
    "This tool was designed to tell stories about real data.  Since every code block is just python,\n",
    "`df=__import__('pandas').util.testing.makeDataFrame();df.head()` to make a __[pd:DataFrame][]__. \n",
    "\n",
    "{% for key in pd.__dict__ %}\n",
    "[pd:{{ key }}]: https://github.com/pandas/pandas#{{ key }}{% endfor %}"
   ]
  },
  {
   "cell_type": "code",
   "execution_count": 10,
   "metadata": {},
   "outputs": [
    {
     "data": {
      "text/markdown": [
       "`df;` has the following statistical properties `df.describe()`"
      ],
      "text/plain": [
       "<IPython.core.display.Markdown object>"
      ]
     },
     "metadata": {},
     "output_type": "display_data"
    },
    {
     "data": {
      "text/html": [
       "<div>\n",
       "<table border=\"1\" class=\"dataframe\">\n",
       "  <thead>\n",
       "    <tr style=\"text-align: right;\">\n",
       "      <th></th>\n",
       "      <th>A</th>\n",
       "      <th>B</th>\n",
       "      <th>C</th>\n",
       "      <th>D</th>\n",
       "    </tr>\n",
       "  </thead>\n",
       "  <tbody>\n",
       "    <tr>\n",
       "      <th>count</th>\n",
       "      <td>30.000000</td>\n",
       "      <td>30.000000</td>\n",
       "      <td>30.000000</td>\n",
       "      <td>30.000000</td>\n",
       "    </tr>\n",
       "    <tr>\n",
       "      <th>mean</th>\n",
       "      <td>0.126514</td>\n",
       "      <td>0.001174</td>\n",
       "      <td>0.016246</td>\n",
       "      <td>-0.224229</td>\n",
       "    </tr>\n",
       "    <tr>\n",
       "      <th>std</th>\n",
       "      <td>1.072202</td>\n",
       "      <td>1.242995</td>\n",
       "      <td>1.222341</td>\n",
       "      <td>1.067168</td>\n",
       "    </tr>\n",
       "    <tr>\n",
       "      <th>min</th>\n",
       "      <td>-2.191796</td>\n",
       "      <td>-2.296738</td>\n",
       "      <td>-1.924885</td>\n",
       "      <td>-1.662792</td>\n",
       "    </tr>\n",
       "    <tr>\n",
       "      <th>25%</th>\n",
       "      <td>-0.661703</td>\n",
       "      <td>-0.800405</td>\n",
       "      <td>-0.865513</td>\n",
       "      <td>-1.099564</td>\n",
       "    </tr>\n",
       "    <tr>\n",
       "      <th>50%</th>\n",
       "      <td>0.070228</td>\n",
       "      <td>0.284665</td>\n",
       "      <td>-0.116364</td>\n",
       "      <td>-0.426725</td>\n",
       "    </tr>\n",
       "    <tr>\n",
       "      <th>75%</th>\n",
       "      <td>0.846974</td>\n",
       "      <td>0.879298</td>\n",
       "      <td>0.734635</td>\n",
       "      <td>0.427850</td>\n",
       "    </tr>\n",
       "    <tr>\n",
       "      <th>max</th>\n",
       "      <td>1.928141</td>\n",
       "      <td>2.139305</td>\n",
       "      <td>2.496402</td>\n",
       "      <td>2.286156</td>\n",
       "    </tr>\n",
       "  </tbody>\n",
       "</table>\n",
       "</div>"
      ],
      "text/plain": [
       "               A          B          C          D\n",
       "count  30.000000  30.000000  30.000000  30.000000\n",
       "mean    0.126514   0.001174   0.016246  -0.224229\n",
       "std     1.072202   1.242995   1.222341   1.067168\n",
       "min    -2.191796  -2.296738  -1.924885  -1.662792\n",
       "25%    -0.661703  -0.800405  -0.865513  -1.099564\n",
       "50%     0.070228   0.284665  -0.116364  -0.426725\n",
       "75%     0.846974   0.879298   0.734635   0.427850\n",
       "max     1.928141   2.139305   2.496402   2.286156"
      ]
     },
     "execution_count": 10,
     "metadata": {},
     "output_type": "execute_result"
    }
   ],
   "source": [
    "`df;` has the following statistical properties `df.describe()`"
   ]
  },
  {
   "cell_type": "code",
   "execution_count": 10,
   "metadata": {},
   "outputs": [
    {
     "data": {
      "text/markdown": [
       "* Anything that is a file should be importable.  Literacy has rules for markdown and ipynb.\n",
       "* Merging cell makes more sense.  \n",
       "* Code and Markdown cells toggle the ability to execute.\n",
       "* Code prediction works in code cells\n",
       "* Normal error messages for single cell executions.\n",
       "\n",
       "# References"
      ],
      "text/plain": [
       "<IPython.core.display.Markdown object>"
      ]
     },
     "metadata": {},
     "output_type": "display_data"
    }
   ],
   "source": [
    "* Anything that is a file should be importable.  Literacy has rules for markdown and ipynb.\n",
    "* Merging cell makes more sense.  \n",
    "* Code and Markdown cells toggle the ability to execute.\n",
    "* Code prediction works in code cells\n",
    "* Normal error messages for single cell executions.\n",
    "\n",
    "# References"
   ]
  },
  {
   "cell_type": "code",
   "execution_count": 11,
   "metadata": {},
   "outputs": [
    {
     "data": {
      "text/markdown": [
       "        if True and __name__ == '__main__':\n",
       "            !jupyter nbconvert --to markdown readme.ipynb"
      ],
      "text/plain": [
       "<IPython.core.display.Markdown object>"
      ]
     },
     "metadata": {},
     "output_type": "display_data"
    },
    {
     "name": "stdout",
     "output_type": "stream",
     "text": [
      "[NbConvertApp] Converting notebook readme.ipynb to markdown\r\n",
      "[NbConvertApp] Writing 18188 bytes to readme.md\r\n"
     ]
    }
   ],
   "source": [
    "        if True and __name__ == '__main__':\n",
    "            !jupyter nbconvert --to markdown readme.ipynb"
   ]
  }
 ],
 "metadata": {
  "kernelspec": {
   "display_name": "Python 3",
   "language": "python",
   "name": "python3"
  },
  "language_info": {
   "codemirror_mode": {
    "name": "ipython",
    "version": 3
   },
   "file_extension": ".py",
   "mimetype": "text/x-python",
   "name": "python",
   "nbconvert_exporter": "python",
   "pygments_lexer": "ipython3",
   "version": "3.5.3"
  }
 },
 "nbformat": 4,
 "nbformat_minor": 2
}
