{
 "cells": [
  {
   "cell_type": "markdown",
   "metadata": {},
   "source": [
    "# __literacy__ - interactive literate programming in markdown\n",
    "\n",
    "> [`...`](http://roxygen.org/knuth-literate-programming.pdf) considering programs to be works of literature. `...`  surely nobody wants to admit writing an _illiterate_ program.\n",
    "> - _Donald Knuth_ - **Literate Programming** \n",
    "\n",
    "## Installation\n",
    "\n",
    "\n",
    "    %%bash\n",
    "    pip install git+https://github.com/tonyfast/literacy\n",
    "    "
   ]
  },
  {
   "cell_type": "code",
   "execution_count": 1,
   "metadata": {},
   "outputs": [],
   "source": [
    "    %reload_ext literacy\n",
    "    import literacy"
   ]
  },
  {
   "cell_type": "code",
   "execution_count": 2,
   "metadata": {},
   "outputs": [
    {
     "data": {
      "text/markdown": [
       "# Literacy Programming Mode\n",
       "\n",
       "```python\n",
       "%reload_ext literacy\n",
       "```\n",
       "\n",
       "`assert literacy` accepts Markdown as source; the inline and indented code objects are concatenated into a single block of __python__ source code.\n",
       "\n",
       "    foo = 42\n",
       "    print(foo)"
      ],
      "text/plain": [
       "<IPython.core.display.Markdown object>"
      ]
     },
     "metadata": {},
     "output_type": "display_data"
    },
    {
     "name": "stdout",
     "output_type": "stream",
     "text": [
      "42\n"
     ]
    }
   ],
   "source": [
    "# Literacy Programming Mode\n",
    "\n",
    "```python\n",
    "%reload_ext literacy\n",
    "```\n",
    "\n",
    "`assert literacy` accepts Markdown as source; the inline and indented code objects are concatenated into a single block of __python__ source code.\n",
    "\n",
    "    foo = 42\n",
    "    print(foo)"
   ]
  },
  {
   "cell_type": "code",
   "execution_count": 3,
   "metadata": {},
   "outputs": [
    {
     "data": {
      "text/markdown": [
       "# Templating Mode\n",
       "\n",
       "    %reload_ext literacy.template\n",
       "\n",
       "Template mode users `__import__('jinja2');` to weave variables in scope into the markdown source."
      ],
      "text/plain": [
       "<IPython.core.display.Markdown object>"
      ]
     },
     "metadata": {},
     "output_type": "display_data"
    }
   ],
   "source": [
    "# Templating Mode\n",
    "\n",
    "    %reload_ext literacy.template\n",
    "\n",
    "Template mode users `__import__('jinja2');` to weave variables in scope into the markdown source."
   ]
  },
  {
   "cell_type": "code",
   "execution_count": 4,
   "metadata": {},
   "outputs": [
    {
     "data": {
      "text/markdown": [
       "## More readable\n",
       "\n",
       "Use the templating system to explicitly write source, rather than implicit <code>for</code> loops.\n",
       "\n",
       "    print(0); print(1); print(2); print(3); "
      ],
      "text/plain": [
       "<IPython.core.display.Markdown object>"
      ]
     },
     "metadata": {},
     "output_type": "display_data"
    },
    {
     "name": "stdout",
     "output_type": "stream",
     "text": [
      "0\n",
      "1\n",
      "2\n",
      "3\n"
     ]
    }
   ],
   "source": [
    "## More readable\n",
    "\n",
    "Use the templating system to explicitly write source, rather than implicit <code>for</code> loops.\n",
    "\n",
    "    {% for i in range(4) %}print({{i}}); {% endfor %}"
   ]
  },
  {
   "cell_type": "code",
   "execution_count": 6,
   "metadata": {},
   "outputs": [
    {
     "data": {
      "text/markdown": [
       "# Macros\n",
       "\n",
       "## yaml magic\n",
       "\n",
       "Being an indented code block with <code>---</code> to invoke yaml syntax as valid data input.  _This is great for taking notes._\n",
       "\n",
       "    ---\n",
       "    refs:\n",
       "    - roxygen.org/knuth-literate-programming.pdf\n",
       "    - https://en.wikipedia.org/wiki/Literate_programming"
      ],
      "text/plain": [
       "<IPython.core.display.Markdown object>"
      ]
     },
     "metadata": {},
     "output_type": "display_data"
    }
   ],
   "source": [
    "# Macros\n",
    "\n",
    "## yaml magic\n",
    "\n",
    "Being an indented code block with <code>---</code> to invoke yaml syntax as valid data input.  _This is great for taking notes._\n",
    "\n",
    "    ---\n",
    "    refs:\n",
    "    - roxygen.org/knuth-literate-programming.pdf\n",
    "    - https://en.wikipedia.org/wiki/Literate_programming"
   ]
  },
  {
   "cell_type": "code",
   "execution_count": 7,
   "metadata": {},
   "outputs": [
    {
     "data": {
      "text/markdown": [
       "    assert 'refs' in globals()"
      ],
      "text/plain": [
       "<IPython.core.display.Markdown object>"
      ]
     },
     "metadata": {},
     "output_type": "display_data"
    }
   ],
   "source": [
    "    assert 'refs' in globals() "
   ]
  },
  {
   "cell_type": "code",
   "execution_count": 11,
   "metadata": {},
   "outputs": [
    {
     "data": {
      "text/markdown": [
       "    import readme\n",
       "    assert readme.__file__ == 'readme.ipynb'\n",
       "    assert readme.foo is foo\n",
       "    foo = 3.14\n",
       "    assert readme.foo is not foo"
      ],
      "text/plain": [
       "<IPython.core.display.Markdown object>"
      ]
     },
     "metadata": {},
     "output_type": "display_data"
    }
   ],
   "source": [
    "    import readme\n",
    "    assert readme.__file__ == 'readme.ipynb'\n",
    "    assert readme.foo is foo\n",
    "    foo = 3.14\n",
    "    assert readme.foo is not foo"
   ]
  },
  {
   "cell_type": "markdown",
   "metadata": {},
   "source": [
    "    !jupyter nbconvert --to markdown --TemplateExporter.exclude_input=True readme.ipynb"
   ]
  },
  {
   "cell_type": "code",
   "execution_count": null,
   "metadata": {},
   "outputs": [],
   "source": []
  }
 ],
 "metadata": {
  "kernelspec": {
   "display_name": "Python 3",
   "language": "python",
   "name": "python3"
  },
  "language_info": {
   "codemirror_mode": {
    "name": "ipython",
    "version": 3
   },
   "file_extension": ".py",
   "mimetype": "text/x-python",
   "name": "python",
   "nbconvert_exporter": "python",
   "pygments_lexer": "ipython3",
   "version": "3.5.3"
  }
 },
 "nbformat": 4,
 "nbformat_minor": 2
}
