{
 "cells": [
  {
   "cell_type": "markdown",
   "metadata": {},
   "source": [
    "# __literacy__ - interactive literate programming in markdown\n",
    "\n",
    "> [`...`](http://roxygen.org/knuth-literate-programming.pdf) considering programs to works of literature. \n",
    "> _- Donald Knuth - **Literate Programming** \n",
    "\n",
    "## Installation\n",
    "\n",
    "\n",
    "    %%bash\n",
    "    pip install git+https://github.com/tonyfast/literacy"
   ]
  },
  {
   "cell_type": "markdown",
   "metadata": {},
   "source": [
    "# Literate programming mode"
   ]
  },
  {
   "cell_type": "code",
   "execution_count": 1,
   "metadata": {
    "collapsed": true
   },
   "outputs": [],
   "source": [
    "        %load_ext literacy"
   ]
  },
  {
   "cell_type": "code",
   "execution_count": 2,
   "metadata": {},
   "outputs": [
    {
     "data": {
      "text/markdown": [
       "__literacy__ allows code cells in the Jupyter notebook to execute code objects within markdown.\n",
       "All inline code objects are executed like, `print('inline')`"
      ],
      "text/plain": [
       "<IPython.core.display.Markdown object>"
      ]
     },
     "metadata": {},
     "output_type": "display_data"
    },
    {
     "name": "stdout",
     "output_type": "stream",
     "text": [
      "inline\n"
     ]
    }
   ],
   "source": [
    "__literacy__ allows code cells in the Jupyter notebook to execute code objects within markdown.\n",
    "All inline code objects are executed like, `print('inline')`"
   ]
  },
  {
   "cell_type": "code",
   "execution_count": 2,
   "metadata": {},
   "outputs": [
    {
     "data": {
      "text/markdown": [
       "### Stuff\n",
       "\n",
       "* Anything that is a file should be importable.  Literacy has rules for markdown and ipynb.\n",
       "* Merging cell makes more sense.  \n",
       "* Code and Markdown cells toggle the ability to execute.\n",
       "* Code prediction works in code cells\n",
       "* Normal error messages for single cell executions.\n",
       "\n",
       "# References"
      ],
      "text/plain": [
       "<IPython.core.display.Markdown object>"
      ]
     },
     "metadata": {},
     "output_type": "display_data"
    }
   ],
   "source": [
    "### Stuff\n",
    "\n",
    "* Anything that is a file should be importable.  Literacy has rules for markdown and ipynb.\n",
    "* Merging cell makes more sense.  \n",
    "* Code and Markdown cells toggle the ability to execute.\n",
    "* Code prediction works in code cells\n",
    "* Normal error messages for single cell executions.\n",
    "\n",
    "# References"
   ]
  },
  {
   "cell_type": "code",
   "execution_count": 6,
   "metadata": {},
   "outputs": [
    {
     "data": {
      "text/markdown": [
       "        if True and __name__ == '__main__':\n",
       "            !jupyter nbconvert --to markdown readme.ipynb\n",
       "            !jupyter nbconvert --to markdown --config docs/tconfig.py docs/*.ipynb"
      ],
      "text/plain": [
       "<IPython.core.display.Markdown object>"
      ]
     },
     "metadata": {},
     "output_type": "display_data"
    },
    {
     "name": "stdout",
     "output_type": "stream",
     "text": [
      "[NbConvertApp] Converting notebook readme.ipynb to markdown\n",
      "[NbConvertApp] Writing 2732 bytes to readme.md\n",
      "[NbConvertApp] Converting notebook docs/display-objects.ipynb to markdown\n",
      "[NbConvertApp] Executing notebook with kernel: python3\n",
      "[NbConvertApp] Writing 1703 bytes to docs/display-objects.md\n",
      "[NbConvertApp] Converting notebook docs/imports.ipynb to markdown\n",
      "[NbConvertApp] Executing notebook with kernel: python3\n",
      "[NbConvertApp] Writing 1549 bytes to docs/imports.md\n",
      "[NbConvertApp] Converting notebook docs/nbconversions.ipynb to markdown\n",
      "[NbConvertApp] Executing notebook with kernel: python3\n",
      "[NbConvertApp] Writing 1201 bytes to docs/nbconversions.md\n"
     ]
    }
   ],
   "source": [
    "        if True and __name__ == '__main__':\n",
    "            !jupyter nbconvert --to markdown readme.ipynb\n",
    "            !jupyter nbconvert --to markdown --config docs/tconfig.py docs/*.ipynb"
   ]
  },
  {
   "cell_type": "code",
   "execution_count": 1,
   "metadata": {},
   "outputs": [
    {
     "name": "stdout",
     "output_type": "stream",
     "text": [
      "[NbConvertApp] Converting notebook literacy/template.ipynb to html\n",
      "[NbConvertApp] Executing notebook with kernel: python3\n",
      "[NbConvertApp] Writing 255087 bytes to literacy/template.html\n"
     ]
    }
   ],
   "source": [
    "        !jupyter nbconvert --config config.py literacy/template.ipynb"
   ]
  },
  {
   "cell_type": "code",
   "execution_count": null,
   "metadata": {
    "collapsed": true
   },
   "outputs": [],
   "source": []
  }
 ],
 "metadata": {
  "kernelspec": {
   "display_name": "Python 3",
   "language": "python",
   "name": "python3"
  },
  "language_info": {
   "codemirror_mode": {
    "name": "ipython",
    "version": 3
   },
   "file_extension": ".py",
   "mimetype": "text/x-python",
   "name": "python",
   "nbconvert_exporter": "python",
   "pygments_lexer": "ipython3",
   "version": "3.5.3"
  }
 },
 "nbformat": 4,
 "nbformat_minor": 2
}
