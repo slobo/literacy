{
 "cells": [
  {
   "cell_type": "markdown",
   "metadata": {},
   "source": [
    "# `literacy`\n",
    "\n",
    "`%load literacy` to activate literate `code_cell`s in the `Jupyter` notebook; all Markdown code blocks and spans are evaluated by python."
   ]
  },
  {
   "cell_type": "code",
   "execution_count": 2,
   "metadata": {},
   "outputs": [],
   "source": [
    "        %load_ext literacy"
   ]
  },
  {
   "cell_type": "code",
   "execution_count": 45,
   "metadata": {},
   "outputs": [
    {
     "data": {
      "text/markdown": [
       "# Literate code cells\n",
       "\n",
       "When __literacy__ is loaded all code cells in the notebook use markdown syntax.  All code elements \n",
       "discovered in Markdown are executed by __IPython__ ...\n",
       "\n",
       "* Inline code spans are evaluated in serialize.  Define `foo=42` and \n",
       "`print(\"from an inline codespan __foo__ is '{}'\".format(foo))`\n",
       "* Block code\n",
       "    *  __*Double* Indented Code Blocks__\n",
       "    \n",
       "            foo*=10\n",
       "            print(\"foo is equal to {}\".format(foo))\n",
       "        \n",
       "    * __*Ticks*__\n",
       "\n",
       "        ```python\n",
       "        foo*=10\n",
       "        print(\"foo got bigger again 👉 {}\".format(foo))\n",
       "        ```\n",
       "\n",
       "---\n"
      ],
      "text/plain": [
       "<IPython.core.display.Markdown object>"
      ]
     },
     "metadata": {},
     "output_type": "display_data"
    },
    {
     "name": "stdout",
     "output_type": "stream",
     "text": [
      "from an inline codespan __foo__ is '42'\n",
      "foo is equal to 420\n",
      "foo got bigger again 👉 4200\n"
     ]
    }
   ],
   "source": [
    "# Literate code cells\n",
    "\n",
    "When __literacy__ is loaded all code cells in the notebook use markdown syntax.  All code elements \n",
    "discovered in Markdown are executed by __IPython__ ...\n",
    "\n",
    "* Inline code spans are evaluated in serialize.  Define `foo=42` and \n",
    "`print(\"from an inline codespan __foo__ is '{}'\".format(foo))`\n",
    "* Block code\n",
    "    *  __*Double* Indented Code Blocks__\n",
    "    \n",
    "            foo*=10\n",
    "            print(\"foo is equal to {}\".format(foo))\n",
    "        \n",
    "    * __*Ticks*__\n",
    "\n",
    "        ```python\n",
    "        foo*=10\n",
    "        print(\"foo got bigger again 👉 {}\".format(foo))\n",
    "        ```"
   ]
  },
  {
   "cell_type": "code",
   "execution_count": 46,
   "metadata": {},
   "outputs": [
    {
     "data": {
      "text/markdown": [
       "## Magics\n",
       "\n",
       "Since the codespans always evaluated as python they accept magics.\n",
       "\n",
       "### Line\n",
       "\n",
       "Initialize `%autocall 1` to remove the required for parenthesis so `print foo` works.\n",
       "\n",
       "### Cell - `rm new.txt`\n",
       "\n",
       "        %%file new.txt\n",
       "        This content is written to a file.\n",
       "        \n",
       "`assert __import__('os').path.exists('new.txt')` ⅋ `print \"This message only if the file exists.\"`\n",
       "\n",
       "---\n"
      ],
      "text/plain": [
       "<IPython.core.display.Markdown object>"
      ]
     },
     "metadata": {},
     "output_type": "display_data"
    },
    {
     "name": "stdout",
     "output_type": "stream",
     "text": [
      "Automatic calling is: Smart\n",
      "------> print(foo)\n",
      "4200\n",
      "Writing new.txt\n",
      "------> print(\"This message only if the file exists.\")\n",
      "This message only if the file exists.\n"
     ]
    }
   ],
   "source": [
    "## Magics\n",
    "\n",
    "Since the codespans always evaluated as python they accept magics.\n",
    "\n",
    "### Line\n",
    "\n",
    "Initialize `%autocall 1` to remove the required for parenthesis so `print foo` works.\n",
    "\n",
    "### Cell - `rm new.txt`\n",
    "\n",
    "        %%file new.txt\n",
    "        This content is written to a file.\n",
    "        \n",
    "`assert __import__('os').path.exists('new.txt')` ⅋ `print \"This message only if the file exists.\"`"
   ]
  },
  {
   "cell_type": "code",
   "execution_count": 47,
   "metadata": {},
   "outputs": [
    {
     "data": {
      "text/markdown": [
       "## Usage\n",
       "\n",
       "Convert this document to the readme file.\n",
       "\n",
       "            if __name__ == '__main__':\n",
       "                !jupyter nbconvert --to markdown readme.ipynb\n",
       "\n",
       "---\n"
      ],
      "text/plain": [
       "<IPython.core.display.Markdown object>"
      ]
     },
     "metadata": {},
     "output_type": "display_data"
    },
    {
     "name": "stdout",
     "output_type": "stream",
     "text": [
      "[NbConvertApp] Converting notebook readme.ipynb to markdown\n",
      "[NbConvertApp] Writing 2745 bytes to readme.md\n"
     ]
    }
   ],
   "source": [
    "## Usage\n",
    "\n",
    "Convert this document to the readme file.\n",
    "\n",
    "            if __name__ == '__main__':\n",
    "                !jupyter nbconvert --to markdown readme.ipynb"
   ]
  },
  {
   "cell_type": "code",
   "execution_count": 47,
   "metadata": {},
   "outputs": [
    {
     "data": {
      "text/markdown": [
       "## ToDo\n",
       "\n",
       "* An __nbconvert__ template for literate notebooks.\n",
       "* A toggle button for the code cells in editting and sharing modes.\n",
       "* Custom stylesheets to improve the formatting.\n",
       "\n",
       "---\n"
      ],
      "text/plain": [
       "<IPython.core.display.Markdown object>"
      ]
     },
     "metadata": {},
     "output_type": "display_data"
    }
   ],
   "source": [
    "## ToDo\n",
    "\n",
    "* An __nbconvert__ template for literate notebooks.\n",
    "* A toggle button for the code cells in editting and sharing modes.\n",
    "* Custom stylesheets to improve the formatting."
   ]
  }
 ],
 "metadata": {
  "kernelspec": {
   "display_name": "Python 3",
   "language": "python",
   "name": "python3"
  },
  "language_info": {
   "codemirror_mode": {
    "name": "ipython",
    "version": 3
   },
   "file_extension": ".py",
   "mimetype": "text/x-python",
   "name": "python",
   "nbconvert_exporter": "python",
   "pygments_lexer": "ipython3",
   "version": "3.5.3"
  }
 },
 "nbformat": 4,
 "nbformat_minor": 2
}
