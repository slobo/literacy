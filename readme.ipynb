{
 "cells": [
  {
   "cell_type": "markdown",
   "metadata": {},
   "source": [
    "# __literacy__ - interactive literate programming in markdown\n",
    "\n",
    "> [`...`](http://roxygen.org/knuth-literate-programming.pdf) considering programs to be works of literature. `...`  surely nobody wants to admit writing an _illiterate_ program.\n",
    "> - _Donald Knuth_ - **Literate Programming** "
   ]
  },
  {
   "cell_type": "markdown",
   "metadata": {},
   "source": [
    "## Installation\n",
    "\n",
    "```bash\n",
    "pip install git+https://github.com/tonyfast/literacy\n",
    "```"
   ]
  },
  {
   "cell_type": "markdown",
   "metadata": {},
   "source": [
    "# Literacy Programming Mode\n",
    "    "
   ]
  },
  {
   "cell_type": "code",
   "execution_count": 1,
   "metadata": {},
   "outputs": [],
   "source": [
    "    %reload_ext literacy"
   ]
  },
  {
   "cell_type": "code",
   "execution_count": 2,
   "metadata": {},
   "outputs": [
    {
     "data": {
      "text/markdown": [
       "---\n",
       "    import literacy\n",
       "    \n",
       "`literacy` accepts Markdown as source; the __inline__ and __indented__ code objects are concatenated into a single block of __python__ \n",
       "source code.  _All code in this block is executed._\n",
       "\n",
       "    foo = 42\n",
       "    print(foo)\n",
       "    \n",
       "---"
      ],
      "text/plain": [
       "<IPython.core.display.Markdown object>"
      ]
     },
     "metadata": {},
     "output_type": "display_data"
    },
    {
     "name": "stdout",
     "output_type": "stream",
     "text": [
      "42\n"
     ]
    }
   ],
   "source": [
    "---\n",
    "    import literacy\n",
    "    \n",
    "`literacy` accepts Markdown as source; the __inline__ and __indented__ code objects are concatenated into a single block of __python__ \n",
    "source code.  _All code in this block is executed._\n",
    "\n",
    "    foo = 42\n",
    "    print(foo)\n",
    "    \n",
    "---"
   ]
  },
  {
   "cell_type": "code",
   "execution_count": 3,
   "metadata": {},
   "outputs": [
    {
     "data": {
      "text/markdown": [
       "# Templating Mode\n",
       "\n",
       "    %reload_ext literacy.template\n",
       "\n",
       "Template mode users `__import__('jinja2');` to weave variables in scope into the markdown source."
      ],
      "text/plain": [
       "<IPython.core.display.Markdown object>"
      ]
     },
     "metadata": {},
     "output_type": "display_data"
    }
   ],
   "source": [
    "# Templating Mode\n",
    "\n",
    "    %reload_ext literacy.template\n",
    "\n",
    "Template mode users `__import__('jinja2');` to weave variables in scope into the markdown source."
   ]
  },
  {
   "cell_type": "code",
   "execution_count": 4,
   "metadata": {},
   "outputs": [
    {
     "data": {
      "text/markdown": [
       "## More readable\n",
       "\n",
       "Use the templating system to explicitly write source, rather than implicit <code>for</code> loops.\n",
       "\n",
       "    print(0); print(1); print(2); print(3); "
      ],
      "text/plain": [
       "<IPython.core.display.Markdown object>"
      ]
     },
     "metadata": {},
     "output_type": "display_data"
    },
    {
     "name": "stdout",
     "output_type": "stream",
     "text": [
      "0\n",
      "1\n",
      "2\n",
      "3\n"
     ]
    }
   ],
   "source": [
    "## More readable\n",
    "\n",
    "Use the templating system to explicitly write source, rather than implicit <code>for</code> loops.\n",
    "\n",
    "    {% for i in range(4) %}print({{i}}); {% endfor %}"
   ]
  },
  {
   "cell_type": "code",
   "execution_count": 5,
   "metadata": {},
   "outputs": [
    {
     "data": {
      "text/markdown": [
       "# Macros\n",
       "\n",
       "## yaml magic\n",
       "\n",
       "Being an indented code block with <code>---</code> to invoke yaml syntax as valid data input.  _This is great for taking notes._\n",
       "\n",
       "    ---\n",
       "    refs:\n",
       "    - roxygen.org/knuth-literate-programming.pdf\n",
       "    - https://en.wikipedia.org/wiki/Literate_programming"
      ],
      "text/plain": [
       "<IPython.core.display.Markdown object>"
      ]
     },
     "metadata": {},
     "output_type": "display_data"
    }
   ],
   "source": [
    "# Macros\n",
    "\n",
    "## yaml magic\n",
    "\n",
    "Being an indented code block with <code>---</code> to invoke yaml syntax as valid data input.  _This is great for taking notes._\n",
    "\n",
    "    ---\n",
    "    refs:\n",
    "    - roxygen.org/knuth-literate-programming.pdf\n",
    "    - https://en.wikipedia.org/wiki/Literate_programming"
   ]
  },
  {
   "cell_type": "code",
   "execution_count": 6,
   "metadata": {},
   "outputs": [
    {
     "data": {
      "text/markdown": [
       "    assert 'refs' in globals() "
      ],
      "text/plain": [
       "<IPython.core.display.Markdown object>"
      ]
     },
     "metadata": {},
     "output_type": "display_data"
    }
   ],
   "source": [
    "    assert 'refs' in globals() "
   ]
  },
  {
   "cell_type": "code",
   "execution_count": 7,
   "metadata": {},
   "outputs": [
    {
     "data": {
      "text/markdown": [
       "---\n",
       "    \n",
       "    if __name__ == '__main__':\n",
       "        \n",
       "# Importable Literate Notebooks\n",
       "\n",
       "    \n",
       "        import readme\n",
       "        \n",
       "with the following tests \n",
       "\n",
       "        assert readme.__file__ == 'readme.ipynb'\n",
       "        assert readme.foo is foo\n",
       "        foo = 3.14\n",
       "        assert readme.foo is not foo\n",
       "        \n",
       "\n",
       "---\n",
       "\n",
       "_`literacy;` makes it possible to import any notebook._\n",
       "\n",
       "---"
      ],
      "text/plain": [
       "<IPython.core.display.Markdown object>"
      ]
     },
     "metadata": {},
     "output_type": "display_data"
    },
    {
     "name": "stdout",
     "output_type": "stream",
     "text": [
      "42\n",
      "0\n",
      "1\n",
      "2\n",
      "3\n"
     ]
    },
    {
     "name": "stderr",
     "output_type": "stream",
     "text": [
      "[NbConvertApp] Converting notebook readme.ipynb to markdown\n",
      "[NbConvertApp] Writing 4976 bytes to readme.md\n"
     ]
    }
   ],
   "source": [
    "---\n",
    "    \n",
    "    if __name__ == '__main__':\n",
    "        \n",
    "# Importable Literate Notebooks\n",
    "\n",
    "    \n",
    "        import readme\n",
    "        \n",
    "with the following tests \n",
    "\n",
    "        assert readme.__file__ == 'readme.ipynb'\n",
    "        assert readme.foo is foo\n",
    "        foo = 3.14\n",
    "        assert readme.foo is not foo\n",
    "        \n",
    "\n",
    "---\n",
    "\n",
    "_`literacy;` makes it possible to import any notebook._\n",
    "\n",
    "---"
   ]
  },
  {
   "cell_type": "code",
   "execution_count": 14,
   "metadata": {},
   "outputs": [
    {
     "data": {
      "text/markdown": [
       "# Nbconvert\n",
       "\n",
       "`literacy;` complies with the __nbconvert__ converters.  A successful use of literate programming will require the input cells to be suppressed\n",
       "\n",
       "```%%bash\n",
       "jupyter nbconvert --to markdown --TemplateExporter.exclude_input=True readme.ipynb\n",
       "```\n",
       "\n",
       "add the <code>--execute</code> flag to execute the notebook before it is converted."
      ],
      "text/plain": [
       "<IPython.core.display.Markdown object>"
      ]
     },
     "metadata": {},
     "output_type": "display_data"
    },
    {
     "name": "stderr",
     "output_type": "stream",
     "text": [
      "[NbConvertApp] Converting notebook readme.ipynb to markdown\n",
      "[NbConvertApp] Writing 2192 bytes to readme.md\n"
     ]
    }
   ],
   "source": [
    "# Nbconvert\n",
    "\n",
    "`literacy;` complies with the __nbconvert__ converters.  A successful use of literate programming will require the input cells to be suppressed\n",
    "\n",
    "```%%bash\n",
    "jupyter nbconvert --to markdown --TemplateExporter.exclude_input=True readme.ipynb\n",
    "```\n",
    "\n",
    "add the <code>--execute</code> flag to execute the notebook before it is converted."
   ]
  },
  {
   "cell_type": "code",
   "execution_count": null,
   "metadata": {},
   "outputs": [],
   "source": []
  }
 ],
 "metadata": {
  "kernelspec": {
   "display_name": "Python 3",
   "language": "python",
   "name": "python3"
  },
  "language_info": {
   "codemirror_mode": {
    "name": "ipython",
    "version": 3
   },
   "file_extension": ".py",
   "mimetype": "text/x-python",
   "name": "python",
   "nbconvert_exporter": "python",
   "pygments_lexer": "ipython3",
   "version": "3.5.3"
  }
 },
 "nbformat": 4,
 "nbformat_minor": 2
}
