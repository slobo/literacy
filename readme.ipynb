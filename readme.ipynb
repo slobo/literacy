{
 "cells": [
  {
   "cell_type": "markdown",
   "metadata": {},
   "source": [
    "# __literacy__ - interactive literate programming in markdown\n",
    "\n",
    "> [`...`](http://roxygen.org/knuth-literate-programming.pdf) considering programs to works of literature. `...`  surely nobody wants to admit writing an _illiterate_ program.\n",
    "> - _Donald Knuth_ - **Literate Programming** \n",
    "\n",
    "## Installation\n",
    "\n",
    "\n",
    "    %%bash\n",
    "    pip install git+https://github.com/tonyfast/literacy\n",
    "    \n",
    "### Activate literacy"
   ]
  },
  {
   "cell_type": "code",
   "execution_count": 1,
   "metadata": {},
   "outputs": [],
   "source": [
    "    %load_ext literacy"
   ]
  },
  {
   "cell_type": "code",
   "execution_count": 1,
   "metadata": {},
   "outputs": [
    {
     "data": {
      "text/markdown": [
       "Literacy transforms all code cells to interactive blocks of markdown.  When a cell is executed:\n",
       "    \n",
       "1. The code blocks are __tangled__ from the markdown source.\n",
       "2. The source code is __woven__, sometimes through a __jinja2__ template, then displayed as a markdown object[]\n",
       "\n",
       "> Cells without code blocks do not increment the input number."
      ],
      "text/plain": [
       "<IPython.core.display.Markdown object>"
      ]
     },
     "metadata": {},
     "output_type": "display_data"
    }
   ],
   "source": [
    "Literacy transforms all code cells to interactive blocks of markdown.  When a cell is executed:\n",
    "    \n",
    "1. The code blocks are __tangled__ from the markdown source.\n",
    "2. The source code is __woven__, sometimes through a __jinja2__ template, then displayed as a markdown object[]\n",
    "\n",
    "> Cells without code blocks do not increment the input number."
   ]
  },
  {
   "cell_type": "code",
   "execution_count": 10,
   "metadata": {},
   "outputs": [
    {
     "data": {
      "text/markdown": [
       "In iteractive literate mode, all inline code cells, like `print('inline')`, and code blocks\n",
       "\n",
       "    print('block code')\n",
       "    \n",
       "are concatenated as python and executed.\n",
       "    \n",
       "Compose functions in markdown...\n",
       "    \n",
       "    def foo(a): \n",
       "        b = 42*a\n",
       "and add annotations in between lines of code.\n",
       "        return 42*a"
      ],
      "text/plain": [
       "<IPython.core.display.Markdown object>"
      ]
     },
     "metadata": {},
     "output_type": "display_data"
    },
    {
     "name": "stdout",
     "output_type": "stream",
     "text": [
      "inline\n",
      "block code\n"
     ]
    }
   ],
   "source": [
    "In iteractive literate mode, all inline code cells, like `print('inline')`, and code blocks\n",
    "\n",
    "    print('block code')\n",
    "    \n",
    "are concatenated as python and executed.\n",
    "    \n",
    "Compose functions in markdown...\n",
    "    \n",
    "    def foo(a): \n",
    "        b = 42*a\n",
    "and add annotations in between lines of code.\n",
    "        return 42*a"
   ]
  },
  {
   "cell_type": "code",
   "execution_count": 2,
   "metadata": {},
   "outputs": [
    {
     "data": {
      "text/markdown": [
       "## [Importing Literate Notebooks](docs/imports.md)."
      ],
      "text/plain": [
       "<IPython.core.display.Markdown object>"
      ]
     },
     "metadata": {},
     "output_type": "display_data"
    }
   ],
   "source": [
    "## [Importing Literate Notebooks](docs/imports.md)."
   ]
  },
  {
   "cell_type": "code",
   "execution_count": 2,
   "metadata": {},
   "outputs": [
    {
     "data": {
      "text/markdown": [
       "## [Converting and Executing Literate Notebooks](docs/display-objects.md)."
      ],
      "text/plain": [
       "<IPython.core.display.Markdown object>"
      ]
     },
     "metadata": {},
     "output_type": "display_data"
    }
   ],
   "source": [
    "## [Converting and Executing Literate Notebooks](docs/display-objects.md)."
   ]
  },
  {
   "cell_type": "code",
   "execution_count": 3,
   "metadata": {},
   "outputs": [
    {
     "data": {
      "text/markdown": [
       "## Macros\n",
       "\n",
       "__macros__ hide abstractions.  `import literacy` has a few simples __macros__, or rules."
      ],
      "text/plain": [
       "<IPython.core.display.Markdown object>"
      ]
     },
     "metadata": {},
     "output_type": "display_data"
    }
   ],
   "source": [
    "## Macros\n",
    "\n",
    "__macros__ hide abstractions.  `import literacy` has a few simples __macros__, or rules."
   ]
  },
  {
   "cell_type": "code",
   "execution_count": 4,
   "metadata": {},
   "outputs": [
    {
     "data": {
      "text/markdown": [
       "### Files\n",
       "\n",
       "Simply place a local filename in a code cell to render it as markdown.\n",
       "\n",
       "    %%file test.md\n",
       "    ###### I am going to be __*imported*__"
      ],
      "text/plain": [
       "<IPython.core.display.Markdown object>"
      ]
     },
     "metadata": {},
     "output_type": "display_data"
    },
    {
     "name": "stdout",
     "output_type": "stream",
     "text": [
      "Overwriting test.md\n"
     ]
    }
   ],
   "source": [
    "### Files\n",
    "\n",
    "Simply place a local filename in a code cell to render it as markdown.\n",
    "\n",
    "    %%file test.md\n",
    "    ###### I am going to be __*imported*__"
   ]
  },
  {
   "cell_type": "code",
   "execution_count": 4,
   "metadata": {},
   "outputs": [
    {
     "data": {
      "text/markdown": [
       "###### I am going to be __*imported*__"
      ],
      "text/plain": [
       "<IPython.core.display.Markdown object>"
      ]
     },
     "metadata": {},
     "output_type": "display_data"
    }
   ],
   "source": [
    "test.md"
   ]
  },
  {
   "cell_type": "code",
   "execution_count": 4,
   "metadata": {},
   "outputs": [
    {
     "data": {
      "text/markdown": [
       "### Urls\n",
       "\n",
       "Place a url in the code cell to show a webiste as an <code>iframe</code>."
      ],
      "text/plain": [
       "<IPython.core.display.Markdown object>"
      ]
     },
     "metadata": {},
     "output_type": "display_data"
    }
   ],
   "source": [
    "### Urls\n",
    "\n",
    "Place a url in the code cell to show a webiste as an <code>iframe</code>."
   ]
  },
  {
   "cell_type": "code",
   "execution_count": 5,
   "metadata": {},
   "outputs": [
    {
     "data": {
      "text/markdown": [
       "### Escaping Output\n",
       "\n",
       "Begin a code cell with a blank to suppress output.\n",
       "\n",
       "\n",
       "#### Motivation\n",
       "\n",
       "Literate programming with Markdown encourages code blocks to have a single indent.  In IPython \n",
       "code cells a new line + a tab returns an `IndentationError`:\n",
       "    \n",
       "    try:\n",
       "        eval(\"\"\"\\n\\tprint('👎')\"\"\")\n",
       "    except IndentationError:\n",
       "        \n",
       "while removing the tab is allowed.\n",
       "    \n",
       "        eval(\"\"\"\\nprint('👍')\"\"\")\n",
       "        \n",
       "        \n",
       "The blank line opinion makes it more difficult to activate an `IndentationError`."
      ],
      "text/plain": [
       "<IPython.core.display.Markdown object>"
      ]
     },
     "metadata": {},
     "output_type": "display_data"
    },
    {
     "name": "stdout",
     "output_type": "stream",
     "text": [
      "👍\n"
     ]
    }
   ],
   "source": [
    "### Escaping Output\n",
    "\n",
    "Begin a code cell with a blank to suppress output.\n",
    "\n",
    "\n",
    "#### Motivation\n",
    "\n",
    "Literate programming with Markdown encourages code blocks to have a single indent.  In IPython \n",
    "code cells a new line + a tab returns an `IndentationError`:\n",
    "    \n",
    "    try:\n",
    "        eval(\"\"\"\\n\\tprint('👎')\"\"\")\n",
    "    except IndentationError:\n",
    "        \n",
    "while removing the tab is allowed.\n",
    "    \n",
    "        eval(\"\"\"\\nprint('👍')\"\"\")\n",
    "        \n",
    "        \n",
    "The blank line opinion makes it more difficult to activate an `IndentationError`."
   ]
  },
  {
   "cell_type": "code",
   "execution_count": 6,
   "metadata": {},
   "outputs": [
    {
     "name": "stdout",
     "output_type": "stream",
     "text": [
      "code\n"
     ]
    }
   ],
   "source": [
    "\n",
    "# You'll never see me, but I can still `print('code')`"
   ]
  },
  {
   "cell_type": "code",
   "execution_count": 9,
   "metadata": {},
   "outputs": [
    {
     "data": {
      "text/markdown": [
       "    !jupyter nbconvert --to markdown --config docs/config.py readme.ipynb\n",
       "    !jupyter nbconvert --to markdown --config docs/tconfig.py docs/*.ipynb"
      ],
      "text/plain": [
       "<IPython.core.display.Markdown object>"
      ]
     },
     "metadata": {},
     "output_type": "display_data"
    },
    {
     "name": "stdout",
     "output_type": "stream",
     "text": [
      "[NbConvertApp] Converting notebook readme.ipynb to markdown\n",
      "[NbConvertApp] Executing notebook with kernel: python3\n",
      "[NbConvertApp] ERROR | Error while converting 'readme.ipynb'\n",
      "Traceback (most recent call last):\n",
      "  File \"/Users/tonyfast/anaconda/lib/python3.5/site-packages/nbconvert/nbconvertapp.py\", line 381, in export_single_notebook\n",
      "    output, resources = self.exporter.from_filename(notebook_filename, resources=resources)\n",
      "  File \"/Users/tonyfast/anaconda/lib/python3.5/site-packages/nbconvert/exporters/exporter.py\", line 172, in from_filename\n",
      "    return self.from_file(f, resources=resources, **kw)\n",
      "  File \"/Users/tonyfast/anaconda/lib/python3.5/site-packages/nbconvert/exporters/exporter.py\", line 190, in from_file\n",
      "    return self.from_notebook_node(nbformat.read(file_stream, as_version=4), resources=resources, **kw)\n",
      "  File \"/Users/tonyfast/anaconda/lib/python3.5/site-packages/nbconvert/exporters/templateexporter.py\", line 268, in from_notebook_node\n",
      "    nb_copy, resources = super(TemplateExporter, self).from_notebook_node(nb, resources, **kw)\n",
      "  File \"/Users/tonyfast/anaconda/lib/python3.5/site-packages/nbconvert/exporters/exporter.py\", line 132, in from_notebook_node\n",
      "    nb_copy, resources = self._preprocess(nb_copy, resources)\n",
      "  File \"/Users/tonyfast/anaconda/lib/python3.5/site-packages/nbconvert/exporters/exporter.py\", line 309, in _preprocess\n",
      "    nbc, resc = preprocessor(nbc, resc)\n",
      "  File \"/Users/tonyfast/anaconda/lib/python3.5/site-packages/nbconvert/preprocessors/base.py\", line 47, in __call__\n",
      "    return self.preprocess(nb,resources)\n",
      "  File \"/Users/tonyfast/anaconda/lib/python3.5/site-packages/nbconvert/preprocessors/execute.py\", line 242, in preprocess\n",
      "    nb, resources = super(ExecutePreprocessor, self).preprocess(nb, resources)\n",
      "  File \"/Users/tonyfast/anaconda/lib/python3.5/site-packages/nbconvert/preprocessors/base.py\", line 70, in preprocess\n",
      "    nb.cells[index], resources = self.preprocess_cell(cell, resources, index)\n",
      "  File \"/Users/tonyfast/anaconda/lib/python3.5/site-packages/nbconvert/preprocessors/execute.py\", line 275, in preprocess_cell\n",
      "    raise CellExecutionError(msg)\n",
      "nbconvert.preprocessors.execute.CellExecutionError: An error occurred while executing the following cell:\n",
      "------------------\n",
      "\n",
      "# coding: utf-8\n",
      "\n",
      "# In[ ]:\n",
      "\n",
      "\n",
      "print('inline')\n",
      "print('block code')\n",
      "\n",
      "\n",
      "def foo(a):\n",
      "    b = 42*a\n",
      "\n",
      "\n",
      "    return 42*a\n",
      "\n",
      "\n",
      "------------------\n",
      "\n",
      "SyntaxError: 'return' outside function (<ipython-input-2-083e2d18f9c8>, line 7)\n",
      "\n",
      "[NbConvertApp] Converting notebook docs/display-objects.ipynb to markdown\n",
      "[NbConvertApp] Executing notebook with kernel: python3\n",
      "[NbConvertApp] Writing 1703 bytes to docs/display-objects.md\n",
      "[NbConvertApp] Converting notebook docs/imports.ipynb to markdown\n",
      "[NbConvertApp] Executing notebook with kernel: python3\n",
      "[NbConvertApp] Writing 1549 bytes to docs/imports.md\n",
      "[NbConvertApp] Converting notebook docs/nbconversions.ipynb to markdown\n",
      "[NbConvertApp] Executing notebook with kernel: python3\n",
      "[NbConvertApp] Writing 1201 bytes to docs/nbconversions.md\n"
     ]
    }
   ],
   "source": [
    "    !jupyter nbconvert --to markdown --TemplateExporter.exclude_input=True readme.ipynb\n",
    "    !jupyter nbconvert --to markdown --config docs/tconfig.py docs/*.ipynb"
   ]
  }
 ],
 "metadata": {
  "kernelspec": {
   "display_name": "Python 3",
   "language": "python",
   "name": "python3"
  },
  "language_info": {
   "codemirror_mode": {
    "name": "ipython",
    "version": 3
   },
   "file_extension": ".py",
   "mimetype": "text/x-python",
   "name": "python",
   "nbconvert_exporter": "python",
   "pygments_lexer": "ipython3",
   "version": "3.5.3"
  }
 },
 "nbformat": 4,
 "nbformat_minor": 2
}
