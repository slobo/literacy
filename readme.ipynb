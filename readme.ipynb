{
 "cells": [
  {
   "cell_type": "markdown",
   "metadata": {},
   "source": [
    "# __literacy__ - interactive literate programming in markdown\n",
    "\n",
    "> [`...`](http://roxygen.org/knuth-literate-programming.pdf) considering programs to be works of literature. `...`  surely nobody wants to admit writing an _illiterate_ program.\n",
    "> - _Donald Knuth_ - **Literate Programming** \n",
    "\n",
    "## Installation\n",
    "\n",
    "\n",
    "    %%bash\n",
    "    pip install git+https://github.com/tonyfast/literacy\n",
    "    "
   ]
  },
  {
   "cell_type": "markdown",
   "metadata": {},
   "source": [
    "# Literate Markdown Mode\n",
    "\n",
    "        %load_ext literacy"
   ]
  },
  {
   "cell_type": "code",
   "execution_count": 1,
   "metadata": {},
   "outputs": [],
   "source": [
    "%load_ext literacy"
   ]
  },
  {
   "cell_type": "code",
   "execution_count": 2,
   "metadata": {},
   "outputs": [
    {
     "data": {
      "text/markdown": [
       "## Literate Code Cells\n",
       "\n",
       "__Literate code cells__ accept markdown as valid source code in the notebook.  All code spans\n",
       "line `print('Inline Code')` and block code\n",
       "\n",
       "    x = 42\n",
       "    print(\"\"\"\n",
       "    A block of code where `x` is {}\n",
       "    \"\"\".format(x))\n",
       "    \n",
       "---"
      ],
      "text/plain": [
       "<IPython.core.display.Markdown object>"
      ]
     },
     "metadata": {},
     "output_type": "display_data"
    },
    {
     "name": "stdout",
     "output_type": "stream",
     "text": [
      "Inline Code\n",
      "\n",
      "A block of code where `x` is 42\n",
      "\n"
     ]
    }
   ],
   "source": [
    "## Literate Code Cells\n",
    "\n",
    "__Literate code cells__ accept markdown as valid source code in the notebook.  All code spans\n",
    "line `print('Inline Code')` and block code\n",
    "\n",
    "    x = 42\n",
    "    print(\"\"\"\n",
    "    A block of code where `x` is {}\n",
    "    \"\"\".format(x))\n",
    "    \n",
    "---"
   ]
  },
  {
   "cell_type": "code",
   "execution_count": 3,
   "metadata": {},
   "outputs": [
    {
     "data": {
      "text/markdown": [
       "    %reload_ext literacy.template"
      ],
      "text/plain": [
       "<IPython.core.display.Markdown object>"
      ]
     },
     "metadata": {},
     "output_type": "display_data"
    }
   ],
   "source": [
    "    %reload_ext literacy.template"
   ]
  },
  {
   "cell_type": "code",
   "execution_count": 4,
   "metadata": {},
   "outputs": [
    {
     "data": {
      "text/markdown": [
       "    x = 100"
      ],
      "text/plain": [
       "<IPython.core.display.Markdown object>"
      ]
     },
     "metadata": {},
     "output_type": "display_data"
    }
   ],
   "source": [
    "    x = 100"
   ]
  },
  {
   "cell_type": "code",
   "execution_count": 5,
   "metadata": {},
   "outputs": [
    {
     "data": {
      "text/markdown": [
       "100"
      ],
      "text/plain": [
       "<IPython.core.display.Markdown object>"
      ]
     },
     "metadata": {},
     "output_type": "display_data"
    }
   ],
   "source": [
    "{{x}}"
   ]
  },
  {
   "cell_type": "code",
   "execution_count": 6,
   "metadata": {},
   "outputs": [
    {
     "data": {
      "text/markdown": [
       "    %reload_ext literacy"
      ],
      "text/plain": [
       "<IPython.core.display.Markdown object>"
      ]
     },
     "metadata": {},
     "output_type": "display_data"
    }
   ],
   "source": [
    "    %reload_ext literacy"
   ]
  },
  {
   "cell_type": "code",
   "execution_count": 7,
   "metadata": {},
   "outputs": [
    {
     "data": {
      "text/markdown": [
       "{{x}}"
      ],
      "text/plain": [
       "<IPython.core.display.Markdown object>"
      ]
     },
     "metadata": {},
     "output_type": "display_data"
    }
   ],
   "source": [
    "{{x}}"
   ]
  },
  {
   "cell_type": "code",
   "execution_count": null,
   "metadata": {
    "collapsed": true
   },
   "outputs": [],
   "source": [
    "In __template mode__, "
   ]
  },
  {
   "cell_type": "code",
   "execution_count": 1,
   "metadata": {
    "collapsed": true
   },
   "outputs": [],
   "source": [
    "import literacy.template # load the literacy magic with import.  load_ext is for the run_cell method."
   ]
  },
  {
   "cell_type": "code",
   "execution_count": 2,
   "metadata": {},
   "outputs": [
    {
     "data": {
      "text/markdown": [
       "# The `literacy` magic \n",
       "\n",
       "This cell magic tangles markdown code elements into executable code.\n",
       "\n",
       "    print(\"I am code.\")"
      ],
      "text/plain": [
       "<IPython.core.display.Markdown object>"
      ]
     },
     "metadata": {},
     "output_type": "display_data"
    },
    {
     "name": "stdout",
     "output_type": "stream",
     "text": [
      "I am code.\n"
     ]
    }
   ],
   "source": [
    "%%literate\n",
    "# The `literacy` magic \n",
    "\n",
    "This cell magic tangles markdown code elements into executable code.\n",
    "\n",
    "    print(\"I am code.\")"
   ]
  },
  {
   "cell_type": "code",
   "execution_count": 3,
   "metadata": {},
   "outputs": [
    {
     "data": {
      "text/markdown": [
       "Template the markdown `assert __import__('jinja2')` syntax. For example, `...`\n",
       "\n",
       "    print(4)\n",
       "    print(5)\n",
       "    print(6)\n",
       "    "
      ],
      "text/plain": [
       "<IPython.core.display.Markdown object>"
      ]
     },
     "metadata": {},
     "output_type": "display_data"
    },
    {
     "name": "stdout",
     "output_type": "stream",
     "text": [
      "4\n",
      "5\n",
      "6\n"
     ]
    }
   ],
   "source": [
    "%%template\n",
    "Template the markdown `assert __import__('jinja2')` syntax. For example, `...`\n",
    "\n",
    "    {% for i in range(4,7) %}print({{i}})\n",
    "    {% endfor %}"
   ]
  },
  {
   "cell_type": "markdown",
   "metadata": {},
   "source": [
    "# Interactive Literate Programming as a default"
   ]
  },
  {
   "cell_type": "code",
   "execution_count": 4,
   "metadata": {
    "collapsed": true
   },
   "outputs": [],
   "source": [
    "%load_ext literacy"
   ]
  },
  {
   "cell_type": "code",
   "execution_count": 4,
   "metadata": {},
   "outputs": [
    {
     "data": {
      "text/markdown": [
       "Literacy transforms all code cells to interactive blocks of markdown.  When a cell is executed:\n",
       "    \n",
       "1. The code blocks are __tangled__ from the markdown source.\n",
       "2. The source code is __woven__, sometimes through a __jinja2__ template, then displayed as a markdown object[]\n",
       "\n",
       "> Cells without code blocks do not increment the input number."
      ],
      "text/plain": [
       "<IPython.core.display.Markdown object>"
      ]
     },
     "metadata": {},
     "output_type": "display_data"
    }
   ],
   "source": [
    "Literacy transforms all code cells to interactive blocks of markdown.  When a cell is executed:\n",
    "    \n",
    "1. The code blocks are __tangled__ from the markdown source.\n",
    "2. The source code is __woven__, sometimes through a __jinja2__ template, then displayed as a markdown object[]\n",
    "\n",
    "> Cells without code blocks do not increment the input number."
   ]
  },
  {
   "cell_type": "code",
   "execution_count": 5,
   "metadata": {},
   "outputs": [
    {
     "data": {
      "text/markdown": [
       "In iteractive literate mode, all inline code cells, like `print('inline')`, and code blocks\n",
       "\n",
       "    print('block code')\n",
       "    \n",
       "are concatenated as python and executed.\n",
       "    \n",
       "Compose functions in markdown...\n",
       "    \n",
       "    def foo(a): \n",
       "        b = 42*a\n",
       "and add annotations in between lines of code.\n",
       "        \n",
       "        return b"
      ],
      "text/plain": [
       "<IPython.core.display.Markdown object>"
      ]
     },
     "metadata": {},
     "output_type": "display_data"
    },
    {
     "name": "stdout",
     "output_type": "stream",
     "text": [
      "inline\n",
      "block code\n"
     ]
    }
   ],
   "source": [
    "In iteractive literate mode, all inline code cells, like `print('inline')`, and code blocks\n",
    "\n",
    "    print('block code')\n",
    "    \n",
    "are concatenated as python and executed.\n",
    "    \n",
    "Compose functions in markdown...\n",
    "    \n",
    "    def foo(a): \n",
    "        b = 42*a\n",
    "and add annotations in between lines of code.\n",
    "        \n",
    "        return b"
   ]
  },
  {
   "cell_type": "code",
   "execution_count": 5,
   "metadata": {},
   "outputs": [
    {
     "data": {
      "text/markdown": [
       "### Considerations\n",
       "\n",
       "In literate programming mode all cells are markdown cells.  Code cells have a binary option\n",
       "of being 🔛 or 📴 where the cell is rendered as basic markdown."
      ],
      "text/plain": [
       "<IPython.core.display.Markdown object>"
      ]
     },
     "metadata": {},
     "output_type": "display_data"
    }
   ],
   "source": [
    "### Considerations\n",
    "\n",
    "In literate programming mode all cells are markdown cells.  Code cells have a binary option\n",
    "of being 🔛 or 📴 where the cell is rendered as basic markdown."
   ]
  },
  {
   "cell_type": "code",
   "execution_count": 6,
   "metadata": {},
   "outputs": [
    {
     "data": {
      "text/markdown": [
       "## Templating Mode\n",
       "\n",
       "    %load_ext literacy.template\n",
       "    \n",
       "Templating mode passes the markdown source through a `__import__('jinja2').Template` before \n",
       "the tangling and weaving steps.  The template has access to variables in `globals;` and the\n",
       "IPython user namespace. "
      ],
      "text/plain": [
       "<IPython.core.display.Markdown object>"
      ]
     },
     "metadata": {},
     "output_type": "display_data"
    }
   ],
   "source": [
    "## Templating Mode\n",
    "\n",
    "    %load_ext literacy.template\n",
    "    \n",
    "Templating mode passes the markdown source through a `__import__('jinja2').Template` before \n",
    "the tangling and weaving steps.  The template has access to variables in `globals;` and the\n",
    "IPython user namespace. "
   ]
  },
  {
   "cell_type": "code",
   "execution_count": 7,
   "metadata": {},
   "outputs": [
    {
     "data": {
      "text/markdown": [
       "### Template Example\n",
       "\n",
       "#### A question about typography?\n",
       "\n",
       "Which rendered code is preferable for teaching a new programmer?\n",
       "\n",
       "##### Python <code>for</code> loops?\n",
       "    \n",
       "    for i in range(5): foo(i)\n",
       "      \n",
       "##### A block of literal code?\n",
       "\n",
       "    foo(0)\n",
       "    foo(1)\n",
       "    foo(2)\n",
       "    foo(3)\n",
       "    foo(4)\n",
       "    \n",
       "    \n",
       "    \n",
       "#### Template Scope\n",
       "\n",
       "The code above has access to `foo;` defined previously.  A notebook should restart and run all, \n",
       "in template mode all variables used in templates must be defined in a prior cell.  Consider \n",
       "`b=False`, `assert ~b` is available to the python scope not the jinja scope."
      ],
      "text/plain": [
       "<IPython.core.display.Markdown object>"
      ]
     },
     "metadata": {},
     "output_type": "display_data"
    }
   ],
   "source": [
    "### Template Example\n",
    "\n",
    "#### A question about typography?\n",
    "\n",
    "Which rendered code is preferable for teaching a new programmer?\n",
    "\n",
    "##### Python <code>for</code> loops?\n",
    "    \n",
    "    for i in range(5): foo(i)\n",
    "      \n",
    "##### A block of literal code?\n",
    "\n",
    "    {% for i in range(5) %}foo({{i}})\n",
    "    {% endfor %}\n",
    "    \n",
    "    \n",
    "#### Template Scope\n",
    "\n",
    "The code above has access to `foo;` defined previously.  A notebook should restart and run all, \n",
    "in template mode all variables used in templates must be defined in a prior cell.  Consider \n",
    "`b=False`, `assert ~b` is available to the python scope not the jinja scope.\n"
   ]
  },
  {
   "cell_type": "code",
   "execution_count": 7,
   "metadata": {},
   "outputs": [
    {
     "data": {
      "text/markdown": [
       "## [Importing Literate Notebooks](docs/imports.md).\n",
       "\n",
       "All literacy notebooks including templated notebooks are importable if they are run-all-able."
      ],
      "text/plain": [
       "<IPython.core.display.Markdown object>"
      ]
     },
     "metadata": {},
     "output_type": "display_data"
    }
   ],
   "source": [
    "## [Importing Literate Notebooks](docs/imports.md).\n",
    "\n",
    "All literacy notebooks including templated notebooks are importable if they are run-all-able."
   ]
  },
  {
   "cell_type": "code",
   "execution_count": 7,
   "metadata": {},
   "outputs": [
    {
     "data": {
      "text/markdown": [
       "## [Converting and Executing Literate Notebooks](docs/display-objects.md)."
      ],
      "text/plain": [
       "<IPython.core.display.Markdown object>"
      ]
     },
     "metadata": {},
     "output_type": "display_data"
    }
   ],
   "source": [
    "## [Converting and Executing Literate Notebooks](docs/display-objects.md)."
   ]
  },
  {
   "cell_type": "code",
   "execution_count": 8,
   "metadata": {},
   "outputs": [
    {
     "data": {
      "text/markdown": [
       "## Macros\n",
       "\n",
       "__macros__ hide abstractions.  `import literacy` has a few simples __macros__, or rules."
      ],
      "text/plain": [
       "<IPython.core.display.Markdown object>"
      ]
     },
     "metadata": {},
     "output_type": "display_data"
    }
   ],
   "source": [
    "## Macros\n",
    "\n",
    "__macros__ hide abstractions.  `import literacy` has a few simples __macros__, or rules."
   ]
  },
  {
   "cell_type": "code",
   "execution_count": 9,
   "metadata": {},
   "outputs": [
    {
     "data": {
      "text/markdown": [
       "### Files\n",
       "\n",
       "Simply place a local filename in a code cell to render it as markdown.\n",
       "\n",
       "    %%file test.md\n",
       "    ###### I am going to be __*imported*__"
      ],
      "text/plain": [
       "<IPython.core.display.Markdown object>"
      ]
     },
     "metadata": {},
     "output_type": "display_data"
    },
    {
     "name": "stdout",
     "output_type": "stream",
     "text": [
      "Overwriting test.md\n"
     ]
    }
   ],
   "source": [
    "### Files\n",
    "\n",
    "Simply place a local filename in a code cell to render it as markdown.\n",
    "\n",
    "    %%file test.md\n",
    "    ###### I am going to be __*imported*__"
   ]
  },
  {
   "cell_type": "code",
   "execution_count": 9,
   "metadata": {},
   "outputs": [
    {
     "data": {
      "text/markdown": [
       "###### I am going to be __*imported*__"
      ],
      "text/plain": [
       "<IPython.core.display.Markdown object>"
      ]
     },
     "metadata": {},
     "output_type": "display_data"
    }
   ],
   "source": [
    "test.md"
   ]
  },
  {
   "cell_type": "code",
   "execution_count": 9,
   "metadata": {},
   "outputs": [
    {
     "data": {
      "text/markdown": [
       "### Urls\n",
       "\n",
       "Place a url in the code cell to show a webiste as an <code>iframe</code>."
      ],
      "text/plain": [
       "<IPython.core.display.Markdown object>"
      ]
     },
     "metadata": {},
     "output_type": "display_data"
    }
   ],
   "source": [
    "### Urls\n",
    "\n",
    "Place a url in the code cell to show a webiste as an <code>iframe</code>."
   ]
  },
  {
   "cell_type": "code",
   "execution_count": 9,
   "metadata": {},
   "outputs": [
    {
     "data": {
      "text/markdown": [
       "### Escaping Output\n",
       "\n",
       "Begin a code cell with a blank to suppress output."
      ],
      "text/plain": [
       "<IPython.core.display.Markdown object>"
      ]
     },
     "metadata": {},
     "output_type": "display_data"
    }
   ],
   "source": [
    "### Escaping Output\n",
    "\n",
    "Begin a code cell with a blank to suppress output."
   ]
  },
  {
   "cell_type": "code",
   "execution_count": 10,
   "metadata": {},
   "outputs": [
    {
     "name": "stdout",
     "output_type": "stream",
     "text": [
      "code\n"
     ]
    }
   ],
   "source": [
    "\n",
    "# You'll never see me, but I can still `print('code')`"
   ]
  },
  {
   "cell_type": "code",
   "execution_count": 11,
   "metadata": {},
   "outputs": [
    {
     "data": {
      "text/markdown": [
       "#### Motivation\n",
       "\n",
       "Literate programming with Markdown encourages code blocks to have a single indent.  In IPython \n",
       "code cells a new line + a tab returns an `IndentationError`:\n",
       "    \n",
       "    try:\n",
       "        eval(\"\"\"\\n\\tprint('👎')\"\"\")\n",
       "    except IndentationError:\n",
       "        \n",
       "while removing the tab is allowed.\n",
       "    \n",
       "        eval(\"\"\"\\nprint('👍')\"\"\")\n",
       "        \n",
       "        \n",
       "The blank line opinion makes it more difficult to activate an `IndentationError`."
      ],
      "text/plain": [
       "<IPython.core.display.Markdown object>"
      ]
     },
     "metadata": {},
     "output_type": "display_data"
    },
    {
     "name": "stdout",
     "output_type": "stream",
     "text": [
      "👍\n"
     ]
    }
   ],
   "source": [
    "#### Motivation\n",
    "\n",
    "Literate programming with Markdown encourages code blocks to have a single indent.  In IPython \n",
    "code cells a new line + a tab returns an `IndentationError`:\n",
    "    \n",
    "    try:\n",
    "        eval(\"\"\"\\n\\tprint('👎')\"\"\")\n",
    "    except IndentationError:\n",
    "        \n",
    "while removing the tab is allowed.\n",
    "    \n",
    "        eval(\"\"\"\\nprint('👍')\"\"\")\n",
    "        \n",
    "        \n",
    "The blank line opinion makes it more difficult to activate an `IndentationError`."
   ]
  },
  {
   "cell_type": "code",
   "execution_count": 11,
   "metadata": {},
   "outputs": [
    {
     "data": {
      "text/markdown": [
       "### Escaping Code\n",
       "\n",
       "All markdown code blocks are executed, but html code blocks can be used to ignore code, or \n",
       "use python comments.\n",
       "\n",
       "<code>this code ain't gonna get run.</code>"
      ],
      "text/plain": [
       "<IPython.core.display.Markdown object>"
      ]
     },
     "metadata": {},
     "output_type": "display_data"
    }
   ],
   "source": [
    "### Escaping Code\n",
    "\n",
    "All markdown code blocks are executed, but html code blocks can be used to ignore code, or \n",
    "use python comments.\n",
    "\n",
    "<code>this code ain't gonna get run.</code>"
   ]
  },
  {
   "cell_type": "markdown",
   "metadata": {},
   "source": [
    "    !jupyter nbconvert --to markdown --TemplateExporter.exclude_input=True readme.ipynb\n",
    "    !jupyter nbconvert --to markdown --config docs/tconfig.py docs/*.ipynb"
   ]
  }
 ],
 "metadata": {
  "kernelspec": {
   "display_name": "Python 3",
   "language": "python",
   "name": "python3"
  },
  "language_info": {
   "codemirror_mode": {
    "name": "ipython",
    "version": 3
   },
   "file_extension": ".py",
   "mimetype": "text/x-python",
   "name": "python",
   "nbconvert_exporter": "python",
   "pygments_lexer": "ipython3",
   "version": "3.5.3"
  }
 },
 "nbformat": 4,
 "nbformat_minor": 2
}
