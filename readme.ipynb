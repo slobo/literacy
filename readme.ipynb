{
 "cells": [
  {
   "cell_type": "markdown",
   "metadata": {},
   "source": [
    "# __literacy__ - Computable documents in natural language.\n",
    "\n",
    "> [Literate programming](roxygen.org/knuth-literate-programming.pdf) notebooks in 𝗠arkd⬇wn\n",
    "and py🐍hon.\n",
    "\n",
    "---\n",
    "\n",
    "<code>pip install git+https://github.com/tonyfast/literacy</code>"
   ]
  },
  {
   "cell_type": "markdown",
   "metadata": {},
   "source": [
    "# Literate programming mode\n",
    "\n",
    "Activate the `literacy` extension."
   ]
  },
  {
   "cell_type": "code",
   "execution_count": 1,
   "metadata": {
    "collapsed": true
   },
   "outputs": [],
   "source": [
    "        %load_ext literacy"
   ]
  },
  {
   "cell_type": "code",
   "execution_count": 1,
   "metadata": {},
   "outputs": [
    {
     "data": {
      "text/markdown": [
       "__Now__, all cells in the notebook accept __Markdown__ as syntax. Each code fragment is evaluated as an individual cell\n",
       "and every cell will display a markdown copy of itself before the output. \n",
       "\n",
       "> There is no code in this cell, the execution number next to <code>In</code> will _not_ increment."
      ],
      "text/plain": [
       "<IPython.core.display.Markdown object>"
      ]
     },
     "metadata": {},
     "output_type": "display_data"
    }
   ],
   "source": [
    "__Now__, all cells in the notebook accept __Markdown__ as syntax. Each code fragment is evaluated as an individual cell\n",
    "and every cell will display a markdown copy of itself before the output. \n",
    "\n",
    "> There is no code in this cell, the execution number next to <code>In</code> will _not_ increment."
   ]
  },
  {
   "cell_type": "code",
   "execution_count": 1,
   "metadata": {},
   "outputs": [
    {
     "data": {
      "text/markdown": [
       "## Writing code\n",
       "\n",
       "### Indented code\n",
       "\n",
       "The cell below looks like normal python code, "
      ],
      "text/plain": [
       "<IPython.core.display.Markdown object>"
      ]
     },
     "metadata": {},
     "output_type": "display_data"
    }
   ],
   "source": [
    "## Writing code\n",
    "\n",
    "### Indented code\n",
    "\n",
    "The cell below looks like normal python code, "
   ]
  },
  {
   "cell_type": "code",
   "execution_count": 2,
   "metadata": {},
   "outputs": [
    {
     "data": {
      "text/markdown": [
       "        foo = 42\n",
       "        print(foo)"
      ],
      "text/plain": [
       "<IPython.core.display.Markdown object>"
      ]
     },
     "metadata": {},
     "output_type": "display_data"
    },
    {
     "name": "stdout",
     "output_type": "stream",
     "text": [
      "42\n"
     ]
    }
   ],
   "source": [
    "        foo = 42\n",
    "        print(foo)"
   ]
  },
  {
   "cell_type": "code",
   "execution_count": 2,
   "metadata": {},
   "outputs": [
    {
     "data": {
      "text/markdown": [
       "*the indent triggers code execution*."
      ],
      "text/plain": [
       "<IPython.core.display.Markdown object>"
      ]
     },
     "metadata": {},
     "output_type": "display_data"
    }
   ],
   "source": [
    "*the indent triggers code execution*."
   ]
  },
  {
   "cell_type": "code",
   "execution_count": 3,
   "metadata": {},
   "outputs": [
    {
     "data": {
      "text/markdown": [
       "Of course, code and plain text can be mixed\n",
       "    \n",
       "        print(\"This evaluated to: {}\".format(foo*10))\n",
       "        \n",
       "> There are more ways to write code!"
      ],
      "text/plain": [
       "<IPython.core.display.Markdown object>"
      ]
     },
     "metadata": {},
     "output_type": "display_data"
    },
    {
     "name": "stdout",
     "output_type": "stream",
     "text": [
      "This evaluated to: 420\n"
     ]
    }
   ],
   "source": [
    "Of course, code and plain text can be mixed\n",
    "    \n",
    "        print(\"This evaluated to: {}\".format(foo*10))\n",
    "        \n",
    "> There are more ways to write code!"
   ]
  },
  {
   "cell_type": "code",
   "execution_count": 4,
   "metadata": {},
   "outputs": [
    {
     "data": {
      "text/markdown": [
       "### Inline Code 👉 `print('Say what ❓👂')`\n",
       "\n",
       "Code can be executed anywhere by wrapping statements in markdown ticks - __`__."
      ],
      "text/plain": [
       "<IPython.core.display.Markdown object>"
      ]
     },
     "metadata": {},
     "output_type": "display_data"
    },
    {
     "name": "stdout",
     "output_type": "stream",
     "text": [
      "Say what ❓👂\n"
     ]
    }
   ],
   "source": [
    "### Inline Code 👉 `print('Say what ❓👂')`\n",
    "\n",
    "Code can be executed anywhere by wrapping statements in markdown ticks - __`__."
   ]
  },
  {
   "cell_type": "code",
   "execution_count": 5,
   "metadata": {},
   "outputs": [
    {
     "data": {
      "text/markdown": [
       "### Code Fences\n",
       "\n",
       "Pop open the console to see the magic.\n",
       "\n",
       "        %%javascript \n",
       "        console.log(\"Yo, I can holla hear too.\")"
      ],
      "text/plain": [
       "<IPython.core.display.Markdown object>"
      ]
     },
     "metadata": {},
     "output_type": "display_data"
    },
    {
     "data": {
      "application/javascript": [
       "console.log(\"Yo, I can holla hear too.\")"
      ],
      "text/plain": [
       "<IPython.core.display.Javascript object>"
      ]
     },
     "metadata": {},
     "output_type": "display_data"
    }
   ],
   "source": [
    "### Code Fences\n",
    "\n",
    "Pop open the console to see the magic.\n",
    "\n",
    "        %%javascript \n",
    "        console.log(\"Yo, I can holla hear too.\")"
   ]
  },
  {
   "cell_type": "code",
   "execution_count": 5,
   "metadata": {},
   "outputs": [
    {
     "data": {
      "text/markdown": [
       "## Templates.\n",
       "\n",
       "All code blocks are __jinja2__ templates."
      ],
      "text/plain": [
       "<IPython.core.display.Markdown object>"
      ]
     },
     "metadata": {},
     "output_type": "display_data"
    }
   ],
   "source": [
    "## Templates.\n",
    "\n",
    "All code blocks are __jinja2__ templates."
   ]
  },
  {
   "cell_type": "code",
   "execution_count": 6,
   "metadata": {},
   "outputs": [
    {
     "data": {
      "text/markdown": [
       "__*42*__ can be placed directly into markdown _and_ even used to generate code.\n",
       "\n",
       "    print(\"42\")\n",
       "    \n",
       "Full jinja syntaxes are available\n",
       "\n",
       "\n",
       "0. List item 1\n",
       "0. List item 2\n",
       "0. List item 3\n",
       "0. List item 4\n",
       "\n",
       "---\n",
       "\n",
       "Outputs below"
      ],
      "text/plain": [
       "<IPython.core.display.Markdown object>"
      ]
     },
     "metadata": {},
     "output_type": "display_data"
    },
    {
     "name": "stdout",
     "output_type": "stream",
     "text": [
      "42\n"
     ]
    }
   ],
   "source": [
    "__*{{foo}}*__ can be placed directly into markdown _and_ even used to generate code.\n",
    "\n",
    "    print(\"{{foo}}\")\n",
    "    \n",
    "Full jinja syntaxes are available\n",
    "\n",
    "{% for i in range(4) %}\n",
    "0. List item {{i+1}}{% endfor %}\n",
    "\n",
    "---\n",
    "\n",
    "Outputs below"
   ]
  },
  {
   "cell_type": "code",
   "execution_count": 7,
   "metadata": {},
   "outputs": [
    {
     "data": {
      "text/markdown": [
       "##### Unload literacy anytime \n",
       "\n",
       "        if __name__ == '__main__': \n",
       "            %unload_ext literacy\n",
       "\n",
       "###### Remove Templates\n",
       "        \n",
       "        if __name__ == '__main__': \n",
       "            %load_ext literacy"
      ],
      "text/plain": [
       "<IPython.core.display.Markdown object>"
      ]
     },
     "metadata": {},
     "output_type": "display_data"
    }
   ],
   "source": [
    "##### Unload literacy anytime \n",
    "\n",
    "        if __name__ == '__main__': \n",
    "            %unload_ext literacy\n",
    "\n",
    "###### Remove Templates\n",
    "        \n",
    "        if __name__ == '__main__': \n",
    "            %load_ext literacy"
   ]
  },
  {
   "cell_type": "code",
   "execution_count": 8,
   "metadata": {},
   "outputs": [
    {
     "data": {
      "text/markdown": [
       "## Data Science with `import pandas as pd`"
      ],
      "text/plain": [
       "<IPython.core.display.Markdown object>"
      ]
     },
     "metadata": {},
     "output_type": "display_data"
    }
   ],
   "source": [
    "## Data Science with `import pandas as pd`"
   ]
  },
  {
   "cell_type": "code",
   "execution_count": 9,
   "metadata": {
    "scrolled": false
   },
   "outputs": [
    {
     "data": {
      "text/markdown": [
       "This tool was designed to tell stories about real data.  Since every code block is just python,\n",
       "`df=__import__('pandas').util.testing.makeDataFrame();df.head()` to make a __[pd:DataFrame][]__. \n",
       "\n",
       "\n",
       "[pd:datetools]: https://github.com/pandas/pandas#datetools\n",
       "[pd:ols]: https://github.com/pandas/pandas#ols\n",
       "[pd:Index]: https://github.com/pandas/pandas#Index\n",
       "[pd:_period]: https://github.com/pandas/pandas#_period\n",
       "[pd:melt]: https://github.com/pandas/pandas#melt\n",
       "[pd:compat]: https://github.com/pandas/pandas#compat\n",
       "[pd:rolling_max]: https://github.com/pandas/pandas#rolling_max\n",
       "[pd:read_html]: https://github.com/pandas/pandas#read_html\n",
       "[pd:lib]: https://github.com/pandas/pandas#lib\n",
       "[pd:parser]: https://github.com/pandas/pandas#parser\n",
       "[pd:ExcelFile]: https://github.com/pandas/pandas#ExcelFile\n",
       "[pd:computation]: https://github.com/pandas/pandas#computation\n",
       "[pd:Panel4D]: https://github.com/pandas/pandas#Panel4D\n",
       "[pd:ordered_merge]: https://github.com/pandas/pandas#ordered_merge\n",
       "[pd:timedelta_range]: https://github.com/pandas/pandas#timedelta_range\n",
       "[pd:core]: https://github.com/pandas/pandas#core\n",
       "[pd:__spec__]: https://github.com/pandas/pandas#__spec__\n",
       "[pd:rolling_window]: https://github.com/pandas/pandas#rolling_window\n",
       "[pd:PeriodIndex]: https://github.com/pandas/pandas#PeriodIndex\n",
       "[pd:__package__]: https://github.com/pandas/pandas#__package__\n",
       "[pd:fama_macbeth]: https://github.com/pandas/pandas#fama_macbeth\n",
       "[pd:__cached__]: https://github.com/pandas/pandas#__cached__\n",
       "[pd:SparseTimeSeries]: https://github.com/pandas/pandas#SparseTimeSeries\n",
       "[pd:rolling_cov]: https://github.com/pandas/pandas#rolling_cov\n",
       "[pd:ewmvol]: https://github.com/pandas/pandas#ewmvol\n",
       "[pd:date_range]: https://github.com/pandas/pandas#date_range\n",
       "[pd:expanding_corr]: https://github.com/pandas/pandas#expanding_corr\n",
       "[pd:expanding_std]: https://github.com/pandas/pandas#expanding_std\n",
       "[pd:ExcelWriter]: https://github.com/pandas/pandas#ExcelWriter\n",
       "[pd:_np_version_under1p9]: https://github.com/pandas/pandas#_np_version_under1p9\n",
       "[pd:hashtable]: https://github.com/pandas/pandas#hashtable\n",
       "[pd:cut]: https://github.com/pandas/pandas#cut\n",
       "[pd:get_option]: https://github.com/pandas/pandas#get_option\n",
       "[pd:read_gbq]: https://github.com/pandas/pandas#read_gbq\n",
       "[pd:ewmvar]: https://github.com/pandas/pandas#ewmvar\n",
       "[pd:tools]: https://github.com/pandas/pandas#tools\n",
       "[pd:pivot_table]: https://github.com/pandas/pandas#pivot_table\n",
       "[pd:sparse]: https://github.com/pandas/pandas#sparse\n",
       "[pd:NaT]: https://github.com/pandas/pandas#NaT\n",
       "[pd:msgpack]: https://github.com/pandas/pandas#msgpack\n",
       "[pd:expanding_kurt]: https://github.com/pandas/pandas#expanding_kurt\n",
       "[pd:expanding_max]: https://github.com/pandas/pandas#expanding_max\n",
       "[pd:_np_version_under1p11]: https://github.com/pandas/pandas#_np_version_under1p11\n",
       "[pd:np]: https://github.com/pandas/pandas#np\n",
       "[pd:set_eng_float_format]: https://github.com/pandas/pandas#set_eng_float_format\n",
       "[pd:io]: https://github.com/pandas/pandas#io\n",
       "[pd:TimedeltaIndex]: https://github.com/pandas/pandas#TimedeltaIndex\n",
       "[pd:MultiIndex]: https://github.com/pandas/pandas#MultiIndex\n",
       "[pd:_np_version_under1p12]: https://github.com/pandas/pandas#_np_version_under1p12\n",
       "[pd:Categorical]: https://github.com/pandas/pandas#Categorical\n",
       "[pd:TimeGrouper]: https://github.com/pandas/pandas#TimeGrouper\n",
       "[pd:expanding_cov]: https://github.com/pandas/pandas#expanding_cov\n",
       "[pd:isnull]: https://github.com/pandas/pandas#isnull\n",
       "[pd:read_excel]: https://github.com/pandas/pandas#read_excel\n",
       "[pd:_version]: https://github.com/pandas/pandas#_version\n",
       "[pd:expanding_count]: https://github.com/pandas/pandas#expanding_count\n",
       "[pd:read_csv]: https://github.com/pandas/pandas#read_csv\n",
       "[pd:rolling_var]: https://github.com/pandas/pandas#rolling_var\n",
       "[pd:to_timedelta]: https://github.com/pandas/pandas#to_timedelta\n",
       "[pd:eval]: https://github.com/pandas/pandas#eval\n",
       "[pd:SparseList]: https://github.com/pandas/pandas#SparseList\n",
       "[pd:_np_version_under1p8]: https://github.com/pandas/pandas#_np_version_under1p8\n",
       "[pd:algos]: https://github.com/pandas/pandas#algos\n",
       "[pd:__loader__]: https://github.com/pandas/pandas#__loader__\n",
       "[pd:Timedelta]: https://github.com/pandas/pandas#Timedelta\n",
       "[pd:expanding_min]: https://github.com/pandas/pandas#expanding_min\n",
       "[pd:crosstab]: https://github.com/pandas/pandas#crosstab\n",
       "[pd:__version__]: https://github.com/pandas/pandas#__version__\n",
       "[pd:get_dummies]: https://github.com/pandas/pandas#get_dummies\n",
       "[pd:to_pickle]: https://github.com/pandas/pandas#to_pickle\n",
       "[pd:SparseSeries]: https://github.com/pandas/pandas#SparseSeries\n",
       "[pd:info]: https://github.com/pandas/pandas#info\n",
       "[pd:read_sql]: https://github.com/pandas/pandas#read_sql\n",
       "[pd:rolling_apply]: https://github.com/pandas/pandas#rolling_apply\n",
       "[pd:qcut]: https://github.com/pandas/pandas#qcut\n",
       "[pd:__path__]: https://github.com/pandas/pandas#__path__\n",
       "[pd:ewmcorr]: https://github.com/pandas/pandas#ewmcorr\n",
       "[pd:expanding_var]: https://github.com/pandas/pandas#expanding_var\n",
       "[pd:rolling_std]: https://github.com/pandas/pandas#rolling_std\n",
       "[pd:groupby]: https://github.com/pandas/pandas#groupby\n",
       "[pd:read_pickle]: https://github.com/pandas/pandas#read_pickle\n",
       "[pd:SparseDataFrame]: https://github.com/pandas/pandas#SparseDataFrame\n",
       "[pd:rolling_kurt]: https://github.com/pandas/pandas#rolling_kurt\n",
       "[pd:to_numeric]: https://github.com/pandas/pandas#to_numeric\n",
       "[pd:expanding_mean]: https://github.com/pandas/pandas#expanding_mean\n",
       "[pd:read_stata]: https://github.com/pandas/pandas#read_stata\n",
       "[pd:_window]: https://github.com/pandas/pandas#_window\n",
       "[pd:rolling_mean]: https://github.com/pandas/pandas#rolling_mean\n",
       "[pd:period_range]: https://github.com/pandas/pandas#period_range\n",
       "[pd:__builtins__]: https://github.com/pandas/pandas#__builtins__\n",
       "[pd:show_versions]: https://github.com/pandas/pandas#show_versions\n",
       "[pd:Float64Index]: https://github.com/pandas/pandas#Float64Index\n",
       "[pd:CategoricalIndex]: https://github.com/pandas/pandas#CategoricalIndex\n",
       "[pd:options]: https://github.com/pandas/pandas#options\n",
       "[pd:rolling_min]: https://github.com/pandas/pandas#rolling_min\n",
       "[pd:infer_freq]: https://github.com/pandas/pandas#infer_freq\n",
       "[pd:IndexSlice]: https://github.com/pandas/pandas#IndexSlice\n",
       "[pd:to_datetime]: https://github.com/pandas/pandas#to_datetime\n",
       "[pd:test]: https://github.com/pandas/pandas#test\n",
       "[pd:index]: https://github.com/pandas/pandas#index\n",
       "[pd:match]: https://github.com/pandas/pandas#match\n",
       "[pd:json]: https://github.com/pandas/pandas#json\n",
       "[pd:_testing]: https://github.com/pandas/pandas#_testing\n",
       "[pd:read_table]: https://github.com/pandas/pandas#read_table\n",
       "[pd:__docformat__]: https://github.com/pandas/pandas#__docformat__\n",
       "[pd:read_hdf]: https://github.com/pandas/pandas#read_hdf\n",
       "[pd:SparseArray]: https://github.com/pandas/pandas#SparseArray\n",
       "[pd:option_context]: https://github.com/pandas/pandas#option_context\n",
       "[pd:formats]: https://github.com/pandas/pandas#formats\n",
       "[pd:read_clipboard]: https://github.com/pandas/pandas#read_clipboard\n",
       "[pd:Series]: https://github.com/pandas/pandas#Series\n",
       "[pd:expanding_apply]: https://github.com/pandas/pandas#expanding_apply\n",
       "[pd:expanding_median]: https://github.com/pandas/pandas#expanding_median\n",
       "[pd:wide_to_long]: https://github.com/pandas/pandas#wide_to_long\n",
       "[pd:tseries]: https://github.com/pandas/pandas#tseries\n",
       "[pd:WidePanel]: https://github.com/pandas/pandas#WidePanel\n",
       "[pd:Panel]: https://github.com/pandas/pandas#Panel\n",
       "[pd:stats]: https://github.com/pandas/pandas#stats\n",
       "[pd:read_sql_query]: https://github.com/pandas/pandas#read_sql_query\n",
       "[pd:value_counts]: https://github.com/pandas/pandas#value_counts\n",
       "[pd:read_msgpack]: https://github.com/pandas/pandas#read_msgpack\n",
       "[pd:ewmcov]: https://github.com/pandas/pandas#ewmcov\n",
       "[pd:Timestamp]: https://github.com/pandas/pandas#Timestamp\n",
       "[pd:set_option]: https://github.com/pandas/pandas#set_option\n",
       "[pd:get_store]: https://github.com/pandas/pandas#get_store\n",
       "[pd:describe_option]: https://github.com/pandas/pandas#describe_option\n",
       "[pd:read_json]: https://github.com/pandas/pandas#read_json\n",
       "[pd:plot_params]: https://github.com/pandas/pandas#plot_params\n",
       "[pd:Grouper]: https://github.com/pandas/pandas#Grouper\n",
       "[pd:DatetimeIndex]: https://github.com/pandas/pandas#DatetimeIndex\n",
       "[pd:_sparse]: https://github.com/pandas/pandas#_sparse\n",
       "[pd:to_msgpack]: https://github.com/pandas/pandas#to_msgpack\n",
       "[pd:rolling_median]: https://github.com/pandas/pandas#rolling_median\n",
       "[pd:Expr]: https://github.com/pandas/pandas#Expr\n",
       "[pd:datetime]: https://github.com/pandas/pandas#datetime\n",
       "[pd:concat]: https://github.com/pandas/pandas#concat\n",
       "[pd:tslib]: https://github.com/pandas/pandas#tslib\n",
       "[pd:rolling_sum]: https://github.com/pandas/pandas#rolling_sum\n",
       "[pd:Term]: https://github.com/pandas/pandas#Term\n",
       "[pd:merge_asof]: https://github.com/pandas/pandas#merge_asof\n",
       "[pd:Int64Index]: https://github.com/pandas/pandas#Int64Index\n",
       "[pd:lreshape]: https://github.com/pandas/pandas#lreshape\n",
       "[pd:indexes]: https://github.com/pandas/pandas#indexes\n",
       "[pd:rolling_skew]: https://github.com/pandas/pandas#rolling_skew\n",
       "[pd:_np_version_under1p10]: https://github.com/pandas/pandas#_np_version_under1p10\n",
       "[pd:rolling_count]: https://github.com/pandas/pandas#rolling_count\n",
       "[pd:scatter_matrix]: https://github.com/pandas/pandas#scatter_matrix\n",
       "[pd:DataFrame]: https://github.com/pandas/pandas#DataFrame\n",
       "[pd:pnow]: https://github.com/pandas/pandas#pnow\n",
       "[pd:read_sql_table]: https://github.com/pandas/pandas#read_sql_table\n",
       "[pd:factorize]: https://github.com/pandas/pandas#factorize\n",
       "[pd:bdate_range]: https://github.com/pandas/pandas#bdate_range\n",
       "[pd:__doc__]: https://github.com/pandas/pandas#__doc__\n",
       "[pd:_join]: https://github.com/pandas/pandas#_join\n",
       "[pd:TimeSeries]: https://github.com/pandas/pandas#TimeSeries\n",
       "[pd:HDFStore]: https://github.com/pandas/pandas#HDFStore\n",
       "[pd:rolling_quantile]: https://github.com/pandas/pandas#rolling_quantile\n",
       "[pd:unique]: https://github.com/pandas/pandas#unique\n",
       "[pd:expanding_skew]: https://github.com/pandas/pandas#expanding_skew\n",
       "[pd:merge]: https://github.com/pandas/pandas#merge\n",
       "[pd:expanding_quantile]: https://github.com/pandas/pandas#expanding_quantile\n",
       "[pd:util]: https://github.com/pandas/pandas#util\n",
       "[pd:DateOffset]: https://github.com/pandas/pandas#DateOffset\n",
       "[pd:RangeIndex]: https://github.com/pandas/pandas#RangeIndex\n",
       "[pd:notnull]: https://github.com/pandas/pandas#notnull\n",
       "[pd:pivot]: https://github.com/pandas/pandas#pivot\n",
       "[pd:read_sas]: https://github.com/pandas/pandas#read_sas\n",
       "[pd:ewma]: https://github.com/pandas/pandas#ewma\n",
       "[pd:types]: https://github.com/pandas/pandas#types\n",
       "[pd:reset_option]: https://github.com/pandas/pandas#reset_option\n",
       "[pd:Period]: https://github.com/pandas/pandas#Period\n",
       "[pd:read_fwf]: https://github.com/pandas/pandas#read_fwf\n",
       "[pd:rolling_corr]: https://github.com/pandas/pandas#rolling_corr\n",
       "[pd:__name__]: https://github.com/pandas/pandas#__name__\n",
       "[pd:offsets]: https://github.com/pandas/pandas#offsets\n",
       "[pd:expanding_sum]: https://github.com/pandas/pandas#expanding_sum\n",
       "[pd:ewmstd]: https://github.com/pandas/pandas#ewmstd\n",
       "[pd:__file__]: https://github.com/pandas/pandas#__file__\n",
       "[pd:api]: https://github.com/pandas/pandas#api\n",
       "[pd:pandas]: https://github.com/pandas/pandas#pandas\n",
       "[pd:merge_ordered]: https://github.com/pandas/pandas#merge_ordered"
      ],
      "text/plain": [
       "<IPython.core.display.Markdown object>"
      ]
     },
     "metadata": {},
     "output_type": "display_data"
    },
    {
     "data": {
      "text/html": [
       "<div>\n",
       "<table border=\"1\" class=\"dataframe\">\n",
       "  <thead>\n",
       "    <tr style=\"text-align: right;\">\n",
       "      <th></th>\n",
       "      <th>A</th>\n",
       "      <th>B</th>\n",
       "      <th>C</th>\n",
       "      <th>D</th>\n",
       "    </tr>\n",
       "  </thead>\n",
       "  <tbody>\n",
       "    <tr>\n",
       "      <th>qpmaTfeOVi</th>\n",
       "      <td>0.865243</td>\n",
       "      <td>1.092412</td>\n",
       "      <td>0.214716</td>\n",
       "      <td>0.924166</td>\n",
       "    </tr>\n",
       "    <tr>\n",
       "      <th>9f2MtCeaRC</th>\n",
       "      <td>0.279306</td>\n",
       "      <td>-0.827952</td>\n",
       "      <td>-1.136781</td>\n",
       "      <td>0.452437</td>\n",
       "    </tr>\n",
       "    <tr>\n",
       "      <th>DL8XIIVl6x</th>\n",
       "      <td>1.169054</td>\n",
       "      <td>0.789950</td>\n",
       "      <td>0.131367</td>\n",
       "      <td>-0.153040</td>\n",
       "    </tr>\n",
       "    <tr>\n",
       "      <th>wUyLXHkgpJ</th>\n",
       "      <td>-0.288867</td>\n",
       "      <td>-2.172063</td>\n",
       "      <td>-2.901560</td>\n",
       "      <td>0.234229</td>\n",
       "    </tr>\n",
       "    <tr>\n",
       "      <th>AIgbVxzsIP</th>\n",
       "      <td>1.309793</td>\n",
       "      <td>-0.401172</td>\n",
       "      <td>-0.248805</td>\n",
       "      <td>0.725979</td>\n",
       "    </tr>\n",
       "  </tbody>\n",
       "</table>\n",
       "</div>"
      ],
      "text/plain": [
       "                   A         B         C         D\n",
       "qpmaTfeOVi  0.865243  1.092412  0.214716  0.924166\n",
       "9f2MtCeaRC  0.279306 -0.827952 -1.136781  0.452437\n",
       "DL8XIIVl6x  1.169054  0.789950  0.131367 -0.153040\n",
       "wUyLXHkgpJ -0.288867 -2.172063 -2.901560  0.234229\n",
       "AIgbVxzsIP  1.309793 -0.401172 -0.248805  0.725979"
      ]
     },
     "execution_count": 9,
     "metadata": {},
     "output_type": "execute_result"
    }
   ],
   "source": [
    "This tool was designed to tell stories about real data.  Since every code block is just python,\n",
    "`df=__import__('pandas').util.testing.makeDataFrame();df.head()` to make a __[pd:DataFrame][]__. \n",
    "\n",
    "{% for key in pd.__dict__ %}\n",
    "[pd:{{ key }}]: https://github.com/pandas/pandas#{{ key }}{% endfor %}"
   ]
  },
  {
   "cell_type": "code",
   "execution_count": 10,
   "metadata": {},
   "outputs": [
    {
     "data": {
      "text/markdown": [
       "`df;` has the following statistical properties `df.describe()`"
      ],
      "text/plain": [
       "<IPython.core.display.Markdown object>"
      ]
     },
     "metadata": {},
     "output_type": "display_data"
    },
    {
     "data": {
      "text/html": [
       "<div>\n",
       "<table border=\"1\" class=\"dataframe\">\n",
       "  <thead>\n",
       "    <tr style=\"text-align: right;\">\n",
       "      <th></th>\n",
       "      <th>A</th>\n",
       "      <th>B</th>\n",
       "      <th>C</th>\n",
       "      <th>D</th>\n",
       "    </tr>\n",
       "  </thead>\n",
       "  <tbody>\n",
       "    <tr>\n",
       "      <th>count</th>\n",
       "      <td>30.000000</td>\n",
       "      <td>30.000000</td>\n",
       "      <td>30.000000</td>\n",
       "      <td>30.000000</td>\n",
       "    </tr>\n",
       "    <tr>\n",
       "      <th>mean</th>\n",
       "      <td>0.111058</td>\n",
       "      <td>-0.012172</td>\n",
       "      <td>0.022822</td>\n",
       "      <td>-0.126050</td>\n",
       "    </tr>\n",
       "    <tr>\n",
       "      <th>std</th>\n",
       "      <td>0.976539</td>\n",
       "      <td>0.902385</td>\n",
       "      <td>1.019374</td>\n",
       "      <td>1.121299</td>\n",
       "    </tr>\n",
       "    <tr>\n",
       "      <th>min</th>\n",
       "      <td>-1.383609</td>\n",
       "      <td>-2.172063</td>\n",
       "      <td>-2.901560</td>\n",
       "      <td>-2.488829</td>\n",
       "    </tr>\n",
       "    <tr>\n",
       "      <th>25%</th>\n",
       "      <td>-0.564556</td>\n",
       "      <td>-0.743084</td>\n",
       "      <td>-0.569463</td>\n",
       "      <td>-0.764867</td>\n",
       "    </tr>\n",
       "    <tr>\n",
       "      <th>50%</th>\n",
       "      <td>-0.026636</td>\n",
       "      <td>0.015372</td>\n",
       "      <td>0.064171</td>\n",
       "      <td>-0.129140</td>\n",
       "    </tr>\n",
       "    <tr>\n",
       "      <th>75%</th>\n",
       "      <td>0.838785</td>\n",
       "      <td>0.693731</td>\n",
       "      <td>0.604977</td>\n",
       "      <td>0.711671</td>\n",
       "    </tr>\n",
       "    <tr>\n",
       "      <th>max</th>\n",
       "      <td>2.243202</td>\n",
       "      <td>1.595759</td>\n",
       "      <td>1.824063</td>\n",
       "      <td>2.127853</td>\n",
       "    </tr>\n",
       "  </tbody>\n",
       "</table>\n",
       "</div>"
      ],
      "text/plain": [
       "               A          B          C          D\n",
       "count  30.000000  30.000000  30.000000  30.000000\n",
       "mean    0.111058  -0.012172   0.022822  -0.126050\n",
       "std     0.976539   0.902385   1.019374   1.121299\n",
       "min    -1.383609  -2.172063  -2.901560  -2.488829\n",
       "25%    -0.564556  -0.743084  -0.569463  -0.764867\n",
       "50%    -0.026636   0.015372   0.064171  -0.129140\n",
       "75%     0.838785   0.693731   0.604977   0.711671\n",
       "max     2.243202   1.595759   1.824063   2.127853"
      ]
     },
     "execution_count": 10,
     "metadata": {},
     "output_type": "execute_result"
    }
   ],
   "source": [
    "`df;` has the following statistical properties `df.describe()`"
   ]
  },
  {
   "cell_type": "code",
   "execution_count": 10,
   "metadata": {},
   "outputs": [
    {
     "data": {
      "text/markdown": [
       "* Anything that is a file should be importable.  Literacy has rules for markdown and ipynb.\n",
       "* Merging cell makes more sense.  \n",
       "* Code and Markdown cells toggle the ability to execute.\n",
       "* Code prediction works in code cells\n",
       "* Normal error messages for single cell executions.\n",
       "\n",
       "# References"
      ],
      "text/plain": [
       "<IPython.core.display.Markdown object>"
      ]
     },
     "metadata": {},
     "output_type": "display_data"
    }
   ],
   "source": [
    "* Anything that is a file should be importable.  Literacy has rules for markdown and ipynb.\n",
    "* Merging cell makes more sense.  \n",
    "* Code and Markdown cells toggle the ability to execute.\n",
    "* Code prediction works in code cells\n",
    "* Normal error messages for single cell executions.\n",
    "\n",
    "# References"
   ]
  },
  {
   "cell_type": "code",
   "execution_count": 11,
   "metadata": {},
   "outputs": [
    {
     "data": {
      "text/markdown": [
       "        if True and __name__ == '__main__':\n",
       "            !jupyter nbconvert --to markdown readme.ipynb"
      ],
      "text/plain": [
       "<IPython.core.display.Markdown object>"
      ]
     },
     "metadata": {},
     "output_type": "display_data"
    },
    {
     "name": "stdout",
     "output_type": "stream",
     "text": [
      "[NbConvertApp] Converting notebook readme.ipynb to markdown\r\n",
      "[NbConvertApp] Writing 18195 bytes to readme.md\r\n"
     ]
    }
   ],
   "source": [
    "        if True and __name__ == '__main__':\n",
    "            !jupyter nbconvert --to markdown readme.ipynb"
   ]
  }
 ],
 "metadata": {
  "kernelspec": {
   "display_name": "Python 3",
   "language": "python",
   "name": "python3"
  },
  "language_info": {
   "codemirror_mode": {
    "name": "ipython",
    "version": 3
   },
   "file_extension": ".py",
   "mimetype": "text/x-python",
   "name": "python",
   "nbconvert_exporter": "python",
   "pygments_lexer": "ipython3",
   "version": "3.5.3"
  }
 },
 "nbformat": 4,
 "nbformat_minor": 2
}
