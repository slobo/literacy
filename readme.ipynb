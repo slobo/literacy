{
 "cells": [
  {
   "cell_type": "markdown",
   "metadata": {},
   "source": [
    "# __literacy__ - Computable documents in natural language.\n",
    "\n",
    "> [Literate programming](roxygen.org/knuth-literate-programming.pdf) notebooks in 𝗠arkd⬇wn\n",
    "and py🐍hon.\n",
    "\n",
    "---\n",
    "\n",
    "<code>pip install git+https://github.com/tonyfast/literacy</code>"
   ]
  },
  {
   "cell_type": "markdown",
   "metadata": {},
   "source": [
    "# Literate programming mode\n",
    "\n",
    "Activate the `literacy` extension."
   ]
  },
  {
   "cell_type": "code",
   "execution_count": 1,
   "metadata": {
    "collapsed": true
   },
   "outputs": [],
   "source": [
    "        %load_ext literacy"
   ]
  },
  {
   "cell_type": "code",
   "execution_count": 1,
   "metadata": {},
   "outputs": [
    {
     "data": {
      "text/markdown": [
       "__Now__, all cells in the notebook accept __Markdown__ as syntax. Each code fragment is evaluated as an individual cell\n",
       "and every cell will display a markdown copy of itself before the output. \n",
       "\n",
       "> There is no code in this cell, the execution number next to <code>In</code> will _not_ increment."
      ],
      "text/plain": [
       "<IPython.core.display.Markdown object>"
      ]
     },
     "metadata": {},
     "output_type": "display_data"
    }
   ],
   "source": [
    "__Now__, all cells in the notebook accept __Markdown__ as syntax. Each code fragment is evaluated as an individual cell\n",
    "and every cell will display a markdown copy of itself before the output. \n",
    "\n",
    "> There is no code in this cell, the execution number next to <code>In</code> will _not_ increment."
   ]
  },
  {
   "cell_type": "code",
   "execution_count": 1,
   "metadata": {},
   "outputs": [
    {
     "data": {
      "text/markdown": [
       "## Writing code\n",
       "\n",
       "### Indented code\n",
       "\n",
       "The cell below looks like normal python code, "
      ],
      "text/plain": [
       "<IPython.core.display.Markdown object>"
      ]
     },
     "metadata": {},
     "output_type": "display_data"
    }
   ],
   "source": [
    "## Writing code\n",
    "\n",
    "### Indented code\n",
    "\n",
    "The cell below looks like normal python code, "
   ]
  },
  {
   "cell_type": "code",
   "execution_count": 2,
   "metadata": {},
   "outputs": [
    {
     "data": {
      "text/markdown": [
       "        foo = 42\n",
       "        print(foo)"
      ],
      "text/plain": [
       "<IPython.core.display.Markdown object>"
      ]
     },
     "metadata": {},
     "output_type": "display_data"
    },
    {
     "name": "stdout",
     "output_type": "stream",
     "text": [
      "42\n"
     ]
    }
   ],
   "source": [
    "        foo = 42\n",
    "        print(foo)"
   ]
  },
  {
   "cell_type": "code",
   "execution_count": 2,
   "metadata": {},
   "outputs": [
    {
     "data": {
      "text/markdown": [
       "*the indent triggers code execution*."
      ],
      "text/plain": [
       "<IPython.core.display.Markdown object>"
      ]
     },
     "metadata": {},
     "output_type": "display_data"
    }
   ],
   "source": [
    "*the indent triggers code execution*."
   ]
  },
  {
   "cell_type": "code",
   "execution_count": 3,
   "metadata": {},
   "outputs": [
    {
     "data": {
      "text/markdown": [
       "Of course, code and plain text can be mixed\n",
       "    \n",
       "        print(\"This evaluated to: {}\".format(foo*10))\n",
       "        \n",
       "> There are more ways to write code!"
      ],
      "text/plain": [
       "<IPython.core.display.Markdown object>"
      ]
     },
     "metadata": {},
     "output_type": "display_data"
    },
    {
     "name": "stdout",
     "output_type": "stream",
     "text": [
      "This evaluated to: 420\n"
     ]
    }
   ],
   "source": [
    "Of course, code and plain text can be mixed\n",
    "    \n",
    "        print(\"This evaluated to: {}\".format(foo*10))\n",
    "        \n",
    "> There are more ways to write code!"
   ]
  },
  {
   "cell_type": "code",
   "execution_count": 4,
   "metadata": {},
   "outputs": [
    {
     "data": {
      "text/markdown": [
       "### Inline Code 👉 `print('Say what ❓👂')`\n",
       "\n",
       "Code can be executed anywhere by wrapping statements in markdown ticks - __`__."
      ],
      "text/plain": [
       "<IPython.core.display.Markdown object>"
      ]
     },
     "metadata": {},
     "output_type": "display_data"
    },
    {
     "name": "stdout",
     "output_type": "stream",
     "text": [
      "Say what ❓👂\n"
     ]
    }
   ],
   "source": [
    "### Inline Code 👉 `print('Say what ❓👂')`\n",
    "\n",
    "Code can be executed anywhere by wrapping statements in markdown ticks - __`__."
   ]
  },
  {
   "cell_type": "code",
   "execution_count": 5,
   "metadata": {},
   "outputs": [
    {
     "data": {
      "text/markdown": [
       "### Code Fences\n",
       "\n",
       "Pop open the console to see the magic.\n",
       "\n",
       "        %%javascript \n",
       "        console.log(\"Yo, I can holla hear too.\")"
      ],
      "text/plain": [
       "<IPython.core.display.Markdown object>"
      ]
     },
     "metadata": {},
     "output_type": "display_data"
    },
    {
     "data": {
      "application/javascript": [
       "console.log(\"Yo, I can holla hear too.\")"
      ],
      "text/plain": [
       "<IPython.core.display.Javascript object>"
      ]
     },
     "metadata": {},
     "output_type": "display_data"
    }
   ],
   "source": [
    "### Code Fences\n",
    "\n",
    "Pop open the console to see the magic.\n",
    "\n",
    "        %%javascript \n",
    "        console.log(\"Yo, I can holla hear too.\")"
   ]
  },
  {
   "cell_type": "code",
   "execution_count": 5,
   "metadata": {},
   "outputs": [
    {
     "data": {
      "text/markdown": [
       "## Templates.\n",
       "\n",
       "All code blocks are __jinja2__ templates."
      ],
      "text/plain": [
       "<IPython.core.display.Markdown object>"
      ]
     },
     "metadata": {},
     "output_type": "display_data"
    }
   ],
   "source": [
    "## Templates.\n",
    "\n",
    "All code blocks are __jinja2__ templates."
   ]
  },
  {
   "cell_type": "code",
   "execution_count": 6,
   "metadata": {},
   "outputs": [
    {
     "data": {
      "text/markdown": [
       "__*42*__ can be placed directly into markdown _and_ even used to generate code.\n",
       "\n",
       "    print(\"42\")\n",
       "    \n",
       "Full jinja syntaxes are available\n",
       "\n",
       "\n",
       "0. List item 1\n",
       "0. List item 2\n",
       "0. List item 3\n",
       "0. List item 4\n",
       "\n",
       "---\n",
       "\n",
       "Outputs below"
      ],
      "text/plain": [
       "<IPython.core.display.Markdown object>"
      ]
     },
     "metadata": {},
     "output_type": "display_data"
    },
    {
     "name": "stdout",
     "output_type": "stream",
     "text": [
      "42\n"
     ]
    }
   ],
   "source": [
    "__*{{foo}}*__ can be placed directly into markdown _and_ even used to generate code.\n",
    "\n",
    "    print(\"{{foo}}\")\n",
    "    \n",
    "Full jinja syntaxes are available\n",
    "\n",
    "{% for i in range(4) %}\n",
    "0. List item {{i+1}}{% endfor %}\n",
    "\n",
    "---\n",
    "\n",
    "Outputs below"
   ]
  },
  {
   "cell_type": "code",
   "execution_count": 8,
   "metadata": {},
   "outputs": [
    {
     "data": {
      "text/markdown": [
       "##### Unload literacy anytime \n",
       "\n",
       "        if __name__ == '__main__': \n",
       "            %unload_ext literacy\n",
       "\n",
       "###### Remove Templates\n",
       "        \n",
       "        if __name__ == '__main__': \n",
       "            %load_ext literacy"
      ],
      "text/plain": [
       "<IPython.core.display.Markdown object>"
      ]
     },
     "metadata": {},
     "output_type": "display_data"
    }
   ],
   "source": [
    "##### Unload literacy anytime \n",
    "\n",
    "        if __name__ == '__main__': \n",
    "            %unload_ext literacy\n",
    "\n",
    "###### Remove Templates\n",
    "        \n",
    "        if __name__ == '__main__': \n",
    "            %load_ext literacy"
   ]
  },
  {
   "cell_type": "code",
   "execution_count": 9,
   "metadata": {},
   "outputs": [
    {
     "data": {
      "text/markdown": [
       "## Data Science with `import pandas as pd`"
      ],
      "text/plain": [
       "<IPython.core.display.Markdown object>"
      ]
     },
     "metadata": {},
     "output_type": "display_data"
    }
   ],
   "source": [
    "## Data Science with `import pandas as pd`"
   ]
  },
  {
   "cell_type": "code",
   "execution_count": 10,
   "metadata": {
    "scrolled": false
   },
   "outputs": [
    {
     "data": {
      "text/markdown": [
       "This tool was designed to tell stories about real data.  Since every code block is just python,\n",
       "`df=__import__('pandas').util.testing.makeDataFrame();df.head()` to make a __[pd:DataFrame][]__. \n",
       "\n",
       "\n",
       "[pd:merge_ordered]: https://github.com/pandas/pandas#merge_ordered\n",
       "[pd:compat]: https://github.com/pandas/pandas#compat\n",
       "[pd:rolling_kurt]: https://github.com/pandas/pandas#rolling_kurt\n",
       "[pd:match]: https://github.com/pandas/pandas#match\n",
       "[pd:expanding_sum]: https://github.com/pandas/pandas#expanding_sum\n",
       "[pd:factorize]: https://github.com/pandas/pandas#factorize\n",
       "[pd:MultiIndex]: https://github.com/pandas/pandas#MultiIndex\n",
       "[pd:hashtable]: https://github.com/pandas/pandas#hashtable\n",
       "[pd:core]: https://github.com/pandas/pandas#core\n",
       "[pd:tools]: https://github.com/pandas/pandas#tools\n",
       "[pd:Term]: https://github.com/pandas/pandas#Term\n",
       "[pd:_testing]: https://github.com/pandas/pandas#_testing\n",
       "[pd:fama_macbeth]: https://github.com/pandas/pandas#fama_macbeth\n",
       "[pd:rolling_skew]: https://github.com/pandas/pandas#rolling_skew\n",
       "[pd:SparseTimeSeries]: https://github.com/pandas/pandas#SparseTimeSeries\n",
       "[pd:ExcelFile]: https://github.com/pandas/pandas#ExcelFile\n",
       "[pd:offsets]: https://github.com/pandas/pandas#offsets\n",
       "[pd:Int64Index]: https://github.com/pandas/pandas#Int64Index\n",
       "[pd:_np_version_under1p9]: https://github.com/pandas/pandas#_np_version_under1p9\n",
       "[pd:read_sql]: https://github.com/pandas/pandas#read_sql\n",
       "[pd:ewmvol]: https://github.com/pandas/pandas#ewmvol\n",
       "[pd:__file__]: https://github.com/pandas/pandas#__file__\n",
       "[pd:sparse]: https://github.com/pandas/pandas#sparse\n",
       "[pd:groupby]: https://github.com/pandas/pandas#groupby\n",
       "[pd:to_timedelta]: https://github.com/pandas/pandas#to_timedelta\n",
       "[pd:bdate_range]: https://github.com/pandas/pandas#bdate_range\n",
       "[pd:Grouper]: https://github.com/pandas/pandas#Grouper\n",
       "[pd:ols]: https://github.com/pandas/pandas#ols\n",
       "[pd:tslib]: https://github.com/pandas/pandas#tslib\n",
       "[pd:read_sql_query]: https://github.com/pandas/pandas#read_sql_query\n",
       "[pd:_join]: https://github.com/pandas/pandas#_join\n",
       "[pd:WidePanel]: https://github.com/pandas/pandas#WidePanel\n",
       "[pd:read_sql_table]: https://github.com/pandas/pandas#read_sql_table\n",
       "[pd:expanding_kurt]: https://github.com/pandas/pandas#expanding_kurt\n",
       "[pd:Expr]: https://github.com/pandas/pandas#Expr\n",
       "[pd:SparseDataFrame]: https://github.com/pandas/pandas#SparseDataFrame\n",
       "[pd:HDFStore]: https://github.com/pandas/pandas#HDFStore\n",
       "[pd:timedelta_range]: https://github.com/pandas/pandas#timedelta_range\n",
       "[pd:_sparse]: https://github.com/pandas/pandas#_sparse\n",
       "[pd:to_datetime]: https://github.com/pandas/pandas#to_datetime\n",
       "[pd:rolling_corr]: https://github.com/pandas/pandas#rolling_corr\n",
       "[pd:lreshape]: https://github.com/pandas/pandas#lreshape\n",
       "[pd:IndexSlice]: https://github.com/pandas/pandas#IndexSlice\n",
       "[pd:parser]: https://github.com/pandas/pandas#parser\n",
       "[pd:rolling_window]: https://github.com/pandas/pandas#rolling_window\n",
       "[pd:expanding_std]: https://github.com/pandas/pandas#expanding_std\n",
       "[pd:types]: https://github.com/pandas/pandas#types\n",
       "[pd:expanding_var]: https://github.com/pandas/pandas#expanding_var\n",
       "[pd:msgpack]: https://github.com/pandas/pandas#msgpack\n",
       "[pd:read_excel]: https://github.com/pandas/pandas#read_excel\n",
       "[pd:value_counts]: https://github.com/pandas/pandas#value_counts\n",
       "[pd:__builtins__]: https://github.com/pandas/pandas#__builtins__\n",
       "[pd:wide_to_long]: https://github.com/pandas/pandas#wide_to_long\n",
       "[pd:NaT]: https://github.com/pandas/pandas#NaT\n",
       "[pd:Timedelta]: https://github.com/pandas/pandas#Timedelta\n",
       "[pd:lib]: https://github.com/pandas/pandas#lib\n",
       "[pd:stats]: https://github.com/pandas/pandas#stats\n",
       "[pd:_np_version_under1p8]: https://github.com/pandas/pandas#_np_version_under1p8\n",
       "[pd:rolling_min]: https://github.com/pandas/pandas#rolling_min\n",
       "[pd:__package__]: https://github.com/pandas/pandas#__package__\n",
       "[pd:RangeIndex]: https://github.com/pandas/pandas#RangeIndex\n",
       "[pd:read_html]: https://github.com/pandas/pandas#read_html\n",
       "[pd:expanding_apply]: https://github.com/pandas/pandas#expanding_apply\n",
       "[pd:TimeGrouper]: https://github.com/pandas/pandas#TimeGrouper\n",
       "[pd:to_numeric]: https://github.com/pandas/pandas#to_numeric\n",
       "[pd:ewma]: https://github.com/pandas/pandas#ewma\n",
       "[pd:notnull]: https://github.com/pandas/pandas#notnull\n",
       "[pd:__loader__]: https://github.com/pandas/pandas#__loader__\n",
       "[pd:get_option]: https://github.com/pandas/pandas#get_option\n",
       "[pd:melt]: https://github.com/pandas/pandas#melt\n",
       "[pd:read_stata]: https://github.com/pandas/pandas#read_stata\n",
       "[pd:crosstab]: https://github.com/pandas/pandas#crosstab\n",
       "[pd:get_dummies]: https://github.com/pandas/pandas#get_dummies\n",
       "[pd:_np_version_under1p12]: https://github.com/pandas/pandas#_np_version_under1p12\n",
       "[pd:expanding_min]: https://github.com/pandas/pandas#expanding_min\n",
       "[pd:rolling_sum]: https://github.com/pandas/pandas#rolling_sum\n",
       "[pd:set_eng_float_format]: https://github.com/pandas/pandas#set_eng_float_format\n",
       "[pd:ewmcov]: https://github.com/pandas/pandas#ewmcov\n",
       "[pd:expanding_skew]: https://github.com/pandas/pandas#expanding_skew\n",
       "[pd:__cached__]: https://github.com/pandas/pandas#__cached__\n",
       "[pd:read_hdf]: https://github.com/pandas/pandas#read_hdf\n",
       "[pd:np]: https://github.com/pandas/pandas#np\n",
       "[pd:Index]: https://github.com/pandas/pandas#Index\n",
       "[pd:read_pickle]: https://github.com/pandas/pandas#read_pickle\n",
       "[pd:__doc__]: https://github.com/pandas/pandas#__doc__\n",
       "[pd:rolling_apply]: https://github.com/pandas/pandas#rolling_apply\n",
       "[pd:read_csv]: https://github.com/pandas/pandas#read_csv\n",
       "[pd:__path__]: https://github.com/pandas/pandas#__path__\n",
       "[pd:ordered_merge]: https://github.com/pandas/pandas#ordered_merge\n",
       "[pd:unique]: https://github.com/pandas/pandas#unique\n",
       "[pd:SparseList]: https://github.com/pandas/pandas#SparseList\n",
       "[pd:api]: https://github.com/pandas/pandas#api\n",
       "[pd:expanding_mean]: https://github.com/pandas/pandas#expanding_mean\n",
       "[pd:Series]: https://github.com/pandas/pandas#Series\n",
       "[pd:_period]: https://github.com/pandas/pandas#_period\n",
       "[pd:Timestamp]: https://github.com/pandas/pandas#Timestamp\n",
       "[pd:get_store]: https://github.com/pandas/pandas#get_store\n",
       "[pd:info]: https://github.com/pandas/pandas#info\n",
       "[pd:__name__]: https://github.com/pandas/pandas#__name__\n",
       "[pd:pivot_table]: https://github.com/pandas/pandas#pivot_table\n",
       "[pd:show_versions]: https://github.com/pandas/pandas#show_versions\n",
       "[pd:merge_asof]: https://github.com/pandas/pandas#merge_asof\n",
       "[pd:plot_params]: https://github.com/pandas/pandas#plot_params\n",
       "[pd:ExcelWriter]: https://github.com/pandas/pandas#ExcelWriter\n",
       "[pd:rolling_mean]: https://github.com/pandas/pandas#rolling_mean\n",
       "[pd:to_pickle]: https://github.com/pandas/pandas#to_pickle\n",
       "[pd:Panel4D]: https://github.com/pandas/pandas#Panel4D\n",
       "[pd:SparseSeries]: https://github.com/pandas/pandas#SparseSeries\n",
       "[pd:ewmstd]: https://github.com/pandas/pandas#ewmstd\n",
       "[pd:read_table]: https://github.com/pandas/pandas#read_table\n",
       "[pd:__docformat__]: https://github.com/pandas/pandas#__docformat__\n",
       "[pd:__spec__]: https://github.com/pandas/pandas#__spec__\n",
       "[pd:rolling_count]: https://github.com/pandas/pandas#rolling_count\n",
       "[pd:tseries]: https://github.com/pandas/pandas#tseries\n",
       "[pd:date_range]: https://github.com/pandas/pandas#date_range\n",
       "[pd:to_msgpack]: https://github.com/pandas/pandas#to_msgpack\n",
       "[pd:option_context]: https://github.com/pandas/pandas#option_context\n",
       "[pd:util]: https://github.com/pandas/pandas#util\n",
       "[pd:isnull]: https://github.com/pandas/pandas#isnull\n",
       "[pd:PeriodIndex]: https://github.com/pandas/pandas#PeriodIndex\n",
       "[pd:Float64Index]: https://github.com/pandas/pandas#Float64Index\n",
       "[pd:eval]: https://github.com/pandas/pandas#eval\n",
       "[pd:reset_option]: https://github.com/pandas/pandas#reset_option\n",
       "[pd:read_gbq]: https://github.com/pandas/pandas#read_gbq\n",
       "[pd:index]: https://github.com/pandas/pandas#index\n",
       "[pd:rolling_std]: https://github.com/pandas/pandas#rolling_std\n",
       "[pd:qcut]: https://github.com/pandas/pandas#qcut\n",
       "[pd:indexes]: https://github.com/pandas/pandas#indexes\n",
       "[pd:rolling_max]: https://github.com/pandas/pandas#rolling_max\n",
       "[pd:computation]: https://github.com/pandas/pandas#computation\n",
       "[pd:period_range]: https://github.com/pandas/pandas#period_range\n",
       "[pd:set_option]: https://github.com/pandas/pandas#set_option\n",
       "[pd:expanding_median]: https://github.com/pandas/pandas#expanding_median\n",
       "[pd:pnow]: https://github.com/pandas/pandas#pnow\n",
       "[pd:merge]: https://github.com/pandas/pandas#merge\n",
       "[pd:read_msgpack]: https://github.com/pandas/pandas#read_msgpack\n",
       "[pd:algos]: https://github.com/pandas/pandas#algos\n",
       "[pd:_np_version_under1p10]: https://github.com/pandas/pandas#_np_version_under1p10\n",
       "[pd:test]: https://github.com/pandas/pandas#test\n",
       "[pd:_np_version_under1p11]: https://github.com/pandas/pandas#_np_version_under1p11\n",
       "[pd:DateOffset]: https://github.com/pandas/pandas#DateOffset\n",
       "[pd:_window]: https://github.com/pandas/pandas#_window\n",
       "[pd:Panel]: https://github.com/pandas/pandas#Panel\n",
       "[pd:formats]: https://github.com/pandas/pandas#formats\n",
       "[pd:rolling_var]: https://github.com/pandas/pandas#rolling_var\n",
       "[pd:SparseArray]: https://github.com/pandas/pandas#SparseArray\n",
       "[pd:infer_freq]: https://github.com/pandas/pandas#infer_freq\n",
       "[pd:Period]: https://github.com/pandas/pandas#Period\n",
       "[pd:datetime]: https://github.com/pandas/pandas#datetime\n",
       "[pd:expanding_quantile]: https://github.com/pandas/pandas#expanding_quantile\n",
       "[pd:expanding_count]: https://github.com/pandas/pandas#expanding_count\n",
       "[pd:scatter_matrix]: https://github.com/pandas/pandas#scatter_matrix\n",
       "[pd:options]: https://github.com/pandas/pandas#options\n",
       "[pd:ewmvar]: https://github.com/pandas/pandas#ewmvar\n",
       "[pd:expanding_max]: https://github.com/pandas/pandas#expanding_max\n",
       "[pd:concat]: https://github.com/pandas/pandas#concat\n",
       "[pd:read_sas]: https://github.com/pandas/pandas#read_sas\n",
       "[pd:describe_option]: https://github.com/pandas/pandas#describe_option\n",
       "[pd:datetools]: https://github.com/pandas/pandas#datetools\n",
       "[pd:pandas]: https://github.com/pandas/pandas#pandas\n",
       "[pd:io]: https://github.com/pandas/pandas#io\n",
       "[pd:_version]: https://github.com/pandas/pandas#_version\n",
       "[pd:DataFrame]: https://github.com/pandas/pandas#DataFrame\n",
       "[pd:read_clipboard]: https://github.com/pandas/pandas#read_clipboard\n",
       "[pd:rolling_quantile]: https://github.com/pandas/pandas#rolling_quantile\n",
       "[pd:CategoricalIndex]: https://github.com/pandas/pandas#CategoricalIndex\n",
       "[pd:rolling_median]: https://github.com/pandas/pandas#rolling_median\n",
       "[pd:read_json]: https://github.com/pandas/pandas#read_json\n",
       "[pd:expanding_cov]: https://github.com/pandas/pandas#expanding_cov\n",
       "[pd:Categorical]: https://github.com/pandas/pandas#Categorical\n",
       "[pd:read_fwf]: https://github.com/pandas/pandas#read_fwf\n",
       "[pd:DatetimeIndex]: https://github.com/pandas/pandas#DatetimeIndex\n",
       "[pd:TimeSeries]: https://github.com/pandas/pandas#TimeSeries\n",
       "[pd:__version__]: https://github.com/pandas/pandas#__version__\n",
       "[pd:TimedeltaIndex]: https://github.com/pandas/pandas#TimedeltaIndex\n",
       "[pd:rolling_cov]: https://github.com/pandas/pandas#rolling_cov\n",
       "[pd:cut]: https://github.com/pandas/pandas#cut\n",
       "[pd:json]: https://github.com/pandas/pandas#json\n",
       "[pd:expanding_corr]: https://github.com/pandas/pandas#expanding_corr\n",
       "[pd:ewmcorr]: https://github.com/pandas/pandas#ewmcorr\n",
       "[pd:pivot]: https://github.com/pandas/pandas#pivot"
      ],
      "text/plain": [
       "<IPython.core.display.Markdown object>"
      ]
     },
     "metadata": {},
     "output_type": "display_data"
    },
    {
     "data": {
      "text/html": [
       "<div>\n",
       "<table border=\"1\" class=\"dataframe\">\n",
       "  <thead>\n",
       "    <tr style=\"text-align: right;\">\n",
       "      <th></th>\n",
       "      <th>A</th>\n",
       "      <th>B</th>\n",
       "      <th>C</th>\n",
       "      <th>D</th>\n",
       "    </tr>\n",
       "  </thead>\n",
       "  <tbody>\n",
       "    <tr>\n",
       "      <th>8Ljn0SGMo5</th>\n",
       "      <td>0.146886</td>\n",
       "      <td>0.322416</td>\n",
       "      <td>0.044168</td>\n",
       "      <td>0.352853</td>\n",
       "    </tr>\n",
       "    <tr>\n",
       "      <th>z0FwGbiyUd</th>\n",
       "      <td>-1.018506</td>\n",
       "      <td>0.471733</td>\n",
       "      <td>-1.205537</td>\n",
       "      <td>-0.698043</td>\n",
       "    </tr>\n",
       "    <tr>\n",
       "      <th>DUC2ZJepio</th>\n",
       "      <td>-0.276977</td>\n",
       "      <td>-0.941129</td>\n",
       "      <td>1.486763</td>\n",
       "      <td>0.442387</td>\n",
       "    </tr>\n",
       "    <tr>\n",
       "      <th>uVxQrDvSKO</th>\n",
       "      <td>-1.915858</td>\n",
       "      <td>0.512783</td>\n",
       "      <td>-1.454368</td>\n",
       "      <td>-0.850423</td>\n",
       "    </tr>\n",
       "    <tr>\n",
       "      <th>91XcXqBoQZ</th>\n",
       "      <td>-0.319190</td>\n",
       "      <td>1.118365</td>\n",
       "      <td>1.978914</td>\n",
       "      <td>0.703926</td>\n",
       "    </tr>\n",
       "  </tbody>\n",
       "</table>\n",
       "</div>"
      ],
      "text/plain": [
       "                   A         B         C         D\n",
       "8Ljn0SGMo5  0.146886  0.322416  0.044168  0.352853\n",
       "z0FwGbiyUd -1.018506  0.471733 -1.205537 -0.698043\n",
       "DUC2ZJepio -0.276977 -0.941129  1.486763  0.442387\n",
       "uVxQrDvSKO -1.915858  0.512783 -1.454368 -0.850423\n",
       "91XcXqBoQZ -0.319190  1.118365  1.978914  0.703926"
      ]
     },
     "execution_count": 10,
     "metadata": {},
     "output_type": "execute_result"
    }
   ],
   "source": [
    "This tool was designed to tell stories about real data.  Since every code block is just python,\n",
    "`df=__import__('pandas').util.testing.makeDataFrame();df.head()` to make a __[pd:DataFrame][]__. \n",
    "\n",
    "{% for key in pd.__dict__ %}\n",
    "[pd:{{ key }}]: https://github.com/pandas/pandas#{{ key }}{% endfor %}"
   ]
  },
  {
   "cell_type": "code",
   "execution_count": 12,
   "metadata": {},
   "outputs": [
    {
     "data": {
      "text/markdown": [
       "`df;` has the following statistical properties `df.describe()`"
      ],
      "text/plain": [
       "<IPython.core.display.Markdown object>"
      ]
     },
     "metadata": {},
     "output_type": "display_data"
    },
    {
     "data": {
      "text/html": [
       "<div>\n",
       "<table border=\"1\" class=\"dataframe\">\n",
       "  <thead>\n",
       "    <tr style=\"text-align: right;\">\n",
       "      <th></th>\n",
       "      <th>A</th>\n",
       "      <th>B</th>\n",
       "      <th>C</th>\n",
       "      <th>D</th>\n",
       "    </tr>\n",
       "  </thead>\n",
       "  <tbody>\n",
       "    <tr>\n",
       "      <th>count</th>\n",
       "      <td>30.000000</td>\n",
       "      <td>30.000000</td>\n",
       "      <td>30.000000</td>\n",
       "      <td>30.000000</td>\n",
       "    </tr>\n",
       "    <tr>\n",
       "      <th>mean</th>\n",
       "      <td>-0.167767</td>\n",
       "      <td>0.094383</td>\n",
       "      <td>-0.089906</td>\n",
       "      <td>0.209136</td>\n",
       "    </tr>\n",
       "    <tr>\n",
       "      <th>std</th>\n",
       "      <td>0.804183</td>\n",
       "      <td>0.991608</td>\n",
       "      <td>1.134586</td>\n",
       "      <td>1.027796</td>\n",
       "    </tr>\n",
       "    <tr>\n",
       "      <th>min</th>\n",
       "      <td>-1.915858</td>\n",
       "      <td>-2.158519</td>\n",
       "      <td>-1.902018</td>\n",
       "      <td>-2.109670</td>\n",
       "    </tr>\n",
       "    <tr>\n",
       "      <th>25%</th>\n",
       "      <td>-0.711773</td>\n",
       "      <td>-0.842485</td>\n",
       "      <td>-1.092959</td>\n",
       "      <td>-0.520564</td>\n",
       "    </tr>\n",
       "    <tr>\n",
       "      <th>50%</th>\n",
       "      <td>-0.058032</td>\n",
       "      <td>0.261942</td>\n",
       "      <td>-0.206085</td>\n",
       "      <td>0.142370</td>\n",
       "    </tr>\n",
       "    <tr>\n",
       "      <th>75%</th>\n",
       "      <td>0.409570</td>\n",
       "      <td>0.655962</td>\n",
       "      <td>0.810606</td>\n",
       "      <td>0.827205</td>\n",
       "    </tr>\n",
       "    <tr>\n",
       "      <th>max</th>\n",
       "      <td>1.418127</td>\n",
       "      <td>1.933278</td>\n",
       "      <td>1.991167</td>\n",
       "      <td>2.466091</td>\n",
       "    </tr>\n",
       "  </tbody>\n",
       "</table>\n",
       "</div>"
      ],
      "text/plain": [
       "               A          B          C          D\n",
       "count  30.000000  30.000000  30.000000  30.000000\n",
       "mean   -0.167767   0.094383  -0.089906   0.209136\n",
       "std     0.804183   0.991608   1.134586   1.027796\n",
       "min    -1.915858  -2.158519  -1.902018  -2.109670\n",
       "25%    -0.711773  -0.842485  -1.092959  -0.520564\n",
       "50%    -0.058032   0.261942  -0.206085   0.142370\n",
       "75%     0.409570   0.655962   0.810606   0.827205\n",
       "max     1.418127   1.933278   1.991167   2.466091"
      ]
     },
     "execution_count": 12,
     "metadata": {},
     "output_type": "execute_result"
    }
   ],
   "source": [
    "`df;` has the following statistical properties `df.describe()`"
   ]
  },
  {
   "cell_type": "code",
   "execution_count": 12,
   "metadata": {},
   "outputs": [
    {
     "data": {
      "text/markdown": [
       "* Anything that is a file should be importable.  Literacy has rules for markdown and ipynb.\n",
       "* Merging cell makes more sense.  \n",
       "* Code and Markdown cells toggle the ability to execute.\n",
       "* Code prediction works in code cells\n",
       "* Normal error messages for single cell executions.\n",
       "\n",
       "# References"
      ],
      "text/plain": [
       "<IPython.core.display.Markdown object>"
      ]
     },
     "metadata": {},
     "output_type": "display_data"
    }
   ],
   "source": [
    "* Anything that is a file should be importable.  Literacy has rules for markdown and ipynb.\n",
    "* Merging cell makes more sense.  \n",
    "* Code and Markdown cells toggle the ability to execute.\n",
    "* Code prediction works in code cells\n",
    "* Normal error messages for single cell executions.\n",
    "\n",
    "# References"
   ]
  },
  {
   "cell_type": "code",
   "execution_count": 13,
   "metadata": {},
   "outputs": [
    {
     "data": {
      "text/markdown": [
       "        if True and __name__ == '__main__':\n",
       "            !jupyter nbconvert --to markdown readme.ipynb"
      ],
      "text/plain": [
       "<IPython.core.display.Markdown object>"
      ]
     },
     "metadata": {},
     "output_type": "display_data"
    },
    {
     "name": "stdout",
     "output_type": "stream",
     "text": [
      "[NbConvertApp] Converting notebook readme.ipynb to markdown\n",
      "[NbConvertApp] Writing 18187 bytes to readme.md\n"
     ]
    }
   ],
   "source": [
    "        if True and __name__ == '__main__':\n",
    "            !jupyter nbconvert --to markdown readme.ipynb"
   ]
  }
 ],
 "metadata": {
  "kernelspec": {
   "display_name": "Python 3",
   "language": "python",
   "name": "python3"
  },
  "language_info": {
   "codemirror_mode": {
    "name": "ipython",
    "version": 3
   },
   "file_extension": ".py",
   "mimetype": "text/x-python",
   "name": "python",
   "nbconvert_exporter": "python",
   "pygments_lexer": "ipython3",
   "version": "3.5.3"
  }
 },
 "nbformat": 4,
 "nbformat_minor": 2
}
