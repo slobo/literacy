{
 "cells": [
  {
   "cell_type": "code",
   "execution_count": 1,
   "metadata": {},
   "outputs": [],
   "source": [
    "    from ipywidgets import HTML\n",
    "    from traitlets import Instance, observe\n",
    "    from IPython.display import display\n",
    "    from literacy.literate import literate\n",
    "    from literacy.template import environment, run_cell\n",
    "    from mistune import markdown"
   ]
  },
  {
   "cell_type": "code",
   "execution_count": 2,
   "metadata": {
    "collapsed": true
   },
   "outputs": [],
   "source": [
    "    class Reactive(HTML):\n",
    "        template = Instance(environment.template_class)\n",
    "        @observe('value')\n",
    "        def _value_change(self, change=None):\n",
    "            self.value = markdown(self.template.render())"
   ]
  },
  {
   "cell_type": "code",
   "execution_count": 3,
   "metadata": {
    "collapsed": true
   },
   "outputs": [],
   "source": [
    "    def run_template(text):\n",
    "        template = environment.from_string(text)\n",
    "        return display(Reactive(template=template)) or literate.render(template.render())"
   ]
  },
  {
   "cell_type": "code",
   "execution_count": 4,
   "metadata": {
    "collapsed": true
   },
   "outputs": [],
   "source": [
    "    def update_widgets():\n",
    "        [_._value_change() for _ in HTML.widgets.values() if isinstance(_, Reactive)]"
   ]
  },
  {
   "cell_type": "code",
   "execution_count": 5,
   "metadata": {
    "collapsed": true
   },
   "outputs": [],
   "source": [
    "    load_ipython_extension = run_cell(run_template, post=update_widgets)"
   ]
  },
  {
   "cell_type": "code",
   "execution_count": null,
   "metadata": {
    "collapsed": true
   },
   "outputs": [],
   "source": [
    "    cp "
   ]
  }
 ],
 "metadata": {
  "kernelspec": {
   "display_name": "Python 3",
   "language": "python",
   "name": "python3"
  },
  "language_info": {
   "codemirror_mode": {
    "name": "ipython",
    "version": 3
   },
   "file_extension": ".py",
   "mimetype": "text/x-python",
   "name": "python",
   "nbconvert_exporter": "python",
   "pygments_lexer": "ipython3",
   "version": "3.5.3"
  }
 },
 "nbformat": 4,
 "nbformat_minor": 2
}
