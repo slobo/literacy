{
 "cells": [
  {
   "cell_type": "code",
   "execution_count": null,
   "metadata": {
    "collapsed": true,
    "scrolled": true
   },
   "outputs": [],
   "source": [
    "    %load_ext literacy.template\n",
    "    import literacy, nbconvert; from IPython import get_ipython"
   ]
  },
  {
   "cell_type": "markdown",
   "metadata": {},
   "source": [
    "# *nbconvert* Entry Points"
   ]
  },
  {
   "cell_type": "code",
   "execution_count": null,
   "metadata": {},
   "outputs": [],
   "source": [
    "## ExecutePreprocessors\n",
    "\n",
    "__literacy__ changes the behavior of the run cell method.  As a result it is not compatable \n",
    "the standard `nbconvert.preprocessors.execute.ExecutePreprocessor`; instead \n",
    "we use `literacy.literate.Execute` and `literacy.template.Execute;` to execute markdown or jinja markdown, respectively."
   ]
  },
  {
   "cell_type": "code",
   "execution_count": null,
   "metadata": {},
   "outputs": [],
   "source": [
    "### Configuration\n",
    "\n",
    "1. Use a config file to format our converter.\n",
    "\n",
    "        %%file config.py\n",
    "\n",
    "2. Exclude the code cell inputs.\n",
    "        \n",
    "        c.TemplateExporter.exclude_input = True\n",
    "\n",
    "3. Use a custom literacy.Execute to template and run the codes.\n",
    "\n",
    "        c.Exporter.preprocessors = ['literacy.Execute']\n",
    "    \n",
    "    > When using __literacy.template__ rely on.\n",
    "    \n",
    "        #c.Exporter.preprocessors = ['literacy.template.Execute']"
   ]
  },
  {
   "cell_type": "markdown",
   "metadata": {},
   "source": [
    "#### Approach 1: Exploding and Executing\n",
    "\n",
    "Originally we tried exploding the markdown and code cells into a single notebook then applying the standard __ExecutePreprocessor__.  This did not work because of the `literacy` logic that displays files and urls."
   ]
  },
  {
   "cell_type": "markdown",
   "metadata": {},
   "source": [
    "## Usage\n",
    "\n",
    "> Toggle the cell below to convert this document."
   ]
  },
  {
   "cell_type": "markdown",
   "metadata": {},
   "source": [
    "    !jupyter nbconvert --config config.py --to markdown nbconversions.ipynb"
   ]
  }
 ],
 "metadata": {
  "kernelspec": {
   "display_name": "Python 3",
   "language": "python",
   "name": "python3"
  },
  "language_info": {
   "codemirror_mode": {
    "name": "ipython",
    "version": 3
   },
   "file_extension": ".py",
   "mimetype": "text/x-python",
   "name": "python",
   "nbconvert_exporter": "python",
   "pygments_lexer": "ipython3",
   "version": "3.5.3"
  }
 },
 "nbformat": 4,
 "nbformat_minor": 2
}
