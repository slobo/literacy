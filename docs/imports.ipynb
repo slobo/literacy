{
 "cells": [
  {
   "cell_type": "markdown",
   "metadata": {},
   "source": [
    "> In this example we use `literacy.template` mode."
   ]
  },
  {
   "cell_type": "code",
   "execution_count": null,
   "metadata": {},
   "outputs": [],
   "source": [
    "    %load_ext literacy.template\n",
    "    import literacy, importable"
   ]
  },
  {
   "cell_type": "code",
   "execution_count": null,
   "metadata": {},
   "outputs": [],
   "source": [
    "# Importing literate documents\n",
    "\n",
    "The `literacy` __import__ system relies on `importable;` a tool that uses nbconvert to load\n",
    "notebooks with the Python __import__ system.  The proper __import__ behavior is activated when \n",
    "calling `literacy.load_ipython_extension;`  This behavior will affect standard notebooks."
   ]
  },
  {
   "cell_type": "code",
   "execution_count": null,
   "metadata": {},
   "outputs": [],
   "source": [
    "## Templated code blocks\n",
    "\n",
    "Consider the print statements below created with.\n",
    "\n",
    "    {% for i in range(5) %}print(\"The name is \" + __name__, \"💯\", {{i}})\n",
    "    {% endfor %}\n",
    "    \n",
    "---\n",
    "\n",
    "_The output is printed below._"
   ]
  },
  {
   "cell_type": "code",
   "execution_count": null,
   "metadata": {
    "scrolled": true
   },
   "outputs": [],
   "source": [
    "When we `import imports`, we can `assert imports.__file__.endswith('imports.ipynb')`.  And we \n",
    "expect to see the print statements evaluated with a different\\_\\___name__\\_\\_.\n",
    "\n",
    "---\n",
    "\n",
    "_The imported output is printed below._"
   ]
  },
  {
   "cell_type": "markdown",
   "metadata": {},
   "source": [
    "## Note\n",
    "\n",
    "__reload_ext__ only works with `literacy`, not `literacy.template`."
   ]
  },
  {
   "cell_type": "markdown",
   "metadata": {},
   "source": [
    "## Usage\n",
    "\n",
    "> Toggle the cell below to convert this document."
   ]
  },
  {
   "cell_type": "markdown",
   "metadata": {},
   "source": [
    "    !jupyter nbconvert --config tconfig.py --to markdown imports.ipynb"
   ]
  }
 ],
 "metadata": {
  "kernelspec": {
   "display_name": "Python 3",
   "language": "python",
   "name": "python3"
  },
  "language_info": {
   "codemirror_mode": {
    "name": "ipython",
    "version": 3
   },
   "file_extension": ".py",
   "mimetype": "text/x-python",
   "name": "python",
   "nbconvert_exporter": "python",
   "pygments_lexer": "ipython3",
   "version": "3.5.3"
  }
 },
 "nbformat": 4,
 "nbformat_minor": 2
}
