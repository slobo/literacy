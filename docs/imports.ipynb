{
 "cells": [
  {
   "cell_type": "markdown",
   "metadata": {},
   "source": [
    "> In this example we use `literacy.template` mode."
   ]
  },
  {
   "cell_type": "code",
   "execution_count": 1,
   "metadata": {},
   "outputs": [],
   "source": [
    "    %load_ext literacy.template\n",
    "    import literacy"
   ]
  },
  {
   "cell_type": "code",
   "execution_count": 2,
   "metadata": {},
   "outputs": [
    {
     "data": {
      "text/markdown": [
       "# Importing literate documents\n",
       "\n",
       "The `literacy` contains its own __import__ system"
      ],
      "text/plain": [
       "<IPython.core.display.Markdown object>"
      ]
     },
     "metadata": {},
     "output_type": "display_data"
    },
    {
     "data": {
      "text/plain": [
       "<module 'literacy' from '/Users/tonyfast/literacy2/literacy/__init__.py'>"
      ]
     },
     "execution_count": 2,
     "metadata": {},
     "output_type": "execute_result"
    }
   ],
   "source": [
    "# Importing literate documents\n",
    "\n",
    "The `literacy` contains its own __import__ system"
   ]
  },
  {
   "cell_type": "code",
   "execution_count": 3,
   "metadata": {},
   "outputs": [
    {
     "data": {
      "text/markdown": [
       "## Templated code blocks\n",
       "\n",
       "Consider the print statements below created with.\n",
       "\n",
       "    print(\"The name is \" + __name__, \"💯\", 0)\n",
       "    print(\"The name is \" + __name__, \"💯\", 1)\n",
       "    print(\"The name is \" + __name__, \"💯\", 2)\n",
       "    print(\"The name is \" + __name__, \"💯\", 3)\n",
       "    print(\"The name is \" + __name__, \"💯\", 4)\n",
       "    \n",
       "    \n",
       "---\n",
       "\n",
       "_The output is printed below._"
      ],
      "text/plain": [
       "<IPython.core.display.Markdown object>"
      ]
     },
     "metadata": {},
     "output_type": "display_data"
    },
    {
     "name": "stdout",
     "output_type": "stream",
     "text": [
      "The name is __main__ 💯 0\n",
      "The name is __main__ 💯 1\n",
      "The name is __main__ 💯 2\n",
      "The name is __main__ 💯 3\n",
      "The name is __main__ 💯 4\n"
     ]
    }
   ],
   "source": [
    "## Templated code blocks\n",
    "\n",
    "Consider the print statements below created with.\n",
    "\n",
    "    {% for i in range(5) %}print(\"The name is \" + __name__, \"💯\", {{i}})\n",
    "    {% endfor %}\n",
    "    \n",
    "---\n",
    "\n",
    "_The output is printed below._"
   ]
  },
  {
   "cell_type": "code",
   "execution_count": 5,
   "metadata": {
    "scrolled": false
   },
   "outputs": [
    {
     "data": {
      "text/markdown": [
       "## The import system\n",
       "\n",
       "Literate documents can import themselves `...`\n",
       "    \n",
       "    import imports"
      ],
      "text/plain": [
       "<IPython.core.display.Markdown object>"
      ]
     },
     "metadata": {},
     "output_type": "display_data"
    }
   ],
   "source": [
    "## The import system\n",
    "\n",
    "Literate documents can import themselves `...`\n",
    "    \n",
    "    import imports"
   ]
  },
  {
   "cell_type": "markdown",
   "metadata": {},
   "source": [
    "## Usage\n",
    "\n",
    "> Toggle the cell below to convert this document."
   ]
  },
  {
   "cell_type": "markdown",
   "metadata": {},
   "source": [
    "    !jupyter nbconvert --config tconfig.py --to markdown imports.ipynb"
   ]
  }
 ],
 "metadata": {
  "kernelspec": {
   "display_name": "Python 3",
   "language": "python",
   "name": "python3"
  },
  "language_info": {
   "codemirror_mode": {
    "name": "ipython",
    "version": 3
   },
   "file_extension": ".py",
   "mimetype": "text/x-python",
   "name": "python",
   "nbconvert_exporter": "python",
   "pygments_lexer": "ipython3",
   "version": "3.5.3"
  }
 },
 "nbformat": 4,
 "nbformat_minor": 2
}
