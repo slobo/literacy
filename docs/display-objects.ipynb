{
 "cells": [
  {
   "cell_type": "code",
   "execution_count": null,
   "metadata": {
    "collapsed": true,
    "scrolled": true
   },
   "outputs": [],
   "source": [
    "    %load_ext literacy\n",
    "    import literacy, nbconvert; from IPython import get_ipython"
   ]
  },
  {
   "cell_type": "markdown",
   "metadata": {},
   "source": [
    "# Display Objects"
   ]
  },
  {
   "cell_type": "code",
   "execution_count": null,
   "metadata": {},
   "outputs": [],
   "source": [
    "By default, returns the markdown view of the code cell.  All the markdown syntaxes accepted by \n",
    "the `__import__('mistune').Renderer;` are understood."
   ]
  },
  {
   "cell_type": "markdown",
   "metadata": {},
   "source": [
    "## Suppressing Markdown Output"
   ]
  },
  {
   "cell_type": "code",
   "execution_count": null,
   "metadata": {},
   "outputs": [],
   "source": [
    "Sometimes it is desirable to suppress the Markdown input.  Supply a __single blank line__ \n",
    "at the beginning of the cell to suppress the output.\n",
    "\n",
    "> The code cell below illustrates this point."
   ]
  },
  {
   "cell_type": "code",
   "execution_count": null,
   "metadata": {
    "collapsed": true
   },
   "outputs": [],
   "source": [
    "\n",
    "For example, this will not show as Markdown."
   ]
  },
  {
   "cell_type": "code",
   "execution_count": null,
   "metadata": {},
   "outputs": [],
   "source": [
    "### Motivation\n",
    "\n",
    "In IPython, indented code with an empty first like with raise an `Exception;`  Suppressing output\n",
    "with a single blank removes a mode of failure in executing the code.  It also provides\n",
    "a single click UX to make this change."
   ]
  },
  {
   "cell_type": "markdown",
   "metadata": {},
   "source": [
    "## Dereferencing Objects"
   ]
  },
  {
   "cell_type": "code",
   "execution_count": null,
   "metadata": {},
   "outputs": [],
   "source": [
    "The IPython display objects have logic for presenting URLS and filenames.  __literacy__ tweaked these \n",
    "opinions slightly to provide a canonical experience with Files and Urls."
   ]
  },
  {
   "cell_type": "code",
   "execution_count": null,
   "metadata": {},
   "outputs": [],
   "source": [
    "### Configuration\n",
    "\n",
    "1. Use a config file to format our converter.\n",
    "\n",
    "        %%file config.py\n",
    "\n",
    "2. Exclude the code cell inputs.\n",
    "        \n",
    "        c.TemplateExporter.exclude_input = True\n",
    "\n",
    "3. Use a custom literacy.Execute to template and run the codes.\n",
    "\n",
    "        c.Exporter.preprocessors = ['literacy.Execute']\n",
    "    \n",
    "    > When using __literacy.template__ rely on.\n",
    "    \n",
    "        # c.Exporter.preprocessors = ['literacy.template.Execute']"
   ]
  },
  {
   "cell_type": "markdown",
   "metadata": {},
   "source": [
    "#### Approach 1: Exploding and Executing\n",
    "\n",
    "Originally we tried exploding the markdown and code cells into a single notebook then applying the standard __ExecutePreprocessor__.  This did not work because of the `literacy` logic that displays files and urls."
   ]
  },
  {
   "cell_type": "markdown",
   "metadata": {},
   "source": [
    "## Usage\n",
    "\n",
    "> Toggle the cell below to convert this document."
   ]
  },
  {
   "cell_type": "markdown",
   "metadata": {},
   "source": [
    "    !jupyter nbconvert --config config.py --to markdown display-objects.ipynb"
   ]
  }
 ],
 "metadata": {
  "kernelspec": {
   "display_name": "Python 3",
   "language": "python",
   "name": "python3"
  },
  "language_info": {
   "codemirror_mode": {
    "name": "ipython",
    "version": 3
   },
   "file_extension": ".py",
   "mimetype": "text/x-python",
   "name": "python",
   "nbconvert_exporter": "python",
   "pygments_lexer": "ipython3",
   "version": "3.5.3"
  }
 },
 "nbformat": 4,
 "nbformat_minor": 2
}
