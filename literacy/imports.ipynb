{
 "cells": [
  {
   "cell_type": "markdown",
   "metadata": {},
   "source": [
    "😵 simple __import__s for notebooks and markdown files.  All code elements are executed in order and imported into sys models."
   ]
  },
  {
   "cell_type": "code",
   "execution_count": 35,
   "metadata": {
    "collapsed": true
   },
   "outputs": [],
   "source": [
    "        __all__ = []"
   ]
  },
  {
   "cell_type": "code",
   "execution_count": 1,
   "metadata": {},
   "outputs": [],
   "source": [
    "        try: \n",
    "            from preprocessors import Explode, JoinSource\n",
    "        except:\n",
    "            from .preprocessors import Explode, JoinSource\n",
    "\n",
    "        from importlib.util import spec_from_loader\n",
    "        from importlib.machinery import SourceFileLoader, FileFinder\n",
    "        from nbconvert.exporters.base import export, get_exporter\n",
    "        import sys\n",
    "        from os.path import sep, curdir, extsep, exists\n",
    "        from nbconvert import get_exporter, export\n",
    "        from nbformat.v4 import  new_notebook, new_code_cell"
   ]
  },
  {
   "cell_type": "code",
   "execution_count": 2,
   "metadata": {},
   "outputs": [],
   "source": [
    "        class State(object):\n",
    "            def __new__(cls, *args, **kwargs):\n",
    "                if not isinstance(cls.Loader, staticmethod):\n",
    "                    cls.Loader = staticmethod(cls.Loader)\n",
    "                return super(State, cls).__new__(cls, *args, **kwargs)\n",
    "\n",
    "        class ExtensionFinder(State):\n",
    "            def find_spec(self, name, paths, target=None):\n",
    "                for path in paths or [curdir]:\n",
    "                    path = extsep.join(\n",
    "                        [sep.join([path, name.split('.')[-1]]), self.ext])\n",
    "                    if exists(path):\n",
    "                        return spec_from_loader(name, self.Loader(name, path))\n",
    "                return None"
   ]
  },
  {
   "cell_type": "code",
   "execution_count": 3,
   "metadata": {},
   "outputs": [],
   "source": [
    "        exporter = get_exporter('python')(config={'Exporter': {'preprocessors': [Explode(), JoinSource()]}})"
   ]
  },
  {
   "cell_type": "code",
   "execution_count": 4,
   "metadata": {},
   "outputs": [],
   "source": [
    "        class IpynbFinder(ExtensionFinder):\n",
    "            ext = 'ipynb'\n",
    "            class Loader(SourceFileLoader):\n",
    "                def get_code(self, nb):\n",
    "                    return exporter.from_filename(self.path)[0].encode('utf-8')"
   ]
  },
  {
   "cell_type": "code",
   "execution_count": 5,
   "metadata": {
    "collapsed": true
   },
   "outputs": [],
   "source": [
    "        class MdFinder(ExtensionFinder):\n",
    "            ext = 'md'\n",
    "            class Loader(SourceFileLoader):\n",
    "                def get_code(self, path):\n",
    "                    with open(self.path) as f:\n",
    "                        return exporter.from_notebook_node(\n",
    "                            new_notebook(cells=[new_code_cell(f.read())]))[0].encode('utf-8')"
   ]
  },
  {
   "cell_type": "code",
   "execution_count": 6,
   "metadata": {
    "collapsed": true
   },
   "outputs": [],
   "source": [
    "        def load_ipython_extension(ip=get_ipython()):\n",
    "            for finder in [IpynbFinder, MdFinder]:\n",
    "                sys.meta_path.append(finder())\n",
    "                sys.path_hooks.append(FileFinder.path_hook((finder.Loader, [extsep+finder.ext])))\n",
    "            sys.path_importer_cache.clear()"
   ]
  },
  {
   "cell_type": "code",
   "execution_count": 7,
   "metadata": {},
   "outputs": [
    {
     "name": "stdout",
     "output_type": "stream",
     "text": [
      "[NbConvertApp] Converting notebook imports.ipynb to script\r\n",
      "[NbConvertApp] Writing 2229 bytes to imports.py\r\n"
     ]
    }
   ],
   "source": [
    "        if __name__ == '__main__': \n",
    "            !jupyter nbconvert --to script imports.ipynb"
   ]
  },
  {
   "cell_type": "code",
   "execution_count": null,
   "metadata": {},
   "outputs": [],
   "source": []
  }
 ],
 "metadata": {
  "artifacts": [
   ".py"
  ],
  "kernelspec": {
   "display_name": "Python 3",
   "language": "python",
   "name": "python3"
  },
  "language_info": {
   "codemirror_mode": {
    "name": "ipython",
    "version": 3
   },
   "file_extension": ".py",
   "mimetype": "text/x-python",
   "name": "python",
   "nbconvert_exporter": "python",
   "pygments_lexer": "ipython3",
   "version": "3.5.3"
  },
  "nbconvert": {
   "script": {}
  }
 },
 "nbformat": 4,
 "nbformat_minor": 2
}
