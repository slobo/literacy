{
 "cells": [
  {
   "cell_type": "code",
   "execution_count": 5,
   "metadata": {},
   "outputs": [],
   "source": [
    "        from types import MethodType\n",
    "        from IPython.core.interactiveshell import InteractiveShell"
   ]
  },
  {
   "cell_type": "code",
   "execution_count": 4,
   "metadata": {},
   "outputs": [],
   "source": [
    "        def run_cell(function):\n",
    "            def load_ipython_extension(ip=__import__(\"IPython\").get_ipython()):\n",
    "                def _run_cell(self, text, store_history=False, silent=False, shell_features=True):\n",
    "                    with function(text) as code:\n",
    "                        exec =  InteractiveShell.run_cell(self, code, store_history, silent, shell_features)\n",
    "                    return exec\n",
    "                ip.run_cell = MethodType(_run_cell, ip)\n",
    "            return load_ipython_extension"
   ]
  }
 ],
 "metadata": {
  "kernelspec": {
   "display_name": "Python 3",
   "language": "python",
   "name": "python3"
  },
  "language_info": {
   "codemirror_mode": {
    "name": "ipython",
    "version": 3
   },
   "file_extension": ".py",
   "mimetype": "text/x-python",
   "name": "python",
   "nbconvert_exporter": "python",
   "pygments_lexer": "ipython3",
   "version": "3.5.3"
  }
 },
 "nbformat": 4,
 "nbformat_minor": 2
}
