{
 "cells": [
  {
   "cell_type": "code",
   "execution_count": 3,
   "metadata": {
    "collapsed": true
   },
   "outputs": [],
   "source": [
    "    try:\n",
    "        from .preprocessors import JoinSource, Codify, StripCode\n",
    "        from .markdown import Explode\n",
    "    except:\n",
    "        from preprocessors import JoinSource, Codify, StripCode\n",
    "        from markdown import Explode\n",
    "    from nbconvert.exporters.markdown import MarkdownExporter\n",
    "    from nbconvert.exporters.script import ScriptExporter\n",
    "    from traitlets import List, default\n",
    "    from traitlets.config import Config"
   ]
  },
  {
   "cell_type": "code",
   "execution_count": 15,
   "metadata": {},
   "outputs": [],
   "source": [
    "    class CodeExporter(ScriptExporter):\n",
    "        @default('preprocessors')\n",
    "        def _default_preprocessors(self):\n",
    "            return [Explode()]"
   ]
  },
  {
   "cell_type": "code",
   "execution_count": 9,
   "metadata": {},
   "outputs": [],
   "source": [
    "    class LiterateExporter(MarkdownExporter):\n",
    "        @default('preprocessors')\n",
    "        def _default_preprocessors(self):\n",
    "            return [StripCode()]"
   ]
  }
 ],
 "metadata": {
  "kernelspec": {
   "display_name": "Python 3",
   "language": "python",
   "name": "python3"
  },
  "language_info": {
   "codemirror_mode": {
    "name": "ipython",
    "version": 3
   },
   "file_extension": ".py",
   "mimetype": "text/x-python",
   "name": "python",
   "nbconvert_exporter": "python",
   "pygments_lexer": "ipython3",
   "version": "3.5.3"
  }
 },
 "nbformat": 4,
 "nbformat_minor": 2
}
