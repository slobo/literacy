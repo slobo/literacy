{
 "cells": [
  {
   "cell_type": "code",
   "execution_count": null,
   "metadata": {
    "collapsed": true
   },
   "outputs": [],
   "source": [
    "    try:\n",
    "        from .preprocessors import JoinSource\n",
    "        from .markdown import Explode, IndentInline\n",
    "    except:\n",
    "        from preprocessors import JoinSource\n",
    "        from markdown import Explode, IndentInline\n",
    "    from nbconvert.exporters.script import ScriptExporter as LiterateExporter\n",
    "    from traitlets import List"
   ]
  },
  {
   "cell_type": "code",
   "execution_count": null,
   "metadata": {},
   "outputs": [],
   "source": [
    "    LiterateExporter.preprocessors = List([JoinSource(), Explode()])"
   ]
  }
 ],
 "metadata": {
  "kernelspec": {
   "display_name": "Python 3",
   "language": "python",
   "name": "python3"
  },
  "language_info": {
   "codemirror_mode": {
    "name": "ipython",
    "version": 3
   },
   "file_extension": ".py",
   "mimetype": "text/x-python",
   "name": "python",
   "nbconvert_exporter": "python",
   "pygments_lexer": "ipython3",
   "version": "3.5.3"
  }
 },
 "nbformat": 4,
 "nbformat_minor": 2
}
