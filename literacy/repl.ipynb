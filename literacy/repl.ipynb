{
 "cells": [
  {
   "cell_type": "code",
   "execution_count": 1,
   "metadata": {},
   "outputs": [],
   "source": [
    "        try: \n",
    "            from preprocessors import Explode\n",
    "        except:\n",
    "            from .preprocessors import Explode\n",
    "        from IPython.display import display, Markdown\n",
    "\n",
    "        from nbformat import NotebookNode\n",
    "        from nbformat.v4 import new_code_cell, new_notebook\n",
    "        from types import MethodType\n",
    "\n",
    "        from IPython.core.interactiveshell import InteractiveShell, ExecutionResult\n",
    "        __all__ = []"
   ]
  },
  {
   "cell_type": "code",
   "execution_count": 2,
   "metadata": {},
   "outputs": [],
   "source": [
    "        class Repl:\n",
    "            def __init__(self, kernel):\n",
    "                self.kernel = kernel\n",
    "                \n",
    "            def read(self, text):\n",
    "                return text\n",
    "            \n",
    "            def eval(self, text):\n",
    "                return new_notebook(cells=[new_code_cell(source=text)])            \n",
    "\n",
    "            def print(*args, **kwargs): ...\n",
    "\n",
    "            def run_cell(self, content, *args, **kwargs):\n",
    "                if not isinstance(content, NotebookNode):\n",
    "                    content = self.read(content)\n",
    "                node = self.eval(content)\n",
    "                result = self.loop(node, *args, **kwargs)\n",
    "                return self.print(node) or result"
   ]
  },
  {
   "cell_type": "code",
   "execution_count": 3,
   "metadata": {},
   "outputs": [],
   "source": [
    "        class RunCell(Repl):                \n",
    "            def loop(self, node, store_history=False, silent=False, shell_futures=True):\n",
    "                last = ExecutionResult()\n",
    "                for cell in node['cells']:\n",
    "                    if cell['cell_type'] == 'code':\n",
    "                        last = InteractiveShell.run_cell(self.kernel, cell['source'], store_history=store_history, silent=silent, shell_futures=shell_futures)\n",
    "                return last"
   ]
  },
  {
   "cell_type": "code",
   "execution_count": 4,
   "metadata": {},
   "outputs": [],
   "source": [
    "        class Literate(RunCell):\n",
    "            def read(self, text):\n",
    "                display(Markdown(text))\n",
    "                return text\n",
    "            def eval(self, text):\n",
    "                nb = super(Literate, self).eval(text)\n",
    "                nb = Explode().preprocess(nb, {})[0]\n",
    "                return nb"
   ]
  },
  {
   "cell_type": "code",
   "execution_count": 5,
   "metadata": {},
   "outputs": [],
   "source": [
    "        def repl(cls):\n",
    "            def _load_ipython_extension(ip=__import__(\"IPython\").get_ipython()):\n",
    "                ip.run_cell = cls(ip).run_cell\n",
    "            return _load_ipython_extension"
   ]
  },
  {
   "cell_type": "code",
   "execution_count": 8,
   "metadata": {},
   "outputs": [],
   "source": [
    "        load_ipython_extension = repl(Literate)\n",
    "\n",
    "        def unload_ipython_extension(ip=__import__('IPython').get_ipython()):\n",
    "            ip.run_cell = MethodType(InteractiveShell.run_cell, ip)"
   ]
  },
  {
   "cell_type": "code",
   "execution_count": 7,
   "metadata": {},
   "outputs": [
    {
     "name": "stdout",
     "output_type": "stream",
     "text": [
      "[NbConvertApp] Converting notebook repl.ipynb to python\n",
      "[NbConvertApp] Writing 2106 bytes to repl.py\n"
     ]
    }
   ],
   "source": [
    "        if __name__ == '__main__':\n",
    "            !jupyter nbconvert --to python repl.ipynb"
   ]
  }
 ],
 "metadata": {
  "kernelspec": {
   "display_name": "Python 3",
   "language": "python",
   "name": "python3"
  },
  "language_info": {
   "codemirror_mode": {
    "name": "ipython",
    "version": 3
   },
   "file_extension": ".py",
   "mimetype": "text/x-python",
   "name": "python",
   "nbconvert_exporter": "python",
   "pygments_lexer": "ipython3",
   "version": "3.5.3"
  }
 },
 "nbformat": 4,
 "nbformat_minor": 2
}
