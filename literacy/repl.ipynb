{
 "cells": [
  {
   "cell_type": "code",
   "execution_count": null,
   "metadata": {
    "collapsed": true
   },
   "outputs": [],
   "source": [
    "        try: \n",
    "            from .exporters import CodeExporter\n",
    "            from .markdown import IndentInline\n",
    "        except:\n",
    "            from exporters import CodeExporter\n",
    "            from markdown import IndentInline\n",
    "        from IPython.display import display, Markdown\n",
    "\n",
    "        from nbformat import NotebookNode\n",
    "        from nbformat.v4 import new_code_cell, new_notebook\n",
    "        from nbconvert import export\n",
    "        from types import MethodType\n",
    "\n",
    "        from IPython.core.interactiveshell import InteractiveShell, ExecutionResult\n",
    "        __all__ = []\n",
    "        exporter = CodeExporter()"
   ]
  },
  {
   "cell_type": "code",
   "execution_count": null,
   "metadata": {
    "collapsed": true
   },
   "outputs": [],
   "source": [
    "        class Repl:\n",
    "            def __init__(self, kernel):\n",
    "                self.kernel = kernel\n",
    "                \n",
    "            def read(self, text):\n",
    "                return text\n",
    "            \n",
    "            def eval(self, text):\n",
    "                return new_notebook(cells=[new_code_cell(source=text)])            \n",
    "\n",
    "            def print(*args, **kwargs): ...\n",
    "\n",
    "            def run_cell(self, content, *args, **kwargs):\n",
    "                if not isinstance(content, NotebookNode):\n",
    "                    content = self.read(content)\n",
    "                node = self.eval(content)\n",
    "                result = self.loop(node, *args, **kwargs)\n",
    "                return self.print(node) or result"
   ]
  },
  {
   "cell_type": "code",
   "execution_count": null,
   "metadata": {},
   "outputs": [],
   "source": [
    "        def run_node(kernel, node, store_history, silent, shell_futures):\n",
    "            code = export(exporter, node)[0][1:]\n",
    "            return InteractiveShell.run_cell(kernel, code, store_history=store_history, silent=silent, shell_futures=shell_futures)"
   ]
  },
  {
   "cell_type": "code",
   "execution_count": null,
   "metadata": {
    "collapsed": true
   },
   "outputs": [],
   "source": [
    "        class RunCell(Repl):                \n",
    "            def loop(self, node, store_history=False, silent=False, shell_futures=True):\n",
    "                return run_node(self.kernel, node, store_history, silent, shell_futures)"
   ]
  },
  {
   "cell_type": "code",
   "execution_count": null,
   "metadata": {
    "collapsed": true
   },
   "outputs": [],
   "source": [
    "        class Literate(RunCell):\n",
    "            def read(self, text):\n",
    "                display(Markdown(text))\n",
    "                return text"
   ]
  },
  {
   "cell_type": "code",
   "execution_count": null,
   "metadata": {
    "collapsed": true
   },
   "outputs": [],
   "source": [
    "        def repl(cls):\n",
    "            def _load_ipython_extension(ip=__import__(\"IPython\").get_ipython()):\n",
    "                ip.run_cell = cls(ip).run_cell\n",
    "            return _load_ipython_extension"
   ]
  },
  {
   "cell_type": "code",
   "execution_count": null,
   "metadata": {
    "collapsed": true
   },
   "outputs": [],
   "source": [
    "        load_ipython_extension = repl(Literate)\n",
    "\n",
    "        def unload_ipython_extension(ip=__import__('IPython').get_ipython()):\n",
    "            ip.run_cell = MethodType(InteractiveShell.run_cell, ip)"
   ]
  },
  {
   "cell_type": "code",
   "execution_count": null,
   "metadata": {},
   "outputs": [],
   "source": []
  }
 ],
 "metadata": {
  "kernelspec": {
   "display_name": "Python 3",
   "language": "python",
   "name": "python3"
  },
  "language_info": {
   "codemirror_mode": {
    "name": "ipython",
    "version": 3
   },
   "file_extension": ".py",
   "mimetype": "text/x-python",
   "name": "python",
   "nbconvert_exporter": "python",
   "pygments_lexer": "ipython3",
   "version": "3.5.3"
  }
 },
 "nbformat": 4,
 "nbformat_minor": 2
}
