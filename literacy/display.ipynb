{
 "cells": [
  {
   "cell_type": "code",
   "execution_count": null,
   "metadata": {
    "collapsed": true
   },
   "outputs": [],
   "source": [
    "        __all__ = 'style',"
   ]
  },
  {
   "cell_type": "markdown",
   "metadata": {},
   "source": [
    "Extra style sheets go here.\n",
    "\n",
    "These could be arguments to the magic."
   ]
  },
  {
   "cell_type": "code",
   "execution_count": 16,
   "metadata": {
    "collapsed": true
   },
   "outputs": [],
   "source": [
    "        from IPython.display import display, HTML, Javascript"
   ]
  },
  {
   "cell_type": "code",
   "execution_count": 17,
   "metadata": {
    "collapsed": true
   },
   "outputs": [],
   "source": [
    "        __style_block__ = \"\"\"\n",
    "        <style>\n",
    "        {css}\n",
    "        </style>\n",
    "        \"\"\".format\n",
    "    \n",
    "        def style(css=\"\", javascript=\"\"):\n",
    "            return display(\n",
    "                HTML(__style_block__(**locals())), Javascript(javascript))"
   ]
  },
  {
   "cell_type": "code",
   "execution_count": 21,
   "metadata": {},
   "outputs": [
    {
     "name": "stdout",
     "output_type": "stream",
     "text": [
      "[NbConvertApp] Converting notebook display.ipynb to script\n",
      "[NbConvertApp] Writing 515 bytes to display.py\n"
     ]
    }
   ],
   "source": [
    "        if __name__ == '__main__': \n",
    "            !jupyter nbconvert --to script display.ipynb"
   ]
  },
  {
   "cell_type": "code",
   "execution_count": null,
   "metadata": {
    "collapsed": true
   },
   "outputs": [],
   "source": []
  }
 ],
 "metadata": {
  "kernelspec": {
   "display_name": "Python 3",
   "language": "python",
   "name": "python3"
  },
  "language_info": {
   "codemirror_mode": {
    "name": "ipython",
    "version": 3
   },
   "file_extension": ".py",
   "mimetype": "text/x-python",
   "name": "python",
   "nbconvert_exporter": "python",
   "pygments_lexer": "ipython3",
   "version": "3.5.3"
  }
 },
 "nbformat": 4,
 "nbformat_minor": 2
}
