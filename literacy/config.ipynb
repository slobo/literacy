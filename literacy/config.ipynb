{
 "cells": [
  {
   "cell_type": "code",
   "execution_count": 1,
   "metadata": {
    "collapsed": true
   },
   "outputs": [],
   "source": [
    "__all__ = 'c',"
   ]
  },
  {
   "cell_type": "code",
   "execution_count": 2,
   "metadata": {},
   "outputs": [],
   "source": [
    "try:\n",
    "    from literacy import renderer\n",
    "except:\n",
    "    from .literacy import renderer\n",
    "    \n",
    "from nbconvert.preprocessors.base import Preprocessor\n",
    "from nbconvert.exporters.python import PythonExporter\n",
    "from nbformat.v4 import new_code_cell, new_markdown_cell\n",
    "\n",
    "if 'c' not in locals():\n",
    "    c = __import__('traitlets').config.Config()"
   ]
  },
  {
   "cell_type": "code",
   "execution_count": 3,
   "metadata": {},
   "outputs": [],
   "source": [
    "class LiteracyPreprocessor(Preprocessor):\n",
    "    def preprocess(self, nb, resources):\n",
    "        cells = []\n",
    "        for cell in nb['cells']:\n",
    "            if cell['cell_type'] == 'code':\n",
    "                source = cell['source']\n",
    "                renderer.render(source)\n",
    "                cells.append(new_markdown_cell(source))\n",
    "                cells.append(new_code_cell(**cell))\n",
    "                cells[-1].update(\n",
    "                    source='\\n'.join([s[0] for s in renderer.renderer.source]),\n",
    "                    outputs=cells[-1].outputs[1:])\n",
    "            else:\n",
    "                cells.append(cell)\n",
    "            \n",
    "        return nb.update(cells=cells) or nb, resources\n",
    "    \n",
    "c.Exporter.preprocessors = [LiteracyPreprocessor]"
   ]
  },
  {
   "cell_type": "code",
   "execution_count": 5,
   "metadata": {},
   "outputs": [
    {
     "name": "stdout",
     "output_type": "stream",
     "text": [
      "[NbConvertApp] Converting notebook config.ipynb to python\n",
      "[NbConvertApp] Writing 1229 bytes to config.py\n"
     ]
    }
   ],
   "source": [
    "if __name__ == '__main__':\n",
    "    !jupyter nbconvert --to python config.ipynb"
   ]
  }
 ],
 "metadata": {
  "kernelspec": {
   "display_name": "Python 3",
   "language": "python",
   "name": "python3"
  },
  "language_info": {
   "codemirror_mode": {
    "name": "ipython",
    "version": 3
   },
   "file_extension": ".py",
   "mimetype": "text/x-python",
   "name": "python",
   "nbconvert_exporter": "python",
   "pygments_lexer": "ipython3",
   "version": "3.5.3"
  }
 },
 "nbformat": 4,
 "nbformat_minor": 2
}
