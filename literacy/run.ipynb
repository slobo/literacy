{
 "cells": [
  {
   "cell_type": "code",
   "execution_count": 1,
   "metadata": {
    "collapsed": true
   },
   "outputs": [],
   "source": [
    "        from types import MethodType\n",
    "        from IPython.core.interactiveshell import InteractiveShell\n",
    "        from contextlib import contextmanager\n",
    "        from functools import wraps"
   ]
  },
  {
   "cell_type": "code",
   "execution_count": 2,
   "metadata": {
    "collapsed": true
   },
   "outputs": [],
   "source": [
    "        def run_cell(enter=[], exit=[]):\n",
    "            runner = run(enter, exit)\n",
    "            def _run_cell(self, text, store_history=False, silent=False, shell_features=True):\n",
    "                with runner(text) as code:\n",
    "                        return InteractiveShell.run_cell(self, code, store_history, silent, shell_features)\n",
    "            def load_ipython_extension(ip=__import__(\"IPython\").get_ipython()):\n",
    "                ip.run_cell = MethodType(_run_cell, ip)\n",
    "            return load_ipython_extension"
   ]
  },
  {
   "cell_type": "code",
   "execution_count": 3,
   "metadata": {
    "collapsed": true
   },
   "outputs": [],
   "source": [
    "        def run(enter=[], exit=[]):\n",
    "            @contextmanager\n",
    "            def _run(code):\n",
    "                for fn in enter:\n",
    "                    _, code = code, fn(code)\n",
    "                yield code\n",
    "                for fn in exit:\n",
    "                    fn()\n",
    "            return _run"
   ]
  }
 ],
 "metadata": {
  "kernelspec": {
   "display_name": "Python 3",
   "language": "python",
   "name": "python3"
  },
  "language_info": {
   "codemirror_mode": {
    "name": "ipython",
    "version": 3
   },
   "file_extension": ".py",
   "mimetype": "text/x-python",
   "name": "python",
   "nbconvert_exporter": "python",
   "pygments_lexer": "ipython3",
   "version": "3.5.3"
  }
 },
 "nbformat": 4,
 "nbformat_minor": 2
}
