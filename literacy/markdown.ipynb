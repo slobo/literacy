{
 "cells": [
  {
   "cell_type": "code",
   "execution_count": 11,
   "metadata": {},
   "outputs": [],
   "source": [
    "        try:\n",
    "            from .preprocessors import preprocessor, JoinSource\n",
    "        except:\n",
    "            from preprocessors import preprocessor, JoinSource\n",
    "        from nbformat.v4 import new_markdown_cell, new_code_cell, new_notebook, new_output, nbformat_schema\n",
    "        from nbformat import NotebookNode\n",
    "        from mistune import Markdown, Renderer, preprocessing\n",
    "        __all__ = []"
   ]
  },
  {
   "cell_type": "code",
   "execution_count": 12,
   "metadata": {},
   "outputs": [],
   "source": [
    "        def codespan(text, code: str, lang=\"\"\"\"\"\", markdown=\"\"\"\"\"\", SEP='`'):\n",
    "            return (*text.split(SEP, 2), SEP)\n",
    "\n",
    "        def block_code(text, code: str, lang: str, block=\"\"\"\"\"\", markdown=\"\"\"\"\"\", SEP='```'):\n",
    "            for line in filter(bool, code.splitlines()):\n",
    "                leading, text = text.split(line, 1)\n",
    "                if not block:\n",
    "                    if SEP in leading:\n",
    "                        markdown, leading = leading.split(SEP+lang, 1)\n",
    "                    else:\n",
    "                        (*markdown, leading), SEP = leading.splitlines(), \"\"\n",
    "                block += leading + line\n",
    "            return markdown, block, text, SEP\n",
    "        \n",
    "        blocks = {'codespan': codespan, 'block_code': block_code}"
   ]
  },
  {
   "cell_type": "code",
   "execution_count": 17,
   "metadata": {},
   "outputs": [],
   "source": [
    "        class Notebook(Markdown):\n",
    "            def render(self, body, metadata={}, outputs=[]):\n",
    "                if isinstance(body, NotebookNode):\n",
    "                    outputs, body = body.get('outputs'), body.get('source')\n",
    "                body, cells, self.renderer.blocks = preprocessing(body), [], []\n",
    "                \n",
    "                # Split code by hand into markdown and code to maintain indents.\n",
    "                for code, lang, type in super().render(body) and self.renderer.blocks:\n",
    "                    markdown, block, body, SEP = blocks[type](body, code, lang)\n",
    "                    '\\n'.join(markdown).strip() and cells.append(new_markdown_cell(markdown, metadata=metadata))\n",
    "                    if block.strip():\n",
    "                        cells.append(new_code_cell(block, metadata=metadata))\n",
    "                        cells[-1]['metadata'].update({'lang': lang, 'sep': SEP, 'src': type})\n",
    "                    else:\n",
    "                        cells.append(new_markdown_cell(block))\n",
    "                nb = new_notebook(cells=body and cells.append(new_markdown_cell(body)) or cells)\n",
    "                nb, resources = JoinSource().preprocess(nb, {})\n",
    "                nb, resources = IndentInline().preprocess(nb, {})\n",
    "                return nb\n",
    "\n",
    "        class CodeCell(Renderer):\n",
    "            def block_code(self, code: str, lang='') -> str:\n",
    "                return self.blocks.append((code, lang or '', 'block_code')) or super().block_code(code, lang)\n",
    "\n",
    "            def codespan(self, code: str, lang='') -> str:\n",
    "                return self.blocks.append((code, lang, 'codespan')) or super().codespan(code)\n",
    "\n",
    "        CodeCell.blocks = []\n",
    "        \n",
    "        renderer = Notebook(renderer=CodeCell(), parse_block_html=False)"
   ]
  },
  {
   "cell_type": "code",
   "execution_count": 18,
   "metadata": {
    "collapsed": true
   },
   "outputs": [],
   "source": [
    "        @preprocessor\n",
    "        def Explode(self, nb, resources):\n",
    "            cells = []\n",
    "            for cell in nb['cells']:\n",
    "                if cell['cell_type']=='code':\n",
    "                    new = renderer.render(cell, cell['metadata'])\n",
    "                    cells.extend(new['cells'])\n",
    "                else:\n",
    "                    cells.append(cell)\n",
    "            nb.update(cells=cells) or nb \n",
    "            nb, resources = IndentInline().preprocess(nb, {})\n",
    "            return nb, resources"
   ]
  },
  {
   "cell_type": "code",
   "execution_count": 16,
   "metadata": {
    "collapsed": true
   },
   "outputs": [],
   "source": [
    "        @preprocessor\n",
    "        def IndentInline(self, nb, resources):\n",
    "            codes = [_ for _ in nb['cells'] if _['cell_type']=='code']\n",
    "            if len(codes) > 1:\n",
    "                for i, cell in enumerate(codes):\n",
    "                    if cell['cell_type']=='code' and 'src' in cell['metadata'] and cell['metadata']['src']=='codespan':\n",
    "                        lines = codes[i-1 if i > 0 else i+1]['source'].splitlines()\n",
    "                        del cell['metadata']['src']\n",
    "                        while lines and not lines[-1].strip():\n",
    "                            lines.pop()\n",
    "                        if lines:\n",
    "                            cell['source'] = ' '*(len(lines[-1]) - len(lines[-1].lstrip()))+cell['source']\n",
    "            return nb, resources"
   ]
  }
 ],
 "metadata": {
  "kernelspec": {
   "display_name": "Python 3",
   "language": "python",
   "name": "python3"
  },
  "language_info": {
   "codemirror_mode": {
    "name": "ipython",
    "version": 3
   },
   "file_extension": ".py",
   "mimetype": "text/x-python",
   "name": "python",
   "nbconvert_exporter": "python",
   "pygments_lexer": "ipython3",
   "version": "3.5.3"
  }
 },
 "nbformat": 4,
 "nbformat_minor": 2
}
