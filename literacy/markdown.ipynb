{
 "cells": [
  {
   "cell_type": "code",
   "execution_count": 1,
   "metadata": {},
   "outputs": [],
   "source": [
    "        from nbformat.v4 import new_markdown_cell, new_code_cell, new_notebook, new_output, nbformat_schema\n",
    "        from nbformat import NotebookNode\n",
    "        from mistune import Markdown, Renderer, preprocessing\n",
    "        __all__ = []"
   ]
  },
  {
   "cell_type": "code",
   "execution_count": 2,
   "metadata": {},
   "outputs": [],
   "source": [
    "        def codespan(text, code: str, lang=\"\"\"\"\"\", markdown=\"\"\"\"\"\", SEP='`'):\n",
    "            return (*text.split(SEP, 2), SEP)\n",
    "\n",
    "        def block_code(text, code: str, lang: str, block=\"\"\"\"\"\", markdown=\"\"\"\"\"\", SEP='```'):\n",
    "            for line in filter(bool, code.splitlines()):\n",
    "                leading, text = text.split(line, 1)\n",
    "                if not block:\n",
    "                    if SEP in leading:\n",
    "                        markdown, leading = leading.split(SEP+lang, 1)\n",
    "                    else:\n",
    "                        (*markdown, leading), SEP = leading.splitlines(), \"\"\n",
    "                block += leading + line\n",
    "            return markdown, block, text, SEP\n",
    "        \n",
    "        blocks = {'codespan': codespan, 'block_code': block_code}"
   ]
  },
  {
   "cell_type": "code",
   "execution_count": 6,
   "metadata": {},
   "outputs": [],
   "source": [
    "        class Notebook(Markdown):\n",
    "            def render(self, body, metadata={}, outputs=[]):\n",
    "                if isinstance(body, NotebookNode):\n",
    "                    outputs, body = body.get('outputs'), body.get('source')\n",
    "                body, cells, self.renderer.blocks = preprocessing(body), [], []\n",
    "                for code, lang, type in super().render(body) and self.renderer.blocks:\n",
    "                    markdown, block, body, SEP = blocks[type](body, code, lang)\n",
    "                    '\\n'.join(markdown).strip() and cells.append(new_markdown_cell(markdown, metadata=metadata))\n",
    "                    if block.strip():\n",
    "                        cells.append(new_code_cell(block, metadata=metadata))\n",
    "                        cells[-1]['metadata'].update({'lang': lang, 'sep': SEP})\n",
    "                    else:\n",
    "                        cells.append(new_markdown_cell(block))\n",
    "                return new_notebook(cells=body and cells.append(new_markdown_cell(body)) or cells)\n",
    "\n",
    "        class CodeCell(Renderer):\n",
    "            def block_code(self, code: str, lang='') -> str:\n",
    "                return self.blocks.append((code, lang or '', 'block_code')) or super().block_code(code, lang)\n",
    "\n",
    "            def codespan(self, code: str, lang='') -> str:\n",
    "                return self.blocks.append((code, lang, 'codespan')) or super().codespan(code)\n",
    "\n",
    "        CodeCell.blocks = []\n",
    "        \n",
    "        renderer = Notebook(renderer=CodeCell(), parse_block_html=False)"
   ]
  }
 ],
 "metadata": {
  "kernelspec": {
   "display_name": "Python 3",
   "language": "python",
   "name": "python3"
  },
  "language_info": {
   "codemirror_mode": {
    "name": "ipython",
    "version": 3
   },
   "file_extension": ".py",
   "mimetype": "text/x-python",
   "name": "python",
   "nbconvert_exporter": "python",
   "pygments_lexer": "ipython3",
   "version": "3.5.3"
  }
 },
 "nbformat": 4,
 "nbformat_minor": 2
}
