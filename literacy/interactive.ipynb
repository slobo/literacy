{
 "cells": [
  {
   "cell_type": "code",
   "execution_count": 12,
   "metadata": {},
   "outputs": [],
   "source": [
    "        try: \n",
    "            from repl import Literate, unload_ipython_extension\n",
    "            from markdown import renderer\n",
    "            from template import exporter\n",
    "        except:\n",
    "            from .repl import Literate, unload_ipython_extension\n",
    "            from .markdown import renderer\n",
    "            from .template import exporter\n",
    "            \n",
    "        from ipywidgets import HTML\n",
    "        from traitlets import Any, observe, Unicode\n",
    "        from IPython.display import display\n",
    "        from IPython import get_ipython\n",
    "        from ipywidgets.widgets.widget import Widget"
   ]
  },
  {
   "cell_type": "code",
   "execution_count": 13,
   "metadata": {},
   "outputs": [],
   "source": [
    "        class Template(HTML):\n",
    "            template = Any()\n",
    "            markdown = Unicode()\n",
    "            \n",
    "            @observe('template')\n",
    "            def render(self, change={}):\n",
    "                self.markdown = self.template.render(**get_ipython().user_ns)\n",
    "                self.value = renderer(self.markdown)\n",
    "                return self"
   ]
  },
  {
   "cell_type": "code",
   "execution_count": 14,
   "metadata": {},
   "outputs": [],
   "source": [
    "        class Interactive(Literate):\n",
    "            def read(self, text):\n",
    "                w = Template(template=exporter.environment.from_string(text))\n",
    "                display(w)\n",
    "                return w.markdown\n",
    "            def print(self, *args):\n",
    "                [w.render() for w in Widget.widgets.values() if isinstance(w, Template)]"
   ]
  },
  {
   "cell_type": "code",
   "execution_count": 15,
   "metadata": {},
   "outputs": [],
   "source": [
    "        def load_ipython_extension(ip=__import__('IPython').get_ipython()):\n",
    "            ip.run_cell = Interactive()"
   ]
  },
  {
   "cell_type": "code",
   "execution_count": 16,
   "metadata": {},
   "outputs": [
    {
     "name": "stdout",
     "output_type": "stream",
     "text": [
      "[NbConvertApp] Converting notebook interactive.ipynb to python\r\n",
      "[NbConvertApp] Writing 1315 bytes to interactive.py\r\n"
     ]
    }
   ],
   "source": [
    "        if __name__ == '__main__':\n",
    "            !jupyter nbconvert --to python interactive.ipynb"
   ]
  }
 ],
 "metadata": {
  "kernelspec": {
   "display_name": "Python 3",
   "language": "python",
   "name": "python3"
  },
  "language_info": {
   "codemirror_mode": {
    "name": "ipython",
    "version": 3
   },
   "file_extension": ".py",
   "mimetype": "text/x-python",
   "name": "python",
   "nbconvert_exporter": "python",
   "pygments_lexer": "ipython3",
   "version": "3.5.3"
  },
  "widgets": {
   "application/vnd.jupyter.widget-state+json": {
    "state": {
     "048d96c9faa54382a38d0383f7f06807": {
      "model_module": "jupyter-js-widgets",
      "model_module_version": "~2.1.4",
      "model_name": "HTMLModel",
      "state": {
       "_model_module_version": "~2.1.4",
       "_view_module_version": "~2.1.4",
       "layout": "IPY_MODEL_ad65b5c469a2404cb7bcc21528243fed",
       "value": "<pre><code>    def load_ipython_extension(ip=__import__('IPython').get_ipython()):\n        ip.run_cell = Interactive()\n</code></pre>\n"
      }
     },
     "04a91eb25ed74b9aad34d92417b4f872": {
      "model_module": "jupyter-js-widgets",
      "model_module_version": "~2.1.4",
      "model_name": "LayoutModel",
      "state": {
       "_model_module_version": "~2.1.4",
       "_view_module_version": "~2.1.4"
      }
     },
     "0f7334f3cf6e420b9407741109452f4f": {
      "model_module": "jupyter-js-widgets",
      "model_module_version": "~2.1.4",
      "model_name": "HTMLModel",
      "state": {
       "_model_module_version": "~2.1.4",
       "_view_module_version": "~2.1.4",
       "layout": "IPY_MODEL_2426aa541c04419693bb563d279722de",
       "value": "<p><code>a=11</code></p>\n"
      }
     },
     "113bb46e6af943f2af65c0b27a6d29b3": {
      "model_module": "jupyter-js-widgets",
      "model_module_version": "~2.1.4",
      "model_name": "LayoutModel",
      "state": {
       "_model_module_version": "~2.1.4",
       "_view_module_version": "~2.1.4"
      }
     },
     "164d3a7f98ed4707bc00b0f9fff2d2c4": {
      "model_module": "jupyter-js-widgets",
      "model_module_version": "~2.1.4",
      "model_name": "HTMLModel",
      "state": {
       "_model_module_version": "~2.1.4",
       "_view_module_version": "~2.1.4",
       "layout": "IPY_MODEL_e2b0e3c1a5a5436492309da08408fa25",
       "value": "<h1>test  11</h1>\n<pre><code>    a=13\n    a\n</code></pre>\n"
      }
     },
     "1c2fd37a7cd64393af38868b76da1597": {
      "model_module": "jupyter-js-widgets",
      "model_module_version": "~2.1.4",
      "model_name": "HTMLModel",
      "state": {
       "_model_module_version": "~2.1.4",
       "_view_module_version": "~2.1.4",
       "layout": "IPY_MODEL_baf88ef00a134afc88d5c0f97625295a",
       "value": "<h1>test</h1>\n"
      }
     },
     "1ef8346e67854445a989102316b1ac4f": {
      "model_module": "jupyter-js-widgets",
      "model_module_version": "~2.1.4",
      "model_name": "LayoutModel",
      "state": {
       "_model_module_version": "~2.1.4",
       "_view_module_version": "~2.1.4"
      }
     },
     "2426aa541c04419693bb563d279722de": {
      "model_module": "jupyter-js-widgets",
      "model_module_version": "~2.1.4",
      "model_name": "LayoutModel",
      "state": {
       "_model_module_version": "~2.1.4",
       "_view_module_version": "~2.1.4"
      }
     },
     "2824a6554d9042c8b3bf0c3987117653": {
      "model_module": "jupyter-js-widgets",
      "model_module_version": "~2.1.4",
      "model_name": "HTMLModel",
      "state": {
       "_model_module_version": "~2.1.4",
       "_view_module_version": "~2.1.4",
       "layout": "IPY_MODEL_b42c2f325f2d49428524290d9a9464ff",
       "value": "<h1>test</h1>\n"
      }
     },
     "2f131b4cc0b2423b832ff0f1642ee51f": {
      "model_module": "jupyter-js-widgets",
      "model_module_version": "~2.1.4",
      "model_name": "HTMLModel",
      "state": {
       "_model_module_version": "~2.1.4",
       "_view_module_version": "~2.1.4",
       "layout": "IPY_MODEL_a8cc76b4666243d99c3e25a480706096",
       "value": "<pre><code>    def load_ipython_extension(ip=__import__('IPython').get_ipython()):\n        ip.run_cell = Interactive()\n</code></pre>\n"
      }
     },
     "3144f26aa9ae44fc9c45cb12172456d7": {
      "model_module": "jupyter-js-widgets",
      "model_module_version": "~2.1.4",
      "model_name": "HTMLModel",
      "state": {
       "_model_module_version": "~2.1.4",
       "_view_module_version": "~2.1.4",
       "layout": "IPY_MODEL_a96008f3629e4f198380076ac5fadff2",
       "value": "<pre><code>    def load_ipython_extension(ip=__import__('IPython').get_ipython()):\n        ip.run_cell = Interactive()\n</code></pre>\n"
      }
     },
     "3746d8ade2a848c39746f89fa11a9c50": {
      "model_module": "jupyter-js-widgets",
      "model_module_version": "~2.1.4",
      "model_name": "LayoutModel",
      "state": {
       "_model_module_version": "~2.1.4",
       "_view_module_version": "~2.1.4"
      }
     },
     "38ad0a65ddfc482eb8c2c93c35228b0f": {
      "model_module": "jupyter-js-widgets",
      "model_module_version": "~2.1.4",
      "model_name": "HTMLModel",
      "state": {
       "_model_module_version": "~2.1.4",
       "_view_module_version": "~2.1.4",
       "layout": "IPY_MODEL_942af05591a44a62acdb862000722901",
       "value": "<pre><code>    class Template(HTML):\n        template = Any()\n        markdown = Unicode()\n\n        @observe('template')\n        def render(self, change={}):\n            self.markdown = self.template.render(**get_ipython().user_ns)\n            print(12)\n            self.value = renderer(self.markdown)\n            return self\n</code></pre>\n"
      }
     },
     "3a5d0c273bc240f38785938a7bbdce44": {
      "model_module": "jupyter-js-widgets",
      "model_module_version": "~2.1.4",
      "model_name": "HTMLModel",
      "state": {
       "_model_module_version": "~2.1.4",
       "_view_module_version": "~2.1.4",
       "layout": "IPY_MODEL_af32c9026866497882c823f231722488",
       "value": "<h1>test</h1>\n"
      }
     },
     "3de035142ff747309fa6e7dafec4d081": {
      "model_module": "jupyter-js-widgets",
      "model_module_version": "~2.1.4",
      "model_name": "HTMLModel",
      "state": {
       "_model_module_version": "~2.1.4",
       "_view_module_version": "~2.1.4",
       "layout": "IPY_MODEL_9d590a175dbc40949ae33c4f47aefc80",
       "value": "<h1>test  11</h1>\n"
      }
     },
     "43b9c1cca735432fb0716595beebe9f6": {
      "model_module": "jupyter-js-widgets",
      "model_module_version": "~2.1.4",
      "model_name": "HTMLModel",
      "state": {
       "_model_module_version": "~2.1.4",
       "_view_module_version": "~2.1.4",
       "layout": "IPY_MODEL_e2a51ec0cfd84aee8f0605562eeb2a40",
       "value": "<h1>test</h1>\n"
      }
     },
     "4877002e53604d50ad7fe00c0d46957c": {
      "model_module": "jupyter-js-widgets",
      "model_module_version": "~2.1.4",
      "model_name": "LayoutModel",
      "state": {
       "_model_module_version": "~2.1.4",
       "_view_module_version": "~2.1.4"
      }
     },
     "4bcfbbe902e84dbc8aaee62d4d3f8055": {
      "model_module": "jupyter-js-widgets",
      "model_module_version": "~2.1.4",
      "model_name": "LayoutModel",
      "state": {
       "_model_module_version": "~2.1.4",
       "_view_module_version": "~2.1.4"
      }
     },
     "4e73ecbe41a340ba8211a3d7f8d36135": {
      "model_module": "jupyter-js-widgets",
      "model_module_version": "~2.1.4",
      "model_name": "HTMLModel",
      "state": {
       "_model_module_version": "~2.1.4",
       "_view_module_version": "~2.1.4",
       "layout": "IPY_MODEL_749f410d1a52418193e41738f109510f",
       "value": "<p><code>a=11</code></p>\n"
      }
     },
     "4eb566a2843541ccb0b4e6708ecaa2f0": {
      "model_module": "jupyter-js-widgets",
      "model_module_version": "~2.1.4",
      "model_name": "LayoutModel",
      "state": {
       "_model_module_version": "~2.1.4",
       "_view_module_version": "~2.1.4"
      }
     },
     "524ac2094c8548fe97a9301c4501afb3": {
      "model_module": "jupyter-js-widgets",
      "model_module_version": "~2.1.4",
      "model_name": "HTMLModel",
      "state": {
       "_model_module_version": "~2.1.4",
       "_view_module_version": "~2.1.4",
       "layout": "IPY_MODEL_844e23871f8b46f6b82694db9e23af97",
       "value": "<h1>test</h1>\n"
      }
     },
     "54b018fee1474eb8a1226ac6de6133f6": {
      "model_module": "jupyter-js-widgets",
      "model_module_version": "~2.1.4",
      "model_name": "HTMLModel",
      "state": {
       "_model_module_version": "~2.1.4",
       "_view_module_version": "~2.1.4",
       "layout": "IPY_MODEL_a7598f53bfdd4f2aa3612bdecf335b99",
       "value": "<h1>test  11</h1>\n<pre><code>    a=10\n</code></pre>\n"
      }
     },
     "5d709d39e09b458abfb9d97007527eab": {
      "model_module": "jupyter-js-widgets",
      "model_module_version": "~2.1.4",
      "model_name": "HTMLModel",
      "state": {
       "_model_module_version": "~2.1.4",
       "_view_module_version": "~2.1.4",
       "layout": "IPY_MODEL_3746d8ade2a848c39746f89fa11a9c50",
       "value": "<pre><code>load_ipython_extension()\n</code></pre>\n"
      }
     },
     "5f8789146bcb4893a62437dd43247d05": {
      "model_module": "jupyter-js-widgets",
      "model_module_version": "~2.1.4",
      "model_name": "LayoutModel",
      "state": {
       "_model_module_version": "~2.1.4",
       "_view_module_version": "~2.1.4"
      }
     },
     "6498e05760d241dea581dc169df80062": {
      "model_module": "jupyter-js-widgets",
      "model_module_version": "~2.1.4",
      "model_name": "HTMLModel",
      "state": {
       "_model_module_version": "~2.1.4",
       "_view_module_version": "~2.1.4",
       "layout": "IPY_MODEL_74bc3f8d0f4547d993df1f54fab6e315",
       "value": "<h1>test</h1>\n"
      }
     },
     "656e4bca25714937b48af34959e181d4": {
      "model_module": "jupyter-js-widgets",
      "model_module_version": "~2.1.4",
      "model_name": "HTMLModel",
      "state": {
       "_model_module_version": "~2.1.4",
       "_view_module_version": "~2.1.4",
       "layout": "IPY_MODEL_a0af238dff1e4b678f129583ab7af01a",
       "value": "<h1>test  13</h1>\n<pre><code>    a=13\n    a\n</code></pre>\n"
      }
     },
     "65cd3ad2c5c14c8581088f1fbf288451": {
      "model_module": "jupyter-js-widgets",
      "model_module_version": "~2.1.4",
      "model_name": "LayoutModel",
      "state": {
       "_model_module_version": "~2.1.4",
       "_view_module_version": "~2.1.4"
      }
     },
     "65e1290cc9df47b2bc163a0d580bf988": {
      "model_module": "jupyter-js-widgets",
      "model_module_version": "~2.1.4",
      "model_name": "LayoutModel",
      "state": {
       "_model_module_version": "~2.1.4",
       "_view_module_version": "~2.1.4"
      }
     },
     "65edf521a2d142758ab3de2113731282": {
      "model_module": "jupyter-js-widgets",
      "model_module_version": "~2.1.4",
      "model_name": "LayoutModel",
      "state": {
       "_model_module_version": "~2.1.4",
       "_view_module_version": "~2.1.4"
      }
     },
     "67757201a8a340eaae8fcbd6ff2196d4": {
      "model_module": "jupyter-js-widgets",
      "model_module_version": "~2.1.4",
      "model_name": "HTMLModel",
      "state": {
       "_model_module_version": "~2.1.4",
       "_view_module_version": "~2.1.4",
       "layout": "IPY_MODEL_b3b7e68a1171473a8f7f2bf714daaf7b",
       "value": "<p><code>a=11</code></p>\n"
      }
     },
     "682c3997a61a4a448f70f999a38dd8ba": {
      "model_module": "jupyter-js-widgets",
      "model_module_version": "~2.1.4",
      "model_name": "HTMLModel",
      "state": {
       "_model_module_version": "~2.1.4",
       "_view_module_version": "~2.1.4",
       "layout": "IPY_MODEL_81d3087af3304abdbd6967d3f2b92ff1",
       "value": "<pre><code>    class Interactive(Literate):\n        def read(self, text):\n            w = Template(template=exporter.environment.from_string(text))\n            display(w)\n            return w.markdown\n        def print(self, *args):\n            [w.render() for w in Widget.widgets.values() if isinstance(w, Template)]\n</code></pre>\n"
      }
     },
     "6cedbc8f318d41469768a6ddf71711e2": {
      "model_module": "jupyter-js-widgets",
      "model_module_version": "~2.1.4",
      "model_name": "LayoutModel",
      "state": {
       "_model_module_version": "~2.1.4",
       "_view_module_version": "~2.1.4"
      }
     },
     "749f410d1a52418193e41738f109510f": {
      "model_module": "jupyter-js-widgets",
      "model_module_version": "~2.1.4",
      "model_name": "LayoutModel",
      "state": {
       "_model_module_version": "~2.1.4",
       "_view_module_version": "~2.1.4"
      }
     },
     "74bc3f8d0f4547d993df1f54fab6e315": {
      "model_module": "jupyter-js-widgets",
      "model_module_version": "~2.1.4",
      "model_name": "LayoutModel",
      "state": {
       "_model_module_version": "~2.1.4",
       "_view_module_version": "~2.1.4"
      }
     },
     "7ee161a0524d4c539629dc693b6ffa9f": {
      "model_module": "jupyter-js-widgets",
      "model_module_version": "~2.1.4",
      "model_name": "LayoutModel",
      "state": {
       "_model_module_version": "~2.1.4",
       "_view_module_version": "~2.1.4"
      }
     },
     "81d3087af3304abdbd6967d3f2b92ff1": {
      "model_module": "jupyter-js-widgets",
      "model_module_version": "~2.1.4",
      "model_name": "LayoutModel",
      "state": {
       "_model_module_version": "~2.1.4",
       "_view_module_version": "~2.1.4"
      }
     },
     "83d6e5a992844746a39edc3ec35ef239": {
      "model_module": "jupyter-js-widgets",
      "model_module_version": "~2.1.4",
      "model_name": "HTMLModel",
      "state": {
       "_model_module_version": "~2.1.4",
       "_view_module_version": "~2.1.4",
       "layout": "IPY_MODEL_971a5f608b4b4890a64766790df78cb5",
       "value": "<pre><code>load_ipython_extension()\n</code></pre>\n"
      }
     },
     "844e23871f8b46f6b82694db9e23af97": {
      "model_module": "jupyter-js-widgets",
      "model_module_version": "~2.1.4",
      "model_name": "LayoutModel",
      "state": {
       "_model_module_version": "~2.1.4",
       "_view_module_version": "~2.1.4"
      }
     },
     "8680c0070889488d8a0805dd4abc60ac": {
      "model_module": "jupyter-js-widgets",
      "model_module_version": "~2.1.4",
      "model_name": "HTMLModel",
      "state": {
       "_model_module_version": "~2.1.4",
       "_view_module_version": "~2.1.4",
       "layout": "IPY_MODEL_9d5817a430c3412ebab7ef09f7095247",
       "value": "<h1>test  13</h1>\n<pre><code>    a=13\n    a\n</code></pre>\n"
      }
     },
     "8a98e571f9bf417dabf20400c95ac89e": {
      "model_module": "jupyter-js-widgets",
      "model_module_version": "~2.1.4",
      "model_name": "LayoutModel",
      "state": {
       "_model_module_version": "~2.1.4",
       "_view_module_version": "~2.1.4"
      }
     },
     "8d27bf021da143a1bfdf4475429e45be": {
      "model_module": "jupyter-js-widgets",
      "model_module_version": "~2.1.4",
      "model_name": "HTMLModel",
      "state": {
       "_model_module_version": "~2.1.4",
       "_view_module_version": "~2.1.4",
       "layout": "IPY_MODEL_faddd119eacd4e1cb0b9755b891f08d7",
       "value": "<h1>test</h1>\n"
      }
     },
     "942af05591a44a62acdb862000722901": {
      "model_module": "jupyter-js-widgets",
      "model_module_version": "~2.1.4",
      "model_name": "LayoutModel",
      "state": {
       "_model_module_version": "~2.1.4",
       "_view_module_version": "~2.1.4"
      }
     },
     "971a5f608b4b4890a64766790df78cb5": {
      "model_module": "jupyter-js-widgets",
      "model_module_version": "~2.1.4",
      "model_name": "LayoutModel",
      "state": {
       "_model_module_version": "~2.1.4",
       "_view_module_version": "~2.1.4"
      }
     },
     "9d5817a430c3412ebab7ef09f7095247": {
      "model_module": "jupyter-js-widgets",
      "model_module_version": "~2.1.4",
      "model_name": "LayoutModel",
      "state": {
       "_model_module_version": "~2.1.4",
       "_view_module_version": "~2.1.4"
      }
     },
     "9d590a175dbc40949ae33c4f47aefc80": {
      "model_module": "jupyter-js-widgets",
      "model_module_version": "~2.1.4",
      "model_name": "LayoutModel",
      "state": {
       "_model_module_version": "~2.1.4",
       "_view_module_version": "~2.1.4"
      }
     },
     "a00ad9d65f614344933f24fe6415802e": {
      "model_module": "jupyter-js-widgets",
      "model_module_version": "~2.1.4",
      "model_name": "HTMLModel",
      "state": {
       "_model_module_version": "~2.1.4",
       "_view_module_version": "~2.1.4",
       "layout": "IPY_MODEL_4bcfbbe902e84dbc8aaee62d4d3f8055",
       "value": "<pre><code>    class Interactive(Literate):\n        def read(self, text):\n            w = Template(template=exporter.environment.from_string(text))\n            display(w)\n            return w.value\n        def print(self, *args):\n            print(Widget.widgets)\n            [w.render() for w in Widget.widgets.values() if isinstance(w, Template)]\n</code></pre>\n"
      }
     },
     "a0af238dff1e4b678f129583ab7af01a": {
      "model_module": "jupyter-js-widgets",
      "model_module_version": "~2.1.4",
      "model_name": "LayoutModel",
      "state": {
       "_model_module_version": "~2.1.4",
       "_view_module_version": "~2.1.4"
      }
     },
     "a7598f53bfdd4f2aa3612bdecf335b99": {
      "model_module": "jupyter-js-widgets",
      "model_module_version": "~2.1.4",
      "model_name": "LayoutModel",
      "state": {
       "_model_module_version": "~2.1.4",
       "_view_module_version": "~2.1.4"
      }
     },
     "a8cc76b4666243d99c3e25a480706096": {
      "model_module": "jupyter-js-widgets",
      "model_module_version": "~2.1.4",
      "model_name": "LayoutModel",
      "state": {
       "_model_module_version": "~2.1.4",
       "_view_module_version": "~2.1.4"
      }
     },
     "a96008f3629e4f198380076ac5fadff2": {
      "model_module": "jupyter-js-widgets",
      "model_module_version": "~2.1.4",
      "model_name": "LayoutModel",
      "state": {
       "_model_module_version": "~2.1.4",
       "_view_module_version": "~2.1.4"
      }
     },
     "aad5b94f1d994803b752b335e234a389": {
      "model_module": "jupyter-js-widgets",
      "model_module_version": "~2.1.4",
      "model_name": "LayoutModel",
      "state": {
       "_model_module_version": "~2.1.4",
       "_view_module_version": "~2.1.4"
      }
     },
     "ab359310402e44b1abaf414b637b2a86": {
      "model_module": "jupyter-js-widgets",
      "model_module_version": "~2.1.4",
      "model_name": "HTMLModel",
      "state": {
       "_model_module_version": "~2.1.4",
       "_view_module_version": "~2.1.4",
       "layout": "IPY_MODEL_4eb566a2843541ccb0b4e6708ecaa2f0",
       "value": "<h1>test</h1>\n"
      }
     },
     "acad3eb9a91c463b84a363bf04c5c879": {
      "model_module": "jupyter-js-widgets",
      "model_module_version": "~2.1.4",
      "model_name": "HTMLModel",
      "state": {
       "_model_module_version": "~2.1.4",
       "_view_module_version": "~2.1.4",
       "layout": "IPY_MODEL_5f8789146bcb4893a62437dd43247d05",
       "value": "<p><code>a=11</code></p>\n"
      }
     },
     "ad65b5c469a2404cb7bcc21528243fed": {
      "model_module": "jupyter-js-widgets",
      "model_module_version": "~2.1.4",
      "model_name": "LayoutModel",
      "state": {
       "_model_module_version": "~2.1.4",
       "_view_module_version": "~2.1.4"
      }
     },
     "af32c9026866497882c823f231722488": {
      "model_module": "jupyter-js-widgets",
      "model_module_version": "~2.1.4",
      "model_name": "LayoutModel",
      "state": {
       "_model_module_version": "~2.1.4",
       "_view_module_version": "~2.1.4"
      }
     },
     "b3b7e68a1171473a8f7f2bf714daaf7b": {
      "model_module": "jupyter-js-widgets",
      "model_module_version": "~2.1.4",
      "model_name": "LayoutModel",
      "state": {
       "_model_module_version": "~2.1.4",
       "_view_module_version": "~2.1.4"
      }
     },
     "b42c2f325f2d49428524290d9a9464ff": {
      "model_module": "jupyter-js-widgets",
      "model_module_version": "~2.1.4",
      "model_name": "LayoutModel",
      "state": {
       "_model_module_version": "~2.1.4",
       "_view_module_version": "~2.1.4"
      }
     },
     "b6b126b167504a0babfca0508ec979df": {
      "model_module": "jupyter-js-widgets",
      "model_module_version": "~2.1.4",
      "model_name": "LayoutModel",
      "state": {
       "_model_module_version": "~2.1.4",
       "_view_module_version": "~2.1.4"
      }
     },
     "b7163c85e6ac461580a7c1bc9b8a521c": {
      "model_module": "jupyter-js-widgets",
      "model_module_version": "~2.1.4",
      "model_name": "HTMLModel",
      "state": {
       "_model_module_version": "~2.1.4",
       "_view_module_version": "~2.1.4",
       "layout": "IPY_MODEL_04a91eb25ed74b9aad34d92417b4f872",
       "value": "<h1>test</h1>\n"
      }
     },
     "baf88ef00a134afc88d5c0f97625295a": {
      "model_module": "jupyter-js-widgets",
      "model_module_version": "~2.1.4",
      "model_name": "LayoutModel",
      "state": {
       "_model_module_version": "~2.1.4",
       "_view_module_version": "~2.1.4"
      }
     },
     "bc25cf9023914617b0be3637541561a8": {
      "model_module": "jupyter-js-widgets",
      "model_module_version": "~2.1.4",
      "model_name": "HTMLModel",
      "state": {
       "_model_module_version": "~2.1.4",
       "_view_module_version": "~2.1.4",
       "layout": "IPY_MODEL_1ef8346e67854445a989102316b1ac4f",
       "value": "<p><code>a=11</code></p>\n"
      }
     },
     "c11f13f045ac40ba9475fe040392a0b9": {
      "model_module": "jupyter-js-widgets",
      "model_module_version": "~2.1.4",
      "model_name": "HTMLModel",
      "state": {
       "_model_module_version": "~2.1.4",
       "_view_module_version": "~2.1.4",
       "layout": "IPY_MODEL_6cedbc8f318d41469768a6ddf71711e2",
       "value": "<pre><code>    def load_ipython_extension(ip=__import__('IPython').get_ipython()):\n        ip.run_cell = Interactive()\n</code></pre>\n"
      }
     },
     "c557d0edca1a4b52875392756e33f8c9": {
      "model_module": "jupyter-js-widgets",
      "model_module_version": "~2.1.4",
      "model_name": "HTMLModel",
      "state": {
       "_model_module_version": "~2.1.4",
       "_view_module_version": "~2.1.4",
       "layout": "IPY_MODEL_7ee161a0524d4c539629dc693b6ffa9f",
       "value": "<pre><code>    def load_ipython_extension(ip=__import__('IPython').get_ipython()):\n        ip.run_cell = Interactive()\n</code></pre>\n"
      }
     },
     "c606bcda8fd74b5cbf87d62290cd9cec": {
      "model_module": "jupyter-js-widgets",
      "model_module_version": "~2.1.4",
      "model_name": "HTMLModel",
      "state": {
       "_model_module_version": "~2.1.4",
       "_view_module_version": "~2.1.4",
       "layout": "IPY_MODEL_65cd3ad2c5c14c8581088f1fbf288451",
       "value": "<pre><code>    class Interactive(Literate):\n        def read(self, text):\n            w = Template(template=exporter.environment.from_string(text))\n            display(w)\n            return w.value\n        def print(self, *args):\n            [w.render() for w in Widget.widgets if isinstance(w, Template)]\n</code></pre>\n"
      }
     },
     "ca50f174bd8440d892dff2c80a664c6d": {
      "model_module": "jupyter-js-widgets",
      "model_module_version": "~2.1.4",
      "model_name": "HTMLModel",
      "state": {
       "_model_module_version": "~2.1.4",
       "_view_module_version": "~2.1.4",
       "layout": "IPY_MODEL_b6b126b167504a0babfca0508ec979df",
       "value": "<p><code>a=11</code></p>\n"
      }
     },
     "cda744871a864ed6b14697b1c053d4a0": {
      "model_module": "jupyter-js-widgets",
      "model_module_version": "~2.1.4",
      "model_name": "HTMLModel",
      "state": {
       "_model_module_version": "~2.1.4",
       "_view_module_version": "~2.1.4",
       "layout": "IPY_MODEL_65edf521a2d142758ab3de2113731282",
       "value": "<h1>test</h1>\n"
      }
     },
     "d33575e556964dcc9c05f6d815cb7616": {
      "model_module": "jupyter-js-widgets",
      "model_module_version": "~2.1.4",
      "model_name": "HTMLModel",
      "state": {
       "_model_module_version": "~2.1.4",
       "_view_module_version": "~2.1.4",
       "layout": "IPY_MODEL_f80620ddf35c4ab090e2633d2be491c3",
       "value": "<pre><code>    class Interactive(Literate):\n        def read(self, text):\n            w = Template(template=exporter.environment.from_string(text))\n            display(w)\n            return w.value\n        def print(self, *args):\n            print(Widget.widgets)\n            [w.render() for w in Widget.widgets.values() if isinstance(w, Template)]\n</code></pre>\n"
      }
     },
     "e2a51ec0cfd84aee8f0605562eeb2a40": {
      "model_module": "jupyter-js-widgets",
      "model_module_version": "~2.1.4",
      "model_name": "LayoutModel",
      "state": {
       "_model_module_version": "~2.1.4",
       "_view_module_version": "~2.1.4"
      }
     },
     "e2b0e3c1a5a5436492309da08408fa25": {
      "model_module": "jupyter-js-widgets",
      "model_module_version": "~2.1.4",
      "model_name": "LayoutModel",
      "state": {
       "_model_module_version": "~2.1.4",
       "_view_module_version": "~2.1.4"
      }
     },
     "e64445f380f343dbbc844fbcb3591729": {
      "model_module": "jupyter-js-widgets",
      "model_module_version": "~2.1.4",
      "model_name": "HTMLModel",
      "state": {
       "_model_module_version": "~2.1.4",
       "_view_module_version": "~2.1.4",
       "layout": "IPY_MODEL_8a98e571f9bf417dabf20400c95ac89e",
       "value": "<h1>test</h1>\n"
      }
     },
     "e9cd915879c4450a9c4fb444a6733cca": {
      "model_module": "jupyter-js-widgets",
      "model_module_version": "~2.1.4",
      "model_name": "HTMLModel",
      "state": {
       "_model_module_version": "~2.1.4",
       "_view_module_version": "~2.1.4",
       "layout": "IPY_MODEL_4877002e53604d50ad7fe00c0d46957c",
       "value": "<p><code>a=11</code></p>\n"
      }
     },
     "ea19789820d4417d9dbe637d9a52d63f": {
      "model_module": "jupyter-js-widgets",
      "model_module_version": "~2.1.4",
      "model_name": "HTMLModel",
      "state": {
       "_model_module_version": "~2.1.4",
       "_view_module_version": "~2.1.4",
       "layout": "IPY_MODEL_113bb46e6af943f2af65c0b27a6d29b3",
       "value": "<pre><code>load_ipython_extension()\n</code></pre>\n"
      }
     },
     "f1b438ecc8cf4b8bbf32c09760b12b81": {
      "model_module": "jupyter-js-widgets",
      "model_module_version": "~2.1.4",
      "model_name": "HTMLModel",
      "state": {
       "_model_module_version": "~2.1.4",
       "_view_module_version": "~2.1.4",
       "layout": "IPY_MODEL_aad5b94f1d994803b752b335e234a389",
       "value": "<pre><code>load_ipython_extension()\n</code></pre>\n"
      }
     },
     "f80620ddf35c4ab090e2633d2be491c3": {
      "model_module": "jupyter-js-widgets",
      "model_module_version": "~2.1.4",
      "model_name": "LayoutModel",
      "state": {
       "_model_module_version": "~2.1.4",
       "_view_module_version": "~2.1.4"
      }
     },
     "faddd119eacd4e1cb0b9755b891f08d7": {
      "model_module": "jupyter-js-widgets",
      "model_module_version": "~2.1.4",
      "model_name": "LayoutModel",
      "state": {
       "_model_module_version": "~2.1.4",
       "_view_module_version": "~2.1.4"
      }
     },
     "fb655c69e59c4989a6998a23aafa7779": {
      "model_module": "jupyter-js-widgets",
      "model_module_version": "~2.1.4",
      "model_name": "HTMLModel",
      "state": {
       "_model_module_version": "~2.1.4",
       "_view_module_version": "~2.1.4",
       "layout": "IPY_MODEL_65e1290cc9df47b2bc163a0d580bf988",
       "value": "<pre><code>    class Interactive(Literate):\n        def read(self, text):\n            w = Template(template=exporter.environment.from_string(text))\n            display(w)\n            return w.value\n        def print(self, *args):\n\n            [w.render() for w in Widget.widgets.values() if isinstance(w, Template)]\n</code></pre>\n"
      }
     }
    },
    "version_major": 1,
    "version_minor": 0
   }
  }
 },
 "nbformat": 4,
 "nbformat_minor": 2
}
