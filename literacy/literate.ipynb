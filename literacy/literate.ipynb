{
 "cells": [
  {
   "cell_type": "code",
   "execution_count": 9,
   "metadata": {},
   "outputs": [],
   "source": [
    "        try:\n",
    "            from .run import run_cell\n",
    "        except:\n",
    "            from run import run_cell\n",
    "        from mistune import Markdown, Renderer\n",
    "        from IPython import display\n",
    "        from toolz.curried import compose, do"
   ]
  },
  {
   "cell_type": "code",
   "execution_count": 10,
   "metadata": {},
   "outputs": [],
   "source": [
    "        def indents(code):\n",
    "            \"\"\"Determine the indent length of the last line.\"\"\"\n",
    "            if code:\n",
    "                str = list(filter(lambda s: s.strip(), code.splitlines()))\n",
    "                if str:  \n",
    "                    return len(str[-1])-len(str[-1].lstrip())\n",
    "            return 0\n",
    "        \n",
    "        def rstrip(text):\n",
    "            \"\"\"Remove whitespace for diffing later.\"\"\"\n",
    "            return '\\n'.join(map(str.rstrip, text.splitlines()))"
   ]
  },
  {
   "cell_type": "code",
   "execution_count": 11,
   "metadata": {},
   "outputs": [],
   "source": [
    "        class ExtractCode(Renderer):\n",
    "            \"\"\"A mistune.Renderer to accumulate lines of code in a Markdown document.\"\"\"\n",
    "            code = \"\"\"\"\"\"\n",
    "            def block_code(self, code, lang=None):\n",
    "                self.code += code + '\\n'\n",
    "                return super().block_code(code, lang)\n",
    "\n",
    "            def codespan(self, code):\n",
    "                self.code += ' '*indents(self.code) + code + '\\n'\n",
    "                return super().codespan(code)\n",
    "\n",
    "        class CodeOnly(Markdown):\n",
    "            \"\"\"A mistune.Markdown processor for literate programming.\"\"\"\n",
    "            def render(self, text, **kwargs):\n",
    "                \"\"\"Render ingests Markdown tests and returns executable portions\"\"\"\n",
    "                text=rstrip(text)\n",
    "                setattr(self.renderer, 'code', \"\"\"\"\"\") or super().render(text, **kwargs)\n",
    "                return  '\\n'.join(\n",
    "                    str.rstrip('    '+s) for s in self.renderer.code.splitlines()\n",
    "                )"
   ]
  },
  {
   "cell_type": "code",
   "execution_count": 12,
   "metadata": {},
   "outputs": [],
   "source": [
    "        literate = CodeOnly(renderer=ExtractCode(), escape=False)"
   ]
  },
  {
   "cell_type": "code",
   "execution_count": 13,
   "metadata": {},
   "outputs": [],
   "source": [
    "        load_ipython_extension = run_cell([do(compose(display.display, display.Markdown)), literate.render])"
   ]
  }
 ],
 "metadata": {
  "kernelspec": {
   "display_name": "Python 3",
   "language": "python",
   "name": "python3"
  },
  "language_info": {
   "codemirror_mode": {
    "name": "ipython",
    "version": 3
   },
   "file_extension": ".py",
   "mimetype": "text/x-python",
   "name": "python",
   "nbconvert_exporter": "python",
   "pygments_lexer": "ipython3",
   "version": "3.5.3"
  }
 },
 "nbformat": 4,
 "nbformat_minor": 2
}
