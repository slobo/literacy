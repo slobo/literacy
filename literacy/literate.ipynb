{
 "cells": [
  {
   "cell_type": "code",
   "execution_count": 7,
   "metadata": {
    "collapsed": true
   },
   "outputs": [],
   "source": [
    "    if __name__ == '__main__':\n",
    "        %reload_ext importable\n",
    "    from contextlib import contextmanager\n",
    "    from functools import partial\n",
    "    from importable import finder, unload\n",
    "    from IPython import display, get_ipython\n",
    "    from IPython.core.interactiveshell import InteractiveShell\n",
    "    from mistune import Markdown, Renderer\n",
    "    from nbformat.v4 import new_notebook, new_code_cell\n",
    "    from nbconvert import export, get_exporter\n",
    "    from nbconvert.exporters.python import PythonExporter    \n",
    "    from toolz.curried import compose, do\n",
    "    from types import MethodType"
   ]
  },
  {
   "cell_type": "code",
   "execution_count": 8,
   "metadata": {
    "collapsed": true
   },
   "outputs": [],
   "source": [
    "    def run_cell(ip, enter=[], exit=[]):\n",
    "        runner = run(enter, exit)\n",
    "        def _run_cell(self, text, store_history=False, silent=False, shell_features=True):\n",
    "            with runner(text) as code:\n",
    "                    return InteractiveShell.run_cell(self, code, store_history, silent, shell_features)\n",
    "        ip.run_cell = MethodType(_run_cell, ip)\n",
    "\n",
    "    def run(enter=[], exit=[]):\n",
    "        @contextmanager\n",
    "        def _run(code):\n",
    "            for fn in enter:\n",
    "                _, code = code, fn(code)\n",
    "            yield code\n",
    "            for fn in exit:\n",
    "                fn()\n",
    "        return _run"
   ]
  },
  {
   "cell_type": "code",
   "execution_count": 9,
   "metadata": {
    "collapsed": true
   },
   "outputs": [],
   "source": [
    "    def indents(code):\n",
    "        \"\"\"Determine the indent length of the last line.\"\"\"\n",
    "        if code:\n",
    "            str = list(filter(lambda s: s.strip(), code.splitlines()))\n",
    "            if str:  \n",
    "                return len(str[-1])-len(str[-1].lstrip())\n",
    "        return 0\n",
    "\n",
    "    def rstrip(text):\n",
    "        \"\"\"Remove whitespace for diffing later.\"\"\"\n",
    "        return '\\n'.join(map(str.rstrip, map(str, text.splitlines())))"
   ]
  },
  {
   "cell_type": "code",
   "execution_count": 10,
   "metadata": {
    "collapsed": true
   },
   "outputs": [],
   "source": [
    "    class ExtractCode(Renderer):\n",
    "        \"\"\"A mistune.Renderer to accumulate lines of code in a Markdown document.\"\"\"\n",
    "        code = \"\"\"\"\"\"\n",
    "        def block_code(self, code, lang=None):\n",
    "            self.code += code + '\\n'\n",
    "            return super(ExtractCode, self).block_code(code, lang)\n",
    "\n",
    "        def codespan(self, code):\n",
    "            self.code += ' '*indents(self.code) + code + '\\n'\n",
    "            return super(ExtractCode, self).codespan(code)\n",
    "\n",
    "    class CodeOnly(Markdown):\n",
    "        \"\"\"A mistune.Markdown processor for literate programming.\"\"\"\n",
    "        def render(self, text, **kwargs):\n",
    "            \"\"\"Render ingests Markdown tests and returns executable portions\"\"\"\n",
    "            text=rstrip(text)\n",
    "            setattr(self.renderer, 'code', \"\"\"\"\"\") or super(CodeOnly, self).render(text, **kwargs)\n",
    "            data =  '\\n'.join(str.rstrip('    '+s) for s in self.renderer.code.splitlines())\n",
    "            return PythonExporter().from_notebook_node(\n",
    "                new_notebook(cells=[new_code_cell(data)])\n",
    "            )[0]"
   ]
  },
  {
   "cell_type": "code",
   "execution_count": 11,
   "metadata": {
    "collapsed": true
   },
   "outputs": [],
   "source": [
    "    literate = CodeOnly(renderer=ExtractCode(), escape=False)"
   ]
  },
  {
   "cell_type": "code",
   "execution_count": 12,
   "metadata": {
    "collapsed": true
   },
   "outputs": [],
   "source": [
    "    @do\n",
    "    def disp(code, key='data'):\n",
    "        from pathlib import Path\n",
    "        try:\n",
    "            if Path(code).exists(): key = 'filename'\n",
    "        except OSError:\n",
    "            pass\n",
    "        display.display(display.Markdown(**{key: code}))"
   ]
  },
  {
   "cell_type": "code",
   "execution_count": 13,
   "metadata": {
    "collapsed": true
   },
   "outputs": [],
   "source": [
    "    exporter = get_exporter('script')\n",
    "\n",
    "    def nb_to_python(callable, nb):\n",
    "        new = []\n",
    "        for cell in nb.cells:\n",
    "            if cell['cell_type'] == 'code':\n",
    "                cell.source = callable(\n",
    "                    '\\n'.join(cell.source) if isinstance(cell.source, list) else cell.source)\n",
    "                new.append(cell)\n",
    "            nb.cells = new\n",
    "        return export(exporter, nb)[0].encode('utf-8')\n",
    "\n",
    "    def loader(render):\n",
    "        def wrapped(self, path):\n",
    "            nonlocal render\n",
    "            with open(self.path) as f:\n",
    "                out = nb_to_python(render, __import__('nbformat').read(f, 4))\n",
    "            return out\n",
    "        return unload(['ipynb']) or finder('ipynb')(wrapped)"
   ]
  },
  {
   "cell_type": "code",
   "execution_count": 15,
   "metadata": {},
   "outputs": [],
   "source": [
    "    class Execute(__import__('nbconvert').preprocessors.execute.ExecutePreprocessor):\n",
    "        def run_cell(self, code, index=0):\n",
    "            code.source = literate.render(code.source)\n",
    "            return super().run_cell(code, index)"
   ]
  },
  {
   "cell_type": "code",
   "execution_count": 16,
   "metadata": {
    "collapsed": true
   },
   "outputs": [],
   "source": [
    "    def load_ipython_extension(ip=get_ipython()):\n",
    "        run_cell(ip, [disp, literate.render])\n",
    "        loader(literate.render)"
   ]
  }
 ],
 "metadata": {
  "kernelspec": {
   "display_name": "Python 3",
   "language": "python",
   "name": "python3"
  },
  "language_info": {
   "codemirror_mode": {
    "name": "ipython",
    "version": 3
   },
   "file_extension": ".py",
   "mimetype": "text/x-python",
   "name": "python",
   "nbconvert_exporter": "python",
   "pygments_lexer": "ipython3",
   "version": "3.5.3"
  }
 },
 "nbformat": 4,
 "nbformat_minor": 2
}
