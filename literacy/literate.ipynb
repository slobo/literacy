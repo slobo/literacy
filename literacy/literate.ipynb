{
 "cells": [
  {
   "cell_type": "code",
   "execution_count": 1,
   "metadata": {
    "collapsed": true
   },
   "outputs": [],
   "source": [
    "    from types import ModuleType\n",
    "    from importlib.machinery import SourceFileLoader, FileFinder\n",
    "    from pathlib import Path\n",
    "    from os.path import sep, curdir, extsep, exists\n",
    "    from nbformat import *\n",
    "    from operator import ne\n",
    "    import sys\n",
    "    PY2 = sys.version_info.major is 2\n",
    "    from inspect import *\n",
    "    from collections import UserList\n",
    "    from IPython.core.inputtransformer import InputTransformer\n",
    "    from fnmatch import fnmatch\n",
    "    from functools import partial, partialmethod\n",
    "    from IPython import get_ipython, display\n",
    "    from IPython.core.interactiveshell import InteractiveShell\n",
    "    from mistune import Markdown, Renderer\n",
    "    from nbformat.v4 import new_notebook, new_code_cell, new_markdown_cell\n",
    "    from nbconvert import export, get_exporter, filters, exporters\n",
    "    from nbconvert.exporters.python import PythonExporter    \n",
    "    from toolz.curried import compose, do, identity as identity_, merge, second, partial, drop\n",
    "    from mimetypes import MimeTypes; mimetypes = MimeTypes()\n",
    "\n",
    "    import textwrap "
   ]
  },
  {
   "cell_type": "code",
   "execution_count": 2,
   "metadata": {
    "collapsed": true
   },
   "outputs": [],
   "source": [
    "    def macro(code):\n",
    "        from IPython import display\n",
    "        type = mimetypes.guess_type(code)[0]\n",
    "        is_image = type and type.startswith('image')\n",
    "        disp = (\n",
    "            partial(display.Image, embed=True) \n",
    "            if is_image else display.Markdown)\n",
    "        if fnmatch(code, '*[[]*[]](*)'):\n",
    "            url = (\n",
    "                code.lstrip('#').lstrip()\n",
    "                .split(']', 1)[1].lstrip('(')\n",
    "                .rstrip(')').split('\"',1)[0].strip())\n",
    "            if url and url != '#':\n",
    "                return (display.Markdown(code), *macro(url))\n",
    "        if fnmatch(code, 'http*://*'):\n",
    "            if is_image: \n",
    "                return display.Image(url=code),\n",
    "            return display.IFrame(code, width=600, height=400),\n",
    "        try:\n",
    "            if __import__('pathlib').Path(code).is_file(): \n",
    "                return disp(filename=code),\n",
    "        except OSError: pass\n",
    "        \n",
    "        return tuple()"
   ]
  },
  {
   "cell_type": "code",
   "execution_count": 3,
   "metadata": {
    "collapsed": true
   },
   "outputs": [],
   "source": [
    "    exporter = PythonExporter()"
   ]
  },
  {
   "cell_type": "code",
   "execution_count": 4,
   "metadata": {
    "collapsed": true
   },
   "outputs": [],
   "source": [
    "    class Code(Renderer):\n",
    "        \"\"\"A mistune.Renderer to accumulate lines of code in a Markdown document.\"\"\"\n",
    "        code = \"\"\"\"\"\"\n",
    "        inline_code = True\n",
    "        inline_indent = True\n",
    "        \n",
    "        def block_code(self, code, lang=None):\n",
    "            self.code += code + '\\n'\n",
    "            return super(Code, self).block_code(code, lang)\n",
    "\n",
    "        def codespan(self, code):\n",
    "            if self.inline_code:\n",
    "                if self.inline_indent:\n",
    "                    self.code += textwrap.indent(code, ' '*self._indent(code)) + '\\n'\n",
    "                else:\n",
    "                    self.code += code + '\\n'\n",
    "            return super(Code, self).codespan(code)\n",
    "        \n",
    "        @staticmethod\n",
    "        def _indent(code):\n",
    "            \"\"\"Determine the indent length of the last line.\"\"\"\n",
    "            if str:  return len(str[-1])-len(str[-1].lstrip())\n",
    "            return 0"
   ]
  },
  {
   "cell_type": "code",
   "execution_count": 5,
   "metadata": {
    "collapsed": true
   },
   "outputs": [],
   "source": [
    "    class Tangle(Markdown):\n",
    "        \"\"\"A mistune.Markdown processor for literate programming.\"\"\"\n",
    "        def render(self, text, **kwargs):\n",
    "            code = self.renderer.code = \"\"\"\"\"\"\n",
    "            super(Tangle, self).render(text, **kwargs)\n",
    "            if self.renderer.code.lstrip().startswith('---'): \n",
    "                return self.renderer.code\n",
    "            code = exporter.from_notebook_node(\n",
    "                new_notebook(cells=[new_code_cell(self.renderer.code)]))[0]\n",
    "            return self.renderer.code\n",
    "\n",
    "        __call__ = render\n",
    "\n",
    "    literate = Tangle(renderer=Code(), escape=False)"
   ]
  },
  {
   "cell_type": "code",
   "execution_count": 6,
   "metadata": {
    "collapsed": true
   },
   "outputs": [],
   "source": [
    "    identity = identity_(lambda x: x)"
   ]
  },
  {
   "cell_type": "code",
   "execution_count": 7,
   "metadata": {
    "collapsed": true
   },
   "outputs": [],
   "source": [
    "    class Transformer(UserList, InputTransformer):\n",
    "        \"\"\"weave --> macro --> tangle\"\"\"\n",
    "        push = UserList.append\n",
    "        \n",
    "        tangle = staticmethod(identity)\n",
    "        macro = staticmethod(identity)\n",
    "        weave = staticmethod(identity)\n",
    "        \n",
    "        def register_transforms(self):\n",
    "            self.shell.input_transformer_manager.logical_line_transforms = \\\n",
    "            self.shell.input_transformer_manager.physical_line_transforms = []\n",
    "            self.shell.input_transformer_manager.python_line_transforms = [self]\n",
    "\n",
    "        def register_magic(self):\n",
    "            self.shell.register_magic_function(self.run_code, 'cell', self.name)\n",
    "            \n",
    "        @classmethod\n",
    "        def instance(cls, *args, **kwargs):\n",
    "            self = cls(*args, **kwargs)\n",
    "            self.shell  = get_ipython() or InteractiveShell.instance()\n",
    "            return self\n",
    "\n",
    "        @property\n",
    "        def name(self):\n",
    "            return type(self).__name__.replace('Transformer', '').lower()\n",
    "\n",
    "        def display(self, body):\n",
    "            if self and self[0].strip():\n",
    "                display.display(display.Markdown(body))\n",
    "            else:\n",
    "                display.display(*self.macro(body))\n",
    "                \n",
    "        def reset(self, display=True, *, ns=None):\n",
    "            try:\n",
    "                source = '\\n'.join(self)\n",
    "                source = self.weave(source)\n",
    "            except:\n",
    "                raise SyntaxError(source)\n",
    "            display and self.display(source)\n",
    "            self.data = []\n",
    "            return (\n",
    "                source.lstrip().startswith('---') and identity or filters.ipython2python\n",
    "            )(self.tangle(source, ns=ns or self.shell.user_ns))\n",
    "        \n",
    "        def parse(self, display, line=\"\"\"\"\"\", body=None, *, ns=None):\n",
    "            self.data = line and [line] or [] + (body or \"\"\"\"\"\").splitlines()\n",
    "            return self.reset(display, ns=ns)\n",
    "        \n",
    "        __call__ = partialmethod(parse, False)\n",
    "        def run_code(self, line=\"\"\"\"\"\", body=None):\n",
    "            self.shell.run_code(self.parse(True, line, body))"
   ]
  },
  {
   "cell_type": "code",
   "execution_count": 8,
   "metadata": {
    "collapsed": true
   },
   "outputs": [],
   "source": [
    "    def literate_yaml(source, ns={}):\n",
    "        import yaml\n",
    "        if source.lstrip().startswith('---'):\n",
    "            [ns.update(stream) for stream in yaml.safe_load_all(textwrap.dedent(source))]\n",
    "            return \"\"\"\"\"\"\n",
    "        return literate(source)"
   ]
  },
  {
   "cell_type": "code",
   "execution_count": 9,
   "metadata": {
    "collapsed": true
   },
   "outputs": [],
   "source": [
    "    class Literate(Transformer):\n",
    "        tangle = staticmethod(literate_yaml)\n",
    "        macro = staticmethod(macro)"
   ]
  },
  {
   "cell_type": "code",
   "execution_count": 10,
   "metadata": {
    "collapsed": true
   },
   "outputs": [],
   "source": [
    "    class Importer(SourceFileLoader):\n",
    "        \"\"\"\"\"\"\n",
    "        tranformer = None            \n",
    "        \n",
    "        def create_module(self, spec): \n",
    "            return ModuleType(self.name)\n",
    "        \n",
    "        def exec_module(self, module):\n",
    "            nb = reads(Path(self.path).read_text(), 4)\n",
    "            for cell in nb.cells:\n",
    "                if cell['cell_type'] == 'code':\n",
    "                    try:\n",
    "                        source = self.tangle(cell.source, ns=module.__dict__)\n",
    "                        exec(source, module.__dict__)\n",
    "                    except:\n",
    "                        raise Exception('in ```\\n{}```'.format(cell.source))\n",
    "            return module\n",
    "    \n",
    "        def find_spec(self, name, paths, target=None):\n",
    "            loader =  self.find_module(name, paths, target)\n",
    "            return loader and importlib.util.spec_from_loader(name, loader)\n",
    "\n",
    "        def find_module(self, name, paths, target=None):\n",
    "            for path in paths or [Path()]:\n",
    "                path = (path/Path(name.split('.')[-1])).with_suffix('.ipynb')\n",
    "                if path.exists(): \n",
    "                    return Importer(name, str(path))\n",
    "            return None"
   ]
  },
  {
   "cell_type": "code",
   "execution_count": 11,
   "metadata": {
    "collapsed": true
   },
   "outputs": [],
   "source": [
    "    def extension(transformer):\n",
    "        def load_ipython_extension(ip=get_ipython()):\n",
    "            nonlocal transformer\n",
    "            transformer = transformer.instance()\n",
    "            Importer.tangle = staticmethod(transformer)\n",
    "            transformer.register_transforms(), transformer.register_magic()\n",
    "            sys.meta_path.append(Importer(None, None)), sys.path_importer_cache.clear()\n",
    "        return load_ipython_extension\n",
    "    \n",
    "    load_ipython_extension = extension(Literate)\n",
    "        \n",
    "    def unload_ipython_extension(ip=get_ipython()):\n",
    "        sys.meta_path = list(filter(\n",
    "            lambda x: not isinstance(x, Importer), sys.meta_path))"
   ]
  },
  {
   "cell_type": "code",
   "execution_count": 12,
   "metadata": {},
   "outputs": [
    {
     "name": "stdout",
     "output_type": "stream",
     "text": [
      "[NbConvertApp] Converting notebook literate.ipynb to python\n",
      "[NbConvertApp] Writing 7164 bytes to literate.py\n"
     ]
    }
   ],
   "source": [
    "    if __name__ == '__main__':\n",
    "        load_ipython_extension()\n",
    "        !jupyter nbconvert --to python --TemplateExporter.exclude_input_prompt=True literate.ipynb"
   ]
  }
 ],
 "metadata": {
  "kernelspec": {
   "display_name": "Python 3",
   "language": "python",
   "name": "python3"
  },
  "language_info": {
   "codemirror_mode": {
    "name": "ipython",
    "version": 3
   },
   "file_extension": ".py",
   "mimetype": "text/x-python",
   "name": "python",
   "nbconvert_exporter": "python",
   "pygments_lexer": "ipython3",
   "version": "3.5.3"
  }
 },
 "nbformat": 4,
 "nbformat_minor": 2
}
