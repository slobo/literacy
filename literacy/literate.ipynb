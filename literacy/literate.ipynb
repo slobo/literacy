{
 "cells": [
  {
   "cell_type": "code",
   "execution_count": null,
   "metadata": {},
   "outputs": [],
   "source": [
    "        try:\n",
    "            from .run_cell import run_cell\n",
    "        except:\n",
    "            from run_cell import run_cell\n",
    "        from mistune import Markdown, Renderer\n",
    "        from contextlib import contextmanager"
   ]
  },
  {
   "cell_type": "code",
   "execution_count": null,
   "metadata": {},
   "outputs": [],
   "source": [
    "        def indents(code):\n",
    "            if code:\n",
    "                str = list(filter(lambda s: s.strip(), code.splitlines()))\n",
    "                if str:  \n",
    "                    return len(str[-1])-len(str[-1].lstrip())\n",
    "            return 0"
   ]
  },
  {
   "cell_type": "code",
   "execution_count": null,
   "metadata": {},
   "outputs": [],
   "source": [
    "        class ExtractCode(Renderer):\n",
    "            code = \"\"\"\"\"\"\n",
    "            def block_code(self, code, lang=None):\n",
    "                self.code += code + '\\n'\n",
    "                return super().block_code(code, lang)\n",
    "\n",
    "            def codespan(self, code):\n",
    "                self.code += ' '*indents(self.code) + code + '\\n'\n",
    "                return super().codespan(code)\n",
    "\n",
    "        class CodeOnly(Markdown):\n",
    "            def render(self, text, **kwargs):\n",
    "                return setattr(self.renderer, 'code', \"\"\"\"\"\") or super().render(text, **kwargs) and self.renderer.code"
   ]
  },
  {
   "cell_type": "code",
   "execution_count": null,
   "metadata": {},
   "outputs": [],
   "source": [
    "        literate = CodeOnly(renderer=ExtractCode(), parse_inline_html=True, parse_block_html=True)"
   ]
  },
  {
   "cell_type": "code",
   "execution_count": null,
   "metadata": {},
   "outputs": [],
   "source": [
    "        @contextmanager\n",
    "        def run_literate(text):\n",
    "            from IPython.display import display, Markdown\n",
    "            display(Markdown(text))\n",
    "            yield literate.render(text)"
   ]
  },
  {
   "cell_type": "code",
   "execution_count": null,
   "metadata": {},
   "outputs": [],
   "source": [
    "        load_ipython_extension = run_cell(run_literate)"
   ]
  }
 ],
 "metadata": {
  "kernelspec": {
   "display_name": "Python 3",
   "language": "python",
   "name": "python3"
  },
  "language_info": {
   "codemirror_mode": {
    "name": "ipython",
    "version": 3
   },
   "file_extension": ".py",
   "mimetype": "text/x-python",
   "name": "python",
   "nbconvert_exporter": "python",
   "pygments_lexer": "ipython3",
   "version": "3.5.3"
  }
 },
 "nbformat": 4,
 "nbformat_minor": 2
}
