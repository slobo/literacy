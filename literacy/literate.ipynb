{
 "cells": [
  {
   "cell_type": "code",
   "execution_count": 1,
   "metadata": {
    "collapsed": true
   },
   "outputs": [],
   "source": [
    "    if __name__ == '__main__':\n",
    "        %reload_ext importable\n",
    "    from contextlib import contextmanager\n",
    "    from fnmatch import fnmatch\n",
    "    from functools import partial\n",
    "    from importable import finder, unload\n",
    "    from IPython import get_ipython, display\n",
    "    from IPython.core.interactiveshell import InteractiveShell\n",
    "    from mistune import Markdown, Renderer\n",
    "    from nbformat.v4 import new_notebook, new_code_cell, new_markdown_cell\n",
    "    from nbconvert import export, get_exporter\n",
    "    from nbconvert.exporters.python import PythonExporter    \n",
    "    from toolz.curried import compose, do, identity, merge, second\n",
    "    import traitlets\n",
    "    from types import MethodType\n",
    "    from mimetypes import MimeTypes; mimetypes = MimeTypes()"
   ]
  },
  {
   "cell_type": "code",
   "execution_count": 2,
   "metadata": {
    "collapsed": true
   },
   "outputs": [],
   "source": [
    "    def ipython2python(code):\n",
    "        from nbconvert.filters.strings import ipython2python\n",
    "        if any(map(code.startswith, '!%')):\n",
    "            code = ipython2python(code)\n",
    "        return code"
   ]
  },
  {
   "cell_type": "code",
   "execution_count": 3,
   "metadata": {
    "collapsed": true
   },
   "outputs": [],
   "source": [
    "    def macro(code):\n",
    "        from IPython import display\n",
    "        type = mimetypes.guess_type(code)[0]\n",
    "        is_image = type and type.startswith('image')\n",
    "        disp = (\n",
    "            partial(display.Image, embed=True) \n",
    "            if is_image else display.Markdown)\n",
    "        if fnmatch(code, '*[[]*[]](*)'):\n",
    "            url = (\n",
    "                code.lstrip('#').lstrip()\n",
    "                .split(']', 1)[1].lstrip('(')\n",
    "                .rstrip(')').split('\"',1)[0].strip())\n",
    "            if url and url != '#':\n",
    "                return (display.Markdown(code), *macro(url))\n",
    "        if fnmatch(code, 'http*://*'):\n",
    "            if is_image: \n",
    "                return display.Image(url=code),\n",
    "            return display.IFrame(code, width=600, height=400),\n",
    "        try:\n",
    "            if __import__('pathlib').Path(code).is_file(): \n",
    "                return disp(filename=code),\n",
    "        except OSError:\n",
    "            pass"
   ]
  },
  {
   "cell_type": "code",
   "execution_count": 4,
   "metadata": {
    "collapsed": true
   },
   "outputs": [],
   "source": [
    "    class Weave(Renderer):\n",
    "        \"\"\"A mistune.Renderer to accumulate lines of code in a Markdown document.\"\"\"\n",
    "        code = \"\"\"\"\"\"\n",
    "        inline_code = True\n",
    "        inline_indent = True\n",
    "        \n",
    "        def block_code(self, code, lang=None):\n",
    "            self.code += code + '\\n'\n",
    "            return super(Weave, self).block_code(code, lang)\n",
    "\n",
    "        def codespan(self, code):\n",
    "            \"\"\"Weave inline code references\n",
    "            \"\"\"\n",
    "            if self.inline_code:\n",
    "                if self.inline_indent:\n",
    "                    self.code += ' '*self.indents(self.code) + code + '\\n'\n",
    "                else:\n",
    "                    self.code += code + '\\n'\n",
    "            return super(Weave, self).codespan(code)\n",
    "        \n",
    "        @staticmethod\n",
    "        def indents(code):\n",
    "            \"\"\"Determine the indent length of the last line.\"\"\"\n",
    "            if code:\n",
    "                str = list(filter(lambda s: s.strip(), code.splitlines()))\n",
    "                if str:  \n",
    "                    return len(str[-1])-len(str[-1].lstrip())\n",
    "            return 0\n",
    "\n",
    "\n",
    "    class Tangle(Markdown):\n",
    "        \"\"\"A mistune.Markdown processor for literate programming.\"\"\"\n",
    "        def render(self, text, **kwargs):\n",
    "            \"\"\"Render ingests Markdown tests and returns executable portions\"\"\"\n",
    "            text=self.rstrip(text)\n",
    "            self.renderer.code = \"\"\"\"\"\"\n",
    "            super(Tangle, self).render(text, **kwargs)\n",
    "            data =  '\\n'.join(str.rstrip('    '+s) for s in self.renderer.code.splitlines())\n",
    "            if not data.strip(): return \"\"\"\"\"\"\n",
    "            code = PythonExporter().from_notebook_node(\n",
    "                new_notebook(cells=[new_code_cell(data)]))[0]\n",
    "            return code\n",
    "\n",
    "        @staticmethod\n",
    "        def rstrip(text):\n",
    "            \"\"\"Remove whitespace for diffing later.\"\"\"\n",
    "            return '\\n'.join(map(str.rstrip, map(str, text.splitlines())))"
   ]
  },
  {
   "cell_type": "code",
   "execution_count": 5,
   "metadata": {
    "collapsed": true
   },
   "outputs": [],
   "source": [
    "    literate = Tangle(renderer=Weave(), escape=False)"
   ]
  },
  {
   "cell_type": "code",
   "execution_count": 6,
   "metadata": {
    "collapsed": true
   },
   "outputs": [],
   "source": [
    "    class LiterateShell(traitlets.HasTraits):\n",
    "        weave = traitlets.Any(default_value=identity)\n",
    "        tangle = traitlets.Any(default_value=literate.render)\n",
    "        macro = traitlets.Any(default_value=macro)\n",
    "        name = traitlets.Unicode('literate')\n",
    "        parent = traitlets.Any()\n",
    "        @traitlets.default('parent')\n",
    "        def _default_parent(self):\n",
    "            return get_ipython() or InteractiveShell()\n",
    "        \n",
    "        show = traitlets.Bool(default_value=True)        \n",
    "        \n",
    "        def __init__(self, *args, **kwargs):\n",
    "            super().__init__(*args, **kwargs)\n",
    "            \n",
    "            self.parent and self.parent.register_magic_function(\n",
    "                self, magic_kind='line_cell', magic_name=self.name)\n",
    "            \n",
    "        def __call__(self, line, code=None):\n",
    "            if code is None:\n",
    "                code = line\n",
    "            else:\n",
    "                code = '\\n'.join([line, code])\n",
    "            code and self.run_cell(code)\n",
    "            \n",
    "        def process(self, text):\n",
    "            text = self.weave(text)\n",
    "            code = self.tangle(text)\n",
    "            return text, code, self.display(text, code)\n",
    "        \n",
    "        def display(self, text, code):\n",
    "            output = []\n",
    "            if self.show and text.splitlines() and text.splitlines()[0].strip():\n",
    "                if not code and len(text.splitlines()) is 1:\n",
    "                    output = self.macro(text)\n",
    "                output = output or [display.Markdown(text)]\n",
    "            return list(output)\n",
    "            \n",
    "        def run_cell(self, text, store_history=False, silent=False, shell_features=True, cls=InteractiveShell.run_cell):\n",
    "            text, code, output = self.process(text)\n",
    "            output and display.display(*output)\n",
    "            return cls(self.parent, ipython2python(code), store_history, silent, shell_features)"
   ]
  },
  {
   "cell_type": "code",
   "execution_count": 7,
   "metadata": {
    "collapsed": true
   },
   "outputs": [],
   "source": [
    "    def extension(shell):\n",
    "        def load_ipython_extension(ip=get_ipython()):\n",
    "            ip.run_cell = shell.run_cell\n",
    "            loader(type(shell)(**merge(shell._trait_values, dict(show=False))))\n",
    "                \n",
    "        def unload_ipython_extension(ip=get_ipython()):\n",
    "            unload(['ipynb'])\n",
    "            ip.run_cell = InteractiveShell.run_cell\n",
    "        \n",
    "        return load_ipython_extension, unload_ipython_extension"
   ]
  },
  {
   "cell_type": "code",
   "execution_count": 8,
   "metadata": {
    "collapsed": true
   },
   "outputs": [],
   "source": [
    "    exporter = get_exporter('script')\n",
    "\n",
    "    def nb_to_python(callable, nb):\n",
    "        new = []\n",
    "        for cell in nb.cells:\n",
    "            if cell['cell_type'] == 'code':\n",
    "                cell.source = callable(\n",
    "                    '\\n'.join(cell.source) if isinstance(cell.source, list) else cell.source)\n",
    "                new.append(cell)\n",
    "            nb.cells = new\n",
    "        return export(exporter, nb)[0].encode('utf-8')\n",
    "\n",
    "    def loader(shell):\n",
    "        def wrapped(self, path):\n",
    "            nonlocal shell\n",
    "            with open(self.path) as f:\n",
    "                out = nb_to_python(compose(second, shell.process), __import__('nbformat').read(f, 4))\n",
    "            return out\n",
    "        return unload(['ipynb']) or finder('ipynb')(wrapped)"
   ]
  },
  {
   "cell_type": "code",
   "execution_count": 9,
   "metadata": {
    "collapsed": true
   },
   "outputs": [],
   "source": [
    "    shell = LiterateShell()\n",
    "    load_ipython_extension, unload_ipython_extension = extension(shell)\n",
    "    load = load_ipython_extension"
   ]
  },
  {
   "cell_type": "code",
   "execution_count": 10,
   "metadata": {
    "collapsed": true
   },
   "outputs": [],
   "source": [
    "    import nbconvert"
   ]
  },
  {
   "cell_type": "code",
   "execution_count": 12,
   "metadata": {
    "collapsed": true
   },
   "outputs": [],
   "source": [
    "    class Execute(nbconvert.preprocessors.execute.ExecutePreprocessor):\n",
    "        shell = shell\n",
    "        def run_cell(self, cell, index=0):\n",
    "            cell.source = ipython2python(self.shell.tangle(cells.source))\n",
    "            return super().run_cell(cell, index)\n",
    "        \n",
    "        def preprocess_cell(self, cell, resources={}, index=0):\n",
    "            execute = cell.copy()\n",
    "            if cell['cell_type'] == 'code':\n",
    "                execute.source = self.shell.weave(execute.source)\n",
    "            return super().preprocess_cell(execute, resources, index)"
   ]
  }
 ],
 "metadata": {
  "kernelspec": {
   "display_name": "Python 3",
   "language": "python",
   "name": "python3"
  },
  "language_info": {
   "codemirror_mode": {
    "name": "ipython",
    "version": 3
   },
   "file_extension": ".py",
   "mimetype": "text/x-python",
   "name": "python",
   "nbconvert_exporter": "python",
   "pygments_lexer": "ipython3",
   "version": "3.5.3"
  }
 },
 "nbformat": 4,
 "nbformat_minor": 2
}
