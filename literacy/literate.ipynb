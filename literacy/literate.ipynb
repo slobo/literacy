{
 "cells": [
  {
   "cell_type": "code",
   "execution_count": 1,
   "metadata": {},
   "outputs": [],
   "source": [
    "    from types import ModuleType\n",
    "    from importlib.machinery import SourceFileLoader, FileFinder\n",
    "    from pathlib import Path\n",
    "    from os.path import sep, curdir, extsep, exists\n",
    "    from nbformat import *\n",
    "    from operator import ne\n",
    "    import sys\n",
    "    PY2 = sys.version_info.major is 2\n",
    "    from inspect import *\n",
    "    from collections import UserList\n",
    "    from IPython.core.inputtransformer import InputTransformer\n",
    "    from fnmatch import fnmatch\n",
    "    from functools import partial, partialmethod\n",
    "    from IPython import get_ipython, display\n",
    "    from IPython.core.interactiveshell import InteractiveShell\n",
    "    from mistune import Markdown, Renderer\n",
    "    from nbformat.v4 import new_notebook, new_code_cell, new_markdown_cell\n",
    "    from nbconvert import export, get_exporter, filters, exporters\n",
    "    from nbconvert.exporters.python import PythonExporter    \n",
    "    from toolz.curried import compose, do, identity, merge, second, partial\n",
    "    from mimetypes import MimeTypes; mimetypes = MimeTypes()"
   ]
  },
  {
   "cell_type": "code",
   "execution_count": 2,
   "metadata": {
    "collapsed": true
   },
   "outputs": [],
   "source": [
    "    def macro(code):\n",
    "        from IPython import display\n",
    "        type = mimetypes.guess_type(code)[0]\n",
    "        is_image = type and type.startswith('image')\n",
    "        disp = (\n",
    "            partial(display.Image, embed=True) \n",
    "            if is_image else display.Markdown)\n",
    "        if fnmatch(code, '*[[]*[]](*)'):\n",
    "            url = (\n",
    "                code.lstrip('#').lstrip()\n",
    "                .split(']', 1)[1].lstrip('(')\n",
    "                .rstrip(')').split('\"',1)[0].strip())\n",
    "            if url and url != '#':\n",
    "                return (display.Markdown(code), *macro(url))\n",
    "        if fnmatch(code, 'http*://*'):\n",
    "            if is_image: \n",
    "                return display.Image(url=code),\n",
    "            return display.IFrame(code, width=600, height=400),\n",
    "        try:\n",
    "            if __import__('pathlib').Path(code).is_file(): \n",
    "                return disp(filename=code),\n",
    "        except OSError: pass\n",
    "        \n",
    "        return tuple()"
   ]
  },
  {
   "cell_type": "code",
   "execution_count": 3,
   "metadata": {
    "collapsed": true
   },
   "outputs": [],
   "source": [
    "    exporter = PythonExporter()"
   ]
  },
  {
   "cell_type": "code",
   "execution_count": 4,
   "metadata": {
    "collapsed": true
   },
   "outputs": [],
   "source": [
    "    class Code(Renderer):\n",
    "        \"\"\"A mistune.Renderer to accumulate lines of code in a Markdown document.\"\"\"\n",
    "        code = \"\"\"\"\"\"\n",
    "        inline_code = True\n",
    "        inline_indent = True\n",
    "        \n",
    "        def block_code(self, code, lang=None):\n",
    "            self.code += code + '\\n'\n",
    "            return super(Code, self).block_code(code, lang)\n",
    "\n",
    "        def codespan(self, code):\n",
    "            \"\"\"Weave inline code references\"\"\"\n",
    "            if self.inline_code:\n",
    "                if self.inline_indent:\n",
    "                    self.code += ' '*self.indents(self.code) + code + '\\n'\n",
    "                else:\n",
    "                    self.code += code + '\\n'\n",
    "            return super(Code, self).codespan(code)\n",
    "        \n",
    "        @staticmethod\n",
    "        def indents(code):\n",
    "            \"\"\"Determine the indent length of the last line.\"\"\"\n",
    "            if code:\n",
    "                str = list(filter(lambda s: s.strip(), code.splitlines()))\n",
    "                if str:  \n",
    "                    return len(str[-1])-len(str[-1].lstrip())\n",
    "            return 0\n",
    "\n",
    "\n",
    "    class Tangle(Markdown):\n",
    "        \"\"\"A mistune.Markdown processor for literate programming.\"\"\"\n",
    "        def render(self, text, **kwargs):\n",
    "            self.renderer.code = \"\"\"\"\"\"\n",
    "            super(Tangle, self).render(text, **kwargs)\n",
    "            code = exporter.from_notebook_node(\n",
    "                new_notebook(cells=[new_code_cell(self.renderer.code)]))[0]\n",
    "            return code\n",
    "\n",
    "        __call__ = render\n",
    "\n",
    "    literate = Tangle(renderer=Code(), escape=False)"
   ]
  },
  {
   "cell_type": "code",
   "execution_count": 5,
   "metadata": {
    "collapsed": true
   },
   "outputs": [],
   "source": [
    "    Identity = identity(lambda x: x)"
   ]
  },
  {
   "cell_type": "code",
   "execution_count": 6,
   "metadata": {
    "collapsed": true
   },
   "outputs": [],
   "source": [
    "    class IdentityTransformer(UserList, InputTransformer):\n",
    "        weave = staticmethod(Identity)\n",
    "        tangle = staticmethod(Identity)\n",
    "        macro = staticmethod(Identity)\n",
    "        push = UserList.append\n",
    "        \n",
    "        def register_transforms(self):\n",
    "            self.shell.input_transformer_manager.logical_line_transforms = \\\n",
    "            self.shell.input_transformer_manager.physical_line_transforms = []\n",
    "            self.shell.input_transformer_manager.python_line_transforms = [self]\n",
    "\n",
    "        def register_magic(self):\n",
    "            self.shell.register_magic_function(self.run_code, 'cell', self.name)\n",
    "            \n",
    "        @classmethod\n",
    "        def instance(cls, *args, **kwargs):\n",
    "            self = cls(*args, **kwargs)\n",
    "            self.shell  = get_ipython() or InteractiveShell.instance()\n",
    "            return self\n",
    "\n",
    "        @property\n",
    "        def name(self):\n",
    "            return type(self).__name__.replace('Transformer', '').lower()\n",
    "\n",
    "        def display(self, body):\n",
    "            if self and self[0].strip():\n",
    "                display.display(display.Markdown(body))\n",
    "            else:\n",
    "                display.display(*self.macro(body))\n",
    "                \n",
    "        def reset(self, display=True):\n",
    "            body = self.weave('\\n'.join(self))\n",
    "            display and self.display(body)\n",
    "            self.data = []\n",
    "            return filters.ipython2python(self.tangle(body))\n",
    "        \n",
    "        def run(self, display, line=\"\"\"\"\"\", body=None):\n",
    "            self.data = line and [line] or [] + (body or \"\"\"\"\"\").splitlines()\n",
    "            return self.reset(display)\n",
    "        \n",
    "        __call__ = partialmethod(run, False)\n",
    "        def run_code(self, line=\"\"\"\"\"\", body=None):\n",
    "            self.shell.run_code(self.run(True, line, body))"
   ]
  },
  {
   "cell_type": "code",
   "execution_count": 7,
   "metadata": {
    "collapsed": true
   },
   "outputs": [],
   "source": [
    "    class LiterateTransformer(IdentityTransformer):\n",
    "        tangle = staticmethod(literate)\n",
    "        macro = staticmethod(macro)"
   ]
  },
  {
   "cell_type": "code",
   "execution_count": 8,
   "metadata": {},
   "outputs": [],
   "source": [
    "    class Importer(SourceFileLoader):\n",
    "        tangle = None            \n",
    "        def create_module(self, spec):\n",
    "            return ModuleType(self.name)\n",
    "        \n",
    "        def exec_module(self, module):\n",
    "            nb = reads(Path(self.path).read_text(), 4)\n",
    "            for cell in nb.cells:\n",
    "                if cell['cell_type'] == 'code':\n",
    "                    try:\n",
    "                        exec(self.tangle(cell.source), vars(module))\n",
    "                    except:\n",
    "                        raise Exception('in ```\\n{}```'.format(cell.source))\n",
    "            return module\n",
    "    \n",
    "        def find_spec(self, name, *args):\n",
    "            spec = FileFinder(name, (Importer, ['.ipynb'])).find_spec(name)\n",
    "            if not spec:\n",
    "                path = Path(name).with_suffix('.ipynb')\n",
    "                if path.exists():\n",
    "                    spec = importlib.util.spec_from_file_location(\n",
    "                        name, str(path), loader=Importer(name, str(path)))\n",
    "            return spec"
   ]
  },
  {
   "cell_type": "code",
   "execution_count": 9,
   "metadata": {
    "collapsed": true
   },
   "outputs": [],
   "source": [
    "    def extension(transformer):\n",
    "        def load_ipython_extension(ip=get_ipython()):\n",
    "            Importer.tangle = staticmethod(transformer)\n",
    "            transformer.register_transforms(), transformer.register_magic()\n",
    "            sys.meta_path.append(Importer(None, None)), sys.path_importer_cache.clear()\n",
    "        return load_ipython_extension\n",
    "    \n",
    "    load_ipython_extension = extension(LiterateTransformer.instance())\n",
    "        \n",
    "    def unload_ipython_extension(ip=get_ipython()):\n",
    "        sys.meta_path = list(filter(\n",
    "            lambda x: not isinstance(x, Importer), sys.meta_path))"
   ]
  },
  {
   "cell_type": "code",
   "execution_count": 10,
   "metadata": {},
   "outputs": [
    {
     "name": "stdout",
     "output_type": "stream",
     "text": [
      "[NbConvertApp] Converting notebook literate.ipynb to python\n",
      "[NbConvertApp] Writing 6459 bytes to literate.py\n"
     ]
    }
   ],
   "source": [
    "    if __name__ == '__main__':\n",
    "        !jupyter nbconvert --to python literate.ipynb"
   ]
  }
 ],
 "metadata": {
  "kernelspec": {
   "display_name": "Python 3",
   "language": "python",
   "name": "python3"
  },
  "language_info": {
   "codemirror_mode": {
    "name": "ipython",
    "version": 3
   },
   "file_extension": ".py",
   "mimetype": "text/x-python",
   "name": "python",
   "nbconvert_exporter": "python",
   "pygments_lexer": "ipython3",
   "version": "3.5.3"
  }
 },
 "nbformat": 4,
 "nbformat_minor": 2
}
