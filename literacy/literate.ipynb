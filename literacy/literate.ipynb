{
 "cells": [
  {
   "cell_type": "code",
   "execution_count": 1,
   "metadata": {
    "collapsed": true
   },
   "outputs": [],
   "source": [
    "    if __name__ == '__main__':\n",
    "        %reload_ext importable\n",
    "    from contextlib import contextmanager\n",
    "    from fnmatch import fnmatch\n",
    "    from functools import partial\n",
    "    from importable import finder, unload\n",
    "    from IPython import get_ipython, display\n",
    "    from IPython.core.interactiveshell import InteractiveShell\n",
    "    from mistune import Markdown, Renderer\n",
    "    from nbformat.v4 import new_notebook, new_code_cell, new_markdown_cell\n",
    "    from nbconvert import export, get_exporter\n",
    "    from nbconvert.exporters.python import PythonExporter    \n",
    "    from toolz.curried import compose, do, identity\n",
    "    import traitlets\n",
    "    from types import MethodType\n",
    "    from mimetypes import MimeTypes; mimetypes = MimeTypes()"
   ]
  },
  {
   "cell_type": "code",
   "execution_count": 2,
   "metadata": {
    "collapsed": true
   },
   "outputs": [],
   "source": [
    "    def ipython2python(code):\n",
    "        from nbconvert.filters.strings import ipython2python\n",
    "        if any(map(code.startswith, '!%')):\n",
    "            code = ipython2python(code)\n",
    "        return code"
   ]
  },
  {
   "cell_type": "code",
   "execution_count": 28,
   "metadata": {
    "collapsed": true
   },
   "outputs": [],
   "source": [
    "    def macro(code):\n",
    "        from IPython import display\n",
    "        type = mimetypes.guess_type(code)[0]\n",
    "        is_image = type and type.startswith('image')\n",
    "        disp = (\n",
    "            partial(display.Image, embed=True) \n",
    "            if is_image else display.Markdown)\n",
    "        if fnmatch(code, '*[[]*[]](*)'):\n",
    "            url = (\n",
    "                code.lstrip('#').lstrip()\n",
    "                .split(']', 1)[1].lstrip('(')\n",
    "                .rstrip(')').split(' ',1)[0])\n",
    "            if url and url != '#':\n",
    "                return (display.Markdown(code), *macro(url))\n",
    "        if fnmatch(code, 'http*://*'):\n",
    "            if is_image: \n",
    "                return display.Image(url=code),\n",
    "            return display.IFrame(code, width=600, height=400),\n",
    "        try:\n",
    "            if __import__('pathlib').Path(code).is_file(): \n",
    "                return disp(filename=code),\n",
    "        except OSError:\n",
    "            pass"
   ]
  },
  {
   "cell_type": "code",
   "execution_count": 15,
   "metadata": {
    "collapsed": true
   },
   "outputs": [],
   "source": [
    "    class LiterateShell(InteractiveShell):\n",
    "        weave = traitlets.Any(default_value=identity)\n",
    "        tangle = traitlets.Any(default_value=identity)\n",
    "        macro = traitlets.Any(default_value=macro)\n",
    "        name = traitlets.Unicode('literate')\n",
    "        parent = traitlets.Any(get_ipython())\n",
    "        \n",
    "        def __init__(self, *args, **kwargs):\n",
    "            super().__init__(*args, **kwargs)\n",
    "            \n",
    "            self.parent and self.parent.register_magic_function(\n",
    "                self, magic_kind='line_cell', magic_name=self.name)\n",
    "            \n",
    "        def __call__(self, line, code=\"\"\"\"\"\"):\n",
    "            code = '\\n'.join(filter(bool, [line, code])).rstrip()\n",
    "            code and self.run_cell(code)\n",
    "            \n",
    "        def preprocess(self, text, output=None, show=True):\n",
    "            text = self.weave(text)\n",
    "            \n",
    "            if show and text.splitlines() and text.splitlines()[0].strip():\n",
    "                if len(text.splitlines()) is 1:\n",
    "                    output = self.macro(text)\n",
    "                display.display(*(output or [display.Markdown(text)]))                \n",
    "            \n",
    "            code = self.tangle(text)\n",
    "            if any(map(code.startswith, '!%')): \n",
    "                code = ipython2python(code)\n",
    "            return code\n",
    "            \n",
    "        def run_cell(self, text, store_history=False, silent=False, shell_features=True):\n",
    "            return InteractiveShell.run_cell(self.parent, self.preprocess(text), store_history, silent, shell_features)"
   ]
  },
  {
   "cell_type": "code",
   "execution_count": 16,
   "metadata": {
    "collapsed": true
   },
   "outputs": [],
   "source": [
    "    class Weave(Renderer):\n",
    "        \"\"\"A mistune.Renderer to accumulate lines of code in a Markdown document.\"\"\"\n",
    "        code = \"\"\"\"\"\"\n",
    "        inline_code = True\n",
    "        inline_indent = True\n",
    "        \n",
    "        def block_code(self, code, lang=None):\n",
    "            self.code += code + '\\n'\n",
    "            return super(Weave, self).block_code(code, lang)\n",
    "\n",
    "        def codespan(self, code):\n",
    "            \"\"\"Weave inline code references\n",
    "            \"\"\"\n",
    "            if self.inline_code:\n",
    "                if self.inline_indent:\n",
    "                    self.code += ' '*self.indents(self.code) + code + '\\n'\n",
    "                else:\n",
    "                    self.code += code + '\\n'\n",
    "            return super(Weave, self).codespan(code)\n",
    "        \n",
    "        @staticmethod\n",
    "        def indents(code):\n",
    "            \"\"\"Determine the indent length of the last line.\"\"\"\n",
    "            if code:\n",
    "                str = list(filter(lambda s: s.strip(), code.splitlines()))\n",
    "                if str:  \n",
    "                    return len(str[-1])-len(str[-1].lstrip())\n",
    "            return 0\n",
    "\n",
    "\n",
    "    class Tangle(Markdown):\n",
    "        \"\"\"A mistune.Markdown processor for literate programming.\"\"\"\n",
    "        def render(self, text, **kwargs):\n",
    "            \"\"\"Render ingests Markdown tests and returns executable portions\"\"\"\n",
    "            text=self.rstrip(text)\n",
    "            self.renderer.code = \"\"\"\"\"\"\n",
    "            super(Tangle, self).render(text, **kwargs)\n",
    "            data =  '\\n'.join(str.rstrip('    '+s) for s in self.renderer.code.splitlines())\n",
    "            if not data.strip(): return \"\"\"\"\"\"\n",
    "            code = PythonExporter().from_notebook_node(\n",
    "                new_notebook(cells=[new_code_cell(data)]))[0]\n",
    "            return code\n",
    "\n",
    "        @staticmethod\n",
    "        def rstrip(text):\n",
    "            \"\"\"Remove whitespace for diffing later.\"\"\"\n",
    "            return '\\n'.join(map(str.rstrip, map(str, text.splitlines())))"
   ]
  },
  {
   "cell_type": "code",
   "execution_count": 17,
   "metadata": {
    "collapsed": true
   },
   "outputs": [],
   "source": [
    "    literate = Tangle(renderer=Weave(), escape=False)"
   ]
  },
  {
   "cell_type": "code",
   "execution_count": 18,
   "metadata": {
    "collapsed": true
   },
   "outputs": [],
   "source": [
    "    class Execute(__import__('nbconvert').preprocessors.execute.ExecutePreprocessor):\n",
    "        tangle = staticmethod(literate.render)\n",
    "        def run_cell(self, code, index=0):\n",
    "            code.source = ipython2python(self.tangle(code.source))\n",
    "            return super().run_cell(code, index)"
   ]
  },
  {
   "cell_type": "code",
   "execution_count": 22,
   "metadata": {
    "collapsed": true
   },
   "outputs": [],
   "source": [
    "    def extension(shell):\n",
    "        def load_ipython_extension(ip=get_ipython()):\n",
    "            ip.run_cell = shell.run_cell\n",
    "            loader(partial(shell.preprocess, show=False))\n",
    "                \n",
    "        def unload_ipython_extension(ip=get_ipython()):\n",
    "            unload(['ipynb'])\n",
    "            ip.run_cell = InteractiveShell.run_cell\n",
    "        \n",
    "        return load_ipython_extension, unload_ipython_extension"
   ]
  },
  {
   "cell_type": "code",
   "execution_count": 23,
   "metadata": {
    "collapsed": true
   },
   "outputs": [],
   "source": [
    "    exporter = get_exporter('script')\n",
    "\n",
    "    def nb_to_python(callable, nb):\n",
    "        new = []\n",
    "        for cell in nb.cells:\n",
    "            if cell['cell_type'] == 'code':\n",
    "                cell.source = callable(\n",
    "                    '\\n'.join(cell.source) if isinstance(cell.source, list) else cell.source)\n",
    "                new.append(cell)\n",
    "            nb.cells = new\n",
    "        return export(exporter, nb)[0].encode('utf-8')\n",
    "\n",
    "    def loader(render):\n",
    "        def wrapped(self, path):\n",
    "            nonlocal render\n",
    "            with open(self.path) as f:\n",
    "                out = nb_to_python(render, __import__('nbformat').read(f, 4))\n",
    "            return out\n",
    "        return unload(['ipynb']) or finder('ipynb')(wrapped)"
   ]
  },
  {
   "cell_type": "code",
   "execution_count": 24,
   "metadata": {
    "collapsed": true
   },
   "outputs": [],
   "source": [
    "    load_ipython_extension, unload_ipython_extension = extension(\n",
    "        LiterateShell(\n",
    "            tangle=literate.render, macro=macro, parent=get_ipython()\n",
    "        ))\n",
    "    load = load_ipython_extension"
   ]
  }
 ],
 "metadata": {
  "kernelspec": {
   "display_name": "Python 3",
   "language": "python",
   "name": "python3"
  },
  "language_info": {
   "codemirror_mode": {
    "name": "ipython",
    "version": 3
   },
   "file_extension": ".py",
   "mimetype": "text/x-python",
   "name": "python",
   "nbconvert_exporter": "python",
   "pygments_lexer": "ipython3",
   "version": "3.5.3"
  }
 },
 "nbformat": 4,
 "nbformat_minor": 2
}
