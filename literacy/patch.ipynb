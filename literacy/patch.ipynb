{
 "cells": [
  {
   "cell_type": "markdown",
   "metadata": {},
   "source": [
    "This feature is experiment and useful in the legacy notebook.  It would be awesome to track markdown to code conversions."
   ]
  },
  {
   "cell_type": "code",
   "execution_count": null,
   "metadata": {
    "patch": []
   },
   "outputs": [],
   "source": [
    "        try:\n",
    "            from .run import run_cell\n",
    "            from .template import template\n",
    "            from .literate import literate, rstrip\n",
    "        except:\n",
    "            from run import run_cell\n",
    "            from template import template\n",
    "            from literate import literate, rstrip\n",
    "        from json import dumps\n",
    "        from IPython.display import display, Javascript, Markdown\n",
    "        from jsonpatch import make_patch\n",
    "        from toolz.curried import pipe, compose, do"
   ]
  },
  {
   "cell_type": "code",
   "execution_count": null,
   "metadata": {
    "patch": [
     {
      "op": "replace",
      "path": "/10",
      "value": ""
     },
     {
      "op": "remove",
      "path": "/17"
     }
    ]
   },
   "outputs": [],
   "source": [
    "        get_selector = \"\"\"window.get_selector = function(element){if(window.Jupyter){\n",
    "        return Jupyter.notebook.get_cell(\n",
    "            Jupyter.notebook.get_cell_elements()\n",
    "                .map(function(i, x){return ($(x).is(element) && i) || -1;})\n",
    "                .filter(function(i, x){return x>-1;})[0]);}}\"\"\""
   ]
  },
  {
   "cell_type": "code",
   "execution_count": null,
   "metadata": {},
   "outputs": [],
   "source": [
    "        set_metadata = \"\"\"get_selector(this.selector.parent()).metadata[\"patch\"] = {};\"\"\""
   ]
  },
  {
   "cell_type": "code",
   "execution_count": null,
   "metadata": {
    "patch": []
   },
   "outputs": [],
   "source": [
    "        def split_and_dict(text):\n",
    "            return {'source': text.splitlines()}"
   ]
  },
  {
   "cell_type": "code",
   "execution_count": null,
   "metadata": {
    "patch": []
   },
   "outputs": [],
   "source": [
    "        def runner(text):\n",
    "            code = pipe(text, template, do(compose(display, Markdown)), literate.render)\n",
    "            pipe(\n",
    "                make_patch(*map(split_and_dict, (text, code))).patch,\n",
    "                dumps, set_metadata.format, Javascript, display)\n",
    "            return code"
   ]
  },
  {
   "cell_type": "code",
   "execution_count": null,
   "metadata": {
    "patch": []
   },
   "outputs": [],
   "source": [
    "        def load_ipython_extension(ip=__import__('IPython').get_ipython()):\n",
    "            display(Javascript(get_selector))\n",
    "            run_cell([runner])(ip)"
   ]
  }
 ],
 "metadata": {
  "kernelspec": {
   "display_name": "Python 3",
   "language": "python",
   "name": "python3"
  },
  "language_info": {
   "codemirror_mode": {
    "name": "ipython",
    "version": 3
   },
   "file_extension": ".py",
   "mimetype": "text/x-python",
   "name": "python",
   "nbconvert_exporter": "python",
   "pygments_lexer": "ipython3",
   "version": "3.5.3"
  }
 },
 "nbformat": 4,
 "nbformat_minor": 2
}
