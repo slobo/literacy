{
 "cells": [
  {
   "cell_type": "code",
   "execution_count": 2,
   "metadata": {},
   "outputs": [],
   "source": [
    "    try:\n",
    "        from template import unload_ipython_extension, load_ipython_extension\n",
    "        import finder\n",
    "    except:\n",
    "        from .template import unload_ipython_extension, load_ipython_extension\n",
    "        from . import preprocessors\n",
    "        from . import repl\n",
    "        from . import markdown\n",
    "        from . import template\n",
    "        from . import finder\n",
    "    finder.load_ipython_extension()"
   ]
  }
 ],
 "metadata": {
  "kernelspec": {
   "display_name": "Python 3",
   "language": "python",
   "name": "python3"
  },
  "language_info": {
   "codemirror_mode": {
    "name": "ipython",
    "version": 3
   },
   "file_extension": ".py",
   "mimetype": "text/x-python",
   "name": "python",
   "nbconvert_exporter": "python",
   "pygments_lexer": "ipython3",
   "version": "3.5.3"
  }
 },
 "nbformat": 4,
 "nbformat_minor": 2
}
