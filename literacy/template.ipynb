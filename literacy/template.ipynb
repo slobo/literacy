{
 "cells": [
  {
   "cell_type": "code",
   "execution_count": 1,
   "metadata": {},
   "outputs": [],
   "source": [
    "    try: \n",
    "        from .literate import literate, LiterateShell, extension, unload_ipython_extension, Execute as Execute_\n",
    "    except:\n",
    "        %reload_ext importable\n",
    "        from literate import literate, LiterateShell, extension, unload_ipython_extension, Execute as Execute_\n",
    "    from six.moves import builtins\n",
    "    from IPython import get_ipython\n",
    "    from nbconvert.exporters.templateexporter import TemplateExporter\n",
    "    from toolz.curried import compose\n",
    "        \n",
    "    class JinjaShell(LiterateShell):\n",
    "        environment = TemplateExporter().environment\n",
    "        \n",
    "        def weave(self, text): \n",
    "            return self.environment.from_string(text).render(**{**vars(builtins), **(\n",
    "                self.parent.user_ns\n",
    "            )})\n",
    "        \n",
    "    shell = JinjaShell(name='template')\n",
    "\n",
    "    class Execute(Execute_):\n",
    "        shell = shell\n",
    "\n",
    "    load_ipython_extension, unload_ipython_extension = extension(shell)\n",
    "    \n",
    "    load = load_ipython_extension"
   ]
  }
 ],
 "metadata": {
  "kernelspec": {
   "display_name": "Python 3",
   "language": "python",
   "name": "python3"
  },
  "language_info": {
   "codemirror_mode": {
    "name": "ipython",
    "version": 3
   },
   "file_extension": ".py",
   "mimetype": "text/x-python",
   "name": "python",
   "nbconvert_exporter": "python",
   "pygments_lexer": "ipython3",
   "version": "3.5.3"
  }
 },
 "nbformat": 4,
 "nbformat_minor": 2
}
