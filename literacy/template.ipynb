{
 "cells": [
  {
   "cell_type": "code",
   "execution_count": 1,
   "metadata": {
    "collapsed": true
   },
   "outputs": [],
   "source": [
    "    try:\n",
    "        from .literate import Markdown, extension\n",
    "    except:\n",
    "        from literate import Markdown, extension\n",
    "    from nbconvert.exporters.python import PythonExporter    \n",
    "    exporter = PythonExporter()"
   ]
  },
  {
   "cell_type": "code",
   "execution_count": 2,
   "metadata": {
    "collapsed": true
   },
   "outputs": [],
   "source": [
    "    class Jinja2(Markdown):\n",
    "        def weave(self, code, ns=dict()):\n",
    "            return exporter.environment.from_string(code).render(**ns)"
   ]
  },
  {
   "cell_type": "code",
   "execution_count": 3,
   "metadata": {
    "collapsed": true
   },
   "outputs": [],
   "source": [
    "    load_ipython_extension = extension(Jinja2)"
   ]
  },
  {
   "cell_type": "code",
   "execution_count": 4,
   "metadata": {},
   "outputs": [
    {
     "name": "stdout",
     "output_type": "stream",
     "text": [
      "[NbConvertApp] Converting notebook template.ipynb to python\n",
      "[NbConvertApp] Writing 561 bytes to template.py\n"
     ]
    }
   ],
   "source": [
    "    if __name__ == '__main__':\n",
    "        load_ipython_extension()\n",
    "        !jupyter nbconvert --to python --TemplateExporter.exclude_input_prompt=True template.ipynb"
   ]
  }
 ],
 "metadata": {
  "kernelspec": {
   "display_name": "Python 3",
   "language": "python",
   "name": "python3"
  },
  "language_info": {
   "codemirror_mode": {
    "name": "ipython",
    "version": 3
   },
   "file_extension": ".py",
   "mimetype": "text/x-python",
   "name": "python",
   "nbconvert_exporter": "python",
   "pygments_lexer": "ipython3",
   "version": "3.5.3"
  }
 },
 "nbformat": 4,
 "nbformat_minor": 2
}
