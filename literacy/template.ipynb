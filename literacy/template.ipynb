{
 "cells": [
  {
   "cell_type": "code",
   "execution_count": 2,
   "metadata": {},
   "outputs": [],
   "source": [
    "        try: \n",
    "            from .run import run_cell\n",
    "            from .literate import literate\n",
    "        except:\n",
    "            from run import run_cell\n",
    "            from literate import literate\n",
    "        from IPython import get_ipython\n",
    "        from IPython.display import Markdown, display\n",
    "        from nbconvert.exporters.templateexporter import TemplateExporter\n",
    "        from toolz.curried import compose, do"
   ]
  },
  {
   "cell_type": "code",
   "execution_count": 3,
   "metadata": {},
   "outputs": [],
   "source": [
    "        environment = TemplateExporter().environment"
   ]
  },
  {
   "cell_type": "code",
   "execution_count": 4,
   "metadata": {},
   "outputs": [],
   "source": [
    "        class IPTemplate(environment.template_class):\n",
    "            \"\"\"Render a jinja2 cell template with the global variables.\"\"\"\n",
    "            def render(self):\n",
    "                return super(IPTemplate, self).render(**__import__('IPython').get_ipython().user_ns)\n",
    "            \n",
    "        environment.template_class = IPTemplate"
   ]
  },
  {
   "cell_type": "code",
   "execution_count": 5,
   "metadata": {},
   "outputs": [],
   "source": [
    "        def template(text):\n",
    "            return environment.from_string(text).render()"
   ]
  },
  {
   "cell_type": "code",
   "execution_count": 6,
   "metadata": {},
   "outputs": [],
   "source": [
    "        load_ipython_extension = run_cell([\n",
    "            template, do(compose(display, Markdown)), literate.render\n",
    "        ])"
   ]
  }
 ],
 "metadata": {
  "kernelspec": {
   "display_name": "Python 3",
   "language": "python",
   "name": "python3"
  },
  "language_info": {
   "codemirror_mode": {
    "name": "ipython",
    "version": 3
   },
   "file_extension": ".py",
   "mimetype": "text/x-python",
   "name": "python",
   "nbconvert_exporter": "python",
   "pygments_lexer": "ipython3",
   "version": "3.5.3"
  }
 },
 "nbformat": 4,
 "nbformat_minor": 2
}
