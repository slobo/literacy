{
 "cells": [
  {
   "cell_type": "code",
   "execution_count": 4,
   "metadata": {},
   "outputs": [],
   "source": [
    "        try:\n",
    "            from literacy import run_cell, load_ipython_extension, unload_ipython_extension\n",
    "        except:\n",
    "            from .literacy import run_cell, load_ipython_extension, unload_ipython_extension\n",
    "        from nbconvert.exporters.templateexporter import TemplateExporter\n",
    "        exporter, _load = TemplateExporter(), load_ipython_extension\n",
    "        __all__ = None"
   ]
  },
  {
   "cell_type": "code",
   "execution_count": 5,
   "metadata": {},
   "outputs": [],
   "source": [
    "        def run_template_cell(self, text: str, store_history=True, silent=True, shell_futures=True):\n",
    "            \"\"\"Render a cell body as jinja template before running the code.\"\"\"\n",
    "            return run_cell(\n",
    "                self, exporter.environment.from_string(text).render(**self.user_ns), store_history, silent, shell_futures)"
   ]
  },
  {
   "cell_type": "code",
   "execution_count": 6,
   "metadata": {},
   "outputs": [],
   "source": [
    "        def load_ipython_extension(ip=__import__('IPython').get_ipython()):\n",
    "            _load(ip, run_template_cell)"
   ]
  },
  {
   "cell_type": "code",
   "execution_count": 7,
   "metadata": {},
   "outputs": [
    {
     "name": "stdout",
     "output_type": "stream",
     "text": [
      "[NbConvertApp] Converting notebook template.ipynb to python\r\n",
      "[NbConvertApp] Writing 894 bytes to template.py\r\n"
     ]
    }
   ],
   "source": [
    "        if __name__ == '__main__':\n",
    "            !jupyter nbconvert --to python template.ipynb"
   ]
  }
 ],
 "metadata": {
  "kernelspec": {
   "display_name": "Python 3",
   "language": "python",
   "name": "python3"
  },
  "language_info": {
   "codemirror_mode": {
    "name": "ipython",
    "version": 3
   },
   "file_extension": ".py",
   "mimetype": "text/x-python",
   "name": "python",
   "nbconvert_exporter": "python",
   "pygments_lexer": "ipython3",
   "version": "3.5.3"
  }
 },
 "nbformat": 4,
 "nbformat_minor": 2
}
