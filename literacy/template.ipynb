{
 "cells": [
  {
   "cell_type": "code",
   "execution_count": 1,
   "metadata": {},
   "outputs": [],
   "source": [
    "        %load_ext importable"
   ]
  },
  {
   "cell_type": "code",
   "execution_count": 2,
   "metadata": {},
   "outputs": [],
   "source": [
    "        try: \n",
    "            from .literate import run_literate, run_cell\n",
    "        except:\n",
    "            from literate import run_literate, run_cell\n",
    "        from IPython import get_ipython\n",
    "        from nbconvert.exporters.templateexporter import TemplateExporter\n",
    "        from contextlib import contextmanager"
   ]
  },
  {
   "cell_type": "code",
   "execution_count": 3,
   "metadata": {},
   "outputs": [],
   "source": [
    "        environment = TemplateExporter().environment"
   ]
  },
  {
   "cell_type": "code",
   "execution_count": 4,
   "metadata": {},
   "outputs": [],
   "source": [
    "        class IPTemplate(environment.template_class):\n",
    "            \"\"\"Render a jinja2 cell template with the global variables.\"\"\"\n",
    "            def render(self):\n",
    "                return super().render(**__import__('IPython').get_ipython().user_ns)\n",
    "            \n",
    "        environment.template_class = IPTemplate"
   ]
  },
  {
   "cell_type": "code",
   "execution_count": 5,
   "metadata": {},
   "outputs": [],
   "source": [
    "        @contextmanager\n",
    "        def run_template(text):\n",
    "            with run_literate(environment.from_string(text).render() )as code:\n",
    "                yield code"
   ]
  },
  {
   "cell_type": "code",
   "execution_count": 6,
   "metadata": {},
   "outputs": [],
   "source": [
    "        load_ipython_extension = run_cell(run_template)"
   ]
  }
 ],
 "metadata": {
  "kernelspec": {
   "display_name": "Python 3",
   "language": "python",
   "name": "python3"
  },
  "language_info": {
   "codemirror_mode": {
    "name": "ipython",
    "version": 3
   },
   "file_extension": ".py",
   "mimetype": "text/x-python",
   "name": "python",
   "nbconvert_exporter": "python",
   "pygments_lexer": "ipython3",
   "version": "3.5.3"
  }
 },
 "nbformat": 4,
 "nbformat_minor": 2
}
