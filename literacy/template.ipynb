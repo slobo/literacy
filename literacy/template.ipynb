{
 "cells": [
  {
   "cell_type": "code",
   "execution_count": 1,
   "metadata": {
    "collapsed": true
   },
   "outputs": [],
   "source": [
    "        try: \n",
    "            from repl import Literate, unload_ipython_extension\n",
    "        except:\n",
    "            from .repl import Literate, unload_ipython_extension"
   ]
  },
  {
   "cell_type": "code",
   "execution_count": 2,
   "metadata": {
    "collapsed": true
   },
   "outputs": [],
   "source": [
    "        from nbconvert.exporters.base import export, get_exporter\n",
    "        exporter = get_exporter('python')(config={})        "
   ]
  },
  {
   "cell_type": "code",
   "execution_count": 9,
   "metadata": {
    "collapsed": true
   },
   "outputs": [
    {
     "data": {
      "text/markdown": [
       "        class Template(Literate):\n",
       "            def read(self, text):\n",
       "                return super().read(\n",
       "                exporter.environment.from_string(text).render(**self.kernel.user_ns))"
      ],
      "text/plain": [
       "<IPython.core.display.Markdown object>"
      ]
     },
     "metadata": {},
     "output_type": "display_data"
    }
   ],
   "source": [
    "        class Template(Literate):\n",
    "            def read(self, text):\n",
    "                return super().read(\n",
    "                exporter.environment.from_string(text).render(**self.kernel.user_ns))"
   ]
  },
  {
   "cell_type": "code",
   "execution_count": 10,
   "metadata": {
    "collapsed": true
   },
   "outputs": [
    {
     "data": {
      "text/markdown": [
       "        def load_ipython_extension(ip=__import__('IPython').get_ipython()):\n",
       "            ip.run_cell = Template()"
      ],
      "text/plain": [
       "<IPython.core.display.Markdown object>"
      ]
     },
     "metadata": {},
     "output_type": "display_data"
    }
   ],
   "source": [
    "        def load_ipython_extension(ip=__import__('IPython').get_ipython()):\n",
    "            ip.run_cell = Template()"
   ]
  },
  {
   "cell_type": "code",
   "execution_count": 11,
   "metadata": {},
   "outputs": [
    {
     "data": {
      "text/markdown": [
       "        if __name__ == '__main__':\n",
       "            !jupyter nbconvert --to python template.ipynb"
      ],
      "text/plain": [
       "<IPython.core.display.Markdown object>"
      ]
     },
     "metadata": {},
     "output_type": "display_data"
    },
    {
     "name": "stdout",
     "output_type": "stream",
     "text": [
      "[NbConvertApp] Converting notebook template.ipynb to python\r\n",
      "[NbConvertApp] Writing 691 bytes to template.py\r\n"
     ]
    }
   ],
   "source": [
    "        if __name__ == '__main__':\n",
    "            !jupyter nbconvert --to python template.ipynb"
   ]
  },
  {
   "cell_type": "code",
   "execution_count": null,
   "metadata": {
    "collapsed": true
   },
   "outputs": [],
   "source": []
  }
 ],
 "metadata": {
  "kernelspec": {
   "display_name": "Python 3",
   "language": "python",
   "name": "python3"
  },
  "language_info": {
   "codemirror_mode": {
    "name": "ipython",
    "version": 3
   },
   "file_extension": ".py",
   "mimetype": "text/x-python",
   "name": "python",
   "nbconvert_exporter": "python",
   "pygments_lexer": "ipython3",
   "version": "3.5.3"
  }
 },
 "nbformat": 4,
 "nbformat_minor": 2
}
