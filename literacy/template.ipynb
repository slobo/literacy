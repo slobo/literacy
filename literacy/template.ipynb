{
 "cells": [
  {
   "cell_type": "code",
   "execution_count": 1,
   "metadata": {
    "collapsed": true
   },
   "outputs": [],
   "source": [
    "    from importlib import machinery"
   ]
  },
  {
   "cell_type": "code",
   "execution_count": 2,
   "metadata": {
    "collapsed": true
   },
   "outputs": [],
   "source": [
    "    try:\n",
    "        from .literate import LiterateTransformer, extension, exporter\n",
    "    except:\n",
    "        from literate import LiterateTransformer, extension, exporter\n",
    "    import sys"
   ]
  },
  {
   "cell_type": "code",
   "execution_count": 3,
   "metadata": {
    "collapsed": true
   },
   "outputs": [],
   "source": [
    "    class TemplateTransformer(LiterateTransformer):\n",
    "        def weave(self, code):\n",
    "            return exporter.environment.from_string(code).render(\n",
    "                getattr(self.shell, 'user_ns', dict))"
   ]
  },
  {
   "cell_type": "code",
   "execution_count": 4,
   "metadata": {
    "collapsed": true
   },
   "outputs": [],
   "source": [
    "    load_ipython_extension = extension(TemplateTransformer.instance())"
   ]
  },
  {
   "cell_type": "code",
   "execution_count": 5,
   "metadata": {},
   "outputs": [
    {
     "name": "stdout",
     "output_type": "stream",
     "text": [
      "[NbConvertApp] Converting notebook template.ipynb to python\n",
      "[NbConvertApp] Writing 615 bytes to template.py\n"
     ]
    }
   ],
   "source": [
    "    if __name__ == '__main__':\n",
    "        !jupyter nbconvert --to python --TemplateExporter.exclude_input_prompt=True template.ipynb"
   ]
  }
 ],
 "metadata": {
  "kernelspec": {
   "display_name": "Python 3",
   "language": "python",
   "name": "python3"
  },
  "language_info": {
   "codemirror_mode": {
    "name": "ipython",
    "version": 3
   },
   "file_extension": ".py",
   "mimetype": "text/x-python",
   "name": "python",
   "nbconvert_exporter": "python",
   "pygments_lexer": "ipython3",
   "version": "3.5.3"
  }
 },
 "nbformat": 4,
 "nbformat_minor": 2
}
