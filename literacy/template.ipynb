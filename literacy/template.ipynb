{
 "cells": [
  {
   "cell_type": "code",
   "execution_count": 6,
   "metadata": {},
   "outputs": [
    {
     "data": {
      "text/markdown": [
       "    try: \n",
       "        from .literate import literate, weave, run_cell, loader, unload_ipython_extension, Execute as Execute_\n",
       "    except:\n",
       "        %reload_ext importable\n",
       "        from literate import literate, weave, run_cell, loader, unload_ipython_extension, Execute as Execute_\n",
       "    from six.moves import builtins\n",
       "    from IPython import get_ipython\n",
       "    from nbconvert.exporters.templateexporter import TemplateExporter\n",
       "    from toolz.curried import compose\n",
       "\n",
       "    environment = TemplateExporter().environment\n",
       "\n",
       "    def template(text): \n",
       "        \"\"\"Tangle the code with a jinja2 template renderer. \n",
       "        \"\"\"\n",
       "        ip = get_ipython().user_ns if get_ipython() else {}\n",
       "        return environment.from_string(text).render(\n",
       "            **{**vars(builtins), **ip, **globals()})\n",
       "\n",
       "    class Execute(Execute_):\n",
       "        tangle = staticmethod(template)\n",
       "        \n",
       "    def load_ipython_extension(ip=get_ipython()):\n",
       "        run_cell(ip, [template, weave, literate.render])\n",
       "        loader(compose(template, literate.render))"
      ],
      "text/plain": [
       "<IPython.core.display.Markdown object>"
      ]
     },
     "metadata": {},
     "output_type": "display_data"
    },
    {
     "ename": "ImportError",
     "evalue": "cannot import name 'Execute'",
     "output_type": "error",
     "traceback": [
      "\u001b[0;31m---------------------------------------------------------------------------\u001b[0m",
      "\u001b[0;31mSystemError\u001b[0m                               Traceback (most recent call last)",
      "\u001b[0;32m<ipython-input-6-c7386a47e7b8>\u001b[0m in \u001b[0;36m<module>\u001b[0;34m()\u001b[0m\n\u001b[1;32m      7\u001b[0m \u001b[0;32mtry\u001b[0m\u001b[0;34m:\u001b[0m\u001b[0;34m\u001b[0m\u001b[0m\n\u001b[0;32m----> 8\u001b[0;31m     \u001b[0;32mfrom\u001b[0m \u001b[0;34m.\u001b[0m\u001b[0mliterate\u001b[0m \u001b[0;32mimport\u001b[0m \u001b[0mliterate\u001b[0m\u001b[0;34m,\u001b[0m \u001b[0mweave\u001b[0m\u001b[0;34m,\u001b[0m \u001b[0mrun_cell\u001b[0m\u001b[0;34m,\u001b[0m \u001b[0mloader\u001b[0m\u001b[0;34m,\u001b[0m \u001b[0munload_ipython_extension\u001b[0m\u001b[0;34m,\u001b[0m \u001b[0mExecute\u001b[0m \u001b[0;32mas\u001b[0m \u001b[0mExecute_\u001b[0m\u001b[0;34m\u001b[0m\u001b[0m\n\u001b[0m\u001b[1;32m      9\u001b[0m \u001b[0;32mexcept\u001b[0m\u001b[0;34m:\u001b[0m\u001b[0;34m\u001b[0m\u001b[0m\n",
      "\u001b[0;31mSystemError\u001b[0m: Parent module '' not loaded, cannot perform relative import",
      "\nDuring handling of the above exception, another exception occurred:\n",
      "\u001b[0;31mImportError\u001b[0m                               Traceback (most recent call last)",
      "\u001b[0;32m<ipython-input-6-c7386a47e7b8>\u001b[0m in \u001b[0;36m<module>\u001b[0;34m()\u001b[0m\n\u001b[1;32m      9\u001b[0m \u001b[0;32mexcept\u001b[0m\u001b[0;34m:\u001b[0m\u001b[0;34m\u001b[0m\u001b[0m\n\u001b[1;32m     10\u001b[0m     \u001b[0mget_ipython\u001b[0m\u001b[0;34m(\u001b[0m\u001b[0;34m)\u001b[0m\u001b[0;34m.\u001b[0m\u001b[0mmagic\u001b[0m\u001b[0;34m(\u001b[0m\u001b[0;34m'reload_ext importable'\u001b[0m\u001b[0;34m)\u001b[0m\u001b[0;34m\u001b[0m\u001b[0m\n\u001b[0;32m---> 11\u001b[0;31m     \u001b[0;32mfrom\u001b[0m \u001b[0mliterate\u001b[0m \u001b[0;32mimport\u001b[0m \u001b[0mliterate\u001b[0m\u001b[0;34m,\u001b[0m \u001b[0mweave\u001b[0m\u001b[0;34m,\u001b[0m \u001b[0mrun_cell\u001b[0m\u001b[0;34m,\u001b[0m \u001b[0mloader\u001b[0m\u001b[0;34m,\u001b[0m \u001b[0munload_ipython_extension\u001b[0m\u001b[0;34m,\u001b[0m \u001b[0mExecute\u001b[0m \u001b[0;32mas\u001b[0m \u001b[0mExecute_\u001b[0m\u001b[0;34m\u001b[0m\u001b[0m\n\u001b[0m\u001b[1;32m     12\u001b[0m \u001b[0;32mfrom\u001b[0m \u001b[0msix\u001b[0m\u001b[0;34m.\u001b[0m\u001b[0mmoves\u001b[0m \u001b[0;32mimport\u001b[0m \u001b[0mbuiltins\u001b[0m\u001b[0;34m\u001b[0m\u001b[0m\n\u001b[1;32m     13\u001b[0m \u001b[0;32mfrom\u001b[0m \u001b[0mIPython\u001b[0m \u001b[0;32mimport\u001b[0m \u001b[0mget_ipython\u001b[0m\u001b[0;34m\u001b[0m\u001b[0m\n",
      "\u001b[0;31mImportError\u001b[0m: cannot import name 'Execute'"
     ]
    }
   ],
   "source": [
    "    try: \n",
    "        from .literate import literate, weave, run_cell, loader, unload_ipython_extension, Execute as Execute_\n",
    "    except:\n",
    "        %reload_ext importable\n",
    "        from literate import literate, weave, run_cell, loader, unload_ipython_extension, Execute as Execute_\n",
    "    from six.moves import builtins\n",
    "    from IPython import get_ipython\n",
    "    from nbconvert.exporters.templateexporter import TemplateExporter\n",
    "    from toolz.curried import compose\n",
    "\n",
    "    environment = TemplateExporter().environment\n",
    "\n",
    "    def template(text): \n",
    "        \"\"\"Tangle the code with a jinja2 template renderer. \n",
    "        \"\"\"\n",
    "        ip = get_ipython().user_ns if get_ipython() else {}\n",
    "        return environment.from_string(text).render(\n",
    "            **{**vars(builtins), **ip, **globals()})\n",
    "\n",
    "    class Execute(Execute_):\n",
    "        tangle = staticmethod(template)\n",
    "        \n",
    "    def load_ipython_extension(ip=get_ipython()):\n",
    "        run_cell(ip, [template, weave, literate.render])\n",
    "        loader(compose(template, literate.render))"
   ]
  },
  {
   "cell_type": "code",
   "execution_count": null,
   "metadata": {
    "collapsed": true
   },
   "outputs": [],
   "source": []
  }
 ],
 "metadata": {
  "kernelspec": {
   "display_name": "Python 3",
   "language": "python",
   "name": "python3"
  },
  "language_info": {
   "codemirror_mode": {
    "name": "ipython",
    "version": 3
   },
   "file_extension": ".py",
   "mimetype": "text/x-python",
   "name": "python",
   "nbconvert_exporter": "python",
   "pygments_lexer": "ipython3",
   "version": "3.5.3"
  }
 },
 "nbformat": 4,
 "nbformat_minor": 2
}
