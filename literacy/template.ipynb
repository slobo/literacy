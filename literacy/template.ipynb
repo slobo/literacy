{
 "cells": [
  {
   "cell_type": "code",
   "execution_count": 5,
   "metadata": {},
   "outputs": [],
   "source": [
    "        try: \n",
    "            from repl import Literate, unload_ipython_extension, repl\n",
    "        except:\n",
    "            from .repl import Literate, unload_ipython_extension, repl"
   ]
  },
  {
   "cell_type": "code",
   "execution_count": 6,
   "metadata": {},
   "outputs": [],
   "source": [
    "        from nbconvert.exporters.base import export, get_exporter\n",
    "        exporter = get_exporter('python')()\n",
    "        environment = exporter.environment"
   ]
  },
  {
   "cell_type": "code",
   "execution_count": 7,
   "metadata": {
    "collapsed": true
   },
   "outputs": [],
   "source": [
    "        class Template(Literate):\n",
    "            def read(self, text):\n",
    "                return super().read(\n",
    "                exporter.environment.from_string(text).render(**self.kernel.user_ns))"
   ]
  },
  {
   "cell_type": "code",
   "execution_count": 8,
   "metadata": {},
   "outputs": [],
   "source": [
    "        load_ipython_extension = repl(Template)"
   ]
  }
 ],
 "metadata": {
  "kernelspec": {
   "display_name": "Python 3",
   "language": "python",
   "name": "python3"
  },
  "language_info": {
   "codemirror_mode": {
    "name": "ipython",
    "version": 3
   },
   "file_extension": ".py",
   "mimetype": "text/x-python",
   "name": "python",
   "nbconvert_exporter": "python",
   "pygments_lexer": "ipython3",
   "version": "3.5.3"
  }
 },
 "nbformat": 4,
 "nbformat_minor": 2
}
