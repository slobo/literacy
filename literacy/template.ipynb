{
 "cells": [
  {
   "cell_type": "code",
   "execution_count": 2,
   "metadata": {},
   "outputs": [],
   "source": [
    "    try: \n",
    "        from .literate import literate, LiterateShell, extension, unload_ipython_extension, Execute as Execute_\n",
    "    except:\n",
    "        %reload_ext importable\n",
    "        from literate import literate, LiterateShell, extension, unload_ipython_extension, Execute as Execute_\n",
    "    from six.moves import builtins\n",
    "    from IPython import get_ipython\n",
    "    from nbconvert.exporters.templateexporter import TemplateExporter\n",
    "    from toolz.curried import compose\n",
    "\n",
    "    environment = TemplateExporter().environment\n",
    "\n",
    "    def template(text): \n",
    "        \"\"\"Tangle the code with a jinja2 template renderer. \n",
    "        \"\"\"\n",
    "        ip = get_ipython().user_ns if get_ipython() else {}\n",
    "        return environment.from_string(text).render(\n",
    "            **{**vars(builtins), **ip, **globals()})\n",
    "\n",
    "    class Execute(Execute_):\n",
    "        tangle = staticmethod(template)\n",
    "        \n",
    "    load_ipython_extension, unload_ipython_extension = extension(\n",
    "        LiterateShell(\n",
    "            weave=template, tangle=literate.render, \n",
    "            parent=get_ipython(), name='template'\n",
    "        ))\n",
    "    load = load_ipython_extension"
   ]
  }
 ],
 "metadata": {
  "kernelspec": {
   "display_name": "Python 3",
   "language": "python",
   "name": "python3"
  },
  "language_info": {
   "codemirror_mode": {
    "name": "ipython",
    "version": 3
   },
   "file_extension": ".py",
   "mimetype": "text/x-python",
   "name": "python",
   "nbconvert_exporter": "python",
   "pygments_lexer": "ipython3",
   "version": "3.5.3"
  }
 },
 "nbformat": 4,
 "nbformat_minor": 2
}
