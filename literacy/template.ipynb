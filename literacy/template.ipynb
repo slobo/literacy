{
 "cells": [
  {
   "cell_type": "code",
   "execution_count": 1,
   "metadata": {
    "collapsed": true
   },
   "outputs": [],
   "source": [
    "        try: \n",
    "            from .literate import literate, disp, run_cell, loader\n",
    "        except:\n",
    "            %reload_ext importable\n",
    "            from literate import literate, disp, run_cell, loader\n",
    "        from six.moves import builtins\n",
    "        from IPython import get_ipython\n",
    "        from nbconvert.exporters.templateexporter import TemplateExporter\n",
    "        from toolz.curried import compose"
   ]
  },
  {
   "cell_type": "code",
   "execution_count": 2,
   "metadata": {
    "collapsed": true
   },
   "outputs": [],
   "source": [
    "        environment = TemplateExporter().environment"
   ]
  },
  {
   "cell_type": "code",
   "execution_count": 3,
   "metadata": {
    "collapsed": true
   },
   "outputs": [],
   "source": [
    "        def template(text): return environment.from_string(text).render(**{\n",
    "            **vars(builtins), **get_ipython().user_ns, **globals()})"
   ]
  },
  {
   "cell_type": "code",
   "execution_count": 4,
   "metadata": {
    "collapsed": true
   },
   "outputs": [],
   "source": [
    "        def load_ipython_extension(ip=get_ipython()):\n",
    "            run_cell(ip, [template, disp, literate.render])\n",
    "            loader(compose(template, literate.render))"
   ]
  }
 ],
 "metadata": {
  "kernelspec": {
   "display_name": "Python 3",
   "language": "python",
   "name": "python3"
  },
  "language_info": {
   "codemirror_mode": {
    "name": "ipython",
    "version": 3
   },
   "file_extension": ".py",
   "mimetype": "text/x-python",
   "name": "python",
   "nbconvert_exporter": "python",
   "pygments_lexer": "ipython3",
   "version": "3.5.3"
  }
 },
 "nbformat": 4,
 "nbformat_minor": 2
}
