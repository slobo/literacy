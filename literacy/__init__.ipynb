{
 "cells": [
  {
   "cell_type": "code",
   "execution_count": 4,
   "metadata": {},
   "outputs": [],
   "source": [
    "        __all__ = ['ip']\n",
    "        try:\n",
    "            from repl import unload_ipython_extension, load_ipython_extension\n",
    "        except:\n",
    "            from .repl import unload_ipython_extension, load_ipython_extension\n",
    "        from IPython import get_ipython\n",
    "        ip = get_ipython()"
   ]
  },
  {
   "cell_type": "code",
   "execution_count": 5,
   "metadata": {},
   "outputs": [
    {
     "name": "stdout",
     "output_type": "stream",
     "text": [
      "[NbConvertApp] Converting notebook __init__.ipynb to python\r\n",
      "[NbConvertApp] Writing 379 bytes to __init__.py\r\n"
     ]
    }
   ],
   "source": [
    "        if __name__ == '__main__':\n",
    "            !jupyter nbconvert --to python __init__.ipynb"
   ]
  },
  {
   "cell_type": "code",
   "execution_count": null,
   "metadata": {},
   "outputs": [],
   "source": []
  }
 ],
 "metadata": {
  "kernelspec": {
   "display_name": "Python 3",
   "language": "python",
   "name": "python3"
  },
  "language_info": {
   "codemirror_mode": {
    "name": "ipython",
    "version": 3
   },
   "file_extension": ".py",
   "mimetype": "text/x-python",
   "name": "python",
   "nbconvert_exporter": "python",
   "pygments_lexer": "ipython3",
   "version": "3.5.3"
  }
 },
 "nbformat": 4,
 "nbformat_minor": 2
}
