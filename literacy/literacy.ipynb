{
 "cells": [
  {
   "cell_type": "code",
   "execution_count": 8,
   "metadata": {
    "collapsed": true
   },
   "outputs": [],
   "source": [
    "        __all__ = 'load_ipython_extension', 'unload_ipython_extension'"
   ]
  },
  {
   "cell_type": "markdown",
   "metadata": {},
   "source": [
    "### create a `mistune` renderer that captures code cells."
   ]
  },
  {
   "cell_type": "code",
   "execution_count": 16,
   "metadata": {
    "collapsed": true
   },
   "outputs": [],
   "source": [
    "        try:\n",
    "            from display import style\n",
    "        except:\n",
    "            from .display import style"
   ]
  },
  {
   "cell_type": "code",
   "execution_count": 9,
   "metadata": {
    "collapsed": true
   },
   "outputs": [],
   "source": [
    "        from mistune import Markdown, Renderer\n",
    "        from nbconvert.filters import ipython2python"
   ]
  },
  {
   "cell_type": "code",
   "execution_count": 10,
   "metadata": {
    "collapsed": true
   },
   "outputs": [],
   "source": [
    "        class Literate(Renderer):\n",
    "            source = [] \n",
    "            def block_code(self, code, language=None):\n",
    "                lines = code.split('\\n')\n",
    "                tab = len(lines[0]) - len(lines[0].lstrip())\n",
    "                return self.source.append((\n",
    "                        ipython2python('\\n'.join([line[tab:] for line in lines])), True\n",
    "                )) or code\n",
    "\n",
    "            def codespan(self, code):\n",
    "                \"\"\"Do not record codespan histories\"\"\"\n",
    "                return self.source.append((ipython2python(code), False)) or code"
   ]
  },
  {
   "cell_type": "code",
   "execution_count": 11,
   "metadata": {
    "collapsed": true
   },
   "outputs": [],
   "source": [
    "        class Codify(Markdown):\n",
    "            def render(self, text):\n",
    "                self.renderer.source = []\n",
    "                super().render(text)\n",
    "                return self.renderer.source\n",
    "        renderer = Codify(renderer=Literate())"
   ]
  },
  {
   "cell_type": "markdown",
   "metadata": {},
   "source": [
    "### IPython\n",
    "\n",
    "A replacement `run_cell` function for Ipython"
   ]
  },
  {
   "cell_type": "code",
   "execution_count": 12,
   "metadata": {
    "collapsed": true
   },
   "outputs": [],
   "source": [
    "        from IPython.display import display, Markdown as MarkDisplay\n",
    "        from IPython.core.interactiveshell import InteractiveShell\n",
    "        \n",
    "        def run_cell(self, raw_cell, store_history=True, silent=True, shell_futures=True):\n",
    "            display(MarkDisplay(raw_cell + \"\"\"\\n\\n---\\n\"\"\"))\n",
    "            for source, history in renderer.render(raw_cell) or [(\"\"\"\"\"\", False)]:\n",
    "                executed = InteractiveShell.run_cell(self, source, history, silent, shell_futures)\n",
    "            return executed"
   ]
  },
  {
   "cell_type": "markdown",
   "metadata": {},
   "source": [
    "### Magics\n",
    "\n",
    "Use `%load literate` to activate literate programming; `%unload literate` reverses this behavior."
   ]
  },
  {
   "cell_type": "code",
   "execution_count": 13,
   "metadata": {
    "collapsed": true
   },
   "outputs": [],
   "source": [
    "        from types import MethodType\n",
    "        from IPython import get_ipython\n",
    "        def load_ipython_extension(ip=get_ipython()):\n",
    "            ip.run_cell = MethodType(run_cell, ip)\n",
    "            style(__style_block__)\n",
    "            \n",
    "        def unload_ipython_extension(ip=get_ipython()):\n",
    "            ip.run_cell = MethodType(InteractiveShell.run_cell, ip)"
   ]
  },
  {
   "cell_type": "code",
   "execution_count": 19,
   "metadata": {},
   "outputs": [
    {
     "name": "stdout",
     "output_type": "stream",
     "text": [
      "[NbConvertApp] Converting notebook literacy.ipynb to script\n",
      "[NbConvertApp] Writing 2292 bytes to literacy.py\n"
     ]
    }
   ],
   "source": [
    "        if __name__ == '__main__': \n",
    "            !jupyter nbconvert --to script literacy.ipynb"
   ]
  },
  {
   "cell_type": "code",
   "execution_count": 18,
   "metadata": {
    "collapsed": true
   },
   "outputs": [],
   "source": [
    "        __style_block__ = \"\"\"\n",
    "        .output_subarea.output_markdown.rendered_html {\n",
    "            flex: .9;\n",
    "            padding-left: 0px;\n",
    "        }\n",
    "        .output_subarea {\n",
    "            flex: .9;\n",
    "            padding-left: 10%;\n",
    "        }\"\"\""
   ]
  }
 ],
 "metadata": {
  "kernelspec": {
   "display_name": "Python 3",
   "language": "python",
   "name": "python3"
  },
  "language_info": {
   "codemirror_mode": {
    "name": "ipython",
    "version": 3
   },
   "file_extension": ".py",
   "mimetype": "text/x-python",
   "name": "python",
   "nbconvert_exporter": "python",
   "pygments_lexer": "ipython3",
   "version": "3.5.3"
  }
 },
 "nbformat": 4,
 "nbformat_minor": 2
}
