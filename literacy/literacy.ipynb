{
 "cells": [
  {
   "cell_type": "code",
   "execution_count": 1,
   "metadata": {},
   "outputs": [],
   "source": [
    "        from nbformat import NotebookNode\n",
    "        from typing import *\n",
    "        NBRESOURCES, CELLRESOURCES = map(lambda x: TypeVar(x, NotebookNode, Dict), ['NBRESOURCES', 'CELLRESOURCES'])\n",
    "        CODE_CELL, OUTPUTS, NOTEBOOK = map(TypeVar, ['CODE_CELL', 'OUTPUTS', 'NOTEBOOK'])"
   ]
  },
  {
   "cell_type": "code",
   "execution_count": 2,
   "metadata": {},
   "outputs": [],
   "source": [
    "        from nbformat.v4 import new_markdown_cell, new_code_cell, new_notebook, new_output, nbformat_schema\n",
    "        from mistune import Markdown, Renderer, preprocessing\n",
    "        from IPython.core.interactiveshell import InteractiveShell, ExecutionResult\n",
    "        from types import MethodType\n",
    "        __all__ = 'load_ipython_extension', 'unload_ipython_extension'"
   ]
  },
  {
   "cell_type": "code",
   "execution_count": 3,
   "metadata": {},
   "outputs": [],
   "source": [
    "        def execute(\n",
    "            nb: NOTEBOOK, store_history=False, silent=False, shell_futures=True\n",
    "        ) -> ExecutionResult:\n",
    "            from time import time\n",
    "            ip, t = __import__('IPython').get_ipython(), time()\n",
    "            for cell in nb['cells']:\n",
    "                if cell['cell_type'] == 'code':\n",
    "                    t, code = time(), cell['source']\n",
    "                    InteractiveShell.run_cell(ip, code, store_history, silent, shell_futures)\n",
    "                    ip.display_pub.publish({'':''}, {'time': time()-t})\n",
    "            return ExecutionResult()"
   ]
  },
  {
   "cell_type": "code",
   "execution_count": 4,
   "metadata": {},
   "outputs": [],
   "source": [
    "        def codespan(text, code: str, lang=\"\"\"\"\"\", markdown=\"\"\"\"\"\", SEP='`'):\n",
    "            return (*text.split(SEP, 2), SEP)\n",
    "\n",
    "        def block_code(text, code: str, lang: str, block=\"\"\"\"\"\", markdown=\"\"\"\"\"\", SEP='```'):\n",
    "            for line in filter(bool, code.splitlines()):\n",
    "                leading, text = text.split(line, 1)\n",
    "                if not block:\n",
    "                    if SEP in leading:\n",
    "                        markdown, leading = leading.split(SEP+lang, 1)\n",
    "                    else:\n",
    "                        (*markdown, leading), SEP = leading.splitlines(), \"\"\n",
    "                block += leading + line\n",
    "            return markdown, block, text, SEP\n",
    "        \n",
    "        blocks = {'codespan': codespan, 'block_code': block_code}"
   ]
  },
  {
   "cell_type": "code",
   "execution_count": 5,
   "metadata": {},
   "outputs": [],
   "source": [
    "        class Notebook(Markdown):\n",
    "            def render(self, body: Union[str, CODE_CELL], metadata={}, outputs=[]) -> NOTEBOOK:\n",
    "                if isinstance(body, NotebookNode):\n",
    "                    outputs, body = body.get('outputs'), body.get('source')\n",
    "                body, cells, self.renderer.blocks = preprocessing(body), [], []\n",
    "                for code, lang, type in super().render(body) and self.renderer.blocks:\n",
    "                    markdown, block, body, SEP = blocks[type](body, code, lang)\n",
    "                    '\\n'.join(markdown).strip() and cells.append(new_markdown_cell(markdown, metadata=metadata))\n",
    "                    if block.strip():\n",
    "                        cells.append(new_code_cell(block, metadata=metadata))\n",
    "                        cells[-1]['metadata'].update({'lang': lang, 'sep': SEP})\n",
    "                    \n",
    "                if outputs:\n",
    "                    cells = zip_outputs(new_notebook(cells=cells), outputs)['cells']\n",
    "                return new_notebook(\n",
    "                    cells=body.strip() and cells.append(new_markdown_cell(body)) or cells\n",
    "                )\n",
    "            \n",
    "\n",
    "        class CodeCell(Renderer):\n",
    "            def block_code(self, code: str, lang='') -> str:\n",
    "                return self.blocks.append((code, lang or '', 'block_code')) or super().block_code(code, lang)\n",
    "\n",
    "            def codespan(self, code: str, lang='') -> str:\n",
    "                return self.blocks.append((code, lang, 'codespan')) or super().codespan(code)\n",
    "\n",
    "        CodeCell.blocks, renderer = [], Notebook(renderer=CodeCell(), parse_block_html=False)"
   ]
  },
  {
   "cell_type": "code",
   "execution_count": 6,
   "metadata": {},
   "outputs": [],
   "source": [
    "        def run_cell(self, text: str, store_history=True, silent=True, shell_futures=True) -> ExecutionResult:\n",
    "            from IPython.display import display, Markdown\n",
    "            return display(Markdown(text)) or execute(\n",
    "                renderer.render(text), store_history, silent, shell_futures)"
   ]
  },
  {
   "cell_type": "code",
   "execution_count": 7,
   "metadata": {},
   "outputs": [],
   "source": [
    "        def load_ipython_extension(ip=__import__('IPython').get_ipython()):\n",
    "            ip.run_cell = MethodType(run_cell, ip)\n",
    "\n",
    "        def unload_ipython_extension(ip=__import__('IPython').get_ipython()):\n",
    "            ip.run_cell = MethodType(InteractiveShell.run_cell, ip)"
   ]
  },
  {
   "cell_type": "code",
   "execution_count": 13,
   "metadata": {},
   "outputs": [
    {
     "data": {
      "text/markdown": [
       "        if __name__ == '__main__':\n",
       "            !jupyter nbconvert --to python literacy.ipynb"
      ],
      "text/plain": [
       "<IPython.core.display.Markdown object>"
      ]
     },
     "metadata": {},
     "output_type": "display_data"
    },
    {
     "name": "stdout",
     "output_type": "stream",
     "text": [
      "[NbConvertApp] Converting notebook literacy.ipynb to python\r\n",
      "[NbConvertApp] Writing 3785 bytes to literacy.py\r\n"
     ]
    },
    {
     "data": {
      "": ""
     },
     "metadata": {
      "time": 1.220978021621704
     },
     "output_type": "display_data"
    }
   ],
   "source": [
    "        if __name__ == '__main__':\n",
    "            !jupyter nbconvert --to python literacy.ipynb"
   ]
  },
  {
   "cell_type": "code",
   "execution_count": null,
   "metadata": {},
   "outputs": [],
   "source": []
  }
 ],
 "metadata": {
  "kernelspec": {
   "display_name": "Python 3",
   "language": "python",
   "name": "python3"
  },
  "language_info": {
   "codemirror_mode": {
    "name": "ipython",
    "version": 3
   },
   "file_extension": ".py",
   "mimetype": "text/x-python",
   "name": "python",
   "nbconvert_exporter": "python",
   "pygments_lexer": "ipython3",
   "version": "3.5.3"
  }
 },
 "nbformat": 4,
 "nbformat_minor": 2
}
