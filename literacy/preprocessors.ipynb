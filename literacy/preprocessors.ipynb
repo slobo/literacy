{
 "cells": [
  {
   "cell_type": "code",
   "execution_count": 15,
   "metadata": {
    "collapsed": true
   },
   "outputs": [],
   "source": [
    "        from nbformat import NotebookNode\n",
    "        from nbformat.v4 import new_notebook, new_code_cell, new_markdown_cell\n",
    "        from nbconvert.filters import comment_lines\n",
    "        from nbconvert.preprocessors import Preprocessor\n",
    "        from functools import partial, wraps\n",
    "        from traitlets import Any, Unicode, Bool\n",
    "        from inspect import getfullargspec\n",
    "        __all__ = tuple()"
   ]
  },
  {
   "cell_type": "code",
   "execution_count": 16,
   "metadata": {
    "collapsed": true
   },
   "outputs": [],
   "source": [
    "        def preprocessor(function):\n",
    "            \"\"\"A decorator to create nbconvert preprocessors; no arguments for the preprocessors.\"\"\"\n",
    "            args = getfullargspec(function).args\n",
    "            if not args[0] == 'self':\n",
    "                raise ValueError('Preprocessor must define `self`.')\n",
    "            return type(\n",
    "                function.__name__, (Preprocessor,), \n",
    "                {'preprocess' + {4: '_cell', 3: ''}[len(args)]: function,})"
   ]
  },
  {
   "cell_type": "code",
   "execution_count": 10,
   "metadata": {
    "collapsed": true
   },
   "outputs": [],
   "source": [
    "        @preprocessor\n",
    "        def JoinSource(self, cell, resources, index):\n",
    "            if not isinstance(cell['source'], str):\n",
    "                cell['source'] = '\\n'.join(cell['source'])\n",
    "            return cell, resources"
   ]
  },
  {
   "cell_type": "code",
   "execution_count": 9,
   "metadata": {
    "collapsed": true
   },
   "outputs": [],
   "source": [
    "        @preprocessor\n",
    "        def SplitSource(self, cell, resources, index):\n",
    "            if isinstance(cell['source'], str):\n",
    "                cell['source'] = cell['source'].splitlines()\n",
    "            return cell, resources"
   ]
  }
 ],
 "metadata": {
  "kernelspec": {
   "display_name": "Python 3",
   "language": "python",
   "name": "python3"
  },
  "language_info": {
   "codemirror_mode": {
    "name": "ipython",
    "version": 3
   },
   "file_extension": ".py",
   "mimetype": "text/x-python",
   "name": "python",
   "nbconvert_exporter": "python",
   "pygments_lexer": "ipython3",
   "version": "3.5.3"
  }
 },
 "nbformat": 4,
 "nbformat_minor": 2
}
