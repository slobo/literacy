{
 "cells": [
  {
   "cell_type": "code",
   "execution_count": 22,
   "metadata": {},
   "outputs": [],
   "source": [
    "        try: \n",
    "            from literacy import renderer\n",
    "        except:\n",
    "            from .literacy import renderer"
   ]
  },
  {
   "cell_type": "code",
   "execution_count": 23,
   "metadata": {},
   "outputs": [],
   "source": [
    "        from nbformat import NotebookNode\n",
    "        from nbformat.v4 import new_notebook, new_code_cell, new_markdown_cell\n",
    "        from nbconvert.filters import comment_lines\n",
    "        from nbconvert.preprocessors import Preprocessor\n",
    "        from traitlets import Any, Unicode\n",
    "        __all__ = ['Explode', 'Dedent']"
   ]
  },
  {
   "cell_type": "code",
   "execution_count": 27,
   "metadata": {},
   "outputs": [],
   "source": [
    "        class NumberCell(Preprocessor):\n",
    "            key = Unicode(default_value=\"_\")\n",
    "            def preprocess_cell(self, cell, resources, index):\n",
    "                return cell['metadata'].update({self.key:index}) or cell, resources"
   ]
  },
  {
   "cell_type": "code",
   "execution_count": 28,
   "metadata": {},
   "outputs": [],
   "source": [
    "        class Explode(NumberCell):\n",
    "            def preprocess(self, nb, resources):\n",
    "                cells = []\n",
    "                for cell in super().preprocess(nb, resources)[0]['cells']:\n",
    "                    if cell['cell_type']=='code':\n",
    "                        new = renderer.render(cell, cell['metadata'])\n",
    "                        cells.extend(new['cells'])\n",
    "                    else:\n",
    "                        cells.append(cell)\n",
    "                return nb.update(cells=cells) or nb, resources"
   ]
  },
  {
   "cell_type": "code",
   "execution_count": 24,
   "metadata": {},
   "outputs": [],
   "source": [
    "        class SplitSource(Preprocessor):\n",
    "            def preprocess_cell(self, cell, resources, index):\n",
    "                if isinstance(cell['source'], str):\n",
    "                    cell['source'] = cell['source'].splitlines()\n",
    "                return cell, resources"
   ]
  },
  {
   "cell_type": "code",
   "execution_count": 25,
   "metadata": {},
   "outputs": [],
   "source": [
    "        class JoinSource(Preprocessor):\n",
    "            def preprocess_cell(self, cell, resources, index):\n",
    "                if not isinstance(cell['source'], str):\n",
    "                    cell['source'] = '\\n'.join(cell['source'])\n",
    "                return cell, resources"
   ]
  },
  {
   "cell_type": "code",
   "execution_count": null,
   "metadata": {},
   "outputs": [],
   "source": [
    "        def dedent(lines):\n",
    "            dedent, out = 0, []\n",
    "            if isinstance(lines, str):\n",
    "                lines = lines.splitlines()\n",
    "                \n",
    "            if any(map(str.strip, lines)):\n",
    "                dedent = next(filter(str.strip, lines))\n",
    "                dedent = len(dedent) - len(dedent.lstrip())\n",
    "            \n",
    "            return '\\n'.join(map(lambda x: x[dedent:], lines))"
   ]
  },
  {
   "cell_type": "code",
   "execution_count": 29,
   "metadata": {},
   "outputs": [],
   "source": [
    "        class Dedent(Preprocessor):\n",
    "            def preprocess_cell(self, cell, resources, i):\n",
    "                return cell.update(source=dedent(cell['source'])) or cell, resources"
   ]
  },
  {
   "cell_type": "code",
   "execution_count": 30,
   "metadata": {},
   "outputs": [
    {
     "name": "stdout",
     "output_type": "stream",
     "text": [
      "[NbConvertApp] Converting notebook preprocessors.ipynb to python\r\n",
      "[NbConvertApp] Writing 2524 bytes to preprocessors.py\r\n"
     ]
    }
   ],
   "source": [
    "        if __name__ == '__main__':\n",
    "            !jupyter nbconvert --to python preprocessors.ipynb"
   ]
  },
  {
   "cell_type": "code",
   "execution_count": null,
   "metadata": {},
   "outputs": [],
   "source": []
  }
 ],
 "metadata": {
  "kernelspec": {
   "display_name": "Python 3",
   "language": "python",
   "name": "python3"
  },
  "language_info": {
   "codemirror_mode": {
    "name": "ipython",
    "version": 3
   },
   "file_extension": ".py",
   "mimetype": "text/x-python",
   "name": "python",
   "nbconvert_exporter": "python",
   "pygments_lexer": "ipython3",
   "version": "3.5.3"
  }
 },
 "nbformat": 4,
 "nbformat_minor": 2
}
