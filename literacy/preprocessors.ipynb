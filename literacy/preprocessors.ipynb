{
 "cells": [
  {
   "cell_type": "code",
   "execution_count": 4,
   "metadata": {
    "collapsed": true
   },
   "outputs": [],
   "source": [
    "        try: \n",
    "            from markdown import renderer\n",
    "        except:\n",
    "            from .markdown import renderer"
   ]
  },
  {
   "cell_type": "code",
   "execution_count": 5,
   "metadata": {
    "collapsed": true
   },
   "outputs": [],
   "source": [
    "        from nbformat import NotebookNode\n",
    "        from nbformat.v4 import new_notebook, new_code_cell, new_markdown_cell\n",
    "        from nbconvert.filters import comment_lines\n",
    "        from nbconvert.preprocessors import Preprocessor\n",
    "        from functools import partial, wraps\n",
    "        from traitlets import Any, Unicode\n",
    "        from inspect import getfullargspec\n",
    "        __all__ = ['Explode', 'Dedent']"
   ]
  },
  {
   "cell_type": "code",
   "execution_count": 14,
   "metadata": {
    "collapsed": true
   },
   "outputs": [],
   "source": [
    "        def preprocessor(function):\n",
    "            \"\"\"A decorator to create nbconvert preprocessors; no arguments for the preprocessors.\"\"\"\n",
    "            args = getfullargspec(function).args\n",
    "            if not args[0] == 'self':\n",
    "                raise ValueError('Preprocessor must define `self`.')\n",
    "            return type(\n",
    "                function.__name__, (base,), \n",
    "                {'preprocess' + {4: '_cell', 3: ''}[len(args)]: function,})"
   ]
  },
  {
   "cell_type": "code",
   "execution_count": 7,
   "metadata": {},
   "outputs": [],
   "source": [
    "        @preprocessor\n",
    "        def NumberCell(self, cell, resources, index):\n",
    "            return cell['metadata'].update({'index':index}) or cell, resources"
   ]
  },
  {
   "cell_type": "code",
   "execution_count": 8,
   "metadata": {
    "collapsed": true
   },
   "outputs": [],
   "source": [
    "        @preprocessor\n",
    "        def Explode(self, nb, resources):\n",
    "            cells = []\n",
    "            for cell in nb['cells']:\n",
    "                if cell['cell_type']=='code':\n",
    "                    new = renderer.render(cell, cell['metadata'])\n",
    "                    cells.extend(new['cells'])\n",
    "                else:\n",
    "                    cells.append(cell)\n",
    "            return nb.update(cells=cells) or nb, resources"
   ]
  },
  {
   "cell_type": "code",
   "execution_count": 9,
   "metadata": {
    "collapsed": true
   },
   "outputs": [],
   "source": [
    "        @preprocessor\n",
    "        def SplitSourceCell(self, cell, resources, index):\n",
    "            if isinstance(cell['source'], str):\n",
    "                cell['source'] = cell['source'].splitlines()\n",
    "            return cell, resources"
   ]
  },
  {
   "cell_type": "code",
   "execution_count": 10,
   "metadata": {
    "collapsed": true
   },
   "outputs": [],
   "source": [
    "        @preprocessor\n",
    "        def JoinSource(self, cell, resources, index):\n",
    "            if not isinstance(cell['source'], str):\n",
    "                cell['source'] = '\\n'.join(cell['source'])\n",
    "            return cell, resources"
   ]
  },
  {
   "cell_type": "code",
   "execution_count": 11,
   "metadata": {
    "collapsed": true
   },
   "outputs": [],
   "source": [
    "        def dedent(lines):\n",
    "            dedent, out = 0, []\n",
    "            if isinstance(lines, str):\n",
    "                lines = lines.splitlines()\n",
    "                \n",
    "            if any(map(str.strip, lines)):\n",
    "                dedent = next(filter(str.strip, lines))\n",
    "                dedent = len(dedent) - len(dedent.lstrip())\n",
    "            \n",
    "            return '\\n'.join(map(lambda x: x[dedent:], lines))"
   ]
  },
  {
   "cell_type": "code",
   "execution_count": 12,
   "metadata": {
    "collapsed": true
   },
   "outputs": [],
   "source": [
    "        @preprocessor\n",
    "        def Dedent(self, cell, resources, i):\n",
    "            return cell.update(source=dedent(cell['source'])) or cell, resources"
   ]
  },
  {
   "cell_type": "code",
   "execution_count": 13,
   "metadata": {},
   "outputs": [
    {
     "name": "stdout",
     "output_type": "stream",
     "text": [
      "[NbConvertApp] Converting notebook preprocessors.ipynb to python\n",
      "[NbConvertApp] Writing 2378 bytes to preprocessors.py\n"
     ]
    }
   ],
   "source": [
    "        if __name__ == '__main__':\n",
    "            !jupyter nbconvert --to python preprocessors.ipynb\n",
    "            !yapf -i preprocessors.py"
   ]
  },
  {
   "cell_type": "code",
   "execution_count": null,
   "metadata": {
    "collapsed": true
   },
   "outputs": [],
   "source": []
  }
 ],
 "metadata": {
  "kernelspec": {
   "display_name": "Python 3",
   "language": "python",
   "name": "python3"
  },
  "language_info": {
   "codemirror_mode": {
    "name": "ipython",
    "version": 3
   },
   "file_extension": ".py",
   "mimetype": "text/x-python",
   "name": "python",
   "nbconvert_exporter": "python",
   "pygments_lexer": "ipython3",
   "version": "3.5.3"
  }
 },
 "nbformat": 4,
 "nbformat_minor": 2
}
