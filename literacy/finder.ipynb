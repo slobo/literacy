{
 "cells": [
  {
   "cell_type": "markdown",
   "metadata": {},
   "source": [
    "Finders for literacy formatted notebooks and markdown."
   ]
  },
  {
   "cell_type": "code",
   "execution_count": 8,
   "metadata": {
    "collapsed": true
   },
   "outputs": [],
   "source": [
    "    try:\n",
    "        from . import preprocessors\n",
    "    except:\n",
    "        import preprocessors"
   ]
  },
  {
   "cell_type": "code",
   "execution_count": 9,
   "metadata": {
    "collapsed": true
   },
   "outputs": [],
   "source": [
    "    from nbconvert import export\n",
    "    from nbformat.v4 import new_code_cell, new_notebook\n",
    "    from importable import exporter, finder, unload_ipython_extension"
   ]
  },
  {
   "cell_type": "code",
   "execution_count": 10,
   "metadata": {},
   "outputs": [],
   "source": [
    "    preprocess = preprocessors.Chain(\n",
    "        preprocessors=[preprocessors.Explode(), preprocessors.JoinSource()]).preprocess"
   ]
  },
  {
   "cell_type": "code",
   "execution_count": 11,
   "metadata": {
    "collapsed": true
   },
   "outputs": [],
   "source": [
    "    def IPyMd(self, path):\n",
    "        with open(self.path) as f:\n",
    "            nb, resources = preprocess(__import__('nbformat').read(f, 4), {})\n",
    "        return export(exporter, nb)[0].encode('utf-8')"
   ]
  },
  {
   "cell_type": "code",
   "execution_count": 5,
   "metadata": {
    "collapsed": true
   },
   "outputs": [],
   "source": [
    "    def Markdown(self, path):\n",
    "        with open(self.path) as f:\n",
    "            nb, resources = preprocess(new_notebook(cells=[new_code_cell(f.read())]), {})\n",
    "        return export(exporter, nb)[0].encode('utf-8')\n",
    "    \n",
    "    def load_ipython_extension(ip=None):\n",
    "        unload_ipython_extension()\n",
    "        finder('ipynb')(IPyMd)\n",
    "        finder('md')(Markdown)"
   ]
  }
 ],
 "metadata": {
  "kernelspec": {
   "display_name": "Python 3",
   "language": "python",
   "name": "python3"
  },
  "language_info": {
   "codemirror_mode": {
    "name": "ipython",
    "version": 3
   },
   "file_extension": ".py",
   "mimetype": "text/x-python",
   "name": "python",
   "nbconvert_exporter": "python",
   "pygments_lexer": "ipython3",
   "version": "3.5.3"
  }
 },
 "nbformat": 4,
 "nbformat_minor": 2
}
