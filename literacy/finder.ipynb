{
 "cells": [
  {
   "cell_type": "markdown",
   "metadata": {},
   "source": [
    "Finders for literacy formatted notebooks and markdown."
   ]
  },
  {
   "cell_type": "code",
   "execution_count": 2,
   "metadata": {},
   "outputs": [],
   "source": [
    "    try:\n",
    "        from .exporters import CodeExporter\n",
    "    except:\n",
    "        from exporters import CodeExporter\n",
    "\n",
    "    from nbformat.v4 import new_code_cell, new_notebook\n",
    "    from nbformat import read\n",
    "    from nbconvert import export\n",
    "    from importable import finder, unload_ipython_extension"
   ]
  },
  {
   "cell_type": "code",
   "execution_count": 3,
   "metadata": {},
   "outputs": [],
   "source": [
    "    exporter = CodeExporter()"
   ]
  },
  {
   "cell_type": "code",
   "execution_count": null,
   "metadata": {
    "collapsed": true
   },
   "outputs": [],
   "source": [
    "    def IPyMd(self, path):\n",
    "        with open(self.path) as f:\n",
    "            nb = read(f, 4)\n",
    "        print(export(exporter, exporter._preprocess(nb, {})[0])[0])\n",
    "        return export(exporter, exporter._preprocess(nb, {})[0])[0].encode('utf-8')"
   ]
  },
  {
   "cell_type": "code",
   "execution_count": null,
   "metadata": {
    "collapsed": true
   },
   "outputs": [],
   "source": [
    "    def Markdown(self, path):\n",
    "        with open(self.path) as f:\n",
    "            nb, resources = exporter._preprocess(new_notebook(cells=[new_code_cell(f.read())]), {})\n",
    "        return exporter.from_notebook_node(nb, resources)[0].encode('utf-8')\n",
    "    \n",
    "    def load_ipython_extension(ip=None):\n",
    "        unload_ipython_extension()\n",
    "        finder('ipynb')(IPyMd)\n",
    "        finder('md')(Markdown)"
   ]
  }
 ],
 "metadata": {
  "kernelspec": {
   "display_name": "Python 3",
   "language": "python",
   "name": "python3"
  },
  "language_info": {
   "codemirror_mode": {
    "name": "ipython",
    "version": 3
   },
   "file_extension": ".py",
   "mimetype": "text/x-python",
   "name": "python",
   "nbconvert_exporter": "python",
   "pygments_lexer": "ipython3",
   "version": "3.5.3"
  }
 },
 "nbformat": 4,
 "nbformat_minor": 2
}
