{
 "cells": [
  {
   "cell_type": "code",
   "execution_count": 2,
   "metadata": {
    "collapsed": true
   },
   "outputs": [],
   "source": [
    "    if __name__ == '__main__': import importable"
   ]
  },
  {
   "cell_type": "code",
   "execution_count": 3,
   "metadata": {},
   "outputs": [],
   "source": [
    "    try:\n",
    "        from . import preprocessors\n",
    "    except:\n",
    "        import preprocessors"
   ]
  },
  {
   "cell_type": "code",
   "execution_count": 8,
   "metadata": {},
   "outputs": [],
   "source": [
    "    from nbconvert import export\n",
    "    from nbformat.v4 import new_code_cell, new_notebook\n",
    "    from importable import exporter, finder, unload_ipython_extension\n",
    "\n",
    "    unload_ipython_extension()"
   ]
  },
  {
   "cell_type": "code",
   "execution_count": 5,
   "metadata": {},
   "outputs": [],
   "source": [
    "    @finder('ipynb')\n",
    "    def IPyMd(self, path):\n",
    "        with open(self.path) as f:\n",
    "            nb, resources = preprocessors.Chain(\n",
    "                preprocessors=[preprocessors.Explode(), preprocessors.JoinSource()]\n",
    "            ).preprocess(__import__('nbformat').read(f, 4), {})\n",
    "        return export(exporter, nb)[0].encode('utf-8')"
   ]
  },
  {
   "cell_type": "code",
   "execution_count": 5,
   "metadata": {
    "collapsed": true
   },
   "outputs": [],
   "source": [
    "    def Markdown(self, path):\n",
    "        with open(self.path) as f:\n",
    "            nb = new_notebook(cells=[new_code_cell(f.read())])\n",
    "        return export(exporter, nb)[0].encode('utf-8')\n",
    "    \n",
    "    def load_ipython_extension(ip):\n",
    "        finder('ipynb')(IPyMd)\n",
    "        finder('md')(Markdown)"
   ]
  }
 ],
 "metadata": {
  "kernelspec": {
   "display_name": "Python 3",
   "language": "python",
   "name": "python3"
  },
  "language_info": {
   "codemirror_mode": {
    "name": "ipython",
    "version": 3
   },
   "file_extension": ".py",
   "mimetype": "text/x-python",
   "name": "python",
   "nbconvert_exporter": "python",
   "pygments_lexer": "ipython3",
   "version": "3.5.3"
  }
 },
 "nbformat": 4,
 "nbformat_minor": 2
}
