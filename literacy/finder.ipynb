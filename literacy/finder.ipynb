{
 "cells": [
  {
   "cell_type": "markdown",
   "metadata": {},
   "source": [
    "Finders for literacy formatted notebooks and markdown."
   ]
  },
  {
   "cell_type": "code",
   "execution_count": 2,
   "metadata": {
    "collapsed": true
   },
   "outputs": [],
   "source": [
    "    try: \n",
    "        from .literate import literate\n",
    "    except:\n",
    "        from literate import literate\n",
    "    from nbconvert import export, get_exporter\n",
    "    from importable import finder, unload"
   ]
  },
  {
   "cell_type": "code",
   "execution_count": 3,
   "metadata": {
    "collapsed": true
   },
   "outputs": [],
   "source": [
    "    exporter = get_exporter('script')"
   ]
  },
  {
   "cell_type": "code",
   "execution_count": 4,
   "metadata": {
    "collapsed": true
   },
   "outputs": [],
   "source": [
    "    def nb_to_python(nb):\n",
    "        new = []\n",
    "        for cell in nb.cells:\n",
    "            if cell['cell_type'] == 'code':\n",
    "                cell.source = literate.render(\n",
    "                    '\\n'.join(cell.source) if isinstance(cell.source, list) else cell.source)\n",
    "                new.append(cell)\n",
    "            nb.cells = new\n",
    "        return export(exporter, nb)[0].encode('utf-8')"
   ]
  },
  {
   "cell_type": "code",
   "execution_count": 5,
   "metadata": {
    "collapsed": true
   },
   "outputs": [],
   "source": [
    "    def IPyMd(self, path):\n",
    "        with open(self.path) as f:\n",
    "            out = nb_to_python(__import__('nbformat').read(f, 4))\n",
    "        return out"
   ]
  },
  {
   "cell_type": "code",
   "execution_count": 6,
   "metadata": {
    "collapsed": true
   },
   "outputs": [],
   "source": [
    "    def load_ipython_extension(ip=None):\n",
    "        unload(['ipynb']) or finder('ipynb')(IPyMd)"
   ]
  }
 ],
 "metadata": {
  "kernelspec": {
   "display_name": "Python 3",
   "language": "python",
   "name": "python3"
  },
  "language_info": {
   "codemirror_mode": {
    "name": "ipython",
    "version": 3
   },
   "file_extension": ".py",
   "mimetype": "text/x-python",
   "name": "python",
   "nbconvert_exporter": "python",
   "pygments_lexer": "ipython3",
   "version": "3.5.3"
  }
 },
 "nbformat": 4,
 "nbformat_minor": 2
}
