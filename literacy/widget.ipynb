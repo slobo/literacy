{
 "cells": [
  {
   "cell_type": "markdown",
   "metadata": {},
   "source": [
    "experimental: i am not even sure why you would use this."
   ]
  },
  {
   "cell_type": "code",
   "execution_count": 1,
   "metadata": {},
   "outputs": [],
   "source": [
    "    try:\n",
    "        from . import template\n",
    "    except:\n",
    "        import template\n",
    "    from traitlets import Any, observe\n",
    "    from types import MethodType\n",
    "    from contextlib import contextmanager\n",
    "    from IPython.core.interactiveshell import InteractiveShell\n",
    "    from IPython import display, get_ipython\n",
    "    from ipywidgets import HTML, Widget\n",
    "    from mistune import markdown\n",
    "    import ipywidgets"
   ]
  },
  {
   "cell_type": "code",
   "execution_count": 2,
   "metadata": {},
   "outputs": [],
   "source": [
    "    class Template(HTML):\n",
    "        template = Any()\n",
    "        ns = Any(default_value=dict())\n",
    "        @observe('template')\n",
    "        def _change_render(self, change=dict()):\n",
    "            try:\n",
    "                self.value = markdown(self.template.render(**self.ns))\n",
    "            except Exception as e: ..."
   ]
  },
  {
   "cell_type": "code",
   "execution_count": 3,
   "metadata": {},
   "outputs": [],
   "source": [
    "    class Interact(template.Jinja2):\n",
    "        def macro(self, body, *, ns=dict(), out=tuple()):\n",
    "            return Template(template=body, ns=ns),        "
   ]
  },
  {
   "cell_type": "code",
   "execution_count": 4,
   "metadata": {},
   "outputs": [],
   "source": [
    "    @contextmanager\n",
    "    def _run_cell(self, raw_cell, store_history=False, silent=False, shell_futures=True):\n",
    "        from ipywidgets import Widget\n",
    "        yield InteractiveShell.run_cell(self, raw_cell, store_history=False, silent=False, shell_futures=True)\n",
    "        for value in Widget.widgets.values():\n",
    "            if isinstance(value, Template): value._change_render()\n",
    "\n",
    "    def run_cell(self, raw_cell, store_history=False, silent=False, shell_futures=True):\n",
    "        with _run_cell(self, raw_cell, store_history=False, silent=False, shell_futures=True) as e:\n",
    "            ...\n",
    "        return e"
   ]
  },
  {
   "cell_type": "code",
   "execution_count": 5,
   "metadata": {},
   "outputs": [],
   "source": [
    "    def load_ipython_extension(ip=get_ipython()):\n",
    "        template.extension(Interact)(ip)\n",
    "        ip.run_cell = MethodType(run_cell, get_ipython())"
   ]
  },
  {
   "cell_type": "code",
   "execution_count": 6,
   "metadata": {},
   "outputs": [],
   "source": [
    "    def unload_ipython_extension(ip=get_ipython()):\n",
    "        ip.run_cell = MethodType(InteractiveShell.run_cell, get_ipython())\n",
    "        template.unload_ipython_extension()"
   ]
  },
  {
   "cell_type": "code",
   "execution_count": 7,
   "metadata": {},
   "outputs": [
    {
     "name": "stdout",
     "output_type": "stream",
     "text": [
      "[NbConvertApp] Converting notebook widget.ipynb to python\n",
      "[NbConvertApp] Writing 1869 bytes to widget.py\n"
     ]
    }
   ],
   "source": [
    "    if __name__ == '__main__':\n",
    "        load_ipython_extension()\n",
    "        !jupyter nbconvert --to python --TemplateExporter.exclude_input_prompt=True widget.ipynb"
   ]
  }
 ],
 "metadata": {
  "kernelspec": {
   "display_name": "Python 3",
   "language": "python",
   "name": "python3"
  },
  "language_info": {
   "codemirror_mode": {
    "name": "ipython",
    "version": 3
   },
   "file_extension": ".py",
   "mimetype": "text/x-python",
   "name": "python",
   "nbconvert_exporter": "python",
   "pygments_lexer": "ipython3",
   "version": "3.5.3"
  }
 },
 "nbformat": 4,
 "nbformat_minor": 2
}
